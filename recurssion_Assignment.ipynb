{
  "nbformat": 4,
  "nbformat_minor": 0,
  "metadata": {
    "colab": {
      "provenance": [],
      "authorship_tag": "ABX9TyMrWWkRoOE7ULO6FVr6JqSj",
      "include_colab_link": true
    },
    "kernelspec": {
      "name": "python3",
      "display_name": "Python 3"
    },
    "language_info": {
      "name": "python"
    }
  },
  "cells": [
    {
      "cell_type": "markdown",
      "metadata": {
        "id": "view-in-github",
        "colab_type": "text"
      },
      "source": [
        "<a href=\"https://colab.research.google.com/github/Dil8eep/PWSKILLS_DATA_SCIENCE-_PRO_FULLSTACK/blob/main/recurssion_Assignment.ipynb\" target=\"_parent\"><img src=\"https://colab.research.google.com/assets/colab-badge.svg\" alt=\"Open In Colab\"/></a>"
      ]
    },
    {
      "cell_type": "markdown",
      "source": [
        "### Q.1 Can you explain the logic and working of the Tower of Hanoi algorithm by writing a Java program?How does the recursion work, and how are the movements of disks between rods accomplished?"
      ],
      "metadata": {
        "id": "zqLVe-j3HfEu"
      }
    },
    {
      "cell_type": "code",
      "execution_count": 4,
      "metadata": {
        "colab": {
          "base_uri": "https://localhost:8080/"
        },
        "id": "GN7EfoDPHeci",
        "outputId": "6cdfc44f-b03c-4569-c90d-6124e891dacd"
      },
      "outputs": [
        {
          "output_type": "stream",
          "name": "stdout",
          "text": [
            "entet the number3\n",
            "Move disk 1 from A to C\n",
            "Move disk 2 from A to B\n",
            "Move disk 1 from C to B\n",
            "Move disk 3 from A to C\n",
            "Move disk 1 from B to A\n",
            "Move disk 2 from B to C\n",
            "Move disk 1 from A to C\n"
          ]
        }
      ],
      "source": [
        "def tower(n,source,helper,destination):\n",
        "  if n==0:\n",
        "    return\n",
        "  else:\n",
        "    tower(n-1,source,destination,helper)\n",
        "    print(f\"Move disk {n} from {source} to {destination}\")\n",
        "    tower(n-1,helper,source,destination)\n",
        "n=int(input(\"entet the number\"))\n",
        "tower(n,\"A\",\"B\",\"C\")\n"
      ]
    },
    {
      "cell_type": "markdown",
      "source": [
        "### Q.2 Given two strings word1 and word2, return the minimum number of operations required to convert word1 to word2.\n",
        "###Example 1:\n",
        "###Input: word1 = \"horse\", word2 = \"ros\"\n",
        "###Output: 3\n",
        "###Explanation:\n",
        "###horse -> rorse (replace 'h' with 'r')\n",
        "###rorse -> rose (remove 'r')\n",
        "###rose -> ros (remove 'e')\n",
        "###Example 2:\n",
        "###Input: word1 = \"intention\", word2 = \"execution\"\n",
        "###Output: 5\n",
        "###Explanation:\n",
        "###intention -> inention (remove 't')\n",
        "###inention -> enention (replace 'i' with 'e')\n",
        "###enention -> exention (replace 'n' with 'x')\n",
        "###exention -> exection (replace 'n' with 'c')\n",
        "###exection -> execution (insert 'u')"
      ],
      "metadata": {
        "id": "UTmEtXvwMrKM"
      }
    },
    {
      "cell_type": "code",
      "source": [
        "def min_operations_to_convert(word1, word2):\n",
        "\n",
        "    # Recursive helper function\n",
        "    def rec_helper(i, j):\n",
        "\n",
        "        # Base case: if either string is empty, return the length of the other string\n",
        "        if i == 0:\n",
        "            return j\n",
        "        if j == 0:\n",
        "            return i\n",
        "\n",
        "        # If characters match, no operation needed\n",
        "        if word1[i - 1] == word2[j - 1]:\n",
        "            return rec_helper(i - 1, j - 1)\n",
        "\n",
        "        # Otherwise, consider three operations: insertion, deletion, and substitution\n",
        "        return 1 + min(rec_helper(i, j - 1),        # Insertion\n",
        "                       rec_helper(i - 1, j),        # Deletion\n",
        "                       rec_helper(i - 1, j - 1))   # Substitution\n",
        "\n",
        "    # Call the Recursive helper function with the lengths of both strings\n",
        "    return rec_helper(len(word1), len(word2))\n",
        "\n",
        "# Drive code\n",
        "word1 = \"horse\"\n",
        "word2 = \"ros\"\n",
        "result = min_operations_to_convert(word1, word2)\n",
        "print(\"Output:\", result)\n",
        "\n",
        "word1 = \"intention\"\n",
        "word2 = \"execution\"\n",
        "result = min_operations_to_convert(word1, word2)\n",
        "print(\"Output:\", result)"
      ],
      "metadata": {
        "colab": {
          "base_uri": "https://localhost:8080/"
        },
        "id": "BZBDMc0-JCVq",
        "outputId": "ff37a2df-48ff-4be7-a8f6-53d7d1f5797f"
      },
      "execution_count": 5,
      "outputs": [
        {
          "output_type": "stream",
          "name": "stdout",
          "text": [
            "Output: 3\n",
            "Output: 5\n"
          ]
        }
      ]
    },
    {
      "cell_type": "markdown",
      "source": [
        "###  3 Print the max value of the array [ 13, 1, -3, 22, 5]."
      ],
      "metadata": {
        "id": "C_PluoqyNQA1"
      }
    },
    {
      "cell_type": "code",
      "source": [
        "def max_value(arr):\n",
        "  if len(arr)==1:\n",
        "    return arr[0]\n",
        "  else:\n",
        "    max_arr=max_value(arr[1:])\n",
        "    return arr[0] if arr[0]>max_arr else max_arr\n",
        "arr=[13,1,-3,22,5]\n",
        "max_value(arr)"
      ],
      "metadata": {
        "colab": {
          "base_uri": "https://localhost:8080/"
        },
        "id": "z9BCgAwaNEzd",
        "outputId": "479804b5-a62e-4736-f550-6e5f58846aec"
      },
      "execution_count": 10,
      "outputs": [
        {
          "output_type": "execute_result",
          "data": {
            "text/plain": [
              "22"
            ]
          },
          "metadata": {},
          "execution_count": 10
        }
      ]
    },
    {
      "cell_type": "markdown",
      "source": [
        "### Q.4 Find the sum of the values of the array [92, 23, 15, -20, 10]."
      ],
      "metadata": {
        "id": "kbeOeLDKOV0Q"
      }
    },
    {
      "cell_type": "code",
      "source": [
        "def add(arr):\n",
        "  if len(arr)==1:\n",
        "    return arr[0]\n",
        "  else:\n",
        "    return arr[-1]+add(arr[:-1])\n",
        "arr=[92,23,15,-20,10]\n",
        "add(arr)"
      ],
      "metadata": {
        "colab": {
          "base_uri": "https://localhost:8080/"
        },
        "id": "uH2MYoLPN8qZ",
        "outputId": "65ad1d3f-c347-420b-e9e0-1ddf1c818ff3"
      },
      "execution_count": 14,
      "outputs": [
        {
          "output_type": "execute_result",
          "data": {
            "text/plain": [
              "120"
            ]
          },
          "metadata": {},
          "execution_count": 14
        }
      ]
    },
    {
      "cell_type": "markdown",
      "source": [
        "### Example : 153 = 1^3 + 5^3 + 3^3 = 1 + 125 + 27 = 153 hence 153 is an armstrong number. (Easy)\n",
        "###Input1 : 153\n",
        "###Output1 : Yes\n",
        "###Input 2 : 134\n",
        "###Output2 : No"
      ],
      "metadata": {
        "id": "1uQVjxc8O8wQ"
      }
    },
    {
      "cell_type": "code",
      "source": [
        "### creating function\n",
        "def check_armstrong(number,digits = None):\n",
        "\n",
        "    ### calculating the number of digits\n",
        "    if digits is None:\n",
        "        digits = len(str(number))\n",
        "\n",
        "     ### base case\n",
        "    if number == 0:\n",
        "        return 0\n",
        "    else:\n",
        "        rem = number % 10\n",
        "        power = rem ** digits\n",
        "        return power + check_armstrong(number//10,digits) ###calling recursive function\n",
        "\n",
        "\n",
        "\n",
        "### drive code\n",
        "number = 153\n",
        "result = check_armstrong(number)\n",
        "\n",
        "if result == number :\n",
        "    print(\"Output1 : Yes\")\n",
        "else:\n",
        "    print(\"Output1 : No\")\n",
        "\n",
        "number = 134\n",
        "result = check_armstrong(number)\n",
        "\n",
        "if result == number :\n",
        "    print(\"Output2 : Yes\")\n",
        "else:\n",
        "    print(\"Output2 : No\")"
      ],
      "metadata": {
        "colab": {
          "base_uri": "https://localhost:8080/"
        },
        "id": "OquV_P-dOrEI",
        "outputId": "484fe3ec-d0a5-4c7a-82f9-41f59ccb5dbb"
      },
      "execution_count": 17,
      "outputs": [
        {
          "output_type": "stream",
          "name": "stdout",
          "text": [
            "Output1 : Yes\n",
            "Output2 : No\n"
          ]
        }
      ]
    },
    {
      "cell_type": "code",
      "source": [],
      "metadata": {
        "id": "5_leBe2cPp47"
      },
      "execution_count": null,
      "outputs": []
    }
  ]
}