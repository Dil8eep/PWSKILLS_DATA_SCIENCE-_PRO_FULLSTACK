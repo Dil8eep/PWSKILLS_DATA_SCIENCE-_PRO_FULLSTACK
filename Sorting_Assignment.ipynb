{
  "nbformat": 4,
  "nbformat_minor": 0,
  "metadata": {
    "colab": {
      "provenance": [],
      "authorship_tag": "ABX9TyM81ZY6HDUyU9amsxUSstSp",
      "include_colab_link": true
    },
    "kernelspec": {
      "name": "python3",
      "display_name": "Python 3"
    },
    "language_info": {
      "name": "python"
    }
  },
  "cells": [
    {
      "cell_type": "markdown",
      "metadata": {
        "id": "view-in-github",
        "colab_type": "text"
      },
      "source": [
        "<a href=\"https://colab.research.google.com/github/Dil8eep/PWSKILLS_DATA_SCIENCE-_PRO_FULLSTACK/blob/main/Sorting_Assignment.ipynb\" target=\"_parent\"><img src=\"https://colab.research.google.com/assets/colab-badge.svg\" alt=\"Open In Colab\"/></a>"
      ]
    },
    {
      "cell_type": "markdown",
      "source": [
        "### Problem 1.Given an array of n numbers, give an algorithm which gives the element appearing maximum number of times?"
      ],
      "metadata": {
        "id": "_tOfV6MYIt2o"
      }
    },
    {
      "cell_type": "code",
      "source": [
        "def maximum(arr):\n",
        "  count={}\n",
        "  max_count=0\n",
        "  max_element=0\n",
        "  for i in arr:\n",
        "    if i in count:\n",
        "      count[i]+=1\n",
        "    else:\n",
        "      count[i]=1\n",
        "    if count[i] > max_count:\n",
        "            max_element = i\n",
        "            max_count = count[i]\n",
        "\n",
        "  return max_element\n",
        "arr=[1,2,3,4,3,2,3,3,3,4,3,2,5,3]\n",
        "result=maximum(arr)\n",
        "print(result)\n",
        "\n",
        "\n"
      ],
      "metadata": {
        "colab": {
          "base_uri": "https://localhost:8080/"
        },
        "id": "icRYY2mSI65n",
        "outputId": "07286af7-7b4c-49be-ff2b-8871806c9cc4"
      },
      "execution_count": 2,
      "outputs": [
        {
          "output_type": "stream",
          "name": "stdout",
          "text": [
            "3\n"
          ]
        }
      ]
    },
    {
      "cell_type": "markdown",
      "source": [
        "### Problem 2 : We are given a list of n-1 integers and these integers are in the range of 1 to n . There are noduplicates in the list. One of the integers is missing in the list. Give an algorithm to find that element Ex:[1,2,4,6,3,7,8] 5 is the missing num."
      ],
      "metadata": {
        "id": "0wmHGi-93mq-"
      }
    },
    {
      "cell_type": "code",
      "source": [
        "def Sum(arr):\n",
        "    res = 0\n",
        "    for i in arr:\n",
        "        res = res + i\n",
        "\n",
        "    return res\n",
        "\n",
        "def checking_missing_num(arr):\n",
        "    n = len(arr)+1\n",
        "    expected = n * (n+1)//2\n",
        "    actual = Sum(arr)\n",
        "    result = expected - actual\n",
        "    return result\n",
        "\n",
        "checking_missing_num([1,2,4,6,3,7,8])"
      ],
      "metadata": {
        "colab": {
          "base_uri": "https://localhost:8080/"
        },
        "id": "BICXZa8y3vdS",
        "outputId": "eb3c9747-8a46-49c8-9e16-8d0d018a3016"
      },
      "execution_count": 3,
      "outputs": [
        {
          "output_type": "execute_result",
          "data": {
            "text/plain": [
              "5"
            ]
          },
          "metadata": {},
          "execution_count": 3
        }
      ]
    },
    {
      "cell_type": "markdown",
      "source": [
        "### Problem 3 : Given an array of n positive numbers. All numbers occurs even number of times except 1 whichoccurs odd number of times. Find that number in O(n) time and O(1) space. Ex: [1,2,3,2,3,1,3]. 3 is repeats odd times."
      ],
      "metadata": {
        "id": "oswin89P4_s1"
      }
    },
    {
      "cell_type": "code",
      "source": [
        "def find_odd_occurrence(arr):\n",
        "    result = 0\n",
        "    for num in arr:\n",
        "        result ^= num\n",
        "    return result\n",
        "\n",
        "arr = [1, 2, 3, 2, 3, 1, 3]\n",
        "odd_occurrence = find_odd_occurrence(arr)\n",
        "print(\"Number occurring odd times:\", odd_occurrence)"
      ],
      "metadata": {
        "id": "JeIcyr1P5IPD"
      },
      "execution_count": null,
      "outputs": []
    },
    {
      "cell_type": "markdown",
      "source": [
        "### Problem 4 : Given an array of n elements. Find two elements in the array such that their sum is equal to given element K."
      ],
      "metadata": {
        "id": "fNkbgPB56GBF"
      }
    },
    {
      "cell_type": "code",
      "source": [
        "def Sort(arr):\n",
        "    \"\"\"this function is used to sorting using selection sort algorithm.\"\"\"\n",
        "    for i in range(len(arr)):\n",
        "        min_ind = i\n",
        "        for j in range(i+1,len(arr)):\n",
        "            if arr[j] <arr[min_ind] :\n",
        "                min_ind = j\n",
        "\n",
        "        arr[i] , arr[min_ind] = arr[min_ind],arr[i]\n",
        "\n",
        "    return arr\n",
        "\n",
        "\n",
        "\n",
        "### main function to to check two elements in the array that theire is equal to K\n",
        "def sum_elements(arr,k):\n",
        "\n",
        "    Sort(arr)   ## calling sort function\n",
        "    left  = 0\n",
        "    right = len(arr)-1\n",
        "    n = len(arr)\n",
        "\n",
        "    while left < right:\n",
        "\n",
        "        if arr[left%n]+arr[right%n] == k:\n",
        "            print(f\"Pair : {arr[left%n],arr[right%n]}\")\n",
        "            left += 1\n",
        "            right -= 1\n",
        "\n",
        "        elif arr[left%n] + arr[right%n] > k:\n",
        "            right -= 1\n",
        "\n",
        "        else :\n",
        "            left += 1\n",
        "\n",
        "sum_elements([1,5,3,7,8,6,2],8)"
      ],
      "metadata": {
        "colab": {
          "base_uri": "https://localhost:8080/"
        },
        "id": "r7vyw8DJ6Isp",
        "outputId": "ca85868e-5752-4970-f137-698e1b0bda5f"
      },
      "execution_count": 4,
      "outputs": [
        {
          "output_type": "stream",
          "name": "stdout",
          "text": [
            "Pair : (1, 7)\n",
            "Pair : (2, 6)\n",
            "Pair : (3, 5)\n"
          ]
        }
      ]
    },
    {
      "cell_type": "markdown",
      "source": [
        "### Problem 5 : Given an array of both positive and negative numbers, find two numbers such that their sum is closest to 0. Ex: [ 1 ,60 ,-10, 70, -80,85]. Ans : -80,85."
      ],
      "metadata": {
        "id": "bAwFl6ig9SQ_"
      }
    },
    {
      "cell_type": "code",
      "source": [
        "def closest_numbers(arr):\n",
        "    left = 0\n",
        "    right = 1\n",
        "    summ = arr[0]+arr[1]\n",
        "\n",
        "    for i in range(len(arr)-1):\n",
        "        for j in range(i+1,len(arr)):\n",
        "            Sum = arr[i]+arr[j]\n",
        "            if (abs(summ)) > (abs(Sum)):\n",
        "                summ = Sum\n",
        "                left = i\n",
        "                right = j\n",
        "    return arr[left],arr[right]\n",
        "\n",
        "closest_numbers([ 1 ,60 ,-10, 70, -80,85])"
      ],
      "metadata": {
        "colab": {
          "base_uri": "https://localhost:8080/"
        },
        "id": "XKey85aj-o67",
        "outputId": "a44e0881-372e-4166-e3aa-23e9f7e78e2a"
      },
      "execution_count": 9,
      "outputs": [
        {
          "output_type": "execute_result",
          "data": {
            "text/plain": [
              "(-80, 85)"
            ]
          },
          "metadata": {},
          "execution_count": 9
        }
      ]
    },
    {
      "cell_type": "markdown",
      "source": [
        "### Problem 6 : Given an array of n elements . Find three elements such that their sum is equal to the given number."
      ],
      "metadata": {
        "id": "GV2AwqW6BwvL"
      }
    },
    {
      "cell_type": "code",
      "source": [
        "def sort(arr):\n",
        "  for i in range(len(arr)):\n",
        "    mini=i\n",
        "    for j in range(i+1,len(arr)):\n",
        "      if arr[j] < arr[mini]:\n",
        "        mini=j\n",
        "    arr[i],arr[mini]=arr[mini],arr[i]\n",
        "  return arr\n",
        "def three_elements(arr,num):\n",
        "    Sort(arr)   ### calling the sorting function\n",
        "    n = len(arr)\n",
        "    for first in range(len(arr)):\n",
        "        second = first + 1\n",
        "        third = n-1\n",
        "\n",
        "        while second < third:\n",
        "            Sum = arr[first%n]+arr[second%n]+arr[third%n]\n",
        "            if Sum == num:\n",
        "                print(f\"the three numbers are : {arr[first%n],arr[second%n],arr[third%n]}\")\n",
        "                #return ## stoping the function\n",
        "                second += 1\n",
        "                third -= 1\n",
        "            elif Sum < num:\n",
        "                second += 1\n",
        "            else:\n",
        "                third -= 1\n",
        "\n",
        "three_elements([1,3,5,7,2,4],9)\n"
      ],
      "metadata": {
        "colab": {
          "base_uri": "https://localhost:8080/"
        },
        "id": "av97wO5KCoKn",
        "outputId": "6dfee96a-6a78-4d75-95b5-95bba70e729a"
      },
      "execution_count": 21,
      "outputs": [
        {
          "output_type": "stream",
          "name": "stdout",
          "text": [
            "the three numbers are : (1, 3, 5)\n",
            "the three numbers are : (2, 3, 4)\n"
          ]
        }
      ]
    },
    {
      "cell_type": "markdown",
      "source": [
        "### Problem 7 : Given an array of n elements . Find three elements i, j, k in the array such that i * i + j * j = k*k."
      ],
      "metadata": {
        "id": "bb1Rbya_EXhm"
      }
    },
    {
      "cell_type": "code",
      "source": [
        "def Sort(arr):\n",
        "    n = len(arr)\n",
        "    for i in range(n):\n",
        "        min_ind = i\n",
        "        for j in range(i,n):\n",
        "            if arr[j]<arr[min_ind]:\n",
        "                min_ind = j\n",
        "        arr[i],arr[min_ind] = arr[min_ind],arr[i]\n",
        "    return arr\n",
        "\n",
        "### creating function to check the three elements i,j,k ==> i*i + j*j = k*k\n",
        "def Check(arr):\n",
        "    arr = Sort(arr)\n",
        "    n = len(arr)\n",
        "    for i in range(n):\n",
        "        j = i\n",
        "        k = n-1\n",
        "        while j < k:\n",
        "            res = (arr[i%n] * arr[i%n])+(arr[j%n] * arr[j%n])\n",
        "            if res == arr[k%n] * arr[k%n]:\n",
        "                print(f\"i : {arr[i%n]}, j : {arr[j%n]}, k : {arr[k%n]}\")\n",
        "                j += 1\n",
        "                k -= 1\n",
        "\n",
        "            elif res > arr[k%n] * arr[k%n]:\n",
        "                k -= 1\n",
        "\n",
        "            else:\n",
        "                j+=1\n",
        "\n",
        "Check([5,3,4,1,2])"
      ],
      "metadata": {
        "colab": {
          "base_uri": "https://localhost:8080/"
        },
        "id": "xy8PKEYEEdVm",
        "outputId": "07d06c13-53ee-4686-ed3c-b068699b6fe6"
      },
      "execution_count": 22,
      "outputs": [
        {
          "output_type": "stream",
          "name": "stdout",
          "text": [
            "i : 3, j : 4, k : 5\n"
          ]
        }
      ]
    },
    {
      "cell_type": "markdown",
      "source": [
        "### Problem 8 : An element is a majority if it appears more than n/2 times. Give an algorithm takes an array of n element as argument and identifies a majority (if it exists)."
      ],
      "metadata": {
        "id": "5V3dRLh-GBEP"
      }
    },
    {
      "cell_type": "code",
      "source": [
        "def checkMajorityElement(arr):\n",
        "    n = len(arr)\n",
        "    count = 0\n",
        "    num = 0\n",
        "\n",
        "    for i in arr:\n",
        "        if count == 0:\n",
        "            count += 1\n",
        "            num = i\n",
        "        elif  i == num:\n",
        "            count += 1\n",
        "\n",
        "        else:\n",
        "            pass\n",
        "            #count -= 1\n",
        "    result = 0\n",
        "    for i in arr:\n",
        "        if i == num:\n",
        "            result+=1\n",
        "\n",
        "    if result >= n //2:\n",
        "        return num\n",
        "\n",
        "print(f\"The majority is : { checkMajorityElement([4,1,2,4,2,4])} \")\n"
      ],
      "metadata": {
        "colab": {
          "base_uri": "https://localhost:8080/"
        },
        "id": "D-YrNl9pEwi8",
        "outputId": "158a2b8d-b204-45b8-b597-b9b7ecb78539"
      },
      "execution_count": 30,
      "outputs": [
        {
          "output_type": "stream",
          "name": "stdout",
          "text": [
            "The majority is : 4 \n"
          ]
        }
      ]
    },
    {
      "cell_type": "markdown",
      "source": [
        "### Problem 9 : Given n × n matrix, and in each row all 1’s are followed by 0’s. Find the row with the maximum number of 0’s."
      ],
      "metadata": {
        "id": "4fYmy5WTGgn_"
      }
    },
    {
      "cell_type": "code",
      "source": [
        "def findMaximumNoOf_0_s(arr):\n",
        "    n = len(arr)\n",
        "    max_count = 0\n",
        "    max_row = 0\n",
        "    for i in range(n):\n",
        "        pre_count = 0\n",
        "        for j in range(n):\n",
        "            if arr[i][j] == 0:\n",
        "                pre_count+=1\n",
        "        if pre_count > max_count:\n",
        "            max_count = pre_count\n",
        "            max_row = i\n",
        "\n",
        "    return f\"The row index is : {max_row}, array is: {arr[max_row]}\"\n",
        "\n",
        "print(findMaximumNoOf_0_s([\n",
        "    [1,1,1],\n",
        "    [1,1,0],\n",
        "    [0,0,1]\n",
        "]))\n",
        ""
      ],
      "metadata": {
        "colab": {
          "base_uri": "https://localhost:8080/"
        },
        "id": "7cQx1WMdGmUq",
        "outputId": "770ebfe7-2ae4-43ff-cea7-769b27731d89"
      },
      "execution_count": 31,
      "outputs": [
        {
          "output_type": "stream",
          "name": "stdout",
          "text": [
            "The row index is : 2, array is: [0, 0, 1]\n"
          ]
        }
      ]
    },
    {
      "cell_type": "markdown",
      "source": [
        "### Problem 10 : Sort an array of 0’s, 1’s and 2’s [or R’s, G’s and B’s]: Given an array A[] consisting of 0’s, 1’s and 2’s, give an algorithm for sorting A[].The algorithm should put all 0’s first, then all 1’s and finally all 2’s at the end. Example Input = {0,1,1,0,1,2,1,2,0,0,0,1}, Output = {0,0,0,0,0,1,1,1,1,1,2,2}"
      ],
      "metadata": {
        "id": "JE7iXeVWG4H6"
      }
    },
    {
      "cell_type": "code",
      "source": [
        "def sorting(arr):\n",
        "  left=0\n",
        "  mid=0\n",
        "  right=len(arr)-1\n",
        "  while mid <=right:\n",
        "    if arr[mid] ==0:\n",
        "      arr[left],arr[mid]=arr[mid],arr[left]\n",
        "      left+=1\n",
        "      mid+=1\n",
        "    elif arr[mid] ==1:\n",
        "      mid+=1\n",
        "    else:\n",
        "      arr[right],arr[mid]=arr[mid],arr[right]\n",
        "      right-=1\n",
        "  return arr\n",
        "arr = [0, 1, 1, 0, 1, 2, 1, 2, 0, 0, 0, 1]\n",
        "sorted_arr = sorting(arr)\n",
        "print(\"Sorted array:\", sorted_arr)\n",
        "\n"
      ],
      "metadata": {
        "colab": {
          "base_uri": "https://localhost:8080/"
        },
        "id": "dBLsWJzVG_JL",
        "outputId": "205ce610-9916-457e-e5d8-9327cae83a4e"
      },
      "execution_count": 37,
      "outputs": [
        {
          "output_type": "stream",
          "name": "stdout",
          "text": [
            "Sorted array: [0, 0, 0, 0, 0, 1, 1, 1, 1, 1, 2, 2]\n"
          ]
        }
      ]
    },
    {
      "cell_type": "markdown",
      "source": [],
      "metadata": {
        "id": "CSp1okAl9VoY"
      }
    }
  ]
}