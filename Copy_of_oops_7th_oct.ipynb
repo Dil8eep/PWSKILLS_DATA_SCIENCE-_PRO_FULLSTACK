{
  "cells": [
    {
      "cell_type": "markdown",
      "metadata": {
        "id": "view-in-github",
        "colab_type": "text"
      },
      "source": [
        "<a href=\"https://colab.research.google.com/github/Dil8eep/PWSKILLS_DATA_SCIENCE-_PRO_FULLSTACK/blob/main/Copy_of_oops_7th_oct.ipynb\" target=\"_parent\"><img src=\"https://colab.research.google.com/assets/colab-badge.svg\" alt=\"Open In Colab\"/></a>"
      ]
    },
    {
      "cell_type": "code",
      "execution_count": null,
      "id": "8b6a7b1a-3ff5-4b22-be3e-d3b2d7aa7e3a",
      "metadata": {
        "id": "8b6a7b1a-3ff5-4b22-be3e-d3b2d7aa7e3a"
      },
      "outputs": [],
      "source": [
        "class a :\n",
        "\n",
        "    def test(self):\n",
        "        print(\"this test method is a part of class a\")\n",
        "\n",
        "    def test1(self):\n",
        "        print(\"this is test1 from class a \")"
      ]
    },
    {
      "cell_type": "code",
      "execution_count": null,
      "id": "8e4d306f-fdb4-47a0-a93d-597f5b21d30b",
      "metadata": {
        "id": "8e4d306f-fdb4-47a0-a93d-597f5b21d30b"
      },
      "outputs": [],
      "source": [
        "obj_a = a()"
      ]
    },
    {
      "cell_type": "code",
      "execution_count": null,
      "id": "81ef5597-cf96-4ed9-a4f6-21e2e93aca70",
      "metadata": {
        "id": "81ef5597-cf96-4ed9-a4f6-21e2e93aca70",
        "outputId": "4f5bb8e5-b4f7-40fb-9b63-8dba75297283"
      },
      "outputs": [
        {
          "name": "stdout",
          "output_type": "stream",
          "text": [
            "this test method is a part of class a\n"
          ]
        }
      ],
      "source": [
        "obj_a.test()"
      ]
    },
    {
      "cell_type": "code",
      "execution_count": null,
      "id": "11ee63d6-433d-48dc-ada0-5dd6771310ba",
      "metadata": {
        "id": "11ee63d6-433d-48dc-ada0-5dd6771310ba"
      },
      "outputs": [],
      "source": [
        "class b(a) :\n",
        "    def test1b(self):\n",
        "        print(\"this is a part of class b \")"
      ]
    },
    {
      "cell_type": "code",
      "execution_count": null,
      "id": "badaedfe-57d1-43c6-9193-e5afb0f31dbc",
      "metadata": {
        "id": "badaedfe-57d1-43c6-9193-e5afb0f31dbc"
      },
      "outputs": [],
      "source": [
        "obj_b = b()"
      ]
    },
    {
      "cell_type": "code",
      "execution_count": null,
      "id": "3ce19f61-ba8e-4050-9d4d-614adfd964c5",
      "metadata": {
        "id": "3ce19f61-ba8e-4050-9d4d-614adfd964c5",
        "outputId": "1c92e8e0-83fd-4222-f912-926210ce59ec"
      },
      "outputs": [
        {
          "name": "stdout",
          "output_type": "stream",
          "text": [
            "this test method is a part of class a\n"
          ]
        }
      ],
      "source": [
        "obj_b.test()"
      ]
    },
    {
      "cell_type": "code",
      "execution_count": null,
      "id": "5e473fae-e094-4407-99df-16a04ab4c80a",
      "metadata": {
        "id": "5e473fae-e094-4407-99df-16a04ab4c80a",
        "outputId": "ef816ea4-5979-4cae-f419-ed2cdbd1ec0f"
      },
      "outputs": [
        {
          "name": "stdout",
          "output_type": "stream",
          "text": [
            "this is test1 from class a \n"
          ]
        }
      ],
      "source": [
        "obj_b.test1()"
      ]
    },
    {
      "cell_type": "code",
      "execution_count": null,
      "id": "02a8f055-535f-4bc2-adc1-575445f82570",
      "metadata": {
        "id": "02a8f055-535f-4bc2-adc1-575445f82570"
      },
      "outputs": [],
      "source": [
        "obj_b."
      ]
    },
    {
      "cell_type": "code",
      "execution_count": null,
      "id": "59361cd3-c0c4-4ddd-abac-cbe3275ade5f",
      "metadata": {
        "id": "59361cd3-c0c4-4ddd-abac-cbe3275ade5f"
      },
      "outputs": [],
      "source": [
        "class lecture:\n",
        "\n",
        "    def topic(self):\n",
        "        print(\"todays class we are discussing about inheritance condept in oops\")\n",
        "\n",
        "    def timing(self):\n",
        "        print(\"timing for todays class is 9 AM IST\")\n",
        "\n",
        "    def end_time(self):\n",
        "        print(\"today i will try to end class bit early\")"
      ]
    },
    {
      "cell_type": "code",
      "execution_count": null,
      "id": "6e3dd2de-883e-4e9e-98a0-4a7089af1627",
      "metadata": {
        "id": "6e3dd2de-883e-4e9e-98a0-4a7089af1627"
      },
      "outputs": [],
      "source": [
        "class student(lecture):\n",
        "\n",
        "    def student_details(self):\n",
        "        print(\"this class will give you a student details\")"
      ]
    },
    {
      "cell_type": "code",
      "execution_count": null,
      "id": "c2ad2a89-0f29-4410-86c4-e33f47b4186d",
      "metadata": {
        "id": "c2ad2a89-0f29-4410-86c4-e33f47b4186d"
      },
      "outputs": [],
      "source": [
        "naval = student()"
      ]
    },
    {
      "cell_type": "code",
      "execution_count": null,
      "id": "38c86e7f-5560-464a-b597-c88a74819f1a",
      "metadata": {
        "id": "38c86e7f-5560-464a-b597-c88a74819f1a",
        "outputId": "01d6df86-a949-4480-9554-1c0683067996"
      },
      "outputs": [
        {
          "name": "stdout",
          "output_type": "stream",
          "text": [
            "todays class we are discussing about inheritance condept in oops\n"
          ]
        }
      ],
      "source": [
        "naval.topic()"
      ]
    },
    {
      "cell_type": "code",
      "execution_count": null,
      "id": "02efc8a4-f995-4f85-87d2-620ccc0f61fa",
      "metadata": {
        "id": "02efc8a4-f995-4f85-87d2-620ccc0f61fa",
        "outputId": "4916843f-620e-4d54-dc44-81175500a077"
      },
      "outputs": [
        {
          "name": "stdout",
          "output_type": "stream",
          "text": [
            "timing for todays class is 9 AM IST\n"
          ]
        }
      ],
      "source": [
        "satish = student()\n",
        "satish.timing()"
      ]
    },
    {
      "cell_type": "code",
      "execution_count": null,
      "id": "03932972-a58b-46e5-a3f8-ffc43c84ce53",
      "metadata": {
        "id": "03932972-a58b-46e5-a3f8-ffc43c84ce53"
      },
      "outputs": [],
      "source": [
        "class teacher(student):\n",
        "    def details(self):\n",
        "        print(\"this will give you a details about teacher\")"
      ]
    },
    {
      "cell_type": "code",
      "execution_count": null,
      "id": "fff36c1b-f1e9-467e-b29f-c304aa9feec9",
      "metadata": {
        "id": "fff36c1b-f1e9-467e-b29f-c304aa9feec9",
        "outputId": "7c81146a-e7db-4a5b-8cb5-75cd8c509bd8"
      },
      "outputs": [
        {
          "name": "stdout",
          "output_type": "stream",
          "text": [
            "timing for todays class is 9 AM IST\n"
          ]
        }
      ],
      "source": [
        "sudh = teacher()\n",
        "sudh.timing()"
      ]
    },
    {
      "cell_type": "code",
      "execution_count": null,
      "id": "a5e8c94b-de62-4ef5-8eba-81259d83dd3d",
      "metadata": {
        "id": "a5e8c94b-de62-4ef5-8eba-81259d83dd3d"
      },
      "outputs": [],
      "source": [
        "class lecture:\n",
        "    def topic(self):\n",
        "        print(\"todays class we are discussing about inheritance condept in oops\")\n",
        "\n",
        "    def timing(self):\n",
        "        print(\"timing for todays class is 9 AM IST\")\n",
        "\n",
        "    def end_time(self):\n",
        "        print(\"today i will try to end class bit early\")"
      ]
    },
    {
      "cell_type": "code",
      "execution_count": null,
      "id": "2007141c-1b71-4cd4-9bed-a3cd8d851baa",
      "metadata": {
        "id": "2007141c-1b71-4cd4-9bed-a3cd8d851baa"
      },
      "outputs": [],
      "source": [
        "class student:\n",
        "\n",
        "    def student_details(self):\n",
        "        print(\"this class will give you a student details\")\n",
        "\n",
        "    def timing(self):\n",
        "        print(\"this is a timing fun from student class\")\n"
      ]
    },
    {
      "cell_type": "code",
      "execution_count": null,
      "id": "272860d3-1fac-475b-8c09-0490069224bc",
      "metadata": {
        "id": "272860d3-1fac-475b-8c09-0490069224bc"
      },
      "outputs": [],
      "source": [
        "class teacher(lecture,student):\n",
        "    def details(self):\n",
        "        print(\"this will give you a details about teacher\")"
      ]
    },
    {
      "cell_type": "code",
      "execution_count": null,
      "id": "f4a9ae16-f0e3-4a4a-a003-38773611cd2a",
      "metadata": {
        "id": "f4a9ae16-f0e3-4a4a-a003-38773611cd2a"
      },
      "outputs": [],
      "source": [
        "krish = teacher()"
      ]
    },
    {
      "cell_type": "code",
      "execution_count": null,
      "id": "6dc85f37-219e-4c72-927c-9aebb550fea9",
      "metadata": {
        "id": "6dc85f37-219e-4c72-927c-9aebb550fea9",
        "outputId": "f9159d7e-66a7-4e08-953e-372244a7f87c"
      },
      "outputs": [
        {
          "name": "stdout",
          "output_type": "stream",
          "text": [
            "timing for todays class is 9 AM IST\n"
          ]
        }
      ],
      "source": [
        "krish.timing()"
      ]
    },
    {
      "cell_type": "code",
      "execution_count": null,
      "id": "8bcbac88-9172-4a31-a191-9c4b9a1c6eac",
      "metadata": {
        "id": "8bcbac88-9172-4a31-a191-9c4b9a1c6eac",
        "outputId": "d8758243-3e76-49da-c876-3d8050098e5e"
      },
      "outputs": [
        {
          "name": "stdout",
          "output_type": "stream",
          "text": [
            "this class will give you a student details\n"
          ]
        }
      ],
      "source": [
        "krish.student_details()"
      ]
    },
    {
      "cell_type": "markdown",
      "id": "86b47d4f-860e-4702-83a0-0145887ab41a",
      "metadata": {
        "id": "86b47d4f-860e-4702-83a0-0145887ab41a"
      },
      "source": [
        "Problem 1: Bank Account Create a class representing a bank account with attributes like account number, account holder name, and balance. Implement methods to deposit and withdraw money from the account.\n",
        "\n",
        "Problem 2: Employee Management Create a class representing an employee with attributes like employee ID, name, and salary. Implement methods to calculate the yearly bonus and display employee details.\n",
        "\n",
        "Problem 3: Vehicle Rental Create a class representing a vehicle rental system. Implement methods to rent a vehicle, return a vehicle, and display available vehicles.\n",
        "\n",
        "Problem 4: Library Catalog Create classes representing a library and a book. Implement methods to add books to the library, borrow books, and display available books.\n",
        "\n",
        "Problem 5: Product Inventory Create classes representing a product and an inventory system. Implement methods to add products to the inventory, update product quantity, and display available products.\n",
        "\n",
        "Problem 6: Shape Calculation Create a class representing a shape with attributes like length, width, and height. Implement methods to calculate the area and perimeter of the shape.\n",
        "\n",
        "Problem 7: Student Management Create a class representing a student with attributes like student ID, name, and grades. Implement methods to calculate the average grade and display student details.\n",
        "\n",
        "Problem 8: Email Management Create a class representing an email with attributes like sender, recipient, and subject. Implement methods to send an email and display email details.\n",
        "\n",
        "Problem 9: Social Media Profile Create a class representing a social media profile with attributes like username and posts. Implement methods to add posts, display posts, and search for posts by keyword.\n",
        "\n",
        "Problem 10: ToDo List Create a class representing a ToDo list with attributes like tasks and due dates. Implement methods to add tasks, mark tasks as completed, and display pending tasks."
      ]
    },
    {
      "cell_type": "markdown",
      "source": [
        "### Problem 1: Bank Account Create a class representing a bank account with attributes like account number, account holder name, and balance. Implement methods to deposit and withdraw money from the account."
      ],
      "metadata": {
        "id": "yGPg4Zvijrz0"
      },
      "id": "yGPg4Zvijrz0"
    },
    {
      "cell_type": "code",
      "execution_count": null,
      "id": "fef1683a-faa4-4d27-a0a6-7a742e512e9b",
      "metadata": {
        "id": "fef1683a-faa4-4d27-a0a6-7a742e512e9b",
        "outputId": "2579c40d-e578-4678-c7da-41c3d4f65bc3",
        "colab": {
          "base_uri": "https://localhost:8080/"
        }
      },
      "outputs": [
        {
          "output_type": "stream",
          "name": "stdout",
          "text": [
            "your deposite is sucessfully completed\n",
            "your current balance is : 12500\n"
          ]
        }
      ],
      "source": [
        "class bank_account:\n",
        "\n",
        "    def __init__(self,ac_number,ac_name,ac_balance=500):\n",
        "        self.account_no = ac_number\n",
        "        self.account_name = ac_name\n",
        "        self.account_balance = ac_balance\n",
        "\n",
        "    def deposit(self,deposite_amount):\n",
        "        if deposite_amount > 0:\n",
        "            self.account_balance += deposite_amount\n",
        "            print(\"your deposite is sucessfully completed\")\n",
        "            print(f\"your current balance is : {self.account_balance}\")\n",
        "\n",
        "        else:\n",
        "            print(\"enter correct balance.\")\n",
        "\n",
        "    def withdraw(self,withdraw_amount):\n",
        "        if withdraw_amount > self.account_balance :\n",
        "            print(\"In sufficient balance , please check your balance. \")\n",
        "        else:\n",
        "            self.account_balance -= withdraw_amount\n",
        "            print(\"your withdraw is successfully completed\")\n",
        "            print(f\"your current balance is : {self.account_balance}\")\n",
        "Dileep=bank_account(\"Dileep\",234232)\n",
        "Dileep.deposit(12000)"
      ]
    },
    {
      "cell_type": "markdown",
      "source": [
        "### Problem 2: Employee Management Create a class representing an employee with attributes like employee ID, name, and salary. Implement methods to calculate the yearly bonus and display employee details."
      ],
      "metadata": {
        "id": "na9mYdy_kus9"
      },
      "id": "na9mYdy_kus9"
    },
    {
      "cell_type": "code",
      "source": [
        "class employee:\n",
        "    def __init__(self,employee_ID,employee_name,employee_salary):\n",
        "        self.id = employee_ID\n",
        "        self.name = employee_name\n",
        "        self.salary = employee_salary\n",
        "\n",
        "    def bonus(self):\n",
        "        bonus_percentage = 0.05\n",
        "        yearly_bonus = self.salary * bonus_percentage\n",
        "        print(f\"the yearly bonus of {self.name} is :{yearly_bonus}\")\n",
        "\n",
        "    def details(self):\n",
        "        print(f\"Employee name : {self.name}\")\n",
        "        print(f\"Employee id : {self.id}\")\n",
        "        print(f\"Employee salary is : {self.salary}\")\n",
        "\n",
        "Dileep = employee(53444,\"Dileep\",20000)\n",
        "Dileep.details()\n",
        "Dileep.bonus()"
      ],
      "metadata": {
        "id": "pKuAaU3_k1uK",
        "outputId": "2e7be0c8-97a7-427b-8d95-b5740c935bcc",
        "colab": {
          "base_uri": "https://localhost:8080/"
        }
      },
      "id": "pKuAaU3_k1uK",
      "execution_count": null,
      "outputs": [
        {
          "output_type": "stream",
          "name": "stdout",
          "text": [
            "Employee name : Dileep\n",
            "Employee id : 53444\n",
            "Employee salary is : 20000\n",
            "the yearly bonus of Dileep is :1000.0\n"
          ]
        }
      ]
    },
    {
      "cell_type": "markdown",
      "source": [
        "### Problem 3: Vehicle Rental Create a class representing a vehicle rental system. Implement methods to rent a vehicle, return a vehicle, and display available vehicles."
      ],
      "metadata": {
        "id": "PCwnirLDldeb"
      },
      "id": "PCwnirLDldeb"
    },
    {
      "cell_type": "code",
      "source": [
        "class vehicle_rental:\n",
        "  vehicle=[\"Enfeild\",\"Pulsur\",\"FZ\",\"R15\",\"Hero\"]\n",
        "  def __init__(self,vehicle_name,availability=True):\n",
        "    self.name=vehicle_name\n",
        "    self.availability=availability\n",
        "  def rent(self):\n",
        "    if self.availability:\n",
        "      print(f\"Your vehicle is available juse take it return back carefully\")\n",
        "      print(\"Happy journey\")\n",
        "      self.availability = False\n",
        "    else:\n",
        "      print(\"Sorry your requested vehicle is not available choose another model vehicle\")\n",
        "  def return_vehicle(self):\n",
        "    print(\"Vehicle is returned\")\n",
        "  def display(self):\n",
        "    print(\"available bikes are:\")\n",
        "    for i in self.vehicle:\n",
        "      print(i)\n",
        "Vehicle=vehicle_rental(\"Enfeild\")\n",
        "Vehicle.rent()\n",
        "Vehicle.display()\n",
        "\n",
        "\n",
        "\n",
        "\n",
        "\n"
      ],
      "metadata": {
        "id": "qlHP6j6emDL7",
        "outputId": "2b55de4c-e04f-4f38-ee74-c88b0ca58184",
        "colab": {
          "base_uri": "https://localhost:8080/"
        }
      },
      "id": "qlHP6j6emDL7",
      "execution_count": null,
      "outputs": [
        {
          "output_type": "stream",
          "name": "stdout",
          "text": [
            "Your vehicle is available juse take it return back carefully\n",
            "Happy journey\n",
            "available bikes are:\n",
            "Enfeild\n",
            "Pulsur\n",
            "FZ\n",
            "R15\n",
            "Hero\n"
          ]
        }
      ]
    },
    {
      "cell_type": "markdown",
      "source": [
        "Problem 4: Library Catalog Create classes representing a library and a book. Implement methods to add books to the library, borrow books, and display available books."
      ],
      "metadata": {
        "id": "stHsAra82SkC"
      },
      "id": "stHsAra82SkC"
    },
    {
      "cell_type": "code",
      "source": [
        "class Book:\n",
        "    def __init__(self, book_name, book_author):\n",
        "        self.name = book_name\n",
        "        self.author = book_author\n",
        "        self.is_borrowed = False\n",
        "\n",
        "class Library:\n",
        "    def __init__(self):\n",
        "        self.books = [\n",
        "            Book(\"Python 0 to Hero\", \"Unknown Author\"),\n",
        "            Book(\"DSA with Python\", \"John Doe\"),\n",
        "            Book(\"ML Tools\", \"Alice Smith\"),\n",
        "            Book(\"DS Fundamentals\", \"Bob Johnson\")\n",
        "        ]\n",
        "\n",
        "    def add(self, book_name, book_author):\n",
        "        new_book = Book(book_name, book_author)\n",
        "        self.books.append(new_book)\n",
        "\n",
        "    def borrow(self, name):\n",
        "        print(\"\\nThis is the borrow books block:\")\n",
        "        found_book = None\n",
        "        for book in self.books:\n",
        "            if book.name == name and not book.is_borrowed:\n",
        "                found_book = book\n",
        "                break\n",
        "\n",
        "        if found_book:\n",
        "            print(f\"Ok, you can borrow '{found_book.name}' by {found_book.author}.\")\n",
        "            found_book.is_borrowed = True\n",
        "        else:\n",
        "            print(f\"Sorry, '{name}' is not available in this library or is already borrowed.\")\n",
        "\n",
        "    def display(self):\n",
        "        print(\"\\nThese are the books in our library:\\n\")\n",
        "        for book in self.books:\n",
        "            availability = \"Available\" if not book.is_borrowed else \"Borrowed\"\n",
        "            print(f\"{book.name} by {book.author} ({availability})\")\n",
        "\n",
        "\n",
        "library_obj = Library()\n",
        "library_obj.add(\"End to End ML\", \"Charlie Brown\")\n",
        "library_obj.add(\"Deployment\", \"Lucy Johnson\")\n",
        "library_obj.borrow(\"ML Tools\")\n",
        "library_obj.display()"
      ],
      "metadata": {
        "colab": {
          "base_uri": "https://localhost:8080/"
        },
        "id": "xXArSRqw2f98",
        "outputId": "d3d79853-9c7e-4803-e3cd-5d49764c1e12"
      },
      "id": "xXArSRqw2f98",
      "execution_count": null,
      "outputs": [
        {
          "output_type": "stream",
          "name": "stdout",
          "text": [
            "\n",
            "This is the borrow books block:\n",
            "Ok, you can borrow 'ML Tools' by Alice Smith.\n",
            "\n",
            "These are the books in our library:\n",
            "\n",
            "Python 0 to Hero by Unknown Author (Available)\n",
            "DSA with Python by John Doe (Available)\n",
            "ML Tools by Alice Smith (Borrowed)\n",
            "DS Fundamentals by Bob Johnson (Available)\n",
            "End to End ML by Charlie Brown (Available)\n",
            "Deployment by Lucy Johnson (Available)\n"
          ]
        }
      ]
    },
    {
      "cell_type": "markdown",
      "source": [
        "### Problem 5: Product Inventory Create classes representing a product and an inventory system. Implement methods to add products to the inventory, update product quantity, and display available products."
      ],
      "metadata": {
        "id": "ba6NCJ8M7iPW"
      },
      "id": "ba6NCJ8M7iPW"
    },
    {
      "cell_type": "code",
      "source": [
        "class Product:\n",
        "    def __init__(self, product_name, product_quantity, is_available=True):\n",
        "        self.product_name = product_name\n",
        "        self.product_quantity = product_quantity\n",
        "        self.is_available = is_available\n",
        "\n",
        "    def __str__(self):\n",
        "        return f\"{self.product_name} - Quantity: {self.product_quantity} ({'Available' if self.is_available else 'Not Available'})\"\n",
        "\n",
        "\n",
        "class Inventory:\n",
        "    def __init__(self):\n",
        "        self.products = [\n",
        "            Product(\"POCO\", 100),\n",
        "            Product(\"SAMSUNG\", 20),\n",
        "            Product(\"INFINIX\", 50),\n",
        "            Product(\"VIVO\", 10)\n",
        "        ]\n",
        "\n",
        "    def add(self, name, quantity):\n",
        "        new_product = Product(name, quantity)\n",
        "        self.products.append(new_product)\n",
        "\n",
        "    def update(self, name, quantity):\n",
        "        print(\"\\nThis is updating quantity block.\")\n",
        "        found_product = next((product for product in self.products if product.product_name == name), None)\n",
        "        if found_product:\n",
        "            found_product.product_quantity = quantity\n",
        "            print(f\"Quantity of '{name}' updated to {quantity}.\")\n",
        "        else:\n",
        "            print(f\"Sorry, '{name}' is not in our stock.\")\n",
        "\n",
        "    def display(self):\n",
        "        print(\"\\nThese are the products:\")\n",
        "        for product in self.products:\n",
        "            print(product)\n",
        "\n",
        "\n",
        "\n",
        "inventory_obj = Inventory()\n",
        "\n",
        "inventory_obj.add(\"IPHONE\", 30)\n",
        "inventory_obj.update(\"SAMSUNG\", 25)\n",
        "inventory_obj.display()"
      ],
      "metadata": {
        "colab": {
          "base_uri": "https://localhost:8080/"
        },
        "id": "nPcF3oi77pHy",
        "outputId": "150a5143-adf4-4223-b37d-4b7e1d052f63"
      },
      "id": "nPcF3oi77pHy",
      "execution_count": null,
      "outputs": [
        {
          "output_type": "stream",
          "name": "stdout",
          "text": [
            "\n",
            "This is updating quantity block.\n",
            "Quantity of 'SAMSUNG' updated to 25.\n",
            "\n",
            "These are the products:\n",
            "POCO - Quantity: 100 (Available)\n",
            "SAMSUNG - Quantity: 25 (Available)\n",
            "INFINIX - Quantity: 50 (Available)\n",
            "VIVO - Quantity: 10 (Available)\n",
            "IPHONE - Quantity: 30 (Available)\n"
          ]
        }
      ]
    },
    {
      "cell_type": "markdown",
      "source": [
        "### Problem 6: Shape Calculation Create a class representing a shape with attributes like length, width, and height. Implement methods to calculate the area and perimeter of the shape."
      ],
      "metadata": {
        "id": "ZqDmB7EO8m2m"
      },
      "id": "ZqDmB7EO8m2m"
    },
    {
      "cell_type": "code",
      "source": [
        "class shape_calculation:\n",
        "  def __init__(self,length,width,height):\n",
        "    self.length=length\n",
        "    self.width=width\n",
        "    self.height=height\n",
        "class square(shape_calculation):\n",
        "  def area(self):\n",
        "    return self.length**2\n",
        "  def parameter(self):\n",
        "    return 4*self.length\n",
        "class rectangle(shape_calculation):\n",
        "  def area(self):\n",
        "    return self.length*self.width\n",
        "  def parameter(self):\n",
        "    return 2*(self.length+self.width)\n",
        "square1=square(length=2,width=4,height=6)\n",
        "print(f\"The area of the square is :{square1.area()}\")\n",
        "rectangle2=rectangle(length=12,width=34,height=53)\n",
        "print(f\"The parameter of the rectangle is :{rectangle2.parameter()}\")\n",
        "\n",
        "\n"
      ],
      "metadata": {
        "colab": {
          "base_uri": "https://localhost:8080/"
        },
        "id": "fat9sZcf8rZ9",
        "outputId": "b1fc1f12-8776-45be-fe0c-602c9c0ff571"
      },
      "id": "fat9sZcf8rZ9",
      "execution_count": null,
      "outputs": [
        {
          "output_type": "stream",
          "name": "stdout",
          "text": [
            "The area of the square is :4\n",
            "The parameter of the rectangle is :92\n"
          ]
        }
      ]
    },
    {
      "cell_type": "markdown",
      "source": [
        "### Problem 7: Student Management Create a class representing a student with attributes like student ID, name, and grades. Implement methods to calculate the average grade and display student details."
      ],
      "metadata": {
        "id": "2fr-EpxpA01N"
      },
      "id": "2fr-EpxpA01N"
    },
    {
      "cell_type": "code",
      "source": [
        "class Student:\n",
        "  def __init__(self,stud_name,stud_id,stud_grades):\n",
        "    self.name=stud_name\n",
        "    self.id=stud_id\n",
        "    self.grades=stud_grades\n",
        "  def display(self):\n",
        "    print(f\"name of the student is :{self.name}\")\n",
        "    print(f\"id of the student is :{self.id}\")\n",
        "    print(f\"grades of the student is :{self.grades}\")\n",
        "  def avg_grades(self):\n",
        "    print(f\"The average grade of a student is:{sum(self.grades)/len(self.grades)}\")\n",
        "Dileep=Student(\"Dileep\",70,[90,85,94,98,93])\n",
        "Dileep.display()\n",
        "Dileep.avg_grades()\n",
        "\n"
      ],
      "metadata": {
        "colab": {
          "base_uri": "https://localhost:8080/"
        },
        "id": "udsd2EEFA6Ql",
        "outputId": "55776dda-6188-4dde-b1f4-7b7d9204b4a2"
      },
      "id": "udsd2EEFA6Ql",
      "execution_count": null,
      "outputs": [
        {
          "output_type": "stream",
          "name": "stdout",
          "text": [
            "name of the student is :Dileep\n",
            "id of the student is :70\n",
            "grades of the student is :[90, 85, 94, 98, 93]\n",
            "The average grade of a student is:92.0\n"
          ]
        }
      ]
    },
    {
      "cell_type": "markdown",
      "source": [
        "### Problem 8: Email Management Create a class representing an email with attributes like sender, recipient, and subject. Implement methods to send an email and display email details."
      ],
      "metadata": {
        "id": "WuFrruG8EHxc"
      },
      "id": "WuFrruG8EHxc"
    },
    {
      "cell_type": "code",
      "source": [
        "class Email:\n",
        "  def __init__(self,sender,recipient,subject):\n",
        "    self.sender=sender\n",
        "    self.recipient=recipient\n",
        "    self.subject=subject\n",
        "  def details(self):\n",
        "    print(f\"sender :{self.sender}\")\n",
        "    print(f\"reciepient :{self.recipient}\")\n",
        "    print(f\"subject :{self.subject}\")\n",
        "  def send(self):\n",
        "    print(f\"mail is successfully sent to:{self.recipient}\")\n",
        "    print(f\"message is :{self.message}\")\n",
        "gmail=Email(\"Dileep@gmail.com\",\"Prasad@gmail.com\",\"Join in PW skills to learn Data Science\")\n",
        "gmail.details()"
      ],
      "metadata": {
        "colab": {
          "base_uri": "https://localhost:8080/"
        },
        "id": "0zn47orVEJpN",
        "outputId": "4b4d15fa-2cef-45f2-fede-e0129b85d3f8"
      },
      "id": "0zn47orVEJpN",
      "execution_count": null,
      "outputs": [
        {
          "output_type": "stream",
          "name": "stdout",
          "text": [
            "sender :Dileep@gmail.com\n",
            "reciepient :Prasad@gmail.com\n",
            "subject :Join in PW skills to learn Data Science\n"
          ]
        }
      ]
    },
    {
      "cell_type": "markdown",
      "source": [
        "### Problem 9: Social Media Profile Create a class representing a social media profile with attributes like username and posts. Implement methods to add posts, display posts, and search for posts by keyword."
      ],
      "metadata": {
        "id": "IKQ8Iz7kGPFn"
      },
      "id": "IKQ8Iz7kGPFn"
    },
    {
      "cell_type": "code",
      "source": [
        "class social_media:\n",
        "  def __init__(self,username):\n",
        "    self.username=username\n",
        "    self.post=[]\n",
        "  def add(self,post):\n",
        "    self.post.append(post)\n",
        "    print(f\"post is successfullt posted Mr.{self.username}\")\n",
        "    print(f\"...{post}...\")\n",
        "  def display(self):\n",
        "    s=1\n",
        "    for i in self.post:\n",
        "      print(f\"{s}.{i}\")\n",
        "      s+=1\n",
        "  def search(self,find_post):\n",
        "    for post in self.post:\n",
        "      if find_post.lower() in post.lower():\n",
        "        print(f\"Your searching post is:{post}\")\n",
        "      else:\n",
        "        print(\"your serching post is not available please enter correct word\")\n",
        "Insta=social_media(\"Dileep\")\n",
        "Insta.add(\"i'm  a good boy\")\n",
        "Insta.add(\"Today we are going to banglore\")\n",
        "Insta.add(\"Practice makes mens perfect\")\n",
        "Insta.search(\"makes\")\n",
        "\n",
        ""
      ],
      "metadata": {
        "id": "xXlbyMQFGRMk",
        "colab": {
          "base_uri": "https://localhost:8080/"
        },
        "outputId": "bdc2267e-cdc1-40d2-95d3-3339441d3ed1"
      },
      "id": "xXlbyMQFGRMk",
      "execution_count": 11,
      "outputs": [
        {
          "output_type": "stream",
          "name": "stdout",
          "text": [
            "post is successfullt posted Mr.Dileep\n",
            "...i'm  a good boy...\n",
            "post is successfullt posted Mr.Dileep\n",
            "...Today we are going to banglore...\n",
            "post is successfullt posted Mr.Dileep\n",
            "...Practice makes mens perfect...\n",
            "your serching post is not available please enter correct word\n",
            "your serching post is not available please enter correct word\n",
            "Your searching post is:Practice makes mens perfect\n"
          ]
        }
      ]
    },
    {
      "cell_type": "markdown",
      "source": [
        "### Problem 10: ToDo List Create a class representing a ToDo list with attributes like tasks and due dates. Implement methods to add tasks, mark tasks as completed, and display pending tasks."
      ],
      "metadata": {
        "id": "-mKJ3tRrkCuQ"
      },
      "id": "-mKJ3tRrkCuQ"
    },
    {
      "cell_type": "code",
      "source": [
        "class ToDo:\n",
        "    def __init__(self,username):\n",
        "        self.user = username\n",
        "        self.tasks = []\n",
        "\n",
        "    def add_task(self,task_name,due_date,completed=False):\n",
        "        self.tasks.append({'task':task_name,'due_date':due_date,'completed':False})\n",
        "        print(\"task added successfully.\")\n",
        "\n",
        "    def mark_tasks(self,task_name):\n",
        "        found = False\n",
        "        for task in self.tasks:\n",
        "            if task[\"task\"] == task_name:\n",
        "                task['completed']=True\n",
        "                found = True\n",
        "                print(\"Task marked successfully!\")\n",
        "                break\n",
        "        if not found:\n",
        "            print(\"Task is not found here, please enter correct task\")\n",
        "\n",
        "    def pending_tasks(self):\n",
        "        print(\"\\n.... These are the pending tasks ....\")\n",
        "        for task in self.tasks:\n",
        "            if task['completed']==False:\n",
        "                print(task['task'])\n",
        "lst=ToDo(\"Dileep\")\n",
        "lst.add_task(\"reading\",20)\n",
        "lst.add_task(\"listening music\",8)\n",
        "lst.add_task(\"sleeping\",15)\n",
        "lst.pending_tasks()"
      ],
      "metadata": {
        "colab": {
          "base_uri": "https://localhost:8080/"
        },
        "id": "IDN_vOQxkL3L",
        "outputId": "86e48fa5-b745-4fc4-a3ca-a70be0cef753"
      },
      "id": "IDN_vOQxkL3L",
      "execution_count": 21,
      "outputs": [
        {
          "output_type": "stream",
          "name": "stdout",
          "text": [
            "task added successfully.\n",
            "task added successfully.\n",
            "task added successfully.\n",
            "\n",
            ".... These are the pending tasks ....\n",
            "reading\n",
            "listening music\n",
            "sleeping\n"
          ]
        }
      ]
    }
  ],
  "metadata": {
    "kernelspec": {
      "display_name": "Python 3 (ipykernel)",
      "language": "python",
      "name": "python3"
    },
    "language_info": {
      "codemirror_mode": {
        "name": "ipython",
        "version": 3
      },
      "file_extension": ".py",
      "mimetype": "text/x-python",
      "name": "python",
      "nbconvert_exporter": "python",
      "pygments_lexer": "ipython3",
      "version": "3.10.8"
    },
    "colab": {
      "provenance": [],
      "include_colab_link": true
    }
  },
  "nbformat": 4,
  "nbformat_minor": 5
}