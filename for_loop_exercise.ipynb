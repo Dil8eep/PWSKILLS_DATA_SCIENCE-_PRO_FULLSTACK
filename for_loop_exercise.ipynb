{
  "nbformat": 4,
  "nbformat_minor": 0,
  "metadata": {
    "colab": {
      "provenance": [],
      "authorship_tag": "ABX9TyPafXy+XeuQtzM2VVNdZvdQ",
      "include_colab_link": true
    },
    "kernelspec": {
      "name": "python3",
      "display_name": "Python 3"
    },
    "language_info": {
      "name": "python"
    }
  },
  "cells": [
    {
      "cell_type": "markdown",
      "metadata": {
        "id": "view-in-github",
        "colab_type": "text"
      },
      "source": [
        "<a href=\"https://colab.research.google.com/github/Dil8eep/PWSKILLS_DATA_SCIENCE-_PRO_FULLSTACK/blob/main/for_loop_exercise.ipynb\" target=\"_parent\"><img src=\"https://colab.research.google.com/assets/colab-badge.svg\" alt=\"Open In Colab\"/></a>"
      ]
    },
    {
      "cell_type": "markdown",
      "source": [],
      "metadata": {
        "id": "MDFkaEnJhXoY"
      }
    },
    {
      "cell_type": "code",
      "execution_count": null,
      "metadata": {
        "id": "59t3FsqwgObE"
      },
      "outputs": [],
      "source": []
    },
    {
      "cell_type": "markdown",
      "source": [
        "# Basic level :"
      ],
      "metadata": {
        "id": "j66w0ySZha30"
      }
    },
    {
      "cell_type": "markdown",
      "source": [
        "### 1. Write a Python program to print the numbers from 1 to 10 using a `for` loop."
      ],
      "metadata": {
        "id": "EI1kqXvWhfyQ"
      }
    },
    {
      "cell_type": "code",
      "source": [
        "for i in range(1,11):\n",
        "  print(i)"
      ],
      "metadata": {
        "colab": {
          "base_uri": "https://localhost:8080/"
        },
        "id": "Jj0GPA7thwo5",
        "outputId": "e73a3b81-de2f-45e8-bd93-2d605405505f"
      },
      "execution_count": null,
      "outputs": [
        {
          "output_type": "stream",
          "name": "stdout",
          "text": [
            "1\n",
            "2\n",
            "3\n",
            "4\n",
            "5\n",
            "6\n",
            "7\n",
            "8\n",
            "9\n",
            "10\n"
          ]
        }
      ]
    },
    {
      "cell_type": "markdown",
      "source": [
        "### 2. Create a program that calculates the sum of all numbers in a list using a `for` loop."
      ],
      "metadata": {
        "id": "GPa6RsMAiF6x"
      }
    },
    {
      "cell_type": "code",
      "source": [
        "lst=[1,2,3,4,5,6,7,8,9,10]\n",
        "sum=0\n",
        "for i in lst:\n",
        "  sum=sum+i\n",
        "print(\"sum 0f the all numbers in the lst\"sum)"
      ],
      "metadata": {
        "colab": {
          "base_uri": "https://localhost:8080/"
        },
        "id": "3thd9t7biLVV",
        "outputId": "e2137309-50fb-49cd-fb7f-b355ca60984f"
      },
      "execution_count": null,
      "outputs": [
        {
          "output_type": "stream",
          "name": "stdout",
          "text": [
            "55\n"
          ]
        }
      ]
    },
    {
      "cell_type": "markdown",
      "source": [
        "### 3. Write a program to print the characters of a string in reverse order using a `for` loop."
      ],
      "metadata": {
        "id": "pepckUdCizQx"
      }
    },
    {
      "cell_type": "code",
      "source": [
        "str=\"PWSKILLS\"\n",
        "for i in str[::-1]:\n",
        "  print(i,end=\" \")"
      ],
      "metadata": {
        "colab": {
          "base_uri": "https://localhost:8080/"
        },
        "id": "LTeRuKlLi4pB",
        "outputId": "1002a13a-098f-497b-e46e-5725b216c01a"
      },
      "execution_count": null,
      "outputs": [
        {
          "output_type": "stream",
          "name": "stdout",
          "text": [
            "S L L I K S W P "
          ]
        }
      ]
    },
    {
      "cell_type": "markdown",
      "source": [
        "### 4. Develop a program that finds the factorial of a given number using a `for` loop."
      ],
      "metadata": {
        "id": "BYa08RYOjf0P"
      }
    },
    {
      "cell_type": "code",
      "source": [
        "num=int(input(\"enter the number:\"))\n",
        "fact=1\n",
        "for i in range(num,1,-1):\n",
        "  fact=fact*i\n",
        "print(\"The factorial of the number is:\",fact)\n",
        "\n",
        "\n"
      ],
      "metadata": {
        "colab": {
          "base_uri": "https://localhost:8080/"
        },
        "id": "3DnFDPx0jlr5",
        "outputId": "6160ebfc-dd2d-450f-9670-8c103c640f1f"
      },
      "execution_count": null,
      "outputs": [
        {
          "output_type": "stream",
          "name": "stdout",
          "text": [
            "enter the number:5\n",
            "The factorial of the number is: 120\n"
          ]
        }
      ]
    },
    {
      "cell_type": "markdown",
      "source": [
        "### 5. Create a program to print the multiplication table of a given number using a `for` loop."
      ],
      "metadata": {
        "id": "GjigsVEplnH1"
      }
    },
    {
      "cell_type": "code",
      "source": [
        "num=int(input(\"enter the number:\"))\n",
        "for i in range(10):\n",
        "  print(num,\"*\",i, \"=\",num*i)"
      ],
      "metadata": {
        "colab": {
          "base_uri": "https://localhost:8080/"
        },
        "id": "BHZvXlbWlpjj",
        "outputId": "94229948-cddc-423f-f525-8c3de9084d8a"
      },
      "execution_count": null,
      "outputs": [
        {
          "output_type": "stream",
          "name": "stdout",
          "text": [
            "enter the number:5\n",
            "5 * 0 = 0\n",
            "5 * 1 = 5\n",
            "5 * 2 = 10\n",
            "5 * 3 = 15\n",
            "5 * 4 = 20\n",
            "5 * 5 = 25\n",
            "5 * 6 = 30\n",
            "5 * 7 = 35\n",
            "5 * 8 = 40\n",
            "5 * 9 = 45\n"
          ]
        }
      ]
    },
    {
      "cell_type": "markdown",
      "source": [
        "### 6. Write a program that counts the number of even and odd numbers in a list using a `for` loop."
      ],
      "metadata": {
        "id": "479tPOO0mqlw"
      }
    },
    {
      "cell_type": "code",
      "source": [
        "lst=[1,2,3,4,5,6,7,8,9,10]\n",
        "count_even=0\n",
        "count_odd=0\n",
        "for i in lst:\n",
        "  if i%2==0:\n",
        "    count_even=count_even+1\n",
        "  else:\n",
        "    count_odd=count_odd+1\n",
        "print(\"The count of even numbers in list:\",count_even)\n",
        "print(\"The count of odd numbers in the lis:\",count_odd)"
      ],
      "metadata": {
        "colab": {
          "base_uri": "https://localhost:8080/"
        },
        "id": "qewO8NDKmyxb",
        "outputId": "f25b1e67-9e5c-4d90-abd7-d2cc1e19cb21"
      },
      "execution_count": null,
      "outputs": [
        {
          "output_type": "stream",
          "name": "stdout",
          "text": [
            "The count of even numbers in list: 5\n",
            "The count of odd numbers in the lis: 5\n"
          ]
        }
      ]
    },
    {
      "cell_type": "markdown",
      "source": [
        "### 7. Develop a program that prints the squares of numbers from 1 to 5 using a `for` loop."
      ],
      "metadata": {
        "id": "8CWrOaeXoCj3"
      }
    },
    {
      "cell_type": "code",
      "source": [
        "sqr=0\n",
        "for i in range(1,6):\n",
        "  sqr=i*i\n",
        "  print(sqr,end=\" \")\n"
      ],
      "metadata": {
        "colab": {
          "base_uri": "https://localhost:8080/"
        },
        "id": "L9SHzZotoO70",
        "outputId": "79d7d13c-9441-4902-ceda-eda3d56a08cf"
      },
      "execution_count": null,
      "outputs": [
        {
          "output_type": "stream",
          "name": "stdout",
          "text": [
            "1 4 9 16 25 "
          ]
        }
      ]
    },
    {
      "cell_type": "markdown",
      "source": [
        "### 8. Create a program to find the length of a string without using the `len()` function."
      ],
      "metadata": {
        "id": "10XfTUpMpMVo"
      }
    },
    {
      "cell_type": "code",
      "source": [
        "str=\"Dileep Kumar\"\n",
        "count=0\n",
        "for i in str:\n",
        "  count+=1\n",
        "print(\"The count of the string is:\",count)"
      ],
      "metadata": {
        "colab": {
          "base_uri": "https://localhost:8080/"
        },
        "id": "3-vnge8FpSmY",
        "outputId": "c668fef3-4542-4ced-ad16-99eb7d944338"
      },
      "execution_count": null,
      "outputs": [
        {
          "output_type": "stream",
          "name": "stdout",
          "text": [
            "The count of the string is: 12\n"
          ]
        }
      ]
    },
    {
      "cell_type": "markdown",
      "source": [
        "### 9. Write a program that calculates the average of a list of numbers using a `for` loop."
      ],
      "metadata": {
        "id": "FP209SqNpvb0"
      }
    },
    {
      "cell_type": "code",
      "source": [
        "lst=[1,2,3,4,5,6,7,8,9,10]\n",
        "sum=0\n",
        "avg=0\n",
        "for i in lst:\n",
        "  sum=sum+i\n",
        "  avg=sum/len(lst)\n",
        "print(\"The average of the list is :\",avg)\n"
      ],
      "metadata": {
        "colab": {
          "base_uri": "https://localhost:8080/"
        },
        "id": "Lvzu3H2jpyTV",
        "outputId": "fc766c93-57c2-4e77-b6b0-4799f015cd9a"
      },
      "execution_count": null,
      "outputs": [
        {
          "output_type": "stream",
          "name": "stdout",
          "text": [
            "The average of the list is : 5.5\n"
          ]
        }
      ]
    },
    {
      "cell_type": "markdown",
      "source": [
        "### 10. Develop a program that prints the first `n` Fibonacci numbers using a `for` loop."
      ],
      "metadata": {
        "id": "CUSRoQAFrTEJ"
      }
    },
    {
      "cell_type": "code",
      "source": [
        "n = 10\n",
        "\n",
        "fib_series = [0, 1]\n",
        "\n",
        "for i in range(2, n):\n",
        "    next_number = fib_series[i-1] + fib_series[i-2]\n",
        "    fib_series.append(next_number)\n",
        "print(fib_series)"
      ],
      "metadata": {
        "colab": {
          "base_uri": "https://localhost:8080/"
        },
        "id": "ZUiTt-_UrVqR",
        "outputId": "6227efce-4427-4e0d-d9f5-81b6a75b3ffb"
      },
      "execution_count": null,
      "outputs": [
        {
          "output_type": "stream",
          "name": "stdout",
          "text": [
            "[0, 1, 1, 2, 3, 5, 8, 13, 21, 34]\n"
          ]
        }
      ]
    },
    {
      "cell_type": "markdown",
      "source": [
        "# Intermediate Level:"
      ],
      "metadata": {
        "id": "QRNL5IzbnqaF"
      }
    },
    {
      "cell_type": "markdown",
      "source": [
        "### 11. Write a program to check if a given list contains any duplicates using a `for` loop."
      ],
      "metadata": {
        "id": "wlvQLaT5n0Lt"
      }
    },
    {
      "cell_type": "code",
      "source": [
        "lst=[2,3,4,5,3,4,6,7]\n",
        "check_lst=[]\n",
        "flag = True\n",
        "for i in lst:\n",
        "  if i not in check_lst:\n",
        "      check_lst.append(i)\n",
        "  else:\n",
        "    flag = False\n",
        "if flag:\n",
        "  print(\"list do not contain duplicate values\")\n",
        "else:\n",
        "  print(\"list contain duplicate values\")\n"
      ],
      "metadata": {
        "colab": {
          "base_uri": "https://localhost:8080/"
        },
        "id": "7TDAlApan5Z6",
        "outputId": "ecbae05e-a236-473d-f4ae-0cb19f327f82"
      },
      "execution_count": null,
      "outputs": [
        {
          "output_type": "stream",
          "name": "stdout",
          "text": [
            "list contain duplicate values\n"
          ]
        }
      ]
    },
    {
      "cell_type": "markdown",
      "source": [
        "### 12. Create a program that prints the prime numbers in a given range using a `for` loop."
      ],
      "metadata": {
        "id": "iaVVC55_qejL"
      }
    },
    {
      "cell_type": "code",
      "source": [
        "for i in range(2,20):\n",
        "  prime=True\n",
        "  for j in range(2,i):\n",
        "    if i%j==0:\n",
        "      prime=False\n",
        "      break\n",
        "  if prime:\n",
        "      print(i,end=\" \")\n",
        "\n",
        "\n",
        "\n",
        "\n"
      ],
      "metadata": {
        "colab": {
          "base_uri": "https://localhost:8080/"
        },
        "id": "z5dJK3Liqg9x",
        "outputId": "69492712-d0b7-427e-81fd-6fb872d71292"
      },
      "execution_count": null,
      "outputs": [
        {
          "output_type": "stream",
          "name": "stdout",
          "text": [
            "2 3 5 7 11 13 17 19 "
          ]
        }
      ]
    },
    {
      "cell_type": "markdown",
      "source": [
        "### 13. Develop a program that counts the number of vowels in a string using a `for` loop."
      ],
      "metadata": {
        "id": "qBNISQ4Drw_Z"
      }
    },
    {
      "cell_type": "code",
      "source": [
        "string=input(\"enter the string:\")\n",
        "vowels=\"aeiou\"\n",
        "count=0\n",
        "for i in string:\n",
        "  if i in vowels:\n",
        "    count+=1\n",
        "print(\"The count of vowels in the string is:\",count)"
      ],
      "metadata": {
        "colab": {
          "base_uri": "https://localhost:8080/"
        },
        "id": "03zcufSdrwSp",
        "outputId": "e34e661b-444b-4730-8ce4-03f0ed700099"
      },
      "execution_count": null,
      "outputs": [
        {
          "output_type": "stream",
          "name": "stdout",
          "text": [
            "enter the string:dileep kumar\n",
            "The count of vowels in the string is: 5\n"
          ]
        }
      ]
    },
    {
      "cell_type": "markdown",
      "source": [
        "### 14. Write a program to find the maximum element in a 2D list using a nested `for` loop."
      ],
      "metadata": {
        "id": "8qbxVv6xuLO0"
      }
    },
    {
      "cell_type": "code",
      "source": [
        "matrix = [\n",
        "    [3, 8, 12, 5],\n",
        "    [1, 7, 10, 6],\n",
        "    [9, 4, 2, 11]\n",
        "]\n",
        "max_element = float('-inf')\n",
        "for row in matrix:\n",
        "    for element in row:\n",
        "        if element > max_element:\n",
        "            max_element = element\n",
        "print(\"Maximum element in the 2D list:\", max_element)"
      ],
      "metadata": {
        "colab": {
          "base_uri": "https://localhost:8080/"
        },
        "id": "M5Cz0Ywg5frd",
        "outputId": "7e0c2db2-8045-42f0-c5e3-af46df954e4c"
      },
      "execution_count": null,
      "outputs": [
        {
          "output_type": "stream",
          "name": "stdout",
          "text": [
            "Maximum element in the 2D list: 12\n"
          ]
        }
      ]
    },
    {
      "cell_type": "markdown",
      "source": [
        "### 15. Create a program that removes all occurrences of a specific element from a list using a for loop."
      ],
      "metadata": {
        "id": "v6SVM03rSew8"
      }
    },
    {
      "cell_type": "code",
      "source": [
        "lst=[3,4,2,4,5,3,2,5,6,7]\n",
        "element=int(input(\"enter the number:\"))\n",
        "for i in lst:\n",
        "  if i==element:\n",
        "    lst.remove(i)\n",
        "print(lst)"
      ],
      "metadata": {
        "colab": {
          "base_uri": "https://localhost:8080/"
        },
        "id": "4WjLxa6CPVDC",
        "outputId": "b043a290-e9ca-42e2-e9b0-62b18a35cb35"
      },
      "execution_count": null,
      "outputs": [
        {
          "output_type": "stream",
          "name": "stdout",
          "text": [
            "enter the number:2\n",
            "[3, 4, 4, 5, 3, 5, 6, 7]\n"
          ]
        }
      ]
    },
    {
      "cell_type": "markdown",
      "source": [
        "### 16. Develop a program that generates a multiplication table for numbers from 1 to 5 using a nested for loop."
      ],
      "metadata": {
        "id": "E5_M2ku4VUbu"
      }
    },
    {
      "cell_type": "code",
      "source": [
        "starting_num=1\n",
        "ending_num=5\n",
        "for i in range(1,11):\n",
        "  for j in range(starting_num,ending_num+1):\n",
        "     print(f\"{j} X {i} = {j*i}\\t\",end=\"\")\n",
        "  print()\n"
      ],
      "metadata": {
        "colab": {
          "base_uri": "https://localhost:8080/"
        },
        "id": "M7Swu--cWXS-",
        "outputId": "a71f3032-3ba0-4d6d-8728-8608e692b2e5"
      },
      "execution_count": null,
      "outputs": [
        {
          "output_type": "stream",
          "name": "stdout",
          "text": [
            "1 X 1 = 1\t2 X 1 = 2\t3 X 1 = 3\t4 X 1 = 4\t5 X 1 = 5\t\n",
            "1 X 2 = 2\t2 X 2 = 4\t3 X 2 = 6\t4 X 2 = 8\t5 X 2 = 10\t\n",
            "1 X 3 = 3\t2 X 3 = 6\t3 X 3 = 9\t4 X 3 = 12\t5 X 3 = 15\t\n",
            "1 X 4 = 4\t2 X 4 = 8\t3 X 4 = 12\t4 X 4 = 16\t5 X 4 = 20\t\n",
            "1 X 5 = 5\t2 X 5 = 10\t3 X 5 = 15\t4 X 5 = 20\t5 X 5 = 25\t\n",
            "1 X 6 = 6\t2 X 6 = 12\t3 X 6 = 18\t4 X 6 = 24\t5 X 6 = 30\t\n",
            "1 X 7 = 7\t2 X 7 = 14\t3 X 7 = 21\t4 X 7 = 28\t5 X 7 = 35\t\n",
            "1 X 8 = 8\t2 X 8 = 16\t3 X 8 = 24\t4 X 8 = 32\t5 X 8 = 40\t\n",
            "1 X 9 = 9\t2 X 9 = 18\t3 X 9 = 27\t4 X 9 = 36\t5 X 9 = 45\t\n",
            "1 X 10 = 10\t2 X 10 = 20\t3 X 10 = 30\t4 X 10 = 40\t5 X 10 = 50\t\n"
          ]
        }
      ]
    },
    {
      "cell_type": "markdown",
      "source": [
        "### 17. Write a program that converts a list of Fahrenheit temperatures to Celsius using a for loop."
      ],
      "metadata": {
        "id": "XkJYjProYlIn"
      }
    },
    {
      "cell_type": "code",
      "source": [
        "farenheit=[23,33,43,53,63]\n",
        "celsius=[]\n",
        "for i in lst:\n",
        "  c=(i-32)*5/9\n",
        "  celsius.append(c)\n",
        "print(\"The celsius of the given farenheit temperature:\",celsius)\n",
        "\n",
        "\n"
      ],
      "metadata": {
        "colab": {
          "base_uri": "https://localhost:8080/"
        },
        "id": "wJuEH9qKYrzR",
        "outputId": "ba0e09ef-60ec-4104-845f-46bbc14cad29"
      },
      "execution_count": null,
      "outputs": [
        {
          "output_type": "stream",
          "name": "stdout",
          "text": [
            "The celsius of the given farenheit temperature: [-16.11111111111111, -15.555555555555555, -15.555555555555555, -15.0, -16.11111111111111, -15.0, -14.444444444444445, -13.88888888888889]\n"
          ]
        }
      ]
    },
    {
      "cell_type": "markdown",
      "source": [
        "### 18. Create a program to print the common elements from two lists using a for loop."
      ],
      "metadata": {
        "id": "1xZmU8t9ZqVW"
      }
    },
    {
      "cell_type": "code",
      "source": [
        "lst1=[22,33,43,53,55]\n",
        "lst2=[55,65,75,85,95]\n",
        "lst3=[]\n",
        "for i in lst1:\n",
        "  if  i in lst2:\n",
        "    lst3.append(i)\n",
        "print(\"THe common elements of the two list:\",lst3)\n",
        "\n",
        "\n",
        "\n"
      ],
      "metadata": {
        "colab": {
          "base_uri": "https://localhost:8080/"
        },
        "id": "nrtQ0bs8Y7wu",
        "outputId": "28f63c0b-f8e7-4789-fc19-b639208de6da"
      },
      "execution_count": null,
      "outputs": [
        {
          "output_type": "stream",
          "name": "stdout",
          "text": [
            "THe common elements of the two list: [55]\n"
          ]
        }
      ]
    },
    {
      "cell_type": "markdown",
      "source": [
        "### 19. Develop a program that prints the pattern of right-angled triangles using a for loop. Use ‘*’ to draw the pattern"
      ],
      "metadata": {
        "id": "yYwqqoY4bHUc"
      }
    },
    {
      "cell_type": "code",
      "source": [
        "for i in range(10):\n",
        "  for j in range(i+1):\n",
        "    print(\"*\",end=\" \")\n",
        "  print()"
      ],
      "metadata": {
        "colab": {
          "base_uri": "https://localhost:8080/"
        },
        "id": "B0xyPufKbfQE",
        "outputId": "1b472402-9697-45ed-acbd-0d0014ebde43"
      },
      "execution_count": null,
      "outputs": [
        {
          "output_type": "stream",
          "name": "stdout",
          "text": [
            "* \n",
            "* * \n",
            "* * * \n",
            "* * * * \n",
            "* * * * * \n",
            "* * * * * * \n",
            "* * * * * * * \n",
            "* * * * * * * * \n",
            "* * * * * * * * * \n",
            "* * * * * * * * * * \n"
          ]
        }
      ]
    },
    {
      "cell_type": "markdown",
      "source": [
        "### 20. Write a program to find the greatest common divisor (GCD) of two numbers using a for loop."
      ],
      "metadata": {
        "id": "Sg4vH3nNbyrn"
      }
    },
    {
      "cell_type": "code",
      "source": [
        "num1 = int(input(\"Enter the first number: \"))\n",
        "num2 = int(input(\"Enter the second number: \"))\n",
        "\n",
        "min_num = min(num1, num2)\n",
        "\n",
        "gcd = 1\n",
        "\n",
        "for i in range(1, min_num + 1):\n",
        "    if num1 % i == 0 and num2 % i == 0:\n",
        "        gcd = i\n",
        "print(f\"The GCD of {num1} and {num2} is: {gcd}\")"
      ],
      "metadata": {
        "colab": {
          "base_uri": "https://localhost:8080/"
        },
        "id": "cpr9TLlcb5k8",
        "outputId": "f8fd997b-a3c5-4a97-a305-00fa3e5c1c1f"
      },
      "execution_count": null,
      "outputs": [
        {
          "output_type": "stream",
          "name": "stdout",
          "text": [
            "Enter the first number: 42\n",
            "Enter the second number: 36\n",
            "The GCD of 42 and 36 is: 6\n"
          ]
        }
      ]
    },
    {
      "cell_type": "markdown",
      "source": [
        "# Advanced"
      ],
      "metadata": {
        "id": "ifuL7umFd1SL"
      }
    },
    {
      "cell_type": "markdown",
      "source": [
        "### 21. Create a program that calculates the sum of the digits of numbers in a list using a list comprehension."
      ],
      "metadata": {
        "id": "DxHlXo0pgmMo"
      }
    },
    {
      "cell_type": "code",
      "source": [
        "lst=[2,3,4,5,6]\n",
        "total=sum(i for i in lst)\n",
        "print(\"Total sum of the numbers in the list is:\",total)"
      ],
      "metadata": {
        "colab": {
          "base_uri": "https://localhost:8080/"
        },
        "id": "Y_98OuSSgK3B",
        "outputId": "06257cc5-f80d-4913-d748-a0bb3dbc88db"
      },
      "execution_count": null,
      "outputs": [
        {
          "output_type": "stream",
          "name": "stdout",
          "text": [
            "Total sum of the numbers in the list is: 20\n"
          ]
        }
      ]
    },
    {
      "cell_type": "markdown",
      "source": [
        "### 22. Write a program to find the prime factors of a given number using a `for` loop and list comprehension."
      ],
      "metadata": {
        "id": "g-pZjLmBimLB"
      }
    },
    {
      "cell_type": "code",
      "source": [
        "def prime_factors(n):\n",
        "    factors = [i for i in range(2,n+1) if n%i == 0 and all(i%j != 0 for j in range(2,int(i**0.5) + 1))]\n",
        "    return factors\n",
        "\n",
        "number = int(input(\"enter a number : \"))\n",
        "\n",
        "result = prime_factors(number)\n",
        "\n",
        "if len(result) == 0:\n",
        "    print(f\"{number} has no prime factors.\")\n",
        "else:\n",
        "    print(f\"Prime factors of {number}: {result}\")"
      ],
      "metadata": {
        "id": "-EQ_d9OLil1h",
        "colab": {
          "base_uri": "https://localhost:8080/"
        },
        "outputId": "6beac4ed-384c-4764-f0f0-363631d6c30e"
      },
      "execution_count": null,
      "outputs": [
        {
          "output_type": "stream",
          "name": "stdout",
          "text": [
            "enter a number : 36\n",
            "Prime factors of 36: [2, 3]\n"
          ]
        }
      ]
    },
    {
      "cell_type": "markdown",
      "source": [
        "### 23. Develop a program that extracts unique elements from a list and stores them in a new list using a list comprehension.\n"
      ],
      "metadata": {
        "id": "Oq2RdPUuesGC"
      }
    },
    {
      "cell_type": "code",
      "source": [
        "lst1=[1,2,2,4,5,3,3,4,6,5,6,7,8]\n",
        "lst2=set(lst1)\n",
        "lst3=[i for i in lst2]\n",
        "print(\"The unique elements of the list is :\",lst3)"
      ],
      "metadata": {
        "colab": {
          "base_uri": "https://localhost:8080/"
        },
        "id": "08Y8KYvhez6f",
        "outputId": "4fa34a05-45d9-4d91-f643-23e8b27d36ac"
      },
      "execution_count": null,
      "outputs": [
        {
          "output_type": "stream",
          "name": "stdout",
          "text": [
            "The unique elements of the list is : [1, 2, 3, 4, 5, 6, 7, 8]\n"
          ]
        }
      ]
    },
    {
      "cell_type": "markdown",
      "source": [
        "### 24. Create a program that generates a list of all palindromic numbers up to a specified limit using a list comprehension.\n"
      ],
      "metadata": {
        "id": "MV2RDfTMfysh"
      }
    },
    {
      "cell_type": "code",
      "source": [
        "lst=[i for i in range(1,101) if i>=10 and i==int(str(i)[::-1])]\n",
        "print(\"Palindromic numbers upto 100:\",lst)\n",
        "\n"
      ],
      "metadata": {
        "colab": {
          "base_uri": "https://localhost:8080/"
        },
        "id": "h1llHYpZf1R-",
        "outputId": "d9141b0e-f7e6-491d-935e-0941f14101fc"
      },
      "execution_count": null,
      "outputs": [
        {
          "output_type": "stream",
          "name": "stdout",
          "text": [
            "Palindromic numbers upto 100: [11, 22, 33, 44, 55, 66, 77, 88, 99]\n"
          ]
        }
      ]
    },
    {
      "cell_type": "markdown",
      "source": [
        "### 25. Write a program to flatten a nested list using list comprehension."
      ],
      "metadata": {
        "id": "M49CZ9l7kPPC"
      }
    },
    {
      "cell_type": "code",
      "source": [
        "nested_list = [[1, 2,3], [4, 5], [6, 7, 8]]\n",
        "flattened_list = [element for sublist in nested_list for element in sublist]\n",
        "print(flattened_list)"
      ],
      "metadata": {
        "colab": {
          "base_uri": "https://localhost:8080/"
        },
        "id": "Ex1TkEvVkTHn",
        "outputId": "e604e732-d371-47cd-d7c7-cff3cea5293a"
      },
      "execution_count": null,
      "outputs": [
        {
          "output_type": "stream",
          "name": "stdout",
          "text": [
            "[1, 2, 3, 4, 5, 6, 7, 8]\n"
          ]
        }
      ]
    },
    {
      "cell_type": "markdown",
      "source": [
        "### 26. Develop a program that computes the sum of even and odd numbers in a list separately using list comprehension."
      ],
      "metadata": {
        "id": "W53jan_5mCOT"
      }
    },
    {
      "cell_type": "code",
      "source": [
        "lst=[1,2,3,4,5,6,7,8,9,10]\n",
        "even_sum=sum([i for i in lst if i%2==0])\n",
        "odd_sum=sum([i for i in lst if i%2!=0])\n",
        "print(even_sum)\n",
        "print(odd_sum)"
      ],
      "metadata": {
        "colab": {
          "base_uri": "https://localhost:8080/"
        },
        "id": "no5N_FAEmEjN",
        "outputId": "2865efb4-f540-463a-a8be-b063876da86f"
      },
      "execution_count": null,
      "outputs": [
        {
          "output_type": "stream",
          "name": "stdout",
          "text": [
            "30\n",
            "25\n"
          ]
        }
      ]
    },
    {
      "cell_type": "markdown",
      "source": [
        "### 27. Create a program that generates a list of squares of odd numbers between 1 and 10 using list comprehension.\n"
      ],
      "metadata": {
        "id": "bIIX4CFbm3b6"
      }
    },
    {
      "cell_type": "code",
      "source": [
        "lst=[i**2 for i in range(1,11)  if i%2!=0]\n",
        "print(lst)"
      ],
      "metadata": {
        "colab": {
          "base_uri": "https://localhost:8080/"
        },
        "id": "lagkhoyfnOwl",
        "outputId": "73dadbd4-f27c-4e04-89db-ed4d28e5df07"
      },
      "execution_count": null,
      "outputs": [
        {
          "output_type": "stream",
          "name": "stdout",
          "text": [
            "[1, 9, 25, 49, 81]\n"
          ]
        }
      ]
    },
    {
      "cell_type": "markdown",
      "source": [
        "### 28. Write a program that combines two lists into a dictionary using list comprehension."
      ],
      "metadata": {
        "id": "wbli7PbyoRXC"
      }
    },
    {
      "cell_type": "code",
      "source": [
        "lst1=[\"name\",\"roll no\",\"rank\"]\n",
        "lst2=[\"Dileep\",\"33\",\"A\"]\n",
        "result={lst1[i]:lst2[i] for i in range(len(lst1))}\n",
        "print(result)"
      ],
      "metadata": {
        "colab": {
          "base_uri": "https://localhost:8080/"
        },
        "id": "qQzt2T3tokDA",
        "outputId": "6f86ff3b-e457-44c3-b95a-5412a5166104"
      },
      "execution_count": null,
      "outputs": [
        {
          "output_type": "stream",
          "name": "stdout",
          "text": [
            "{'name': 'Dileep', 'roll no': '33', 'rank': 'A'}\n"
          ]
        }
      ]
    },
    {
      "cell_type": "markdown",
      "source": [
        "### 29. Develop a program that extracts the vowels from a string and stores them in a list using list comprehension."
      ],
      "metadata": {
        "id": "Nt3hUAe3p_b6"
      }
    },
    {
      "cell_type": "code",
      "source": [
        "str=input(\"Enter the string:\")\n",
        "vowels=\"aeiouAEIOU\"\n",
        "lst=[i for i in str if i in vowels]\n",
        "print(lst)"
      ],
      "metadata": {
        "colab": {
          "base_uri": "https://localhost:8080/"
        },
        "id": "1PZaOLR0qEHd",
        "outputId": "1506df8b-085f-438e-ba49-bb7066379f79"
      },
      "execution_count": null,
      "outputs": [
        {
          "output_type": "stream",
          "name": "stdout",
          "text": [
            "Enter the string:dileep kumar \n",
            "['i', 'e', 'e', 'u', 'a']\n"
          ]
        }
      ]
    },
    {
      "cell_type": "markdown",
      "source": [
        "### 30. Create a program that removes all non-numeric characters from a list of strings using list comprehension."
      ],
      "metadata": {
        "id": "t1JofTM3rReo"
      }
    },
    {
      "cell_type": "code",
      "source": [
        "input_strings = [\"abc123\", \"45xyz\", \"789\", \"12.34\"]\n",
        "cleaned_strings = [''.join(char for char in s if char.isdigit()) for s in input_strings]\n",
        "print(\"Cleaned List:\", cleaned_strings)"
      ],
      "metadata": {
        "colab": {
          "base_uri": "https://localhost:8080/"
        },
        "id": "cV5uiv-BrWGF",
        "outputId": "5d0d123b-c47c-4d2f-db3e-f73edd5792c9"
      },
      "execution_count": null,
      "outputs": [
        {
          "output_type": "stream",
          "name": "stdout",
          "text": [
            "Cleaned List: ['123', '45', '789', '1234']\n"
          ]
        }
      ]
    },
    {
      "cell_type": "markdown",
      "source": [
        "# Challenge Level:"
      ],
      "metadata": {
        "id": "_gjl4EwoyQXT"
      }
    },
    {
      "cell_type": "markdown",
      "source": [
        "### 31. Write a program to generate a list of prime numbers using the Sieve of Eratosthenes algorithm and list comprehension."
      ],
      "metadata": {
        "id": "2sEYKaa-ySfB"
      }
    },
    {
      "cell_type": "code",
      "source": [
        "def sieve_of_eratosthenes(limit):\n",
        "    sieve = [True] * (limit + 1)\n",
        "    sieve[0] = sieve[1] = False\n",
        "\n",
        "    for num in range(2, int(limit**0.5) + 1):\n",
        "        if sieve[num]:\n",
        "            sieve[num*num : limit+1 : num] = [False] * len(range(num*num, limit+1, num))\n",
        "\n",
        "    return [num for num in range(2, limit + 1) if sieve[num]]\n",
        "\n",
        "limit = int(input(\"Enter the limit: \"))\n",
        "prime_numbers = sieve_of_eratosthenes(limit)\n",
        "\n",
        "print(f\"Prime numbers up to {limit}: {prime_numbers}\")"
      ],
      "metadata": {
        "colab": {
          "base_uri": "https://localhost:8080/"
        },
        "id": "RsyV9iYeyWpf",
        "outputId": "acdecc71-8581-4a69-9da2-26b1f557607c"
      },
      "execution_count": null,
      "outputs": [
        {
          "output_type": "stream",
          "name": "stdout",
          "text": [
            "Enter the limit: 30\n",
            "Prime numbers up to 30: [2, 3, 5, 7, 11, 13, 17, 19, 23, 29]\n"
          ]
        }
      ]
    },
    {
      "cell_type": "markdown",
      "source": [
        "### 32. Create a program that generates a list of all Pythagorean triplets up to a specified limit using list comprehension.\n"
      ],
      "metadata": {
        "id": "qXHvdKv13c-R"
      }
    },
    {
      "cell_type": "code",
      "source": [
        "\n",
        "limit = int(input(\"enter the number:\"))\n",
        "triplets = [(a, b, c) for a in range(1, limit) for b in range(a, limit) for c in range(b, limit) if a**2 + b**2 == c**2]\n",
        "print(f\" Pythagorean triplets up to a limit {limit} is :\",triplets)\n",
        "\n"
      ],
      "metadata": {
        "colab": {
          "base_uri": "https://localhost:8080/"
        },
        "id": "Gu_KEj4K4TBZ",
        "outputId": "e1bbd239-e4c0-4ea3-9a14-20f0f6e305ad"
      },
      "execution_count": null,
      "outputs": [
        {
          "output_type": "stream",
          "name": "stdout",
          "text": [
            "enter the number:20\n",
            " Pythagorean triplets up to a limit 20 is : [(3, 4, 5), (5, 12, 13), (6, 8, 10), (8, 15, 17), (9, 12, 15)]\n"
          ]
        }
      ]
    },
    {
      "cell_type": "markdown",
      "source": [
        "### 33. Develop a program that generates a list of all possible combinations of two lists using list comprehension."
      ],
      "metadata": {
        "id": "1mtkBqMT5zZP"
      }
    },
    {
      "cell_type": "code",
      "source": [
        "lst1=[1,2,3,4,5]\n",
        "lst2=[\"dileep\",\"prasad\",\"mohit\",\"pavan\",\"dinesh\"]\n",
        "lst3=[(x,y) for x in lst1 for y in lst2]\n",
        "print(lst3)"
      ],
      "metadata": {
        "colab": {
          "base_uri": "https://localhost:8080/"
        },
        "id": "nmUYaDuc55ea",
        "outputId": "57101259-db13-45c3-b29c-15bfb7983c64"
      },
      "execution_count": null,
      "outputs": [
        {
          "output_type": "stream",
          "name": "stdout",
          "text": [
            "[(1, 'dileep'), (1, 'prasad'), (1, 'mohit'), (1, 'pavan'), (1, 'dinesh'), (2, 'dileep'), (2, 'prasad'), (2, 'mohit'), (2, 'pavan'), (2, 'dinesh'), (3, 'dileep'), (3, 'prasad'), (3, 'mohit'), (3, 'pavan'), (3, 'dinesh'), (4, 'dileep'), (4, 'prasad'), (4, 'mohit'), (4, 'pavan'), (4, 'dinesh'), (5, 'dileep'), (5, 'prasad'), (5, 'mohit'), (5, 'pavan'), (5, 'dinesh')]\n"
          ]
        }
      ]
    },
    {
      "cell_type": "markdown",
      "source": [
        "### 34. Write a program that calculates the mean, median, and mode of a list of numbers using list comprehension.\n",
        "\n"
      ],
      "metadata": {
        "id": "826f1B2I6_PX"
      }
    },
    {
      "cell_type": "code",
      "source": [
        "numbers=[4,5,3,6,7,2,1,9,8,]\n",
        "mean=sum(lst)/len(lst)\n",
        "sorted_numbers = sorted(numbers)\n",
        "mid = len(sorted_numbers) // 2\n",
        "median = (sorted_numbers[mid] + sorted_numbers[mid - 1]) / 2 if len(sorted_numbers) % 2 == 0 else sorted_numbers[mid]\n",
        "mode= max(set(numbers), key=numbers.count)\n",
        "print(\"mean:\",mean)\n",
        "print(\"median\",median)\n",
        "print(\"mode:\",mode)"
      ],
      "metadata": {
        "colab": {
          "base_uri": "https://localhost:8080/"
        },
        "id": "sV6LvaQc7NWk",
        "outputId": "c82da387-aee3-4492-921a-21a51befd73c"
      },
      "execution_count": null,
      "outputs": [
        {
          "output_type": "stream",
          "name": "stdout",
          "text": [
            "mean: 5.0\n",
            "median 5\n",
            "mode: 1\n"
          ]
        }
      ]
    },
    {
      "cell_type": "markdown",
      "source": [
        "### 35. Create a program that generates Pascal's triangle up to a specified number of rows using list comprehension.\n"
      ],
      "metadata": {
        "id": "t1RZZY1V-Uot"
      }
    },
    {
      "cell_type": "code",
      "source": [
        "def generate_pascals_triangle(rows):\n",
        "    triangle = []\n",
        "\n",
        "    for row in range(rows):\n",
        "        if row == 0:\n",
        "            triangle.append([1])\n",
        "        else:\n",
        "            prev_row = triangle[row - 1]\n",
        "            new_row = [1] + [prev_row[i - 1] + prev_row[i] for i in range(1, row)] + [1]\n",
        "            triangle.append(new_row)\n",
        "\n",
        "    return triangle\n",
        "num_rows = 5\n",
        "pascals_triangle = generate_pascals_triangle(num_rows)\n",
        "print(\"Pascal's Triangle:\")\n",
        "for row in pascals_triangle:\n",
        "    print(row)"
      ],
      "metadata": {
        "colab": {
          "base_uri": "https://localhost:8080/"
        },
        "id": "qxZ7lsc5-bj-",
        "outputId": "6cd951fc-5836-4052-f7f4-561de95f0146"
      },
      "execution_count": null,
      "outputs": [
        {
          "output_type": "stream",
          "name": "stdout",
          "text": [
            "Pascal's Triangle:\n",
            "[1]\n",
            "[1, 1]\n",
            "[1, 2, 1]\n",
            "[1, 3, 3, 1]\n",
            "[1, 4, 6, 4, 1]\n"
          ]
        }
      ]
    },
    {
      "cell_type": "markdown",
      "source": [
        "### 36. Develop a program that calculates the sum of the digits of a factorial of numbers from 1 to 5 using list comprehension.\n"
      ],
      "metadata": {
        "id": "G3IAB5Izy59c"
      }
    },
    {
      "cell_type": "code",
      "source": [
        "from math import factorial\n",
        "result=[sum(int(digit) for digit in str(factorial(num))) for num in range(1,6)]\n",
        "print(\" the sum of the digits of a factorial of numbers from 1 to 5 :\",result)\n"
      ],
      "metadata": {
        "id": "9T9pQIaqzBG_",
        "colab": {
          "base_uri": "https://localhost:8080/"
        },
        "outputId": "17a53940-50e4-4e82-9ba0-29eb16345389"
      },
      "execution_count": null,
      "outputs": [
        {
          "output_type": "stream",
          "name": "stdout",
          "text": [
            " the sum of the digits of a factorial of numbers from 1 to 5 : [1, 2, 6, 6, 3]\n"
          ]
        }
      ]
    },
    {
      "cell_type": "markdown",
      "source": [
        "### 37. Write a program that finds the longest word in a sentence using list comprehension."
      ],
      "metadata": {
        "id": "VYwWpf_83q5I"
      }
    },
    {
      "cell_type": "code",
      "source": [
        "string=\"India is my Country\"\n",
        "longest_word = max((word.strip(\".,\") for word in string.split()), key=len)\n",
        "print(\"Longest word in the sentence:\",longest_word)"
      ],
      "metadata": {
        "colab": {
          "base_uri": "https://localhost:8080/"
        },
        "id": "ncRNsXcM3xOU",
        "outputId": "5d172f42-d71c-4ec3-9ad1-07d13c01e337"
      },
      "execution_count": null,
      "outputs": [
        {
          "output_type": "stream",
          "name": "stdout",
          "text": [
            "Longest word in the sentence: Country\n"
          ]
        }
      ]
    },
    {
      "cell_type": "markdown",
      "source": [
        "### 38. Create a program that filters a list of strings to include only those with more than three vowels using list comprehension."
      ],
      "metadata": {
        "id": "7t7hD0f55oCc"
      }
    },
    {
      "cell_type": "code",
      "source": [
        "lst=[\"pwskills\",\"diileep\",\"mohit\",\"prasad\"]\n",
        "filtered_words = [word for word in lst if sum(1 for char in word if char.lower() in 'aeiou') > 3]\n",
        "print(\"Words with more than three vowels:\", filtered_words)"
      ],
      "metadata": {
        "colab": {
          "base_uri": "https://localhost:8080/"
        },
        "id": "d_TY-xj-5ARm",
        "outputId": "67d795bd-390a-43e3-c057-47dfe7f5fa4b"
      },
      "execution_count": null,
      "outputs": [
        {
          "output_type": "stream",
          "name": "stdout",
          "text": [
            "Words with more than three vowels: ['diileep']\n"
          ]
        }
      ]
    },
    {
      "cell_type": "markdown",
      "source": [
        "### 39. Develop a program that calculates the sum of the digits of numbers from 1 to 1000 using list comprehension."
      ],
      "metadata": {
        "id": "693cUFrM66Bo"
      }
    },
    {
      "cell_type": "code",
      "source": [
        "sum_of_digits = [sum(int(digit) for digit in str(num)) for num in range(1, 1001)]\n",
        "\n",
        "# Printing the result\n",
        "print(\"Sum of digits for numbers from 1 to 1000:\", sum_of_digits)"
      ],
      "metadata": {
        "colab": {
          "base_uri": "https://localhost:8080/"
        },
        "id": "jYR1naj877pV",
        "outputId": "d3dbfdd0-1528-4f9a-f691-f02ca2f498ec"
      },
      "execution_count": null,
      "outputs": [
        {
          "output_type": "stream",
          "name": "stdout",
          "text": [
            "Sum of digits for numbers from 1 to 1000: [1, 2, 3, 4, 5, 6, 7, 8, 9, 1, 2, 3, 4, 5, 6, 7, 8, 9, 10, 2, 3, 4, 5, 6, 7, 8, 9, 10, 11, 3, 4, 5, 6, 7, 8, 9, 10, 11, 12, 4, 5, 6, 7, 8, 9, 10, 11, 12, 13, 5, 6, 7, 8, 9, 10, 11, 12, 13, 14, 6, 7, 8, 9, 10, 11, 12, 13, 14, 15, 7, 8, 9, 10, 11, 12, 13, 14, 15, 16, 8, 9, 10, 11, 12, 13, 14, 15, 16, 17, 9, 10, 11, 12, 13, 14, 15, 16, 17, 18, 1, 2, 3, 4, 5, 6, 7, 8, 9, 10, 2, 3, 4, 5, 6, 7, 8, 9, 10, 11, 3, 4, 5, 6, 7, 8, 9, 10, 11, 12, 4, 5, 6, 7, 8, 9, 10, 11, 12, 13, 5, 6, 7, 8, 9, 10, 11, 12, 13, 14, 6, 7, 8, 9, 10, 11, 12, 13, 14, 15, 7, 8, 9, 10, 11, 12, 13, 14, 15, 16, 8, 9, 10, 11, 12, 13, 14, 15, 16, 17, 9, 10, 11, 12, 13, 14, 15, 16, 17, 18, 10, 11, 12, 13, 14, 15, 16, 17, 18, 19, 2, 3, 4, 5, 6, 7, 8, 9, 10, 11, 3, 4, 5, 6, 7, 8, 9, 10, 11, 12, 4, 5, 6, 7, 8, 9, 10, 11, 12, 13, 5, 6, 7, 8, 9, 10, 11, 12, 13, 14, 6, 7, 8, 9, 10, 11, 12, 13, 14, 15, 7, 8, 9, 10, 11, 12, 13, 14, 15, 16, 8, 9, 10, 11, 12, 13, 14, 15, 16, 17, 9, 10, 11, 12, 13, 14, 15, 16, 17, 18, 10, 11, 12, 13, 14, 15, 16, 17, 18, 19, 11, 12, 13, 14, 15, 16, 17, 18, 19, 20, 3, 4, 5, 6, 7, 8, 9, 10, 11, 12, 4, 5, 6, 7, 8, 9, 10, 11, 12, 13, 5, 6, 7, 8, 9, 10, 11, 12, 13, 14, 6, 7, 8, 9, 10, 11, 12, 13, 14, 15, 7, 8, 9, 10, 11, 12, 13, 14, 15, 16, 8, 9, 10, 11, 12, 13, 14, 15, 16, 17, 9, 10, 11, 12, 13, 14, 15, 16, 17, 18, 10, 11, 12, 13, 14, 15, 16, 17, 18, 19, 11, 12, 13, 14, 15, 16, 17, 18, 19, 20, 12, 13, 14, 15, 16, 17, 18, 19, 20, 21, 4, 5, 6, 7, 8, 9, 10, 11, 12, 13, 5, 6, 7, 8, 9, 10, 11, 12, 13, 14, 6, 7, 8, 9, 10, 11, 12, 13, 14, 15, 7, 8, 9, 10, 11, 12, 13, 14, 15, 16, 8, 9, 10, 11, 12, 13, 14, 15, 16, 17, 9, 10, 11, 12, 13, 14, 15, 16, 17, 18, 10, 11, 12, 13, 14, 15, 16, 17, 18, 19, 11, 12, 13, 14, 15, 16, 17, 18, 19, 20, 12, 13, 14, 15, 16, 17, 18, 19, 20, 21, 13, 14, 15, 16, 17, 18, 19, 20, 21, 22, 5, 6, 7, 8, 9, 10, 11, 12, 13, 14, 6, 7, 8, 9, 10, 11, 12, 13, 14, 15, 7, 8, 9, 10, 11, 12, 13, 14, 15, 16, 8, 9, 10, 11, 12, 13, 14, 15, 16, 17, 9, 10, 11, 12, 13, 14, 15, 16, 17, 18, 10, 11, 12, 13, 14, 15, 16, 17, 18, 19, 11, 12, 13, 14, 15, 16, 17, 18, 19, 20, 12, 13, 14, 15, 16, 17, 18, 19, 20, 21, 13, 14, 15, 16, 17, 18, 19, 20, 21, 22, 14, 15, 16, 17, 18, 19, 20, 21, 22, 23, 6, 7, 8, 9, 10, 11, 12, 13, 14, 15, 7, 8, 9, 10, 11, 12, 13, 14, 15, 16, 8, 9, 10, 11, 12, 13, 14, 15, 16, 17, 9, 10, 11, 12, 13, 14, 15, 16, 17, 18, 10, 11, 12, 13, 14, 15, 16, 17, 18, 19, 11, 12, 13, 14, 15, 16, 17, 18, 19, 20, 12, 13, 14, 15, 16, 17, 18, 19, 20, 21, 13, 14, 15, 16, 17, 18, 19, 20, 21, 22, 14, 15, 16, 17, 18, 19, 20, 21, 22, 23, 15, 16, 17, 18, 19, 20, 21, 22, 23, 24, 7, 8, 9, 10, 11, 12, 13, 14, 15, 16, 8, 9, 10, 11, 12, 13, 14, 15, 16, 17, 9, 10, 11, 12, 13, 14, 15, 16, 17, 18, 10, 11, 12, 13, 14, 15, 16, 17, 18, 19, 11, 12, 13, 14, 15, 16, 17, 18, 19, 20, 12, 13, 14, 15, 16, 17, 18, 19, 20, 21, 13, 14, 15, 16, 17, 18, 19, 20, 21, 22, 14, 15, 16, 17, 18, 19, 20, 21, 22, 23, 15, 16, 17, 18, 19, 20, 21, 22, 23, 24, 16, 17, 18, 19, 20, 21, 22, 23, 24, 25, 8, 9, 10, 11, 12, 13, 14, 15, 16, 17, 9, 10, 11, 12, 13, 14, 15, 16, 17, 18, 10, 11, 12, 13, 14, 15, 16, 17, 18, 19, 11, 12, 13, 14, 15, 16, 17, 18, 19, 20, 12, 13, 14, 15, 16, 17, 18, 19, 20, 21, 13, 14, 15, 16, 17, 18, 19, 20, 21, 22, 14, 15, 16, 17, 18, 19, 20, 21, 22, 23, 15, 16, 17, 18, 19, 20, 21, 22, 23, 24, 16, 17, 18, 19, 20, 21, 22, 23, 24, 25, 17, 18, 19, 20, 21, 22, 23, 24, 25, 26, 9, 10, 11, 12, 13, 14, 15, 16, 17, 18, 10, 11, 12, 13, 14, 15, 16, 17, 18, 19, 11, 12, 13, 14, 15, 16, 17, 18, 19, 20, 12, 13, 14, 15, 16, 17, 18, 19, 20, 21, 13, 14, 15, 16, 17, 18, 19, 20, 21, 22, 14, 15, 16, 17, 18, 19, 20, 21, 22, 23, 15, 16, 17, 18, 19, 20, 21, 22, 23, 24, 16, 17, 18, 19, 20, 21, 22, 23, 24, 25, 17, 18, 19, 20, 21, 22, 23, 24, 25, 26, 18, 19, 20, 21, 22, 23, 24, 25, 26, 27, 1]\n"
          ]
        }
      ]
    },
    {
      "cell_type": "markdown",
      "source": [
        "### 40. Write a program that generates a list of prime palindromic numbers using list comprehension."
      ],
      "metadata": {
        "id": "JAXj1E268gKX"
      }
    },
    {
      "cell_type": "code",
      "source": [
        "palindrome=[i for i in range(1,100) if all(num for num in range(2,int(num**0.5)+1)) and str(num)==str(num)[::-1]]"
      ],
      "metadata": {
        "colab": {
          "base_uri": "https://localhost:8080/",
          "height": 227
        },
        "id": "2nG5m-_D8lff",
        "outputId": "6b19a615-1f0d-44d4-aa99-d0a7e63ccf18"
      },
      "execution_count": null,
      "outputs": [
        {
          "output_type": "error",
          "ename": "NameError",
          "evalue": "name 'num' is not defined",
          "traceback": [
            "\u001b[0;31m---------------------------------------------------------------------------\u001b[0m",
            "\u001b[0;31mNameError\u001b[0m                                 Traceback (most recent call last)",
            "\u001b[0;32m<ipython-input-26-811076e2524d>\u001b[0m in \u001b[0;36m<cell line: 1>\u001b[0;34m()\u001b[0m\n\u001b[0;32m----> 1\u001b[0;31m \u001b[0mpalindrome\u001b[0m\u001b[0;34m=\u001b[0m\u001b[0;34m[\u001b[0m\u001b[0mi\u001b[0m \u001b[0;32mfor\u001b[0m \u001b[0mi\u001b[0m \u001b[0;32min\u001b[0m \u001b[0mrange\u001b[0m\u001b[0;34m(\u001b[0m\u001b[0;36m1\u001b[0m\u001b[0;34m,\u001b[0m\u001b[0;36m100\u001b[0m\u001b[0;34m)\u001b[0m \u001b[0;32mif\u001b[0m \u001b[0mall\u001b[0m\u001b[0;34m(\u001b[0m\u001b[0mnum\u001b[0m \u001b[0;32mfor\u001b[0m \u001b[0mnum\u001b[0m \u001b[0;32min\u001b[0m \u001b[0mrange\u001b[0m\u001b[0;34m(\u001b[0m\u001b[0;36m2\u001b[0m\u001b[0;34m,\u001b[0m\u001b[0mint\u001b[0m\u001b[0;34m(\u001b[0m\u001b[0mnum\u001b[0m\u001b[0;34m**\u001b[0m\u001b[0;36m0.5\u001b[0m\u001b[0;34m)\u001b[0m\u001b[0;34m+\u001b[0m\u001b[0;36m1\u001b[0m\u001b[0;34m)\u001b[0m\u001b[0;34m)\u001b[0m \u001b[0;32mand\u001b[0m \u001b[0mstr\u001b[0m\u001b[0;34m(\u001b[0m\u001b[0mnum\u001b[0m\u001b[0;34m)\u001b[0m\u001b[0;34m==\u001b[0m\u001b[0mstr\u001b[0m\u001b[0;34m(\u001b[0m\u001b[0mnum\u001b[0m\u001b[0;34m)\u001b[0m\u001b[0;34m[\u001b[0m\u001b[0;34m:\u001b[0m\u001b[0;34m:\u001b[0m\u001b[0;34m-\u001b[0m\u001b[0;36m1\u001b[0m\u001b[0;34m]\u001b[0m\u001b[0;34m]\u001b[0m\u001b[0;34m\u001b[0m\u001b[0;34m\u001b[0m\u001b[0m\n\u001b[0m",
            "\u001b[0;32m<ipython-input-26-811076e2524d>\u001b[0m in \u001b[0;36m<listcomp>\u001b[0;34m(.0)\u001b[0m\n\u001b[0;32m----> 1\u001b[0;31m \u001b[0mpalindrome\u001b[0m\u001b[0;34m=\u001b[0m\u001b[0;34m[\u001b[0m\u001b[0mi\u001b[0m \u001b[0;32mfor\u001b[0m \u001b[0mi\u001b[0m \u001b[0;32min\u001b[0m \u001b[0mrange\u001b[0m\u001b[0;34m(\u001b[0m\u001b[0;36m1\u001b[0m\u001b[0;34m,\u001b[0m\u001b[0;36m100\u001b[0m\u001b[0;34m)\u001b[0m \u001b[0;32mif\u001b[0m \u001b[0mall\u001b[0m\u001b[0;34m(\u001b[0m\u001b[0mnum\u001b[0m \u001b[0;32mfor\u001b[0m \u001b[0mnum\u001b[0m \u001b[0;32min\u001b[0m \u001b[0mrange\u001b[0m\u001b[0;34m(\u001b[0m\u001b[0;36m2\u001b[0m\u001b[0;34m,\u001b[0m\u001b[0mint\u001b[0m\u001b[0;34m(\u001b[0m\u001b[0mnum\u001b[0m\u001b[0;34m**\u001b[0m\u001b[0;36m0.5\u001b[0m\u001b[0;34m)\u001b[0m\u001b[0;34m+\u001b[0m\u001b[0;36m1\u001b[0m\u001b[0;34m)\u001b[0m\u001b[0;34m)\u001b[0m \u001b[0;32mand\u001b[0m \u001b[0mstr\u001b[0m\u001b[0;34m(\u001b[0m\u001b[0mnum\u001b[0m\u001b[0;34m)\u001b[0m\u001b[0;34m==\u001b[0m\u001b[0mstr\u001b[0m\u001b[0;34m(\u001b[0m\u001b[0mnum\u001b[0m\u001b[0;34m)\u001b[0m\u001b[0;34m[\u001b[0m\u001b[0;34m:\u001b[0m\u001b[0;34m:\u001b[0m\u001b[0;34m-\u001b[0m\u001b[0;36m1\u001b[0m\u001b[0;34m]\u001b[0m\u001b[0;34m]\u001b[0m\u001b[0;34m\u001b[0m\u001b[0;34m\u001b[0m\u001b[0m\n\u001b[0m",
            "\u001b[0;31mNameError\u001b[0m: name 'num' is not defined"
          ]
        }
      ]
    },
    {
      "cell_type": "code",
      "source": [
        "# Generate a list of prime palindromic numbers using list comprehension\n",
        "prime_palindromes = [num for num in range(1, 1001) if all(num % i != 0 for i in range(2, int(num**0.5) + 1)) and str(num) == str(num)[::-1]]\n",
        "\n",
        "# Print the result\n",
        "print(\"Prime palindromic numbers up to 1000:\", prime_palindromes)\n"
      ],
      "metadata": {
        "id": "61W4lhu19E-r",
        "colab": {
          "base_uri": "https://localhost:8080/"
        },
        "outputId": "ae91bac8-35e2-41d6-cc6f-834163d3d2eb"
      },
      "execution_count": 28,
      "outputs": [
        {
          "output_type": "stream",
          "name": "stdout",
          "text": [
            "Prime palindromic numbers up to 1000: [1, 2, 3, 5, 7, 11, 101, 131, 151, 181, 191, 313, 353, 373, 383, 727, 757, 787, 797, 919, 929]\n"
          ]
        }
      ]
    }
  ]
}