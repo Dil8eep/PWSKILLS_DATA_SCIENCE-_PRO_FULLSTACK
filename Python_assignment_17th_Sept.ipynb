{
  "cells": [
    {
      "cell_type": "markdown",
      "metadata": {
        "id": "view-in-github",
        "colab_type": "text"
      },
      "source": [
        "<a href=\"https://colab.research.google.com/github/Dil8eep/PWSKILLS_DATA_SCIENCE-_PRO_FULLSTACK/blob/main/Python_assignment_17th_Sept.ipynb\" target=\"_parent\"><img src=\"https://colab.research.google.com/assets/colab-badge.svg\" alt=\"Open In Colab\"/></a>"
      ]
    },
    {
      "cell_type": "markdown",
      "metadata": {
        "id": "zPHOEYOlREsc"
      },
      "source": [
        "# For Loop :-"
      ]
    },
    {
      "cell_type": "markdown",
      "metadata": {
        "id": "uLTRSldARL9F"
      },
      "source": [
        "### Write a Python program to print numbers from 1 to 10 using a for loop."
      ]
    },
    {
      "cell_type": "markdown",
      "metadata": {
        "id": "fFnRoiD7RuJY"
      },
      "source": [
        "### Explain the difference between a for loop and a while loop in Python."
      ]
    },
    {
      "cell_type": "markdown",
      "metadata": {
        "id": "zNJucDerR_Lk"
      },
      "source": [
        "difference of for loop and while loop:\n",
        "\n",
        "       the main difference is --> A for loop is used when you want to iterate over a block of code. You specify the range or sequence to iterate over, and the loop will automatically take care of the iteration for you.\n",
        "\n",
        "       on the other hand, a while loop is used when you want to repeat a block of code until a certain condition that needs to be true for the loop to continue, and the loop will keep running until the condition becomes false.\n",
        "\n",
        "       So in summary , for loops are great when you know the number of iterations in advance, while while loops are usefull when you want to repeat a block of code untill a specific condition is satisfied."
      ]
    },
    {
      "cell_type": "markdown",
      "metadata": {
        "id": "hrtJnCo5SPxA"
      },
      "source": [
        "### Write a Python program to calculate the sum of all numbers from 1 to 100 using a for loop."
      ]
    },
    {
      "cell_type": "markdown",
      "metadata": {
        "id": "3X0ycYyjSBMA"
      },
      "source": []
    },
    {
      "cell_type": "code",
      "execution_count": null,
      "metadata": {
        "colab": {
          "base_uri": "https://localhost:8080/"
        },
        "id": "lsXSEsZvRzaM",
        "outputId": "8cb673c1-74f6-44dc-d5c2-ab8660122a89"
      },
      "outputs": [
        {
          "name": "stdout",
          "output_type": "stream",
          "text": [
            "5050\n"
          ]
        }
      ],
      "source": [
        "def sum_num(n):\n",
        "  s=0\n",
        "  for i in range(1,n+1):\n",
        "    s=s+i\n",
        "  print(s)\n",
        "sum_num(100)"
      ]
    },
    {
      "cell_type": "markdown",
      "metadata": {
        "id": "zKmAOqWsThe9"
      },
      "source": [
        "### How do you iterate through a list using a for loop in Python?"
      ]
    },
    {
      "cell_type": "code",
      "execution_count": null,
      "metadata": {
        "colab": {
          "base_uri": "https://localhost:8080/"
        },
        "id": "UzkEWIbkTptr",
        "outputId": "43972c8f-578a-4e8f-84c1-37c98cdd5e00"
      },
      "outputs": [
        {
          "name": "stdout",
          "output_type": "stream",
          "text": [
            "23\n",
            "Dileep\n",
            "True\n"
          ]
        }
      ],
      "source": [
        "def iter_lst(lst):\n",
        "  for i in lst:\n",
        "    print(i)\n",
        "lst=[23,\"Dileep\",True]\n",
        "iter_lst(lst\n",
        "         )"
      ]
    },
    {
      "cell_type": "markdown",
      "metadata": {
        "id": "aGU8JVphU2x2"
      },
      "source": [
        "### Write a Python program to find the product of all elements in a list using a for loop."
      ]
    },
    {
      "cell_type": "code",
      "execution_count": null,
      "metadata": {
        "colab": {
          "base_uri": "https://localhost:8080/"
        },
        "id": "JHr0Mxq6U8KQ",
        "outputId": "483cb6d2-bd1e-451f-c0e7-17067d490d4e"
      },
      "outputs": [
        {
          "data": {
            "text/plain": [
              "120"
            ]
          },
          "execution_count": 11,
          "metadata": {},
          "output_type": "execute_result"
        }
      ],
      "source": [
        "def product(n):\n",
        "  c=1\n",
        "  for i in n:\n",
        "    c=c*i\n",
        "  return(c)\n",
        "product([1,2,3,4,5])\n"
      ]
    },
    {
      "cell_type": "markdown",
      "metadata": {
        "id": "FWSwJkbXVwer"
      },
      "source": [
        "### Create a Python program that prints all even numbers from 1 to 20 using a for loop."
      ]
    },
    {
      "cell_type": "code",
      "execution_count": null,
      "metadata": {
        "colab": {
          "base_uri": "https://localhost:8080/"
        },
        "id": "belmFejIVyL0",
        "outputId": "f1bc546a-5742-4a74-9379-5cb847396731"
      },
      "outputs": [
        {
          "name": "stdout",
          "output_type": "stream",
          "text": [
            "2 4 6 8 10 12 14 16 18 20 "
          ]
        }
      ],
      "source": [
        "def even_num(n):\n",
        "  for i in range(1,n+1):\n",
        "    if i%2==0:\n",
        "      print(i,end=\" \")\n",
        "even_num(20)"
      ]
    },
    {
      "cell_type": "markdown",
      "metadata": {
        "id": "orW2GWywYmjY"
      },
      "source": [
        "### Write a Python program that calculates the factorial of a number using a for loop."
      ]
    },
    {
      "cell_type": "code",
      "execution_count": null,
      "metadata": {
        "colab": {
          "base_uri": "https://localhost:8080/"
        },
        "id": "jmhrRtzRX-ro",
        "outputId": "df25a5ec-8108-4c7b-84d9-ab1cfb1bda86"
      },
      "outputs": [
        {
          "data": {
            "text/plain": [
              "120"
            ]
          },
          "execution_count": 23,
          "metadata": {},
          "output_type": "execute_result"
        }
      ],
      "source": [
        "def factorial(n):\n",
        "  if n==0:\n",
        "    return 1\n",
        "  else:\n",
        "    return n*factorial(n-1)\n",
        "factorial(5)"
      ]
    },
    {
      "cell_type": "markdown",
      "metadata": {
        "id": "TIzzedaqZwqu"
      },
      "source": [
        "### How can you iterate through the characters of a string using a for loop in Python?"
      ]
    },
    {
      "cell_type": "code",
      "execution_count": null,
      "metadata": {
        "colab": {
          "base_uri": "https://localhost:8080/"
        },
        "id": "WgYcEAOlZE87",
        "outputId": "79e49934-e1d6-435d-b3cb-54de22852293"
      },
      "outputs": [
        {
          "name": "stdout",
          "output_type": "stream",
          "text": [
            "D\n",
            "i\n",
            "l\n",
            "e\n",
            "e\n",
            "p\n"
          ]
        }
      ],
      "source": [
        "def string(str):\n",
        "  for i in str:\n",
        "    print(i)\n",
        "string(\"Dileep\")"
      ]
    },
    {
      "cell_type": "markdown",
      "metadata": {
        "id": "Ox2ATGp7aaYD"
      },
      "source": [
        "### Write a Python program to find the largest number in a list using a for loop."
      ]
    },
    {
      "cell_type": "code",
      "execution_count": null,
      "metadata": {
        "colab": {
          "base_uri": "https://localhost:8080/"
        },
        "id": "0YvoNJihdBnN",
        "outputId": "21912eaf-3d7e-4706-8cb8-d8dd7bfe21e9"
      },
      "outputs": [
        {
          "name": "stdout",
          "output_type": "stream",
          "text": [
            "86\n"
          ]
        }
      ],
      "source": [
        "def max_num(lst):\n",
        "  max_number=lst[0]\n",
        "  for i in lst:\n",
        "    if i > max_number:\n",
        "      max_number=i\n",
        "\n",
        "  print(max_number)\n",
        "max_num([32,54,23,65,86,12,56,12])"
      ]
    },
    {
      "cell_type": "markdown",
      "metadata": {
        "id": "EjuI5XNXgbua"
      },
      "source": [
        "### Create a Python program that prints the Fibonacci sequence up to a specified limit using a for loop."
      ]
    },
    {
      "cell_type": "code",
      "execution_count": null,
      "metadata": {
        "colab": {
          "base_uri": "https://localhost:8080/"
        },
        "id": "54oE4hPnai8Y",
        "outputId": "8e251dad-2124-40b9-994d-ac54f2a70595"
      },
      "outputs": [
        {
          "name": "stdout",
          "output_type": "stream",
          "text": [
            "0 1 1 2 3 5 8 "
          ]
        }
      ],
      "source": [
        "def fabinocci(n):\n",
        "  a,b=0,1\n",
        "  while a<n:\n",
        "    print(a,end=\" \")\n",
        "    a,b=b,a+b\n",
        "fabinocci(10)"
      ]
    },
    {
      "cell_type": "markdown",
      "metadata": {
        "id": "HtX66A_QmOO8"
      },
      "source": [
        "### Write a Python program to count the number of vowels in a given string using a for loop."
      ]
    },
    {
      "cell_type": "code",
      "execution_count": null,
      "metadata": {
        "colab": {
          "base_uri": "https://localhost:8080/"
        },
        "id": "IyaIPJpTmTb_",
        "outputId": "c6e0428b-7ba9-4812-b000-e7358d81a2ac"
      },
      "outputs": [
        {
          "name": "stdout",
          "output_type": "stream",
          "text": [
            "6\n"
          ]
        }
      ],
      "source": [
        "def vowels(string):\n",
        "  count=0\n",
        "  for i in string:\n",
        "    if i in \"AEIOUaeiou\":\n",
        "      count+=1\n",
        "  print(count)\n",
        "vowels(\"Pw Skills Data Science\")"
      ]
    },
    {
      "cell_type": "markdown",
      "metadata": {
        "id": "Sk-22QBlm-qW"
      },
      "source": [
        "### Create a Python program that generates a multiplication table for a given number using a for loop."
      ]
    },
    {
      "cell_type": "code",
      "execution_count": null,
      "metadata": {
        "colab": {
          "base_uri": "https://localhost:8080/"
        },
        "id": "XcKlGiTsnDyS",
        "outputId": "1efcfbab-bb4d-4188-dc03-926dc5d7839e"
      },
      "outputs": [
        {
          "name": "stdout",
          "output_type": "stream",
          "text": [
            "3 * 1 = 3\n",
            "3 * 2 = 6\n",
            "3 * 3 = 9\n",
            "3 * 4 = 12\n",
            "3 * 5 = 15\n",
            "3 * 6 = 18\n",
            "3 * 7 = 21\n",
            "3 * 8 = 24\n",
            "3 * 9 = 27\n",
            "3 * 10 = 30\n"
          ]
        }
      ],
      "source": [
        "def multipli(n):\n",
        "  for i in range(1,11):\n",
        "    print(f\"{n} * {i} =\",n*i)\n",
        "multipli(3)"
      ]
    },
    {
      "cell_type": "markdown",
      "metadata": {
        "id": "_J_gOhTcohcV"
      },
      "source": [
        "### Write a Python program to reverse a list using a for loop."
      ]
    },
    {
      "cell_type": "code",
      "execution_count": null,
      "metadata": {
        "colab": {
          "base_uri": "https://localhost:8080/"
        },
        "id": "-_DEvS9jomn6",
        "outputId": "43343856-7ef0-4b5f-b47c-bd7ceaf6bf1b"
      },
      "outputs": [
        {
          "name": "stdout",
          "output_type": "stream",
          "text": [
            "3 4 6 34 5 1 "
          ]
        }
      ],
      "source": [
        "def rev(lst):\n",
        "\n",
        "    for i in range(1,len(lst)+1):\n",
        "        print(lst[-i],end=\" \")\n",
        "\n",
        "rev([1,5,34,6,4,3])"
      ]
    },
    {
      "cell_type": "markdown",
      "metadata": {
        "id": "CxDRtKxlqHgL"
      },
      "source": [
        "### Write a Python program to find the common elements between two lists using a for loop."
      ]
    },
    {
      "cell_type": "code",
      "execution_count": null,
      "metadata": {
        "colab": {
          "base_uri": "https://localhost:8080/"
        },
        "id": "Mt69vozYqONy",
        "outputId": "952d903c-f75b-4418-f7b2-6d1230faf62d"
      },
      "outputs": [
        {
          "name": "stdout",
          "output_type": "stream",
          "text": [
            "3 4 "
          ]
        }
      ],
      "source": [
        "def common_element(a,b):\n",
        "  for i in a:\n",
        "    if i in b:\n",
        "      print(i,end=\" \")\n",
        "a=[1,2,3,4]\n",
        "b=[3,4,5,6]\n",
        "common_element(a,b)"
      ]
    },
    {
      "cell_type": "markdown",
      "metadata": {
        "id": "FZMK3UzFq_Rv"
      },
      "source": [
        "### Explain how to use a for loop to iterate through the keys and values of a dictionary in Python."
      ]
    },
    {
      "cell_type": "code",
      "execution_count": null,
      "metadata": {
        "colab": {
          "base_uri": "https://localhost:8080/"
        },
        "id": "U2VtZ-6jrMM2",
        "outputId": "482bc584-0408-4e91-d59c-19c4d0826b67"
      },
      "outputs": [
        {
          "name": "stdout",
          "output_type": "stream",
          "text": [
            "Key: a, Value: 1\n",
            "Key: b, Value: 2\n",
            "Key: c, Value: 3\n"
          ]
        }
      ],
      "source": [
        "def dictionary(dict_1):\n",
        "\n",
        "    for key, value in dict_1.items():\n",
        "        print(f\"Key: {key}, Value: {value}\")\n",
        "\n",
        "dict_1 = {'a': 1, 'b': 2, 'c': 3}\n",
        "\n",
        "dictionary(dict_1)"
      ]
    },
    {
      "cell_type": "markdown",
      "metadata": {
        "id": "mU5xl2WarQX1"
      },
      "source": [
        "### Write a Python program to find the GCD (Greatest Common Divisor) of two numbers using a for loop."
      ]
    },
    {
      "cell_type": "code",
      "execution_count": null,
      "metadata": {
        "colab": {
          "base_uri": "https://localhost:8080/"
        },
        "id": "lNbjrjTruHKu",
        "outputId": "79eb724e-19e9-4c84-8752-11e384be5baf"
      },
      "outputs": [
        {
          "data": {
            "text/plain": [
              "6"
            ]
          },
          "execution_count": 94,
          "metadata": {},
          "output_type": "execute_result"
        }
      ],
      "source": [
        "def gcd(a,b):\n",
        "  for i in range(1,min(a,b)):\n",
        "    if a%i==0 and b%i==0:\n",
        "      gcd_num=i\n",
        "  return gcd_num\n",
        "gcd(12,18)\n",
        "\n"
      ]
    },
    {
      "cell_type": "markdown",
      "metadata": {
        "id": "LXZwwcfwdkCP"
      },
      "source": [
        "### Create a Python program that checks if a string is a palindrome using a for loop."
      ]
    },
    {
      "cell_type": "code",
      "execution_count": null,
      "metadata": {
        "colab": {
          "base_uri": "https://localhost:8080/"
        },
        "id": "SsyiyjpvdqTo",
        "outputId": "85657948-8a56-4082-e296-8c97cd7fdb5f"
      },
      "outputs": [
        {
          "name": "stdout",
          "output_type": "stream",
          "text": [
            "Given string is a palindrome\n"
          ]
        }
      ],
      "source": [
        "def palindrome(string):\n",
        "  rev_str=string[::-1]\n",
        "  for i in range(len(string)):\n",
        "    if string[i]!=rev_str[i]:\n",
        "       return False\n",
        "  return True\n",
        "if palindrome(\"mam\"):\n",
        "    print(\"Given string is a palindrome\")\n",
        "else:\n",
        "    print(\"Given string is not a palindrome\")\n",
        "\n",
        "\n"
      ]
    },
    {
      "cell_type": "markdown",
      "metadata": {
        "id": "Xx8dddEmesNT"
      },
      "source": [
        "### Write a Python program to remove duplicates from a list using a for loop."
      ]
    },
    {
      "cell_type": "code",
      "execution_count": null,
      "metadata": {
        "colab": {
          "base_uri": "https://localhost:8080/"
        },
        "id": "UEbVBE3gd1_a",
        "outputId": "75e6ea7b-087e-4ef1-d9c8-b1a141161313"
      },
      "outputs": [
        {
          "data": {
            "text/plain": [
              "[1, 2, 3, 4, 5, 6]"
            ]
          },
          "execution_count": 21,
          "metadata": {},
          "output_type": "execute_result"
        }
      ],
      "source": [
        "def remove_dupli(lst):\n",
        "  lst2=[]\n",
        "  for i in lst:\n",
        "    if i not in lst2:\n",
        "      lst2.append(i)\n",
        "  return lst2\n",
        "remove_dupli([1,2,2,3,3,4,5,5,4,5,6])"
      ]
    },
    {
      "cell_type": "markdown",
      "metadata": {
        "id": "B7dqZeQahUuQ"
      },
      "source": [
        "### Create a Python program that counts the number of words in a sentence using a for loop."
      ]
    },
    {
      "cell_type": "code",
      "execution_count": null,
      "metadata": {
        "colab": {
          "base_uri": "https://localhost:8080/"
        },
        "id": "006RCxFwhaTo",
        "outputId": "a8d45ff8-232f-4a03-cd50-9f8a33306762"
      },
      "outputs": [
        {
          "name": "stdout",
          "output_type": "stream",
          "text": [
            "Enter the string:This is my colllege\n",
            "The count of the word is 16\n"
          ]
        }
      ],
      "source": [
        "def word(sentence):\n",
        "  count=0\n",
        "  for i in sentence:\n",
        "    if i != \" \":\n",
        "      count+=1\n",
        "  return count\n",
        "user_sentence=input(\"Enter the string:\")\n",
        "print(f\"The count of the word is\",word(user_sentence))"
      ]
    },
    {
      "cell_type": "markdown",
      "metadata": {
        "id": "UqIRdNLeiuhu"
      },
      "source": [
        "### Write a Python program to find the sum of all odd numbers from 1 to 50 using a for loop."
      ]
    },
    {
      "cell_type": "code",
      "execution_count": null,
      "metadata": {
        "colab": {
          "base_uri": "https://localhost:8080/"
        },
        "id": "_PssR-yYjSuT",
        "outputId": "c1fc43b5-4f57-463e-c952-db04613ecebf"
      },
      "outputs": [
        {
          "name": "stdout",
          "output_type": "stream",
          "text": [
            "The sum of the odd number from 1 to 50: 625\n"
          ]
        }
      ],
      "source": [
        "def odd_sum(a,b):\n",
        "  s=0\n",
        "  for i in range(a,b+1):\n",
        "    if i%2 != 0:\n",
        "      s=s+i\n",
        "  return s\n",
        "a=1\n",
        "b=50\n",
        "result=odd_sum(a,b)\n",
        "print(\"The sum of the odd number from 1 to 50:\",result)\n"
      ]
    },
    {
      "cell_type": "markdown",
      "metadata": {
        "id": "TkLaLJBPkLw8"
      },
      "source": [
        "### Write a Python program that checks if a given year is a leap year using a for loop."
      ]
    },
    {
      "cell_type": "code",
      "execution_count": null,
      "metadata": {
        "colab": {
          "base_uri": "https://localhost:8080/",
          "height": 36
        },
        "id": "hZ2FKnC6lgNM",
        "outputId": "4cd0747c-7acc-47fd-9cd9-e022dbec6b18"
      },
      "outputs": [
        {
          "data": {
            "application/vnd.google.colaboratory.intrinsic+json": {
              "type": "string"
            },
            "text/plain": [
              "'Year is a leap year'"
            ]
          },
          "execution_count": 35,
          "metadata": {},
          "output_type": "execute_result"
        }
      ],
      "source": [
        "def leap_year(year):\n",
        "  if year % 100 !=0 and year % 400==0:\n",
        "    return \" Year is a leap year\"\n",
        "  elif year % 4 ==0 and year % 100 !=0:\n",
        "    return \"Year is a leap year\"\n",
        "  else:\n",
        "    return \" year is not a leap year\"\n",
        "leap_year(2024)"
      ]
    },
    {
      "cell_type": "markdown",
      "metadata": {
        "id": "tPwDvdDcnXNX"
      },
      "source": [
        "### Create a Python program that calculates the square root of a number using a for loop."
      ]
    },
    {
      "cell_type": "code",
      "execution_count": null,
      "metadata": {
        "colab": {
          "base_uri": "https://localhost:8080/"
        },
        "id": "TZChQvVcngDx",
        "outputId": "f5a3334c-a7bf-4053-af78-233c5c1ad5e4"
      },
      "outputs": [
        {
          "name": "stdout",
          "output_type": "stream",
          "text": [
            "Enter a number: 2\n",
            "The square root of 2.0 is approximately 1.414\n"
          ]
        }
      ],
      "source": [
        "def calculate_square_root(number):\n",
        "    guess = number / 2.0\n",
        "    iterations = 1000\n",
        "    for _ in range(iterations):\n",
        "        guess = 0.5 * (guess + number / guess)\n",
        "\n",
        "    return guess\n",
        "number = float(input(\"Enter a number: \"))\n",
        "\n",
        "if number < 0:\n",
        "    print(\"Please enter a non-negative number.\")\n",
        "else:\n",
        "    result = calculate_square_root(number)\n",
        "    print(f\"The square root of {number} is approximately {result:.3f}\")\n"
      ]
    },
    {
      "cell_type": "code",
      "execution_count": null,
      "metadata": {
        "colab": {
          "base_uri": "https://localhost:8080/"
        },
        "id": "Rxr9eBPmohlH",
        "outputId": "0f424f92-7fb8-4025-fc76-37a817f10f72"
      },
      "outputs": [
        {
          "name": "stdout",
          "output_type": "stream",
          "text": [
            "The square root of a 2.0 is 1.732\n"
          ]
        }
      ],
      "source": [
        "def sqrt(number):\n",
        "  guess=number/2.0\n",
        "  iteration=1000\n",
        "  for _ in range(iteration):\n",
        "    guess=0.5*(guess+number/guess)\n",
        "  return guess\n",
        "result=float(sqrt(3))\n",
        "print(f\"The square root of a {number} is {result:.3f}\")"
      ]
    },
    {
      "cell_type": "markdown",
      "metadata": {
        "id": "Nk7rVEMTpp2h"
      },
      "source": [
        "### Write a Python program to find the LCM (Least Common Multiple) of two numbers using a for loop."
      ]
    },
    {
      "cell_type": "code",
      "execution_count": null,
      "metadata": {
        "colab": {
          "base_uri": "https://localhost:8080/"
        },
        "id": "pzIdb5ttpuMz",
        "outputId": "0307f335-8119-415d-af98-7cdbe0f75d00"
      },
      "outputs": [
        {
          "name": "stdout",
          "output_type": "stream",
          "text": [
            "The LCM of 5 and 6 is 30.\n"
          ]
        }
      ],
      "source": [
        "def find_lcm(num1, num2):\n",
        "    max_num = max(num1, num2)\n",
        "    lcm = max_num\n",
        "    for i in range(max_num, num1 * num2 + 1, max_num):\n",
        "        if i % num1 == 0 and i % num2 == 0:\n",
        "            lcm = i\n",
        "            break\n",
        "\n",
        "    return lcm\n",
        "num1=5\n",
        "num2=6\n",
        "if num1 == 0 or num2 == 0:\n",
        "    print(\"Please enter non-zero numbers.\")\n",
        "else:\n",
        "\n",
        "    result = find_lcm(num1, num2)\n",
        "    print(f\"The LCM of {num1} and {num2} is {result}.\")\n"
      ]
    },
    {
      "cell_type": "markdown",
      "metadata": {
        "id": "u3A5UvkQsEDg"
      },
      "source": [
        "# If else :"
      ]
    },
    {
      "cell_type": "markdown",
      "metadata": {
        "id": "Ke0vhr5fsK3o"
      },
      "source": [
        "### Write a Python program to check if a number is positive, negative, or zero using an if-else statement."
      ]
    },
    {
      "cell_type": "code",
      "execution_count": null,
      "metadata": {
        "colab": {
          "base_uri": "https://localhost:8080/",
          "height": 36
        },
        "id": "Tsc8xMdjsIYz",
        "outputId": "720d77e7-73a1-4f70-e279-992d0ad37f90"
      },
      "outputs": [
        {
          "data": {
            "application/vnd.google.colaboratory.intrinsic+json": {
              "type": "string"
            },
            "text/plain": [
              "'The number is negative number'"
            ]
          },
          "execution_count": 54,
          "metadata": {},
          "output_type": "execute_result"
        }
      ],
      "source": [
        "def check_num(number):\n",
        "  if number < 0:\n",
        "    return \"The number is negative number\"\n",
        "  elif number == 0:\n",
        "    return \"The number is Zero \"\n",
        "  else:\n",
        "    return \"The number is a positive number\"\n",
        "check_num(-12)"
      ]
    },
    {
      "cell_type": "markdown",
      "metadata": {
        "id": "gnIoYLVytdE0"
      },
      "source": [
        "### Create a Python program that checks if a given number is even or odd using an if-else statement."
      ]
    },
    {
      "cell_type": "code",
      "execution_count": null,
      "metadata": {
        "colab": {
          "base_uri": "https://localhost:8080/",
          "height": 53
        },
        "id": "AzQK7-UttfLy",
        "outputId": "faafd36e-7148-4ef4-cce9-da609202761a"
      },
      "outputs": [
        {
          "name": "stdout",
          "output_type": "stream",
          "text": [
            "Enter the number:234\n"
          ]
        },
        {
          "data": {
            "application/vnd.google.colaboratory.intrinsic+json": {
              "type": "string"
            },
            "text/plain": [
              "'The number is a even number'"
            ]
          },
          "execution_count": 57,
          "metadata": {},
          "output_type": "execute_result"
        }
      ],
      "source": [
        "def even_odd(number):\n",
        "  if number %2==0:\n",
        "    return \"The number is a even number\"\n",
        "  else:\n",
        "    return \"The number is a odd number\"\n",
        "even_odd(int(input(\"Enter the number:\")))"
      ]
    },
    {
      "cell_type": "markdown",
      "metadata": {
        "id": "uurQOqBjt9OC"
      },
      "source": [
        "### How can you use nested if-else statements in Python, and provide an example?"
      ]
    },
    {
      "cell_type": "code",
      "execution_count": null,
      "metadata": {
        "colab": {
          "base_uri": "https://localhost:8080/"
        },
        "id": "qtAENESRuCA8",
        "outputId": "47489138-d4d4-4be3-c5a9-eb451f2ce497"
      },
      "outputs": [
        {
          "name": "stdout",
          "output_type": "stream",
          "text": [
            "Enter the score: 90\n"
          ]
        }
      ],
      "source": [
        "score = float(input(\"Enter the score: \"))\n",
        "def grade(score):\n",
        "  if score >= 90:\n",
        "    grade = 'A'\n",
        "  else:\n",
        "    if score >= 80:\n",
        "        grade = 'B'\n",
        "    else:\n",
        "        if score >= 70:\n",
        "            grade = 'C'\n",
        "        else:\n",
        "            if score >= 60:\n",
        "                grade = 'D'\n",
        "            else:\n",
        "                grade = 'F'\n",
        "\n",
        "grade(score)\n",
        "\n",
        "\n",
        "\n"
      ]
    },
    {
      "cell_type": "markdown",
      "metadata": {
        "id": "fTHrhf8ryPPb"
      },
      "source": [
        "### Write a Python program to determine the largest of three numbers using if-else."
      ]
    },
    {
      "cell_type": "code",
      "execution_count": null,
      "metadata": {
        "colab": {
          "base_uri": "https://localhost:8080/",
          "height": 36
        },
        "id": "r1Fj41WCyUXc",
        "outputId": "9dffbfa5-d962-4e17-99b9-fa774625fcc6"
      },
      "outputs": [
        {
          "data": {
            "application/vnd.google.colaboratory.intrinsic+json": {
              "type": "string"
            },
            "text/plain": [
              "'B is the largest number'"
            ]
          },
          "execution_count": 1,
          "metadata": {},
          "output_type": "execute_result"
        }
      ],
      "source": [
        "def larger_num(a,b,c):\n",
        "  if a > b and a > c:\n",
        "    return \"A is the largest number\"\n",
        "  elif b > c:\n",
        "    return \"B is the largest number\"\n",
        "  else:\n",
        "    return \"C is the largest number\"\n",
        "a=12\n",
        "b=43\n",
        "c=10\n",
        "larger_num(a,b,c)"
      ]
    },
    {
      "cell_type": "markdown",
      "metadata": {
        "id": "0OQ_EaBAy5g_"
      },
      "source": [
        "### Write a Python program that calculates the absolute value of a number using if-else."
      ]
    },
    {
      "cell_type": "code",
      "execution_count": null,
      "metadata": {
        "colab": {
          "base_uri": "https://localhost:8080/"
        },
        "id": "O57M0mtRy_uD",
        "outputId": "ccec136d-48c5-44f5-ba8a-1d807ba3bc2c"
      },
      "outputs": [
        {
          "data": {
            "text/plain": [
              "34"
            ]
          },
          "execution_count": 3,
          "metadata": {},
          "output_type": "execute_result"
        }
      ],
      "source": [
        "def absolute(n):\n",
        "  if n >0:\n",
        "    return n\n",
        "  else:\n",
        "    return abs(n)\n",
        "absolute(-34)"
      ]
    },
    {
      "cell_type": "markdown",
      "metadata": {
        "id": "iQMPI_4xzePd"
      },
      "source": [
        "### Create a Python program that checks if a given character is a vowel or consonant using if-else."
      ]
    },
    {
      "cell_type": "code",
      "execution_count": null,
      "metadata": {
        "colab": {
          "base_uri": "https://localhost:8080/",
          "height": 36
        },
        "id": "Z4wS4Rh4zdX6",
        "outputId": "8a42843f-0f68-4179-b01b-d6ffd2761f33"
      },
      "outputs": [
        {
          "data": {
            "application/vnd.google.colaboratory.intrinsic+json": {
              "type": "string"
            },
            "text/plain": [
              "'Give character D is a consonant'"
            ]
          },
          "execution_count": 5,
          "metadata": {},
          "output_type": "execute_result"
        }
      ],
      "source": [
        "def check_char(character):\n",
        "  vowel=\"AEIOUaeiou\"\n",
        "  if character in vowel:\n",
        "    return f\"Given character {character} is a vowel\"\n",
        "  else:\n",
        "    return f\"Give character {character} is a consonant\"\n",
        "check_char(\"D\")"
      ]
    },
    {
      "cell_type": "markdown",
      "metadata": {
        "id": "zWWnkzm21tDL"
      },
      "source": [
        "### Write a Python program to determine if a user is eligible to vote based on their age using if-else."
      ]
    },
    {
      "cell_type": "code",
      "execution_count": null,
      "metadata": {
        "colab": {
          "base_uri": "https://localhost:8080/",
          "height": 36
        },
        "id": "pRG-CYf91xwQ",
        "outputId": "c1cadc90-59f2-4204-b9bb-33d17878e2e3"
      },
      "outputs": [
        {
          "data": {
            "application/vnd.google.colaboratory.intrinsic+json": {
              "type": "string"
            },
            "text/plain": [
              "'person is elgible for voting'"
            ]
          },
          "execution_count": 7,
          "metadata": {},
          "output_type": "execute_result"
        }
      ],
      "source": [
        "def vote_elgible(age):\n",
        "  if age > 18:\n",
        "    return \"person is elgible for voting\"\n",
        "  else:\n",
        "    return \"Person is not elgible for voting\"\n",
        "vote_elgible(20)"
      ]
    },
    {
      "cell_type": "markdown",
      "metadata": {
        "id": "jI3--v4d2kjc"
      },
      "source": [
        "### Create a Python program that calculates the discount amount based on the purchase amount using if-else."
      ]
    },
    {
      "cell_type": "code",
      "execution_count": null,
      "metadata": {
        "colab": {
          "base_uri": "https://localhost:8080/"
        },
        "id": "SrYxKcYw2nAa",
        "outputId": "724733e7-3e74-4ccd-e1bf-5846681893b5"
      },
      "outputs": [
        {
          "name": "stdout",
          "output_type": "stream",
          "text": [
            "Enter the purchase amount: $1000\n",
            "Original Amount: $1000.00\n",
            "Discount Rate: 10.00%\n",
            "Discount Amount: $100.00\n",
            "Final Amount: $900.00\n"
          ]
        }
      ],
      "source": [
        "def discount(purchase_amount):\n",
        "    if purchase_amount < 100:\n",
        "        print(\"No discount for you.\")\n",
        "    elif purchase_amount < 500:\n",
        "        discount_rate = 0.02\n",
        "        calculate_and_display_discount(purchase_amount, discount_rate)\n",
        "    elif purchase_amount < 1000:\n",
        "        discount_rate = 0.05\n",
        "        calculate_and_display_discount(purchase_amount, discount_rate)\n",
        "    else:\n",
        "        discount_rate = 0.1\n",
        "        calculate_and_display_discount(purchase_amount, discount_rate)\n",
        "\n",
        "def calculate_and_display_discount(amount, rate):\n",
        "    discount_amount = amount * rate\n",
        "    final_amount = amount - discount_amount\n",
        "\n",
        "    print(f\"Original Amount: ${amount:.2f}\")\n",
        "    print(f\"Discount Rate: {rate * 100:.2f}%\")\n",
        "    print(f\"Discount Amount: ${discount_amount:.2f}\")\n",
        "    print(f\"Final Amount: ${final_amount:.2f}\")\n",
        "\n",
        "purchase_amount = float(input(\"Enter the purchase amount: $\"))\n",
        "discount(purchase_amount)"
      ]
    },
    {
      "cell_type": "markdown",
      "metadata": {
        "id": "hy56dbFm3Xct"
      },
      "source": [
        "### Write a Python program to check if a number is within a specified range using if-else."
      ]
    },
    {
      "cell_type": "code",
      "execution_count": null,
      "metadata": {
        "colab": {
          "base_uri": "https://localhost:8080/",
          "height": 53
        },
        "id": "37ZrF30W3cjm",
        "outputId": "5d508d8e-3bc5-4cc9-c438-8b42a7fb0105"
      },
      "outputs": [
        {
          "name": "stdout",
          "output_type": "stream",
          "text": [
            "Enter the nuber23\n"
          ]
        },
        {
          "data": {
            "application/vnd.google.colaboratory.intrinsic+json": {
              "type": "string"
            },
            "text/plain": [
              "'The 23 number lies between the  range 10 and 30'"
            ]
          },
          "execution_count": 13,
          "metadata": {},
          "output_type": "execute_result"
        }
      ],
      "source": [
        "def check(n,n1,n2):\n",
        "  if n1 <= n <= n2:\n",
        "    return f\"The {n} number lies between the  range {n1} and {n2}\"\n",
        "  else:\n",
        "    return f\"The {n} number doesn't lies between the range {n1} and {n2}\"\n",
        "n1=10\n",
        "n2=30\n",
        "n=int(input(\"Enter the nuber\"))\n",
        "check(n,n1,n2)\n"
      ]
    },
    {
      "cell_type": "markdown",
      "metadata": {
        "id": "ANeIwqaI5j5R"
      },
      "source": [
        "### Create a Python program that determines the grade of a student based on their score using if-else."
      ]
    },
    {
      "cell_type": "code",
      "execution_count": null,
      "metadata": {
        "colab": {
          "base_uri": "https://localhost:8080/"
        },
        "id": "K4dYihvI504X",
        "outputId": "38552b4f-942b-44b5-a12d-b570d320984c"
      },
      "outputs": [
        {
          "name": "stdout",
          "output_type": "stream",
          "text": [
            "Enter the score :95\n",
            "The grade of a student is A\n"
          ]
        }
      ],
      "source": [
        "def grade(score):\n",
        "  if score > 90 and score < 100:\n",
        "    return \"The grade of a student is A\"\n",
        "  elif score > 80:\n",
        "    return \"The grade of a student is B\"\n",
        "  elif score > 70:\n",
        "    return \"The grade of a student is C\"\n",
        "  elif score > 60:\n",
        "    return \"The grade of a student is D\"\n",
        "  elif score > 50:\n",
        "    return \"The grade of a student is E\"\n",
        "  else:\n",
        "    return \"The grade of a student is F\"\n",
        "score=int(input(\"Enter the score :\"))\n",
        "result =grade(score)\n",
        "print(result)"
      ]
    },
    {
      "cell_type": "markdown",
      "metadata": {
        "id": "Ygbk8mWT7dM7"
      },
      "source": [
        "### Write a Python program to check if a string is empty or not using if-else."
      ]
    },
    {
      "cell_type": "code",
      "execution_count": null,
      "metadata": {
        "colab": {
          "base_uri": "https://localhost:8080/",
          "height": 53
        },
        "id": "AxH6Kv9l7c7q",
        "outputId": "132553ca-49ad-4b47-b809-6bbb0792bb58"
      },
      "outputs": [
        {
          "name": "stdout",
          "output_type": "stream",
          "text": [
            "Enter the string:Dileep\n"
          ]
        },
        {
          "data": {
            "application/vnd.google.colaboratory.intrinsic+json": {
              "type": "string"
            },
            "text/plain": [
              "'The string is not empty'"
            ]
          },
          "execution_count": 24,
          "metadata": {},
          "output_type": "execute_result"
        }
      ],
      "source": [
        "def check(string):\n",
        "  if len(string)==0:\n",
        "    return \"The string is empty\"\n",
        "  else:\n",
        "    return \"The string is not empty\"\n",
        "string = input(\"Enter the string:\")\n",
        "check(string)"
      ]
    },
    {
      "cell_type": "markdown",
      "metadata": {
        "id": "nnmHauIr8ptv"
      },
      "source": [
        "### Create a Python program that identifies the type of a triangle (e.g., equilateral, isosceles, or scalene) based on input values using if-else."
      ]
    },
    {
      "cell_type": "code",
      "execution_count": null,
      "metadata": {
        "colab": {
          "base_uri": "https://localhost:8080/",
          "height": 88
        },
        "id": "mih7ayd_8sbd",
        "outputId": "a18daaf8-2680-461f-ad43-ef272724a761"
      },
      "outputs": [
        {
          "name": "stdout",
          "output_type": "stream",
          "text": [
            "Enter the side1:30\n",
            "Enter the side2:30\n",
            "Enter the side3:30\n"
          ]
        },
        {
          "data": {
            "application/vnd.google.colaboratory.intrinsic+json": {
              "type": "string"
            },
            "text/plain": [
              "'The triangle is an equilateral trianle'"
            ]
          },
          "execution_count": 25,
          "metadata": {},
          "output_type": "execute_result"
        }
      ],
      "source": [
        "def triangle(a,b,c):\n",
        "  if a == b == c:\n",
        "    return \"The triangle is an equilateral trianle\"\n",
        "  elif a == b or a == c or b==c:\n",
        "    return \"The triangle is an isosceles triangle\"\n",
        "  else:\n",
        "    return \"The triangle is a scalen triangle\"\n",
        "side1=int(input(\"Enter the side1:\"))\n",
        "side2=int(input(\"Enter the side2:\"))\n",
        "side3=int(input(\"Enter the side3:\"))\n",
        "triangle(side1,side2,side3)"
      ]
    },
    {
      "cell_type": "markdown",
      "metadata": {
        "id": "hcJZ2kPc-Pv4"
      },
      "source": [
        "### Write a Python program to determine the day of the week based on a user-provided number using if-else."
      ]
    },
    {
      "cell_type": "code",
      "execution_count": null,
      "metadata": {
        "colab": {
          "base_uri": "https://localhost:8080/",
          "height": 53
        },
        "id": "Y3cY5nZf-cV5",
        "outputId": "39d68ca3-fca3-439f-f3b4-26c1fc29f1c4"
      },
      "outputs": [
        {
          "name": "stdout",
          "output_type": "stream",
          "text": [
            "Enter the number:3\n"
          ]
        },
        {
          "data": {
            "application/vnd.google.colaboratory.intrinsic+json": {
              "type": "string"
            },
            "text/plain": [
              "'Wednesday'"
            ]
          },
          "execution_count": 26,
          "metadata": {},
          "output_type": "execute_result"
        }
      ],
      "source": [
        "def determine_day(day_number):\n",
        "    if day_number == 1:\n",
        "        return \"Monday\"\n",
        "    elif day_number == 2:\n",
        "        return \"Tuesday\"\n",
        "    elif day_number == 3:\n",
        "        return \"Wednesday\"\n",
        "    elif day_number == 4:\n",
        "        return \"Thursday\"\n",
        "    elif day_number == 5:\n",
        "        return \"Friday\"\n",
        "    elif day_number == 6:\n",
        "        return \"Saturday\"\n",
        "    elif day_number == 7:\n",
        "        return \"Sunday\"\n",
        "    else:\n",
        "        return \"Invalid day number. Please enter a number between 1 and 7.\"\n",
        "day=int(input(\"Enter the number:\"))\n",
        "determine_day(day)\n"
      ]
    },
    {
      "cell_type": "markdown",
      "metadata": {
        "id": "iJFspvZI_Cfv"
      },
      "source": [
        "### Create a Python program that checks if a given year is a leap year using both if-else and a function.\n"
      ]
    },
    {
      "cell_type": "code",
      "execution_count": null,
      "metadata": {
        "colab": {
          "base_uri": "https://localhost:8080/",
          "height": 36
        },
        "id": "3jrpodFu_3cP",
        "outputId": "baf66dd1-0d63-42b5-a109-3015ff675d28"
      },
      "outputs": [
        {
          "data": {
            "application/vnd.google.colaboratory.intrinsic+json": {
              "type": "string"
            },
            "text/plain": [
              "'Year is a leap year'"
            ]
          },
          "execution_count": 27,
          "metadata": {},
          "output_type": "execute_result"
        }
      ],
      "source": [
        "def leap_year(year):\n",
        "  if year % 100 !=0 and year % 400==0:\n",
        "    return \" Year is a leap year\"\n",
        "  elif year % 4 ==0 and year % 100 !=0:\n",
        "    return \"Year is a leap year\"\n",
        "  else:\n",
        "    return \" year is not a leap year\"\n",
        "leap_year(2024)"
      ]
    },
    {
      "cell_type": "markdown",
      "metadata": {
        "id": "wewwYL3IAQke"
      },
      "source": [
        "### How do you use the \"assert\" statement in Python to add debugging checks within if-else blocks?"
      ]
    },
    {
      "cell_type": "code",
      "execution_count": null,
      "metadata": {
        "colab": {
          "base_uri": "https://localhost:8080/"
        },
        "id": "QKzm01cIAVSw",
        "outputId": "d004df4e-ce3e-4463-e7cd-e3673549b05d"
      },
      "outputs": [
        {
          "name": "stdout",
          "output_type": "stream",
          "text": [
            "AssertionError: x should be greater than 20\n"
          ]
        }
      ],
      "source": [
        "try:\n",
        "    x = 10\n",
        "    assert x > 20, \"x should be greater than 20\"\n",
        "except AssertionError as e:\n",
        "    print(f\"AssertionError: {e}\")"
      ]
    },
    {
      "cell_type": "markdown",
      "metadata": {
        "id": "6lWsA06IBJW-"
      },
      "source": [
        "### Create a Python program that determines the eligibility of a person for a senior citizen discount based on age using if-else."
      ]
    },
    {
      "cell_type": "code",
      "execution_count": null,
      "metadata": {
        "colab": {
          "base_uri": "https://localhost:8080/"
        },
        "id": "fgv_7bQJBLo5",
        "outputId": "54606b1e-b730-44b2-a91d-10faa10bae93"
      },
      "outputs": [
        {
          "name": "stdout",
          "output_type": "stream",
          "text": [
            "Enter your age: 33\n",
            "Sorry, you are not eligible for a senior citizen discount.\n"
          ]
        }
      ],
      "source": [
        "def check_senior_discount(age):\n",
        "    if age >= 60:\n",
        "        print(\"Congratulations! You are eligible for a senior citizen discount.\")\n",
        "    else:\n",
        "        print(\"Sorry, you are not eligible for a senior citizen discount.\")\n",
        "\n",
        "\n",
        "age = int(input(\"Enter your age: \"))\n",
        "check_senior_discount(age)"
      ]
    },
    {
      "cell_type": "markdown",
      "metadata": {
        "id": "VuOAflybBWht"
      },
      "source": [
        "### Write a Python program to categorize a given character as uppercase, lowercase, or neither using if-else."
      ]
    },
    {
      "cell_type": "code",
      "execution_count": null,
      "metadata": {
        "colab": {
          "base_uri": "https://localhost:8080/",
          "height": 36
        },
        "id": "jcgY7D9qBfpS",
        "outputId": "3c7c824e-e330-4976-e202-cd0ac7de07dd"
      },
      "outputs": [
        {
          "data": {
            "application/vnd.google.colaboratory.intrinsic+json": {
              "type": "string"
            },
            "text/plain": [
              "'D is a upper case'"
            ]
          },
          "execution_count": 31,
          "metadata": {},
          "output_type": "execute_result"
        }
      ],
      "source": [
        "def categorize(char):\n",
        "  if  char.islower():\n",
        "    return f\"{char} is a lower case\"\n",
        "  elif char.isupper():\n",
        "    return f\"{char} is a upper case\"\n",
        "  else:\n",
        "    return \"neither lower nor upper\"\n",
        "categorize(\"D\")"
      ]
    },
    {
      "cell_type": "markdown",
      "metadata": {
        "id": "lEdqry3WCx4C"
      },
      "source": [
        "### Write a Python program to determine the roots of a quadratic equation using if-else."
      ]
    },
    {
      "cell_type": "code",
      "execution_count": null,
      "metadata": {
        "colab": {
          "base_uri": "https://localhost:8080/"
        },
        "id": "Ls3T6pmGC4Me",
        "outputId": "be434350-9446-4ec6-b384-e4ee14a236fa"
      },
      "outputs": [
        {
          "name": "stdout",
          "output_type": "stream",
          "text": [
            "Enter the coefficient of x^2 (a): 2\n",
            "Enter the coefficient of x (b): 3\n",
            "Enter the constant term (c): 1\n",
            "The roots are real and different: -0.5 and -1.0\n"
          ]
        }
      ],
      "source": [
        "import math\n",
        "\n",
        "def quadratic_roots(a, b, c):\n",
        "\n",
        "    discriminant = b**2 - 4*a*c\n",
        "\n",
        "    if discriminant > 0:\n",
        "        root1 = (-b + math.sqrt(discriminant)) / (2*a)\n",
        "        root2 = (-b - math.sqrt(discriminant)) / (2*a)\n",
        "        print(f\"The roots are real and different: {root1} and {root2}\")\n",
        "\n",
        "    elif discriminant == 0:\n",
        "        root = -b / (2*a)\n",
        "        print(f\"The root is real and equal: {root}\")\n",
        "\n",
        "    else:\n",
        "        real_part = -b / (2*a)\n",
        "        imaginary_part = math.sqrt(abs(discriminant)) / (2*a)\n",
        "        print(f\"The roots are complex: {real_part} + {imaginary_part}i and {real_part} - {imaginary_part}i\")\n",
        "\n",
        "\n",
        "a = float(input(\"Enter the coefficient of x^2 (a): \"))\n",
        "b = float(input(\"Enter the coefficient of x (b): \"))\n",
        "c = float(input(\"Enter the constant term (c): \"))\n",
        "\n",
        "quadratic_roots(a, b, c)"
      ]
    },
    {
      "cell_type": "markdown",
      "metadata": {
        "id": "3ZyaiNK_DoRu"
      },
      "source": [
        "### Create a Python program that checks if a given year is a century year or not using if-else."
      ]
    },
    {
      "cell_type": "code",
      "execution_count": null,
      "metadata": {
        "colab": {
          "base_uri": "https://localhost:8080/",
          "height": 36
        },
        "id": "Ezw9DuwiDxH1",
        "outputId": "4a1aa096-83be-4063-9d54-34828f1f4555"
      },
      "outputs": [
        {
          "data": {
            "application/vnd.google.colaboratory.intrinsic+json": {
              "type": "string"
            },
            "text/plain": [
              "'2000 is a century'"
            ]
          },
          "execution_count": 33,
          "metadata": {},
          "output_type": "execute_result"
        }
      ],
      "source": [
        "def century(year):\n",
        "  if year %100 == 0:\n",
        "    return f\"{year} is a century\"\n",
        "  else:\n",
        "    return f\"{year} is not a century\"\n",
        "century(2000)"
      ]
    },
    {
      "cell_type": "markdown",
      "metadata": {
        "id": "3hlKopYjEIx6"
      },
      "source": [
        "### Write a Python program to determine if a given number is a perfect square using if-else."
      ]
    },
    {
      "cell_type": "code",
      "execution_count": null,
      "metadata": {
        "colab": {
          "base_uri": "https://localhost:8080/",
          "height": 36
        },
        "id": "0iLOjloBEVYl",
        "outputId": "3c35eab4-ab92-457a-f59c-ee5e77e76901"
      },
      "outputs": [
        {
          "data": {
            "application/vnd.google.colaboratory.intrinsic+json": {
              "type": "string"
            },
            "text/plain": [
              "'it is a perfect square root'"
            ]
          },
          "execution_count": 36,
          "metadata": {},
          "output_type": "execute_result"
        }
      ],
      "source": [
        "def sqrt(n):\n",
        "  square_root=int(n**0.5)\n",
        "  if square_root **2 == n:\n",
        "    return(\"it is a perfect square root\")\n",
        "  else:\n",
        "    return(\"it is not a perfect square root\")\n",
        "sqrt(25)"
      ]
    },
    {
      "cell_type": "markdown",
      "metadata": {
        "id": "LrX0b-5iDvqg"
      },
      "source": [
        "### Explain the purpose of the \"continue\" and \"break\" statements within if-else loops."
      ]
    },
    {
      "cell_type": "code",
      "execution_count": null,
      "metadata": {
        "colab": {
          "base_uri": "https://localhost:8080/"
        },
        "id": "KKKXtwLURLc_",
        "outputId": "2e816b73-964e-4442-91b3-8592aaf17b1d"
      },
      "outputs": [
        {
          "name": "stdout",
          "output_type": "stream",
          "text": [
            "1\n",
            "2\n"
          ]
        }
      ],
      "source": [
        "#Break ---> Break is used to terminate the loop\n",
        "for i in range(1,10):\n",
        "  if i==3:\n",
        "    break # break the termination\n",
        "  print(i)"
      ]
    },
    {
      "cell_type": "code",
      "execution_count": null,
      "metadata": {
        "colab": {
          "base_uri": "https://localhost:8080/"
        },
        "id": "XNkkXcwZRkiI",
        "outputId": "5d8d5ca2-9056-4cd0-a142-961ddfded37f"
      },
      "outputs": [
        {
          "name": "stdout",
          "output_type": "stream",
          "text": [
            "1 2 4 5 6 7 8 9 "
          ]
        }
      ],
      "source": [
        "#continue ---> Continue is used to skip the given condition\n",
        "for i in range(1,10):\n",
        "  if i==3:\n",
        "    continue # skip the given condition\n",
        "  print(i,end=\" \")"
      ]
    },
    {
      "cell_type": "markdown",
      "metadata": {
        "id": "gBXUwHqbRD_H"
      },
      "source": [
        "### Create a Python program that calculates the BMI (Body Mass Index) of a person based on their weight and height using if-else."
      ]
    },
    {
      "cell_type": "code",
      "execution_count": null,
      "metadata": {
        "colab": {
          "base_uri": "https://localhost:8080/"
        },
        "id": "_MVnWzFxETRa",
        "outputId": "1d22b0a6-ff99-4a18-e62b-1ed2f7c692dc"
      },
      "outputs": [
        {
          "name": "stdout",
          "output_type": "stream",
          "text": [
            "Enter weight in kilograms: 55\n",
            "Enter height in centimeters: 157\n",
            "Your BMI is: 22.31\n",
            "Interpretation: Normal weight\n"
          ]
        }
      ],
      "source": [
        "def calculate_bmi(weight, height):\n",
        "\n",
        "    height_in_meters = height / 100\n",
        "    bmi = weight / (height_in_meters ** 2)\n",
        "\n",
        "    return bmi\n",
        "\n",
        "def interpret_bmi(bmi):\n",
        "    if bmi < 18.5:\n",
        "        return \"Underweight\"\n",
        "    elif 18.5 <= bmi < 24.9:\n",
        "        return \"Normal weight\"\n",
        "    elif 25 <= bmi < 29.9:\n",
        "        return \"Overweight\"\n",
        "    else:\n",
        "        return \"Obese\"\n",
        "\n",
        "\n",
        "weight = float(input(\"Enter weight in kilograms: \"))\n",
        "height = float(input(\"Enter height in centimeters: \"))\n",
        "\n",
        "bmi = calculate_bmi(weight, height)\n",
        "interpretation = interpret_bmi(bmi)\n",
        "\n",
        "print(f\"Your BMI is: {bmi:.2f}\")\n",
        "print(f\"Interpretation: {interpretation}\")"
      ]
    },
    {
      "cell_type": "markdown",
      "metadata": {
        "id": "_lSgSegaSxIJ"
      },
      "source": [
        "### How can you use the \"filter()\" function with if-else statements to filter elements from a list?"
      ]
    },
    {
      "cell_type": "code",
      "execution_count": null,
      "metadata": {
        "colab": {
          "base_uri": "https://localhost:8080/"
        },
        "id": "QSnDgjKLS1hS",
        "outputId": "2098967c-b080-4c36-97b7-143409993633"
      },
      "outputs": [
        {
          "name": "stdout",
          "output_type": "stream",
          "text": [
            "even number of a list is [2, 4, 6]\n"
          ]
        }
      ],
      "source": [
        "def even_num(n):\n",
        "  return n%2==0\n",
        "lst=[1,2,3,4,5,6]\n",
        "filter_lst=filter(even_num,lst)\n",
        "even_num_lst=list(filter_lst)\n",
        "print(f\"even number of a list is {even_num_lst}\")\n"
      ]
    },
    {
      "cell_type": "markdown",
      "metadata": {
        "id": "FzKKMWMIUvcJ"
      },
      "source": [
        "### Write a Python program to determine if a given number is prime or not using if-else."
      ]
    },
    {
      "cell_type": "code",
      "execution_count": null,
      "metadata": {
        "colab": {
          "base_uri": "https://localhost:8080/"
        },
        "id": "Jvh0DsS5UWvS",
        "outputId": "5d852bff-61b6-4869-b64a-190fedf29fb0"
      },
      "outputs": [
        {
          "name": "stdout",
          "output_type": "stream",
          "text": [
            "Given number23 is a prime number\n"
          ]
        }
      ],
      "source": [
        "def prime_num(n):\n",
        "  if n <=1:\n",
        "    return False\n",
        "  for i in range(2,int(n**0.5)+1):\n",
        "    if n%i==0:\n",
        "      return False\n",
        "  return True\n",
        "if prime_num(5):\n",
        "  print(\"Given number is a prime number\")\n",
        "else:\n",
        "  print(\"Given number  is not a prime number\")"
      ]
    },
    {
      "cell_type": "markdown",
      "metadata": {
        "id": "CW0VFVA5XBDy"
      },
      "source": [
        "# Map :-"
      ]
    },
    {
      "cell_type": "markdown",
      "metadata": {
        "id": "a8GZb82oXDDl"
      },
      "source": [
        "### Explain the purpose of the `map()` function in Python and provide an example of how it can be used to apply a function to each element of an iterable.\n"
      ]
    },
    {
      "cell_type": "code",
      "execution_count": null,
      "metadata": {
        "colab": {
          "base_uri": "https://localhost:8080/"
        },
        "id": "qDbrhhSmXO_8",
        "outputId": "811d154d-6a6b-435f-d5b7-21b611f51006"
      },
      "outputs": [
        {
          "name": "stdout",
          "output_type": "stream",
          "text": [
            "[3, 6, 9, 12, 15]\n"
          ]
        }
      ],
      "source": [
        "def add_num(n):\n",
        "  return n*3\n",
        "lst=[1,2,3,4,5]\n",
        "multi_lst=list(map(add_num,lst))\n",
        "print(multi_lst)"
      ]
    },
    {
      "cell_type": "markdown",
      "metadata": {
        "id": "APV7jsNUYIHd"
      },
      "source": [
        "### Write a Python program that uses the `map()` function to square each element of a list of numbers."
      ]
    },
    {
      "cell_type": "code",
      "execution_count": null,
      "metadata": {
        "colab": {
          "base_uri": "https://localhost:8080/"
        },
        "id": "9b8AMj1sYLJb",
        "outputId": "8b720313-d26c-49fc-f500-87933ba4e0a4"
      },
      "outputs": [
        {
          "name": "stdout",
          "output_type": "stream",
          "text": [
            "The square of a list is: [4, 9, 16, 25, 36, 49, 64, 81]\n"
          ]
        }
      ],
      "source": [
        "lst=[2,3,4,5,6,7,8,9]\n",
        "x=map(lambda x: x*x,lst)\n",
        "print(\"The square of a list is:\",list(x))"
      ]
    },
    {
      "cell_type": "markdown",
      "metadata": {
        "id": "9nPCM3ZNYp10"
      },
      "source": [
        "### How does the `map()` function differ from a list comprehension in Python, and when would you choose one over the other?"
      ]
    },
    {
      "cell_type": "code",
      "execution_count": null,
      "metadata": {
        "colab": {
          "base_uri": "https://localhost:8080/"
        },
        "id": "EK67eQXRYw8U",
        "outputId": "bd4128b9-603f-4bf4-a7ad-50e884a6f427"
      },
      "outputs": [
        {
          "name": "stdout",
          "output_type": "stream",
          "text": [
            "Using map function: [4, 5, 10, 6, 25]\n",
            "Using list comprehension: [4, 5, 10, 6, 25]\n"
          ]
        }
      ],
      "source": [
        "# map() function\n",
        "lst=[2,3,8,4,23]\n",
        "def add_sum(n):\n",
        "  return n+2\n",
        "x=map(add_sum,lst)\n",
        "print(\"Using map function:\",list(x))\n",
        "\n",
        "#list comprehension\n",
        "a=[i+2 for i in lst]\n",
        "print(\"Using list comprehension:\",a)"
      ]
    },
    {
      "cell_type": "markdown",
      "metadata": {
        "id": "3wpOqLiCZ-g_"
      },
      "source": [
        "### Create a Python program that uses the `map()` function to convert a list of names to uppercase."
      ]
    },
    {
      "cell_type": "code",
      "execution_count": null,
      "metadata": {
        "colab": {
          "base_uri": "https://localhost:8080/"
        },
        "id": "dhHfPz51aGuV",
        "outputId": "3e83ff90-d2c8-43a9-c354-65c7243dc3f8"
      },
      "outputs": [
        {
          "name": "stdout",
          "output_type": "stream",
          "text": [
            "['DILEEP', 'PRASAD', 'MOHIT', 'PAVAN', 'DINESH']\n"
          ]
        }
      ],
      "source": [
        "lst=[\"dileep\",\"prasad\",\"mohit\",\"pavan\",\"dinesh\"]\n",
        "def upper_lst(lst):\n",
        "  return lst.upper()\n",
        "x=map(upper_lst,lst)\n",
        "print(list(x))"
      ]
    },
    {
      "cell_type": "markdown",
      "metadata": {
        "id": "mbXZcQWkbL5z"
      },
      "source": [
        "### Write a Python program that uses the `map()` function to calculate the length of each word in a list of strings."
      ]
    },
    {
      "cell_type": "code",
      "execution_count": null,
      "metadata": {
        "colab": {
          "base_uri": "https://localhost:8080/"
        },
        "id": "VNGrRj9EbQpO",
        "outputId": "27c0a72a-98f8-4a31-d1a3-dfcb7d4f8841"
      },
      "outputs": [
        {
          "name": "stdout",
          "output_type": "stream",
          "text": [
            "[6, 6, 5, 5, 6]\n"
          ]
        }
      ],
      "source": [
        "lst=[\"dileep\",\"prasad\",\"mohit\",\"pavan\",\"dinesh\"]\n",
        "def len_str(lst):\n",
        "  return len(lst)\n",
        "x=map(len_str,lst)\n",
        "print(list(x))"
      ]
    },
    {
      "cell_type": "markdown",
      "metadata": {
        "id": "Rlr9LKA8b6dM"
      },
      "source": [
        "### How can you use the `map()` function to apply a custom function to elements of multiple lists simultaneously in Python?"
      ]
    },
    {
      "cell_type": "code",
      "execution_count": null,
      "metadata": {
        "colab": {
          "base_uri": "https://localhost:8080/"
        },
        "id": "RuCrunbYb_mQ",
        "outputId": "119d8209-6bea-4358-cc7b-97c98f1f0dae"
      },
      "outputs": [
        {
          "name": "stdout",
          "output_type": "stream",
          "text": [
            "[12, 15, 18]\n"
          ]
        }
      ],
      "source": [
        "def custom_function(x, y, z):\n",
        "    return x + y + z\n",
        "\n",
        "list1 = [1, 2, 3]\n",
        "list2 = [4, 5, 6]\n",
        "list3 = [7, 8, 9]\n",
        "\n",
        "result = list(map(custom_function, list1, list2, list3))\n",
        "\n",
        "print(result)\n"
      ]
    },
    {
      "cell_type": "markdown",
      "metadata": {
        "id": "o3pebunXdNdq"
      },
      "source": [
        "### Create a Python program that uses `map()` to convert a list of temperatures from Celsius to Fahrenheit."
      ]
    },
    {
      "cell_type": "code",
      "execution_count": null,
      "metadata": {
        "colab": {
          "base_uri": "https://localhost:8080/"
        },
        "id": "qeumeiXPdRwI",
        "outputId": "062af0f4-fdbd-4966-80a1-32976781a5b1"
      },
      "outputs": [
        {
          "name": "stdout",
          "output_type": "stream",
          "text": [
            "[172.4, 201.2, 185.0, 167.0]\n"
          ]
        }
      ],
      "source": [
        "def farenheit(n):\n",
        "  return(n*9/5)+32\n",
        "lst=[78,94,85,75]\n",
        "x=list(map(farenheit,lst))\n",
        "print(x)"
      ]
    },
    {
      "cell_type": "markdown",
      "metadata": {
        "id": "QLHbPr0Kd_IE"
      },
      "source": [
        "### Write a Python program that uses the `map()` function to round each element of a list of floating-point numbers to the nearest integer."
      ]
    },
    {
      "cell_type": "code",
      "execution_count": null,
      "metadata": {
        "id": "xfKMjKNDeE21"
      },
      "outputs": [],
      "source": [
        "def round_num(n):\n",
        "  return round(n)\n",
        "lst=[34.54,76.98,23.67,99.87]\n",
        "round_lst=list(map(round_num,lst))\n",
        "print(round_lst)\n"
      ]
    },
    {
      "cell_type": "markdown",
      "metadata": {
        "id": "q3Q5en5kfw69"
      },
      "source": [
        "# Reduce :-"
      ]
    },
    {
      "cell_type": "markdown",
      "metadata": {
        "id": "iRCe_w-Uf2IC"
      },
      "source": [
        "### What is the `reduce()` function in Python, and what module should you import to use it? Provide an example of its basic usage."
      ]
    },
    {
      "cell_type": "code",
      "execution_count": null,
      "metadata": {
        "colab": {
          "base_uri": "https://localhost:8080/"
        },
        "id": "bIzLxiyXguKZ",
        "outputId": "6759a7f5-a80d-458d-f3ba-d1755a809bd2"
      },
      "outputs": [
        {
          "name": "stdout",
          "output_type": "stream",
          "text": [
            "15\n"
          ]
        }
      ],
      "source": [
        "from functools import reduce\n",
        "def sum(x,y):\n",
        "  return x+y\n",
        "lst=[1,2,3,4,5]\n",
        "x=(reduce(sum,lst))\n",
        "print(x)"
      ]
    },
    {
      "cell_type": "markdown",
      "metadata": {
        "id": "_G2Lpmnkh5VK"
      },
      "source": [
        "### Write a Python program that uses the `reduce()` function to find the product of all elements in a list."
      ]
    },
    {
      "cell_type": "code",
      "execution_count": null,
      "metadata": {
        "colab": {
          "base_uri": "https://localhost:8080/"
        },
        "id": "rpSdpAYFh9Pq",
        "outputId": "6c88ec47-3308-4114-8ab4-c63383d38221"
      },
      "outputs": [
        {
          "name": "stdout",
          "output_type": "stream",
          "text": [
            "795156\n"
          ]
        }
      ],
      "source": [
        "from functools import reduce\n",
        "def product(x,y):\n",
        "  return x*y\n",
        "lst=[43,67,23,12]\n",
        "x=reduce(product,lst)\n",
        "print(x)\n"
      ]
    },
    {
      "cell_type": "markdown",
      "metadata": {
        "id": "HD3CMAx9iOOt"
      },
      "source": [
        "### Create a Python program that uses `reduce()` to find the maximum element in a list of numbers."
      ]
    },
    {
      "cell_type": "code",
      "execution_count": null,
      "metadata": {
        "colab": {
          "base_uri": "https://localhost:8080/"
        },
        "id": "-omAYs4xiTHW",
        "outputId": "b6f91b71-84db-4e4a-8cef-44dc9dbc6708"
      },
      "outputs": [
        {
          "name": "stdout",
          "output_type": "stream",
          "text": [
            "10\n"
          ]
        }
      ],
      "source": [
        "from functools import reduce\n",
        "\n",
        "def maximum(x,y):\n",
        "    if x>y:\n",
        "        return x\n",
        "    else:\n",
        "        return y\n",
        "\n",
        "numbers = [1,2,10,4,5]\n",
        "\n",
        "result = reduce(maximum,numbers)\n",
        "\n",
        "print(result)"
      ]
    },
    {
      "cell_type": "markdown",
      "metadata": {
        "id": "3Z4bDY2HjmSv"
      },
      "source": [
        "How can you use the `reduce()` function to concatenate a list of strings into a single string?"
      ]
    },
    {
      "cell_type": "code",
      "execution_count": null,
      "metadata": {
        "colab": {
          "base_uri": "https://localhost:8080/"
        },
        "id": "eHJnaWYQjrbf",
        "outputId": "dd1eb5cc-9061-48f8-f7ea-2d782d9fcf0d"
      },
      "outputs": [
        {
          "name": "stdout",
          "output_type": "stream",
          "text": [
            "DileepPrasadMohit\n"
          ]
        }
      ],
      "source": [
        "def concat_string(string1,string2):\n",
        "  return string1+string2\n",
        "lst=[\"Dileep\",\"Prasad\",\"Mohit\"]\n",
        "x=reduce(concat_string,lst)\n",
        "print(x)"
      ]
    },
    {
      "cell_type": "markdown",
      "metadata": {
        "id": "NCduR2u2kgtC"
      },
      "source": [
        "### Write a Python program that calculates the factorial of a number using the `reduce()` function."
      ]
    },
    {
      "cell_type": "code",
      "execution_count": null,
      "metadata": {
        "colab": {
          "background_save": true
        },
        "id": "fjrAJXDdkTQ7",
        "outputId": "0091d881-6c1c-4fc5-9c16-9ac9068c1d11"
      },
      "outputs": [
        {
          "data": {
            "text/plain": [
              "20"
            ]
          },
          "execution_count": 53,
          "metadata": {},
          "output_type": "execute_result"
        }
      ],
      "source": [
        "def factorial(n):\n",
        "  if n <=1:\n",
        "    return 1\n",
        "  else:\n",
        "    return n*(n-1)\n",
        "factorial(5)\n"
      ]
    },
    {
      "cell_type": "markdown",
      "source": [
        "### Create a Python program that uses `reduce()` to find the GCD (Greatest Common Divisor) of a list of numbers.\n",
        "\n",
        "\n"
      ],
      "metadata": {
        "id": "vudnothd2e91"
      }
    },
    {
      "cell_type": "code",
      "source": [
        "from functools import reduce\n",
        "from math import gcd\n",
        "\n",
        "def find_gcd(numbers):\n",
        "    # Use reduce() to find the GCD of a list of numbers\n",
        "    result_gcd = reduce(gcd, numbers)\n",
        "    return result_gcd\n",
        "\n",
        "# Example usage:\n",
        "numbers_list = [24, 36, 48, 60]\n",
        "result = find_gcd(numbers_list)\n",
        "\n",
        "print(f\"The GCD of {numbers_list} is: {result}\")"
      ],
      "metadata": {
        "colab": {
          "base_uri": "https://localhost:8080/"
        },
        "id": "tV3iXpuE2ziZ",
        "outputId": "103a7e74-36e5-4677-9966-2bbe1d445c25"
      },
      "execution_count": null,
      "outputs": [
        {
          "output_type": "stream",
          "name": "stdout",
          "text": [
            "The GCD of [24, 36, 48, 60] is: 12\n"
          ]
        }
      ]
    },
    {
      "cell_type": "markdown",
      "source": [
        "### Write a Python program that uses the `reduce()` function to find the sum of the digits of a given number."
      ],
      "metadata": {
        "id": "m6zb-gex3Rz7"
      }
    },
    {
      "cell_type": "code",
      "source": [
        "from functools import reduce\n",
        "\n",
        "def find_sum(num):\n",
        "    digits = [int(i) for i in str(num)]\n",
        "    result = reduce(lambda x,y : x+y,digits)\n",
        "    return result\n",
        "\n",
        "num = int(input(\"enter number : \"))\n",
        "total = find_sum(num)\n",
        "print(f\"the sum of the digits of a given number is : {total}\")"
      ],
      "metadata": {
        "colab": {
          "base_uri": "https://localhost:8080/"
        },
        "id": "_zydxAM83WmR",
        "outputId": "87e07484-a7d5-49c2-daaa-19ca02bcd379"
      },
      "execution_count": null,
      "outputs": [
        {
          "output_type": "stream",
          "name": "stdout",
          "text": [
            "enter number : 234\n",
            "the sum of the digits of a given number is : 9\n"
          ]
        }
      ]
    },
    {
      "cell_type": "markdown",
      "source": [
        "# Filter :-"
      ],
      "metadata": {
        "id": "DkfgCcSm3jJB"
      }
    },
    {
      "cell_type": "markdown",
      "source": [
        "### Explain the purpose of the `filter()` function in Python and provide an example of how it can be used to filter elements from an iterable.\n"
      ],
      "metadata": {
        "id": "CzboCXVd3mtY"
      }
    },
    {
      "cell_type": "code",
      "source": [
        "\n",
        "# The filter() function in Python is used to construct an iterator from elements of an iterable for which a function returns true.\n",
        "# It takes two arguments: the first argument is the function that defines the filtering condition, and the second argument is the iterable (such as a list, tuple, or string) that you want to filter.\n",
        "x=filter(lambda x:x%2==0,[2,3,4,5,6,7,8,9])\n",
        "print(list(x))"
      ],
      "metadata": {
        "colab": {
          "base_uri": "https://localhost:8080/"
        },
        "id": "pkc1ESPi3r3n",
        "outputId": "13752b26-16d9-4d50-e3f5-5604f660f7c6"
      },
      "execution_count": null,
      "outputs": [
        {
          "output_type": "stream",
          "name": "stdout",
          "text": [
            "[2, 4, 6, 8]\n"
          ]
        }
      ]
    },
    {
      "cell_type": "markdown",
      "source": [
        "### Write a Python program that uses the `filter()` function to select even numbers from a list of integers."
      ],
      "metadata": {
        "id": "cQ0wRn3f4ZXa"
      }
    },
    {
      "cell_type": "code",
      "source": [
        "even_num=filter(lambda x:x%2==0,[1,2,3,4,5,6,7,8,9])\n",
        "print(\"Even numbers from a given list is :\",list(even_num\n",
        "                                                 ))"
      ],
      "metadata": {
        "colab": {
          "base_uri": "https://localhost:8080/"
        },
        "id": "4oXnZnhG4d9c",
        "outputId": "f74a5bfb-7aea-4bca-a09d-b9b71ac9ddf1"
      },
      "execution_count": null,
      "outputs": [
        {
          "output_type": "stream",
          "name": "stdout",
          "text": [
            "Even numbers from a given list is : [2, 4, 6, 8]\n"
          ]
        }
      ]
    },
    {
      "cell_type": "markdown",
      "source": [
        "### Create a Python program that uses the `filter()` function to select names that start with a specific letter from a list of strings."
      ],
      "metadata": {
        "id": "CcuHn0Lt5Vtc"
      }
    },
    {
      "cell_type": "code",
      "source": [
        "string=filter(lambda x:x.startswith(\"D\"),[\"prasad\",\"Dileep\",\"Jogi\",\"Mohit\"])\n",
        "print(list(string))"
      ],
      "metadata": {
        "colab": {
          "base_uri": "https://localhost:8080/"
        },
        "id": "rqxtJpsd5aro",
        "outputId": "4e03d9cc-2f19-4061-eb67-15707942d22b"
      },
      "execution_count": null,
      "outputs": [
        {
          "output_type": "stream",
          "name": "stdout",
          "text": [
            "['Dileep']\n"
          ]
        }
      ]
    },
    {
      "cell_type": "markdown",
      "source": [
        "### Write a Python program that uses the `filter()` function to select prime numbers from a list of integers."
      ],
      "metadata": {
        "id": "2CHzQwWv5_tr"
      }
    },
    {
      "cell_type": "code",
      "source": [
        "def prime(n):\n",
        "  if n <=1:\n",
        "    return False\n",
        "  else:\n",
        "    for i in range(2,int(n**0.5)+1):\n",
        "      if n%i==0:\n",
        "        return False\n",
        "        break\n",
        "    return True\n",
        "prime_num=filter(prime,[1,2,3,4,5,6,7])\n",
        "print(list(prime_num))\n"
      ],
      "metadata": {
        "colab": {
          "base_uri": "https://localhost:8080/"
        },
        "id": "lbsHPFbu6DgT",
        "outputId": "bfdb0807-d553-4b03-c96b-802b847bb07c"
      },
      "execution_count": null,
      "outputs": [
        {
          "output_type": "stream",
          "name": "stdout",
          "text": [
            "[2, 3, 5, 7]\n"
          ]
        }
      ]
    },
    {
      "cell_type": "markdown",
      "source": [
        "### How can you use the `filter()` function to remove None values from a list in Python?"
      ],
      "metadata": {
        "id": "n7gXBh1E7joe"
      }
    },
    {
      "cell_type": "code",
      "source": [
        "x=filter(lambda x:x!=None,[\"Dileep\",None,1,12.3,None,True,None])\n",
        "print(list(x))"
      ],
      "metadata": {
        "colab": {
          "base_uri": "https://localhost:8080/"
        },
        "id": "tzgN2UEv7sWX",
        "outputId": "4576ba95-ff08-4771-b352-1c16a5fc9b68"
      },
      "execution_count": null,
      "outputs": [
        {
          "output_type": "stream",
          "name": "stdout",
          "text": [
            "['Dileep', 1, 12.3, True]\n"
          ]
        }
      ]
    },
    {
      "cell_type": "markdown",
      "source": [
        "### Create a Python program that uses `filter()` to select words longer than a certain length from a list of strings."
      ],
      "metadata": {
        "id": "hgp3wXQz8I0c"
      }
    },
    {
      "cell_type": "code",
      "source": [
        "def longer_word(a,b):\n",
        "  return len(a)>b\n",
        "minimum_len=5\n",
        "x=filter(lambda a:longer_word(a,minimum_len),[\"Dileep\",\"Pav\",\"prasad\"])\n",
        "print(list(x))\n"
      ],
      "metadata": {
        "colab": {
          "base_uri": "https://localhost:8080/"
        },
        "id": "NPURcc7D8LZb",
        "outputId": "d63b3b7d-35e2-432e-e2eb-b9c79560f004"
      },
      "execution_count": null,
      "outputs": [
        {
          "output_type": "stream",
          "name": "stdout",
          "text": [
            "['Dileep', 'prasad']\n"
          ]
        }
      ]
    },
    {
      "cell_type": "markdown",
      "source": [
        "### Write a Python program that uses the `filter()` function to select elements greater than a specified threshold from a list of values."
      ],
      "metadata": {
        "id": "w0O6Glpx9S0r"
      }
    },
    {
      "cell_type": "code",
      "source": [
        "def greater_thresold(val,the_val):\n",
        "    return val > the_val\n",
        "\n",
        "lst = [12,4,34,69,31,23,12]\n",
        "the_val = 25\n",
        "\n",
        "result = list(filter(lambda val : greater_thresold(val,the_val),lst))\n",
        "\n",
        "print(result)"
      ],
      "metadata": {
        "colab": {
          "base_uri": "https://localhost:8080/"
        },
        "id": "J30IbB9P9ZVG",
        "outputId": "5690380d-f2ac-4444-985c-1f0068ca7880"
      },
      "execution_count": null,
      "outputs": [
        {
          "output_type": "stream",
          "name": "stdout",
          "text": [
            "[34, 69, 31]\n"
          ]
        }
      ]
    },
    {
      "cell_type": "markdown",
      "source": [
        "# Recursion:-"
      ],
      "metadata": {
        "id": "yxt1sYOj9bB3"
      }
    },
    {
      "cell_type": "markdown",
      "source": [
        "### Explain the concept of recursion in Python. How does it differ from iteration?"
      ],
      "metadata": {
        "id": "c73WHefJ9hKa"
      }
    },
    {
      "cell_type": "markdown",
      "source": [
        "Recursion is a programming concept where a function calls itself in order to solve a smaller instance of a problem. In a recursive function, the problem is divided into smaller subproblems, and the function continues to call itself on these subproblems until a base case is reached. The base case provides a stopping condition for the recursion, preventing an infinite loop. Recursive solutions often mirror the structure of the problem they are solving."
      ],
      "metadata": {
        "id": "3CgH9XpG9zuZ"
      }
    },
    {
      "cell_type": "markdown",
      "source": [
        "### Write a Python program to calculate the factorial of a number using recursion."
      ],
      "metadata": {
        "id": "u0mhqu1y95tQ"
      }
    },
    {
      "cell_type": "code",
      "source": [
        "def factorial(n):\n",
        "  if n <=0:\n",
        "    return 1\n",
        "  else:\n",
        "    return n*factorial(n-1)\n",
        "factorial(5)"
      ],
      "metadata": {
        "colab": {
          "base_uri": "https://localhost:8080/"
        },
        "id": "FzMivoYz9gow",
        "outputId": "1141b57b-c9ec-4523-fdf2-3948b0f07b40"
      },
      "execution_count": null,
      "outputs": [
        {
          "output_type": "execute_result",
          "data": {
            "text/plain": [
              "120"
            ]
          },
          "metadata": {},
          "execution_count": 18
        }
      ]
    },
    {
      "cell_type": "markdown",
      "source": [
        "### Create a recursive Python function to find the nth Fibonacci number."
      ],
      "metadata": {
        "id": "23pS0vno-tO0"
      }
    },
    {
      "cell_type": "code",
      "source": [
        "def fabinocci(n):\n",
        "  if n<=0:\n",
        "    return \"Enter positive numbers only\"\n",
        "  elif n==1:\n",
        "    return 1\n",
        "  elif n==2:\n",
        "    return 1\n",
        "  else:\n",
        "    return fabinocci(n-1)+fabinocci(n-2)\n",
        "fabinocci(4)"
      ],
      "metadata": {
        "colab": {
          "base_uri": "https://localhost:8080/"
        },
        "id": "Fk1bazNz-x2y",
        "outputId": "ad0d750d-07aa-4622-d88e-dec859c08451"
      },
      "execution_count": null,
      "outputs": [
        {
          "output_type": "execute_result",
          "data": {
            "text/plain": [
              "3"
            ]
          },
          "metadata": {},
          "execution_count": 24
        }
      ]
    },
    {
      "cell_type": "code",
      "source": [
        "def fabinocci(n):\n",
        "  if n<=1:\n",
        "    return n\n",
        "  else:\n",
        "    return fabinocci(n-1)+fabinocci(n-2)\n",
        "fabinocci(4)"
      ],
      "metadata": {
        "colab": {
          "base_uri": "https://localhost:8080/"
        },
        "id": "n0TU7-I7A4Cf",
        "outputId": "ce17863f-5f3d-427f-c760-ce2049ef50de"
      },
      "execution_count": null,
      "outputs": [
        {
          "output_type": "execute_result",
          "data": {
            "text/plain": [
              "3"
            ]
          },
          "metadata": {},
          "execution_count": 26
        }
      ]
    },
    {
      "cell_type": "markdown",
      "source": [
        "### Write a recursive Python function to calculate the sum of all elements in a list."
      ],
      "metadata": {
        "id": "xYICRC13AAjW"
      }
    },
    {
      "cell_type": "code",
      "source": [
        "def sum_element(lst):\n",
        "  if not lst:\n",
        "    return 0\n",
        "  else:\n",
        "    return lst[0]+sum_element(lst[1:])\n",
        "sum_element([1,2,3,4,55])"
      ],
      "metadata": {
        "colab": {
          "base_uri": "https://localhost:8080/"
        },
        "id": "R3zqkEt9D-d-",
        "outputId": "df448c57-fc18-4674-8ed1-8dbe1b91e7d2"
      },
      "execution_count": null,
      "outputs": [
        {
          "output_type": "execute_result",
          "data": {
            "text/plain": [
              "65"
            ]
          },
          "metadata": {},
          "execution_count": 39
        }
      ]
    },
    {
      "cell_type": "markdown",
      "source": [
        "### How can you prevent a recursive function from running indefinitely, causing a stack overflow error?"
      ],
      "metadata": {
        "id": "YeFAbdmpFh2a"
      }
    },
    {
      "cell_type": "markdown",
      "source": [
        "Preventing a recursive function from running indefinitely and causing a stack overflow error involves implementing a mechanism to terminate the recursion when a certain condition, known as the base case, is met. The base case is essential for breaking the recursion and providing a stopping condition.\n",
        "\n",
        "Here are steps you can take to prevent infinite recursion and potential stack overflow errors:\n",
        "\n",
        "Define a Base Case:\n",
        "\n",
        "Ensure that your recursive function has a well-defined base case. The base case represents the smallest instance of the problem that can be directly solved without further recursion.\n",
        "Ensure Progress Toward Base Case:\n",
        "\n",
        "In each recursive call, ensure that you make progress toward the base case. This means that the input to the recursive call should move closer to the base case with each iteration.\n",
        "Check for Base Case Before Recursion:\n",
        "\n",
        "Place the check for the base case at the beginning of the recursive function. This ensures that the function stops calling itself when the base case is reached."
      ],
      "metadata": {
        "id": "KiKpHxTxGJ5q"
      }
    },
    {
      "cell_type": "markdown",
      "source": [
        "### Create a recursive Python function to find the greatest common divisor (GCD) of two numbers using the Euclidean algorithm."
      ],
      "metadata": {
        "id": "F0TlSYtsGLm6"
      }
    },
    {
      "cell_type": "code",
      "source": [
        "def gcd_num(a,b):\n",
        "  if b==0:\n",
        "    return a\n",
        "  elif a > b:\n",
        "    return gcd_num(b,a%b)\n",
        "  else:\n",
        "    return gcd_num(a,b%a)\n",
        "gcd_num(12,18)\n",
        "\n"
      ],
      "metadata": {
        "colab": {
          "base_uri": "https://localhost:8080/"
        },
        "id": "OgcoqLPRFuBY",
        "outputId": "c459e50a-af24-4e18-b801-86ff6c4cc1f3"
      },
      "execution_count": null,
      "outputs": [
        {
          "output_type": "execute_result",
          "data": {
            "text/plain": [
              "6"
            ]
          },
          "metadata": {},
          "execution_count": 45
        }
      ]
    },
    {
      "cell_type": "markdown",
      "source": [
        "### Write a recursive Python function to reverse a string."
      ],
      "metadata": {
        "id": "NgUtxLMzJa5O"
      }
    },
    {
      "cell_type": "code",
      "source": [
        "def rev_str(string):\n",
        "  if not string:\n",
        "    return \"\"\n",
        "  return string[-1]+rev_str(string[:-1])\n",
        "rev_str(\"Dileep\")"
      ],
      "metadata": {
        "colab": {
          "base_uri": "https://localhost:8080/",
          "height": 36
        },
        "id": "kIQK5iWYJdPW",
        "outputId": "ae97c371-f17b-4cbe-cd2d-52302dbdca2d"
      },
      "execution_count": null,
      "outputs": [
        {
          "output_type": "execute_result",
          "data": {
            "text/plain": [
              "'peeliD'"
            ],
            "application/vnd.google.colaboratory.intrinsic+json": {
              "type": "string"
            }
          },
          "metadata": {},
          "execution_count": 68
        }
      ]
    },
    {
      "cell_type": "markdown",
      "source": [
        "### Create a recursive Python function to calculate the power of a number (x^n)."
      ],
      "metadata": {
        "id": "yZqK3gutMBYj"
      }
    },
    {
      "cell_type": "code",
      "source": [
        "def power(x,n):\n",
        "  if n==0:\n",
        "    return 1\n",
        "  else:\n",
        "    return x*power(x,n-1)\n",
        "power(2,3)\n"
      ],
      "metadata": {
        "colab": {
          "base_uri": "https://localhost:8080/"
        },
        "id": "S54cGF-WLdIu",
        "outputId": "84cbc328-e463-4830-836b-7e74ba31c098"
      },
      "execution_count": null,
      "outputs": [
        {
          "output_type": "execute_result",
          "data": {
            "text/plain": [
              "8"
            ]
          },
          "metadata": {},
          "execution_count": 74
        }
      ]
    },
    {
      "cell_type": "markdown",
      "source": [
        "### Write a recursive Python function to find all permutations of a given string."
      ],
      "metadata": {
        "id": "fNM9rNSPf8E-"
      }
    },
    {
      "cell_type": "code",
      "source": [
        "def get_permutations(string,i = 0):\n",
        "    if i == len(string):\n",
        "        print(\"\".join(string))\n",
        "    else:\n",
        "        for j in range(i,len(string)):\n",
        "            words = [c for c in string]\n",
        "            words[i] , words[j] = words[j] , words[i]\n",
        "\n",
        "            get_permutations(words,i+1)\n",
        "get_permutations(input(\"enter string : \"))\n"
      ],
      "metadata": {
        "id": "jD7wxcbyOJF5",
        "colab": {
          "base_uri": "https://localhost:8080/"
        },
        "outputId": "ac2c7176-164b-42f8-d204-989002770369"
      },
      "execution_count": null,
      "outputs": [
        {
          "output_type": "stream",
          "name": "stdout",
          "text": [
            "enter string : abc\n",
            "abc\n",
            "acb\n",
            "bac\n",
            "bca\n",
            "cba\n",
            "cab\n"
          ]
        }
      ]
    },
    {
      "cell_type": "markdown",
      "source": [
        "### Write a recursive Python function to check if a string is a palindrome."
      ],
      "metadata": {
        "id": "RAhuiiK_rGcU"
      }
    },
    {
      "cell_type": "code",
      "source": [
        "def palindrome(string):\n",
        "  if not string:\n",
        "    return \"\"\n",
        "  else:\n",
        "    return string[-1]+palindrome(string[:-1])\n",
        "name = \"malayalam\"\n",
        "result = palindrome(name)\n",
        "if result==name:\n",
        "  print(\"Given string is a palidrome\")\n",
        "else:\n",
        "  print(\"Given string is not a palindrome\")"
      ],
      "metadata": {
        "colab": {
          "base_uri": "https://localhost:8080/"
        },
        "id": "RD_lncgqsWqh",
        "outputId": "f2c50b9b-7003-4318-a4f7-0ff174e37b3f"
      },
      "execution_count": null,
      "outputs": [
        {
          "output_type": "stream",
          "name": "stdout",
          "text": [
            "Given string is a palidrome\n"
          ]
        }
      ]
    },
    {
      "cell_type": "markdown",
      "source": [
        "### Create a recursive Python function to generate all possible combinations of a list of elements."
      ],
      "metadata": {
        "id": "sSk78ncAwAWA"
      }
    },
    {
      "cell_type": "code",
      "source": [
        "def get_combinations(elements, current_combination=None, start=0):\n",
        "    if current_combination is None:\n",
        "        current_combination = []\n",
        "\n",
        "    # Base case: If no more elements to include, print the current combination\n",
        "    if start == len(elements):\n",
        "        print(current_combination)\n",
        "        return\n",
        "\n",
        "    # Include the current element and make a recursive call for the remaining elements\n",
        "    current_combination.append(elements[start])\n",
        "    get_combinations(elements, current_combination, start + 1)\n",
        "\n",
        "    # Exclude the current element and make a recursive call for the remaining elements\n",
        "    current_combination.pop()\n",
        "    get_combinations(elements, current_combination, start + 1)\n",
        "\n",
        "# Example usage:\n",
        "my_list = [1, 2, 3]\n",
        "get_combinations(my_list)\n"
      ],
      "metadata": {
        "colab": {
          "base_uri": "https://localhost:8080/"
        },
        "id": "7oMu7EXgsjSw",
        "outputId": "54028f4f-5026-40f2-e7a4-570f19096e42"
      },
      "execution_count": null,
      "outputs": [
        {
          "output_type": "stream",
          "name": "stdout",
          "text": [
            "[1, 2, 3]\n",
            "[1, 2]\n",
            "[1, 3]\n",
            "[1]\n",
            "[2, 3]\n",
            "[2]\n",
            "[3]\n",
            "[]\n"
          ]
        }
      ]
    },
    {
      "cell_type": "markdown",
      "source": [
        "# Basics of Functions:"
      ],
      "metadata": {
        "id": "Vx19DI2e0RFS"
      }
    },
    {
      "cell_type": "markdown",
      "source": [
        "### What is a function in Python, and why is it used?"
      ],
      "metadata": {
        "id": "bcMF8l-M0Wub"
      }
    },
    {
      "cell_type": "markdown",
      "source": [
        "In Python, a function is a reusable block of code that performs a specific task or set of tasks. It is a way to organize and structure code by breaking it into smaller, modular pieces. Functions in Python are defined using the def keyword, followed by the function name, parameters (if any), a colon, and the function body.\n",
        "\n",
        "Functions are used for several reasons:\n",
        "\n",
        "Code Reusability: Functions allow you to define a piece of code once and reuse it multiple times throughout your program. This helps in avoiding redundancy and makes the code more maintainable."
      ],
      "metadata": {
        "id": "jJ-Eltwb1D6y"
      }
    },
    {
      "cell_type": "markdown",
      "source": [
        "### How do you define a function in Python? Provide an example."
      ],
      "metadata": {
        "id": "e_LiiP2r1F5o"
      }
    },
    {
      "cell_type": "code",
      "source": [
        "def function(a,b):\n",
        "  return a+b\n",
        "function(3,4)"
      ],
      "metadata": {
        "colab": {
          "base_uri": "https://localhost:8080/"
        },
        "id": "e7aVVbc51QUI",
        "outputId": "eea926d4-b876-4d64-abed-cc1b038df52b"
      },
      "execution_count": null,
      "outputs": [
        {
          "output_type": "execute_result",
          "data": {
            "text/plain": [
              "7"
            ]
          },
          "metadata": {},
          "execution_count": 25
        }
      ]
    },
    {
      "cell_type": "markdown",
      "source": [
        "### Explain the difference between a function definition and a function call."
      ],
      "metadata": {
        "id": "HKyb411d2Iso"
      }
    },
    {
      "cell_type": "markdown",
      "source": [
        "Function Definition:\n",
        "\n",
        "A function definition is the process of creating a function. It involves specifying the details of what the function does, its name, parameters (if any), and the code that gets executed when the function is called.\n",
        "\n",
        "In Python, a function is defined using the def keyword, followed by the function name, parameters (if any), a colon, and the function body. The function body contains the code that is executed when the function is called.\n",
        "\n",
        "A function call is the act of invoking or executing a function that has been defined. When you call a function, you are instructing the program to run the code inside the function.\n",
        "\n",
        "To call a function in Python, you use the function name followed by parentheses. If the function takes parameters, you provide the values for those parameters inside the parentheses."
      ],
      "metadata": {
        "id": "LBJ0QPNE2Zq1"
      }
    },
    {
      "cell_type": "markdown",
      "source": [
        "### Write a Python program that defines a function to calculate the sum of two numbers and then calls the function."
      ],
      "metadata": {
        "id": "Y-5o_MyH2e4V"
      }
    },
    {
      "cell_type": "code",
      "source": [
        "def add (a,b):\n",
        "  sum =a+b\n",
        "  return sum\n",
        "add(2,3)"
      ],
      "metadata": {
        "colab": {
          "base_uri": "https://localhost:8080/"
        },
        "id": "AYiQJAJV2jWZ",
        "outputId": "20d4d1b2-fcc6-498d-f639-13e4a40750ab"
      },
      "execution_count": null,
      "outputs": [
        {
          "output_type": "execute_result",
          "data": {
            "text/plain": [
              "5"
            ]
          },
          "metadata": {},
          "execution_count": 26
        }
      ]
    },
    {
      "cell_type": "markdown",
      "source": [
        "### What is a function signature, and what information does it typically include?\n"
      ],
      "metadata": {
        "id": "OVI6qmrw21QO"
      }
    },
    {
      "cell_type": "markdown",
      "source": [
        "\n",
        "A function signature is a concise way to represent essential information about a function in programming. It provides a high-level overview of the function, helping developers understand its purpose and usage. The function signature typically includes the following information:\n",
        "\n",
        "Function Name:\n",
        "\n",
        "The name of the function, which uniquely identifies it within the program.\n",
        "\n",
        "Return Type:\n",
        "The data type of the value that the function returns (if any). If a function doesn't return anything, the return type is often specified as void or omitted.\n",
        "\n",
        "Parameters:\n",
        "The list of parameters or input values that the function accepts. Each parameter includes its data type and a name.\n",
        "For example, in the function signature def add_numbers(x: int, y: int) -> int:, x and y are parameters with the int data type.\n",
        "\n",
        "Parameter Types:\n",
        "The data types of the parameters, indicating the expected data types for the arguments passed to the function.\n",
        "Optional Information (e.g., Annotations, Documentation):\n"
      ],
      "metadata": {
        "id": "uMazjaug3u5y"
      }
    },
    {
      "cell_type": "markdown",
      "source": [
        "### Create a Python function that takes two arguments and returns their product."
      ],
      "metadata": {
        "id": "nzjzhJ-h39t1"
      }
    },
    {
      "cell_type": "code",
      "source": [
        "def product(a,d):\n",
        "  return a*d\n",
        "product(3,4)"
      ],
      "metadata": {
        "colab": {
          "base_uri": "https://localhost:8080/"
        },
        "id": "JoA6ILgd3uH-",
        "outputId": "e5791840-ac27-45fa-e514-46bbefe3609d"
      },
      "execution_count": null,
      "outputs": [
        {
          "output_type": "execute_result",
          "data": {
            "text/plain": [
              "12"
            ]
          },
          "metadata": {},
          "execution_count": 27
        }
      ]
    },
    {
      "cell_type": "markdown",
      "source": [
        "### Function Parameters and Arguments:"
      ],
      "metadata": {
        "id": "un5azBji4cEi"
      }
    },
    {
      "cell_type": "markdown",
      "source": [
        "### Explain the concepts of formal parameters and actual arguments in Python functions."
      ],
      "metadata": {
        "id": "oa05nT1R4eKb"
      }
    },
    {
      "cell_type": "code",
      "source": [
        "def add(x,y): #\n",
        "  return x+y   # these are the actual parameters\n",
        "add(2,4) # these are the actual parameter passing by the value x and y"
      ],
      "metadata": {
        "id": "Gp5Ixkgy2ZAc",
        "colab": {
          "base_uri": "https://localhost:8080/"
        },
        "outputId": "b623b61e-0cfa-41aa-dc76-bf5595bd5aa3"
      },
      "execution_count": 1,
      "outputs": [
        {
          "output_type": "execute_result",
          "data": {
            "text/plain": [
              "6"
            ]
          },
          "metadata": {},
          "execution_count": 1
        }
      ]
    },
    {
      "cell_type": "markdown",
      "source": [
        "### Write a Python program that defines a function with default argument values."
      ],
      "metadata": {
        "id": "VQBvkguzki1u"
      }
    },
    {
      "cell_type": "code",
      "source": [
        "def greet(name, greeting=\"Hello\"):\n",
        "    \"\"\"A function that greets a person with a default greeting.\"\"\"\n",
        "    print(f\"{greeting}, {name}!\")\n",
        "\n",
        "# Calling the function without providing the 'greeting' parameter\n",
        "greet(\"Alice\")  # Output: Hello, Alice!\n",
        "\n",
        "# Calling the function with a custom greeting\n",
        "greet(\"Bob\", \"Hi\")  # Output: Hi, Bob!"
      ],
      "metadata": {
        "id": "MN4wHDmM2NvV",
        "colab": {
          "base_uri": "https://localhost:8080/"
        },
        "outputId": "f4d8407e-206d-401d-a234-2297d70b03a2"
      },
      "execution_count": 8,
      "outputs": [
        {
          "output_type": "stream",
          "name": "stdout",
          "text": [
            "Hello, Alice!\n",
            "Hi, Bob!\n"
          ]
        }
      ]
    },
    {
      "cell_type": "markdown",
      "source": [
        "### How do you use keyword arguments in Python function calls? Provide an example."
      ],
      "metadata": {
        "id": "Rfu6tq0SlGRm"
      }
    },
    {
      "cell_type": "code",
      "source": [
        "def describe_person(name, age, gender):\n",
        "    \"\"\"A function that describes a person based on provided information.\"\"\"\n",
        "    print(f\"Name: {name}, Age: {age}, Gender: {gender}\")\n",
        "describe_person(name=\"Alice\", age=25, gender=\"Female\")\n",
        "\n",
        "describe_person(gender=\"Male\", name=\"Bob\", age=30)\n"
      ],
      "metadata": {
        "colab": {
          "base_uri": "https://localhost:8080/"
        },
        "id": "Ohjr27rTlKsm",
        "outputId": "c1c6eb48-c7da-42fd-84d0-b329d2cd04ff"
      },
      "execution_count": 12,
      "outputs": [
        {
          "output_type": "stream",
          "name": "stdout",
          "text": [
            "Name: Alice, Age: 25, Gender: Female\n",
            "Name: Bob, Age: 30, Gender: Male\n"
          ]
        }
      ]
    },
    {
      "cell_type": "markdown",
      "source": [
        "### Create a Python function that accepts a variable number of arguments and calculates their sum."
      ],
      "metadata": {
        "id": "c-u2Q8Iwo-1-"
      }
    },
    {
      "cell_type": "code",
      "source": [
        "def add_num(*numbers):\n",
        "  x=sum(numbers)\n",
        "  print(x)\n",
        "add_num(1,2,3,4)"
      ],
      "metadata": {
        "colab": {
          "base_uri": "https://localhost:8080/"
        },
        "id": "Tf49lWgQpEaG",
        "outputId": "69cc398e-f3f7-434a-f601-cb2d77a3c6f1"
      },
      "execution_count": 16,
      "outputs": [
        {
          "output_type": "stream",
          "name": "stdout",
          "text": [
            "10\n"
          ]
        }
      ]
    },
    {
      "cell_type": "markdown",
      "source": [
        "### What is the purpose of the `*args` and `**kwargs` syntax in function parameter lists?"
      ],
      "metadata": {
        "id": "vfSBTMShqRzX"
      }
    },
    {
      "cell_type": "code",
      "source": [
        "def function(*args,**kwargs):\n",
        "  print(args)\n",
        "  print(kwargs)\n",
        "\n",
        "function(1,2,name=\"Dileep\",age=20)"
      ],
      "metadata": {
        "colab": {
          "base_uri": "https://localhost:8080/"
        },
        "id": "LPeB2w8YqV02",
        "outputId": "7fad1cf2-b2bc-4f2a-b686-c81858c19990"
      },
      "execution_count": 21,
      "outputs": [
        {
          "output_type": "stream",
          "name": "stdout",
          "text": [
            "(1, 2)\n",
            "{'name': 'Dileep', 'age': 20}\n"
          ]
        }
      ]
    },
    {
      "cell_type": "markdown",
      "source": [
        "### Return Values and Scoping:"
      ],
      "metadata": {
        "id": "9lIN2KjFq-CP"
      }
    },
    {
      "cell_type": "markdown",
      "source": [
        "### Describe the role of the `return` statement in Python functions and provide examples."
      ],
      "metadata": {
        "id": "whkNhOmurC8T"
      }
    },
    {
      "cell_type": "markdown",
      "source": [
        "The return statement in Python functions is used to specify the value(s) that a function should return to the caller. When a return statement is encountered during the execution of a function, the function immediately exits, and the specified value is passed back to the calling code. If no return statement is present, the function implicitly returns None."
      ],
      "metadata": {
        "id": "RKsqD5BZrqXJ"
      }
    },
    {
      "cell_type": "code",
      "source": [
        "def product(a,b):\n",
        "  return a*b\n",
        "product(3,4)"
      ],
      "metadata": {
        "colab": {
          "base_uri": "https://localhost:8080/"
        },
        "id": "3ZEQFVmerHuw",
        "outputId": "713aa450-d371-46e0-f1d2-cc66c6afa84e"
      },
      "execution_count": 23,
      "outputs": [
        {
          "output_type": "execute_result",
          "data": {
            "text/plain": [
              "12"
            ]
          },
          "metadata": {},
          "execution_count": 23
        }
      ]
    },
    {
      "cell_type": "markdown",
      "source": [
        "### Explain the concept of variable scope in Python, including local and global variables."
      ],
      "metadata": {
        "id": "0U3-A_fWr38F"
      }
    },
    {
      "cell_type": "markdown",
      "source": [
        "Local Scope:\n",
        "\n",
        "A variable defined inside a function is said to have local scope.\n",
        "\n",
        "Local variables are only accessible within the function where they are defined.\n",
        "\n",
        "They are created when the function is called and cease to exist when the function execution completes.\n",
        "\n",
        "\n",
        "A variable defined outside of any function or block has a global scope.\n",
        "\n",
        "Global variables are accessible from any part of the code, both inside and outside functions."
      ],
      "metadata": {
        "id": "RikWAq_DtzI1"
      }
    },
    {
      "cell_type": "code",
      "source": [
        "x=\"Good morning\" # Global variable\n",
        "def greet():\n",
        "  print(x)\n",
        "greet()\n",
        "\n",
        "# Local variable\n",
        "def greet():\n",
        "  x=\"Hello\"\n",
        "  y=\"vijay\"\n",
        "  return y,x\n",
        "greet()\n"
      ],
      "metadata": {
        "colab": {
          "base_uri": "https://localhost:8080/"
        },
        "id": "EkqCeY0esELZ",
        "outputId": "4c98eb95-ec63-4168-eb4b-cfbebbfe6ce3"
      },
      "execution_count": 32,
      "outputs": [
        {
          "output_type": "stream",
          "name": "stdout",
          "text": [
            "Good morning\n"
          ]
        },
        {
          "output_type": "execute_result",
          "data": {
            "text/plain": [
              "('vijay', 'Hello')"
            ]
          },
          "metadata": {},
          "execution_count": 32
        }
      ]
    },
    {
      "cell_type": "markdown",
      "source": [
        "### Write a Python program that demonstrates the use of global variables within functions."
      ],
      "metadata": {
        "id": "z4Jgeya-t5ep"
      }
    },
    {
      "cell_type": "code",
      "source": [
        "x=10 # global variable\n",
        "def product():\n",
        "  y=20\n",
        "  print(x+y)\n",
        "product()"
      ],
      "metadata": {
        "colab": {
          "base_uri": "https://localhost:8080/"
        },
        "id": "0Gqmoo6Bt95N",
        "outputId": "7095252c-9252-4ec4-8fa3-2319f2241dd5"
      },
      "execution_count": 33,
      "outputs": [
        {
          "output_type": "stream",
          "name": "stdout",
          "text": [
            "30\n"
          ]
        }
      ]
    },
    {
      "cell_type": "markdown",
      "source": [
        "### Create a Python function that calculates the factorial of a number and returns it."
      ],
      "metadata": {
        "id": "LnkkWvrcuOaj"
      }
    },
    {
      "cell_type": "code",
      "source": [
        "def factorial(n):\n",
        "  if n<=1:\n",
        "    return 1\n",
        "  else:\n",
        "    return n*factorial(n-1)\n",
        "factorial(5)"
      ],
      "metadata": {
        "colab": {
          "base_uri": "https://localhost:8080/"
        },
        "id": "6BsmOVTauTXO",
        "outputId": "f11912b9-f215-4f0b-a50c-a2ee65c2d026"
      },
      "execution_count": 35,
      "outputs": [
        {
          "output_type": "execute_result",
          "data": {
            "text/plain": [
              "120"
            ]
          },
          "metadata": {},
          "execution_count": 35
        }
      ]
    },
    {
      "cell_type": "markdown",
      "source": [
        "### How can you access variables defined outside a function from within the function?"
      ],
      "metadata": {
        "id": "4WLfCTsQu4mh"
      }
    },
    {
      "cell_type": "code",
      "source": [
        "global_variable = \"I am global\"\n",
        "\n",
        "def access_global_variable():\n",
        "    print(\"Inside function:\", global_variable)\n",
        "\n",
        "access_global_variable()  # Call the function\n",
        "print(\"Outside function:\", global_variable)\n"
      ],
      "metadata": {
        "colab": {
          "base_uri": "https://localhost:8080/"
        },
        "id": "blogmvOAu7mE",
        "outputId": "66202062-a56a-4e72-e18c-560c75a87aaf"
      },
      "execution_count": 36,
      "outputs": [
        {
          "output_type": "stream",
          "name": "stdout",
          "text": [
            "Inside function: I am global\n",
            "Outside function: I am global\n"
          ]
        }
      ]
    },
    {
      "cell_type": "markdown",
      "source": [
        "# Lambda Functions and Higher-Order Functions:"
      ],
      "metadata": {
        "id": "m__ls_KdvKqs"
      }
    },
    {
      "cell_type": "markdown",
      "source": [
        "### What are lambda functions in Python, and when are they typically used?\n"
      ],
      "metadata": {
        "id": "ws5h2B1HvNLk"
      }
    },
    {
      "cell_type": "markdown",
      "source": [
        "\n",
        "Lambda functions in Python, also known as anonymous functions, are small, unnamed functions defined using the lambda keyword. Lambda functions are often used for short, simple operations where a full function definition using the def keyword seems unnecessary.\n",
        "syntax of the lambda function is\n",
        "\n",
        "\"lambda arguments: expression\"\n"
      ],
      "metadata": {
        "id": "hFXa9MtmvXcd"
      }
    },
    {
      "cell_type": "markdown",
      "source": [
        "### Write a Python program that uses lambda functions to sort a list of tuples based on the second element."
      ],
      "metadata": {
        "id": "9A2vqgkCvpiR"
      }
    },
    {
      "cell_type": "code",
      "source": [
        "lst=[(0,1,4),(0,5,3),(3,2,7)]\n",
        "x=sorted(lst,key=lambda a:a[1])\n",
        "print(x)"
      ],
      "metadata": {
        "colab": {
          "base_uri": "https://localhost:8080/"
        },
        "id": "_Y5rPD_SvtPZ",
        "outputId": "1c96721e-c6b0-4566-b7cb-14eec99ec4cf"
      },
      "execution_count": 41,
      "outputs": [
        {
          "output_type": "stream",
          "name": "stdout",
          "text": [
            "[(0, 1, 4), (3, 2, 7), (0, 5, 3)]\n"
          ]
        }
      ]
    },
    {
      "cell_type": "markdown",
      "source": [
        "### Explain the concept of higher-order functions in Python, and provide an example."
      ],
      "metadata": {
        "id": "RtGuOADTwf3S"
      }
    },
    {
      "cell_type": "code",
      "source": [
        "def apply_operation(operation, x, y):\n",
        "    \"\"\"A higher-order function that takes an operation function and applies it to x and y.\"\"\"\n",
        "    return operation(x, y)\n",
        "\n",
        "result_add = apply_operation(lambda x, y: x + y, 3, 5)\n",
        "result_multiply = apply_operation(lambda x, y: x * y, 3, 5)\n",
        "\n",
        "print(\"Addition Result:\", result_add)\n",
        "print(\"Multiplication Result:\", result_multiply)\n"
      ],
      "metadata": {
        "colab": {
          "base_uri": "https://localhost:8080/"
        },
        "id": "fALMAf1txf8U",
        "outputId": "edf18dc1-b814-40d9-c00c-ddf03a04329b"
      },
      "execution_count": 42,
      "outputs": [
        {
          "output_type": "stream",
          "name": "stdout",
          "text": [
            "Addition Result: 8\n",
            "Multiplication Result: 15\n"
          ]
        }
      ]
    },
    {
      "cell_type": "markdown",
      "source": [
        "### Create a Python function that takes a list of numbers and a function as arguments, applying the function to each element in the list.\n"
      ],
      "metadata": {
        "id": "TZGBM9FixwYY"
      }
    },
    {
      "cell_type": "code",
      "source": [
        "def apply_function_to_list(numbers, func):\n",
        "    result = [func(x) for x in numbers]\n",
        "    return result\n",
        "numbers = [1, 2, 3, 4, 5]\n",
        "squared_numbers = apply_function_to_list(numbers, lambda x: x**2)\n",
        "\n",
        "print(\"Original List:\", numbers)\n",
        "print(\"Squared Numbers:\", squared_numbers)\n"
      ],
      "metadata": {
        "colab": {
          "base_uri": "https://localhost:8080/"
        },
        "id": "CndUj77Bx1cl",
        "outputId": "0ca47dbb-a95f-4596-c270-9af2dc25e1af"
      },
      "execution_count": 43,
      "outputs": [
        {
          "output_type": "stream",
          "name": "stdout",
          "text": [
            "Original List: [1, 2, 3, 4, 5]\n",
            "Squared Numbers: [1, 4, 9, 16, 25]\n"
          ]
        }
      ]
    },
    {
      "cell_type": "markdown",
      "source": [
        "### Built-in Functions:"
      ],
      "metadata": {
        "id": "iFGeRkJ-yfQm"
      }
    },
    {
      "cell_type": "markdown",
      "source": [
        "### Describe the role of built-in functions like `len()`, `max()`, and `min()` in Python.\n"
      ],
      "metadata": {
        "id": "dWX2HNILylPq"
      }
    },
    {
      "cell_type": "markdown",
      "source": [
        "len() Function:\n",
        "\n",
        "Role: The len() function is used to determine the length or the number of elements in an iterable or the size of a data structure.\n",
        "\n",
        "max() Function:\n",
        "\n",
        "Role: The max() function is used to find the maximum value among the arguments provided or within an iterable.\n",
        "\n",
        "\n",
        "min() Function:\n",
        "\n",
        "Role: The min() function is used to find the minimum value among the arguments provided or within an iterable."
      ],
      "metadata": {
        "id": "kFJqO9cIywqn"
      }
    },
    {
      "cell_type": "markdown",
      "source": [
        "### Write a Python program that uses the `map()` function to apply a function to each element of a list."
      ],
      "metadata": {
        "id": "uoDm5gDry6AF"
      }
    },
    {
      "cell_type": "code",
      "source": [
        "lst=[1,2,3,4,5,6,7,8]\n",
        "x=map(lambda x:x+2,lst)\n",
        "print(list(x))"
      ],
      "metadata": {
        "colab": {
          "base_uri": "https://localhost:8080/"
        },
        "id": "qVVAvT2NycES",
        "outputId": "ee7bdd80-1aa0-4f55-ff68-ded4cbfb7953"
      },
      "execution_count": 47,
      "outputs": [
        {
          "output_type": "stream",
          "name": "stdout",
          "text": [
            "[3, 4, 5, 6, 7, 8, 9, 10]\n"
          ]
        }
      ]
    },
    {
      "cell_type": "markdown",
      "source": [
        "### How does the `filter()` function work in Python, and when would you use it?"
      ],
      "metadata": {
        "id": "GaVhrEZqzb-f"
      }
    },
    {
      "cell_type": "code",
      "source": [
        "def add_num(n):\n",
        "  return n%2==0\n",
        "number=[1,2,3,4,5,6,7,8,9]\n",
        "x=filter(add_num,numbers)\n",
        "print(list(x))\n"
      ],
      "metadata": {
        "id": "b52v0zCQzf9R"
      },
      "execution_count": 61,
      "outputs": []
    },
    {
      "cell_type": "markdown",
      "source": [
        "### Create a Python program that uses the `reduce()` function to find the product of all elements in a list."
      ],
      "metadata": {
        "id": "9PV_LRiU1W-P"
      }
    },
    {
      "cell_type": "code",
      "source": [
        "from functools import reduce\n",
        "x=reduce(lambda x,y:x*y,[1,2,3,4,5])\n",
        "print(x)"
      ],
      "metadata": {
        "colab": {
          "base_uri": "https://localhost:8080/"
        },
        "id": "MSozKPtp0ZAb",
        "outputId": "e12d0459-4e27-4139-a02c-30970ccc002c"
      },
      "execution_count": 64,
      "outputs": [
        {
          "output_type": "stream",
          "name": "stdout",
          "text": [
            "120\n"
          ]
        }
      ]
    },
    {
      "cell_type": "markdown",
      "source": [
        "### Function Documentation and Best Practices:\n"
      ],
      "metadata": {
        "id": "77JcACh614OC"
      }
    },
    {
      "cell_type": "markdown",
      "source": [
        "### Explain the purpose of docstrings in Python functions and how to write them."
      ],
      "metadata": {
        "id": "ZMdXTBee2Jib"
      }
    },
    {
      "cell_type": "code",
      "source": [
        "def add(x, y):\n",
        "    \"\"\"\n",
        "    This function takes two parameters, x and y, and returns their sum.\n",
        "\n",
        "    Parameters:\n",
        "    - x (int): The first number.\n",
        "    - y (int): The second number.\n",
        "\n",
        "    Returns:\n",
        "    int: The sum of x and y.\n",
        "    \"\"\"\n",
        "    return x + y\n",
        "\n",
        "print(add(1,3))"
      ],
      "metadata": {
        "colab": {
          "base_uri": "https://localhost:8080/"
        },
        "id": "Gx05BjxB2CRK",
        "outputId": "7cf1b88e-68e0-407c-d90b-609dc8874427"
      },
      "execution_count": 65,
      "outputs": [
        {
          "output_type": "stream",
          "name": "stdout",
          "text": [
            "4\n"
          ]
        }
      ]
    },
    {
      "cell_type": "markdown",
      "source": [
        "### Describe some best practices for naming functions and variables in Python, including naming conventions and guidelines."
      ],
      "metadata": {
        "id": "W9DvF8V_2hqo"
      }
    },
    {
      "cell_type": "markdown",
      "source": [
        "General Naming Guidelines:\n",
        "Descriptive Names:\n",
        "\n",
        "Choose names that accurately describe the purpose or role of the function or variable. Use meaningful words or phrases to enhance code readability.\n",
        "Avoid Single-Letter Names:\n",
        "\n",
        "Except for simple loop variables (i, j, k), avoid single-letter variable names. Meaningful names provide better context.\n",
        "Naming Conventions:\n",
        "\n"
      ],
      "metadata": {
        "id": "nsv68Izl18U_"
      }
    },
    {
      "cell_type": "markdown",
      "source": [],
      "metadata": {
        "id": "P5bssYFY30iP"
      }
    }
  ],
  "metadata": {
    "colab": {
      "provenance": [],
      "authorship_tag": "ABX9TyMLdqkWmLiENGR57+ZEalW0",
      "include_colab_link": true
    },
    "kernelspec": {
      "display_name": "Python 3",
      "name": "python3"
    },
    "language_info": {
      "name": "python"
    }
  },
  "nbformat": 4,
  "nbformat_minor": 0
}