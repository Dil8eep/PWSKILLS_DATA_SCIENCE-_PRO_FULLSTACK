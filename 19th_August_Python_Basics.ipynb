{
  "nbformat": 4,
  "nbformat_minor": 0,
  "metadata": {
    "colab": {
      "provenance": []
    },
    "kernelspec": {
      "name": "python3",
      "display_name": "Python 3"
    },
    "language_info": {
      "name": "python"
    }
  },
  "cells": [
    {
      "cell_type": "markdown",
      "source": [
        "#1. Declare two variables, `x` and `y`, and assign them integer values. Swap the\n",
        "# values of these variables without using any temporary variable."
      ],
      "metadata": {
        "id": "NdGZ4dUVyUhK"
      }
    },
    {
      "cell_type": "code",
      "source": [
        "x=34  #decalring x variable\n",
        "y=45 #declarng y variable\n",
        "print(\"x before swaping:\",x,\" y before swaping:\",y)\n",
        "x,y=y,x #swaping the variable\n",
        "print(\"x after swaping:\",x,\" y after swaping:\",y)"
      ],
      "metadata": {
        "colab": {
          "base_uri": "https://localhost:8080/"
        },
        "id": "ACskadIeyekv",
        "outputId": "0e869f20-9dfe-44f3-dba9-0b782bd627da"
      },
      "execution_count": null,
      "outputs": [
        {
          "output_type": "stream",
          "name": "stdout",
          "text": [
            "x before swaping: 34  y before swaping: 45\n",
            "x after swaping: 45  y after swaping: 34\n"
          ]
        }
      ]
    },
    {
      "cell_type": "markdown",
      "source": [
        "* x = 34 and y = 45:\n",
        "\n",
        "* You start by declaring two variables, x and y.\n",
        "x is assigned the value 34.\n",
        "y is assigned the value 45.\n",
        "print(\"x before swaping:\", x, \"y before swaping:\", y):\n",
        "\n",
        "* This line prints the values of x and `y before swapping.\n",
        "The output will be something like: \"x before swaping: 34 y before swaping: 45\".\n",
        "\n",
        "* x, y = y, x:\n",
        "This is a swapping operation using tuple unpacking.\n",
        "It means that the values of x and y are exchanged.\n",
        "After this line, x will have the value 45, and y will have the value 34.\n",
        "print(\"x after swaping:\", x, \"y after swaping:\", y):\n",
        "\n",
        "* This line prints the values of x and `y after the swapping.\n",
        "The output will be something like: \"x after swaping: 45 y after swaping: 34\".\n",
        "\n",
        "\n",
        "   \n",
        "\n",
        "\n",
        "\n",
        "\n"
      ],
      "metadata": {
        "id": "pMjGyNfQz2is"
      }
    },
    {
      "cell_type": "markdown",
      "source": [
        "# 2.Create a program that calculates the area of a rectangle. Take the length and\n",
        "# width as inputs from the user and store them in variables. Calculate and\n",
        "# #display the area."
      ],
      "metadata": {
        "id": "vobllx_a1RrM"
      }
    },
    {
      "cell_type": "code",
      "source": [
        "length=int(input(\"enter length of rectangle:\")) #taking user input for length\n",
        "breath=int(input(\"enter breath of rectangle:\")) #taking user input for breath\n",
        "area = length*breath # formula for area of a rectangle\n",
        "print(\"area of a rectangle :\",area) #priting the area"
      ],
      "metadata": {
        "colab": {
          "base_uri": "https://localhost:8080/"
        },
        "id": "bMMGiXZz1v8a",
        "outputId": "24cd23f0-e1e6-4764-a50b-8835ec2b3a28"
      },
      "execution_count": null,
      "outputs": [
        {
          "output_type": "stream",
          "name": "stdout",
          "text": [
            "enter length of rectangle:23\n",
            "enter breath of rectangle:34\n",
            "area of a rectangle : 782\n"
          ]
        }
      ]
    },
    {
      "cell_type": "markdown",
      "source": [
        "* length = int(input(\"enter length of rectangle:\")):\n",
        "\n",
        "* This line of code prompts the user to enter the length of a rectangle and waits for their input.\n",
        "input() is used to take user input, and int() is used to convert the user's input (which is initially a string) into an integer.\n",
        "The entered value is stored in the variable length.\n",
        "breath = int(input(\"enter breath of rectangle:\")):\n",
        "\n",
        "* Similar to the previous line, this line prompts the user to enter the breadth (width) of the rectangle and stores the input as an integer in the variable breath.\n",
        "area = length * breath:\n",
        "\n",
        "* This line calculates the area of the rectangle. It multiplies the values stored in length and breath to compute the area.\n",
        "The result is stored in the variable area.\n",
        "print(\"area of a rectangle:\", area):\n",
        "\n",
        "* This line prints the calculated area of the rectangle.\n",
        "It displays a message \"area of a rectangle:\" followed by the value stored in the area variable."
      ],
      "metadata": {
        "id": "mGjRYOhI515R"
      }
    },
    {
      "cell_type": "markdown",
      "source": [],
      "metadata": {
        "id": "DoGv3WHW6Ab9"
      }
    },
    {
      "cell_type": "markdown",
      "source": [
        "# 3. Write a Python program that converts temperatures from Celsius toFahrenheit. Take the temperature in Celsius as input, store it in a variable,convert it to Fahrenheit, and display the result."
      ],
      "metadata": {
        "id": "VlB0u5K86iV6"
      }
    },
    {
      "cell_type": "code",
      "source": [
        "celsius_temperature=int(input(\"enter temperature in celsius:\")) #taking user input for celsius temperature\n",
        "Fahrenheit_temperature=(celsius_temperature * 9/5)+32 #Formula for converting celsius to farenheit temperutre\n",
        "print(\"Fahrenheit_temperature:\",Fahrenheit_temperature)"
      ],
      "metadata": {
        "colab": {
          "base_uri": "https://localhost:8080/"
        },
        "id": "NNrJYOn064p8",
        "outputId": "689d6087-c787-4922-d6ae-24aa1105b3b8"
      },
      "execution_count": null,
      "outputs": [
        {
          "output_type": "stream",
          "name": "stdout",
          "text": [
            "enter temperature in celsius:23\n",
            "Fahrenheit_temperature: 73.4\n"
          ]
        }
      ]
    },
    {
      "cell_type": "markdown",
      "source": [
        "* celsius_temperature = int(input(\"enter temperature in celsius:\")):\n",
        "\n",
        "* This line of code prompts the user to enter a temperature in degrees Celsius and waits for their input.\n",
        "input() is used to take user input, and int() is used to convert the user's input (which is initially a string) into an integer.\n",
        "The entered temperature in degrees Celsius is stored in the variable celsius_temperature.\n",
        "Fahrenheit_temperature = (celsius_temperature * 9/5) + 32:\n",
        "\n",
        "* This line calculates the equivalent temperature in degrees Fahrenheit.\n",
        "The formula to convert temperature from Celsius to Fahrenheit is (°C × 9/5) + 32. This formula is applied here.\n",
        "The result of the conversion is stored in the variable Fahrenheit_temperature.\n",
        "print(\"Fahrenheit_temperature:\", Fahrenheit_temperature):\n",
        "\n",
        "* This line prints the converted temperature in degrees Fahrenheit.\n",
        "It displays the message \"Fahrenheit_temperature:\" followed by the value stored in the Fahrenheit_temperature variable, which represents the temperature in Fahrenheit.\n",
        "\n",
        "\n",
        "The code allows the user to input a temperature in degrees Celsius, converts it to degrees Fahrenheit using the conversion formula, and then prints the result. This is a common task when working with temperature units in different systems (Celsius and Fahrenheit)."
      ],
      "metadata": {
        "id": "-TaSFGUZ8I8G"
      }
    },
    {
      "cell_type": "markdown",
      "source": [],
      "metadata": {
        "id": "TmSqqy50ySkZ"
      }
    },
    {
      "cell_type": "markdown",
      "source": [
        "# TOPIC: String Based Questions"
      ],
      "metadata": {
        "id": "9y7_ylkI8SBL"
      }
    },
    {
      "cell_type": "markdown",
      "source": [
        "#1. Write a Python program that takes a string as input and prints the length the string."
      ],
      "metadata": {
        "id": "rjZfBT578lK5"
      }
    },
    {
      "cell_type": "code",
      "source": [
        "string=str(input(\"enter the string\")) #taking userinput for a string\n",
        "length_of_string=len(string) #calculating the length of a string\n",
        "print(\"length of string:\",length_of_string)"
      ],
      "metadata": {
        "colab": {
          "base_uri": "https://localhost:8080/"
        },
        "id": "R9jE3GRZ9AsH",
        "outputId": "aaa1cb66-a32a-443a-9f9c-070570f6f90f"
      },
      "execution_count": null,
      "outputs": [
        {
          "output_type": "stream",
          "name": "stdout",
          "text": [
            "enter the stringDileep\n",
            "length of string: 6\n"
          ]
        }
      ]
    },
    {
      "cell_type": "markdown",
      "source": [
        "* string = str(input(\"enter the string\")):\n",
        "\n",
        "This line of code prompts the user to enter a string and waits for their input.\n",
        "input() is used to take user input, and str() is used to convert the user's input (which is initially a string) into a string. However, this conversion is not necessary since input() already returns a string.\n",
        "The entered string is stored in the variable string.\n",
        "\n",
        "* length_of_string = len(string):\n",
        "\n",
        "This line calculates the length of the string.\n",
        "The len() function is used to determine the number of characters (including spaces) in the string stored in the variable string.\n",
        "The result is stored in the variable length_of_string.\n",
        "\n",
        "* print(\"length of string:\", length_of_string):\n",
        "\n",
        "This line prints the length of the input string.\n",
        "It displays the message \"length of string:\" followed by the value stored in the length_of_string variable, which represents the length of the string."
      ],
      "metadata": {
        "id": "gs4iY5zX_bC_"
      }
    },
    {
      "cell_type": "markdown",
      "source": [
        "# 2. Create a program that takes a sentence from the user and counts the number\n",
        "# of vowels (a, e, i, o, u) in the string."
      ],
      "metadata": {
        "id": "ckG81nax_rBp"
      }
    },
    {
      "cell_type": "code",
      "source": [
        "sentence=str(input(\"enter sentence:\")) # taking user input for sentence\n",
        "vowel_count=0 #taking input as vowel count\n",
        "for i in sentence:\n",
        "  if i in \"aeiou\":\n",
        "    vowel_count +=1\n",
        "print(\"the number of vowels in sentence:\",vowel_count) #Display the result\n",
        "\n",
        "\n",
        "\n"
      ],
      "metadata": {
        "colab": {
          "base_uri": "https://localhost:8080/"
        },
        "id": "zyGDy27OAEbD",
        "outputId": "281356ae-512d-4f33-a15b-2e8f4d50cdeb"
      },
      "execution_count": null,
      "outputs": [
        {
          "output_type": "stream",
          "name": "stdout",
          "text": [
            "enter sentence:this is an internship\n",
            "the number of vowels in sentence: 6\n"
          ]
        }
      ]
    },
    {
      "cell_type": "markdown",
      "source": [
        "* sentence = str(input(\"enter sentence:\")):\n",
        "\n",
        "This line prompts the user to enter a sentence and waits for their input.\n",
        "input() is used to take user input, and str() is used to convert the user's input (which is initially a string) into a string, although the conversion is not strictly necessary since input() already returns a string.\n",
        "The entered sentence is stored in the variable sentence.\n",
        "\n",
        "* vowel_count = 0:\n",
        "\n",
        "This line initializes a variable vowel_count to 0. This variable will be used to keep track of the number of vowels in the input sentence.\n",
        "\n",
        "* for i in sentence::\n",
        "\n",
        "This line starts a for loop that iterates through each character in the sentence string. It processes one character at a time.\n",
        "\n",
        "* if i in \"aeiou\"::\n",
        "\n",
        "This line checks if the current character i is a vowel. It does so by comparing i to the string \"aeiou\", which contains all the lowercase vowels ('a', 'e', 'i', 'o', 'u').\n",
        "\n",
        "* vowel_count += 1:\n",
        "\n",
        "If the current character i is a vowel, this line increments the vowel_count variable by 1. It counts the vowels in the sentence.\n",
        "\n",
        "* print(\"the number of vowels in sentence:\", vowel_count):\n",
        "\n",
        "After the loop completes, this line prints the count of vowels in the sentence.\n",
        "It displays the message \"the number of vowels in sentence:\" followed by the value stored in the vowel_count variable, which represents the count of vowels in the input sentence."
      ],
      "metadata": {
        "id": "QdIzLcA1EoV8"
      }
    },
    {
      "cell_type": "markdown",
      "source": [
        "# 3. Given a string, reverse the order of characters using string slicing and print the reversed string."
      ],
      "metadata": {
        "id": "_ANu_zNdFSHH"
      }
    },
    {
      "cell_type": "code",
      "source": [
        "String=str(input(\"enter the string\")) #taken input user to the string\n",
        "reversed_string=String[::-1] #reversed the string to the given string\n",
        "print(\"revrsed string of the given string is:\",reversed_string) #display the output"
      ],
      "metadata": {
        "id": "j4R6w1RDFX6H",
        "colab": {
          "base_uri": "https://localhost:8080/"
        },
        "outputId": "7a3236c2-c7ea-4306-9f5f-dee0eff880ab"
      },
      "execution_count": 2,
      "outputs": [
        {
          "output_type": "stream",
          "name": "stdout",
          "text": [
            "enter the stringPHYSICSWALA\n",
            "revrsed string of the given string is: ALAWSCISYHP\n"
          ]
        }
      ]
    },
    {
      "cell_type": "markdown",
      "source": [
        "* String = str(input(\"enter the string\")): This line takes input from the user and stores it in the variable String. The input() function is used to get a string input from the user. The str() function is used to ensure that the input is treated as a string.\n",
        "\n",
        "* reversed_string = String[::-1]: This line creates a new variable called reversed_string by using slicing notation with [::-1]. This slicing notation is used to reverse the characters in the String.\n",
        "\n",
        "* print(\"reversed string of the given string is:\", reversed_string): This line prints the original string with the message \"reversed string of the given string is:\" and then appends the reversed_string to the message. This displays the reversed string to the user."
      ],
      "metadata": {
        "id": "UVmG2qyslMEz"
      }
    },
    {
      "cell_type": "markdown",
      "source": [
        "# 4. Write a program that takes a string as input and checks if it is a palindrome (reads the same forwards and backwards)."
      ],
      "metadata": {
        "id": "-ymknWf4lRbY"
      }
    },
    {
      "cell_type": "code",
      "source": [
        "string=str(input(\"enter the string:\")) #taking string as user input\n",
        "reversed_string=string[::-1] #reversing the string\n",
        "if string == reversed_string: #applying if condition for both are equal or not\n",
        "  print(\"given string is palindrome\") # if both are equal print this statement\n",
        "else:\n",
        "  print(\"given string is not a palindrome\") # not equal print this statement\n",
        ""
      ],
      "metadata": {
        "colab": {
          "base_uri": "https://localhost:8080/"
        },
        "id": "C4tZKYv2lzNv",
        "outputId": "e4cd3695-44e8-44f1-bcd6-efc93256daf0"
      },
      "execution_count": 3,
      "outputs": [
        {
          "output_type": "stream",
          "name": "stdout",
          "text": [
            "enter the string:MALAYALAM\n",
            "given string is palindrome\n"
          ]
        }
      ]
    },
    {
      "cell_type": "markdown",
      "source": [
        "* string = str(input(\"enter the string:\")): This line takes an input string from the user and stores it in the variable string. The input() function is used to get a string input from the user, and the str() function is used to ensure that the input is treated as a string.\n",
        "\n",
        "* reversed_string = string[::-1]: This line creates a new variable called reversed_string by using slicing notation with [::-1]. This slicing notation is used to reverse the characters in the string.\n",
        "\n",
        "* if string == reversed_string:: This line begins an if statement to compare the original string string with the reversed string reversed_string. If they are equal, it means the input string is a palindrome because it reads the same forward and backward.\n",
        "\n",
        "* print(\"given string is palindrome\"): If the condition in the if statement is True (i.e., the string is a palindrome), this line prints \"given string is palindrome\" to indicate that the input string is indeed a palindrome.\n",
        "\n",
        "* else:: If the condition in the if statement is False (i.e., the string is not a palindrome), the code in the else block will be executed.\n",
        "\n",
        "* print(\"given string is not a palindrome\"): In the else block, this line prints \"given string is not a palindrome\" to indicate that the input string is not a palindrome."
      ],
      "metadata": {
        "id": "zjDL6IfmmrD-"
      }
    },
    {
      "cell_type": "markdown",
      "source": [
        "# 5.Create a program that takes a string as input and removes all the spaces from it. Print the modified string without spaces."
      ],
      "metadata": {
        "id": "ZbuztxtJnbat"
      }
    },
    {
      "cell_type": "code",
      "source": [
        "string=str(input(\"enter the string:\")) #taking string as user input\n",
        "modified_string=string.replace(\" \",\"\") # removing the space by using repalce function\n",
        "print(\"the string without spaces:\",modified_string)"
      ],
      "metadata": {
        "colab": {
          "base_uri": "https://localhost:8080/"
        },
        "id": "yk1RASYQnkFQ",
        "outputId": "fef60fc1-fc57-478c-9014-18a6e358e843"
      },
      "execution_count": 5,
      "outputs": [
        {
          "output_type": "stream",
          "name": "stdout",
          "text": [
            "enter the string:HELLO WORLD\n",
            "the string without spaces: HELLOWORLD\n"
          ]
        }
      ]
    },
    {
      "cell_type": "markdown",
      "source": [
        "* string = str(input(\"enter the string:\")): This line prompts the user to enter a string and stores the input in the variable string. The input() function is used to get a string input from the user, and the str() function ensures that the input is treated as a string.\n",
        "\n",
        "* modified_string = string.replace(\" \", \"\"): This line creates a new variable called modified_string by using the replace() method on the string. The replace() method is used to find all occurrences of a space character (\" \") in the original string and replace them with an empty string (i.e., remove the spaces).\n",
        "\n",
        "* print(\"the string without spaces:\", modified_string): This line prints the original string with the message \"the string without spaces:\" and then appends the modified_string to the message. It displays the modified string without spaces to the user."
      ],
      "metadata": {
        "id": "9TjWC1IPpFYf"
      }
    }
  ]
}