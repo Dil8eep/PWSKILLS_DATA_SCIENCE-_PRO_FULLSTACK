{
  "cells": [
    {
      "cell_type": "markdown",
      "metadata": {
        "id": "view-in-github",
        "colab_type": "text"
      },
      "source": [
        "<a href=\"https://colab.research.google.com/github/Dil8eep/PWSKILLS_DATA_SCIENCE-_PRO_FULLSTACK/blob/main/OOPS_Assignment.ipynb\" target=\"_parent\"><img src=\"https://colab.research.google.com/assets/colab-badge.svg\" alt=\"Open In Colab\"/></a>"
      ]
    },
    {
      "cell_type": "markdown",
      "metadata": {
        "id": "OkujEH4VBaz2"
      },
      "source": [
        "# Constructor:"
      ]
    },
    {
      "cell_type": "markdown",
      "metadata": {
        "id": "FLRINXkdBTHG"
      },
      "source": [
        "### 1. What is a constructor in Python? Explain its purpose and usage."
      ]
    },
    {
      "cell_type": "markdown",
      "metadata": {
        "id": "vZZhgCHMCV7Z"
      },
      "source": [
        "In Python, a constructor is a special method that is automatically called when an object of a class is created. It is used to initialize the attributes of the object and perform any setup or initialization tasks that are necessary before the object can be used. The constructor method in Python is named __init__.\n",
        "\n",
        "The purpose of a constructor is to ensure that the object is in a valid and usable state after it is created. It allows you to set the initial values for the attributes of the object, providing a way to customize the object's behavior during instantiation."
      ]
    },
    {
      "cell_type": "markdown",
      "metadata": {
        "id": "fkVnU3X3Cah_"
      },
      "source": [
        "### 2. Differentiate between a parameterless constructor and a parameterized constructor in Python."
      ]
    },
    {
      "cell_type": "code",
      "execution_count": null,
      "metadata": {
        "colab": {
          "base_uri": "https://localhost:8080/"
        },
        "id": "t5VUIE9iCche",
        "outputId": "323f3b13-4783-48d1-fcb3-9034ec0bcf27"
      },
      "outputs": [
        {
          "name": "stdout",
          "output_type": "stream",
          "text": [
            "Dileep\n",
            "Dileep\n",
            "20\n"
          ]
        }
      ],
      "source": [
        "#paramterless constructor\n",
        "class parameterless:\n",
        "  def __init__(self):\n",
        "    self.name=\"Dileep\"\n",
        "obj=parameterless()\n",
        "print(obj.name)\n",
        "#paramater constructor\n",
        "class parameter:\n",
        "  def __init__(self,name,age):\n",
        "    self.name=name\n",
        "    self.age=age\n",
        "obj1=parameter(\"Dileep\",20)\n",
        "print(obj1.name)\n",
        "print(obj1.age)"
      ]
    },
    {
      "cell_type": "markdown",
      "metadata": {
        "id": "FQDz5J7aFovm"
      },
      "source": [
        "### 3. How do you define a constructor in a Python class? Provide an example."
      ]
    },
    {
      "cell_type": "code",
      "execution_count": null,
      "metadata": {
        "colab": {
          "base_uri": "https://localhost:8080/"
        },
        "id": "DGoEtUsGFwQm",
        "outputId": "07330398-5ee3-440e-a9ca-e71d16c7e708"
      },
      "outputs": [
        {
          "name": "stdout",
          "output_type": "stream",
          "text": [
            "The name of the course is Data science\n",
            "The mentor for the course is Sudhanskumar\n"
          ]
        }
      ],
      "source": [
        "#In Python, a constructor is defined using the __init__ method within a class. This method is automatically called when an object of the class is created.\n",
        "#It allows you to initialize the object's attributes or perform any setup needed during instantiation.\n",
        "#Example\n",
        "class constructor:\n",
        "  def __init__(self,course,mentor):\n",
        "    self.course=course\n",
        "    self.mentor=mentor\n",
        "  def pwskills(self):\n",
        "    print(f\"The name of the course is {self.course}\")\n",
        "    print(f\"The mentor for the course is {self.mentor}\")\n",
        "obj1=constructor(\"Data science\",\"Sudhanskumar\")\n",
        "obj1.pwskills()"
      ]
    },
    {
      "cell_type": "markdown",
      "metadata": {
        "id": "3cEUoYQzHvLJ"
      },
      "source": [
        "### 4. Explain the `__init__` method in Python and its role in constructors."
      ]
    },
    {
      "cell_type": "markdown",
      "metadata": {
        "id": "drNKz3YSICVz"
      },
      "source": [
        "In Python, the __init__ method is a special method that serves as a constructor in a class. The name __init__ is reserved, and it is automatically called when an object of the class is created. Its primary role is to initialize the attributes or perform any necessary setup for the object.\n",
        "\n",
        "Here are some key points about the __init__ method and its role in constructors:\n",
        "\n",
        "Initialization:\n",
        "The primary purpose of the __init__ method is to initialize the attributes of the object.\n",
        "It allows you to set the initial state of the object based on the values provided during instantiation.\n",
        "Automatic Invocation:\n",
        "\n",
        "The __init__ method is called automatically when an instance of the class is created.\n",
        "It takes the instance itself (self) as the first parameter, followed by any additional parameters you define.\n",
        "\n",
        "Parameters:\n",
        "Besides self, the __init__ method can take additional parameters, allowing you to customize the initialization process based on values passed during object creation.\n",
        "\n",
        "Role in Constructors:\n",
        "While the term \"constructor\" is often associated with the __init__ method in Python, it's essential to note that Python doesn't strictly distinguish between constructors and other methods.\n",
        "The __init__ method is, by convention, used for the initialization tasks that are typically associated with constructors in other programming languages."
      ]
    },
    {
      "cell_type": "markdown",
      "metadata": {
        "id": "j9heM1urIErN"
      },
      "source": [
        "### 5. In a class named `Person`, create a constructor that initializes the `name` and `age` attributes. Provide an example of creating an object of this class."
      ]
    },
    {
      "cell_type": "code",
      "execution_count": null,
      "metadata": {
        "colab": {
          "base_uri": "https://localhost:8080/"
        },
        "id": "Y4FsWlGZHzWm",
        "outputId": "7aaa1bec-e97f-4b70-fca6-9ce66b78e8cf"
      },
      "outputs": [
        {
          "name": "stdout",
          "output_type": "stream",
          "text": [
            "Dileep\n",
            "20\n"
          ]
        }
      ],
      "source": [
        "class person:\n",
        "  def __init__(self,name,age):\n",
        "    self.name=name\n",
        "    self.age=age\n",
        "obj2=person(\"Dileep\",20)\n",
        "print(obj2.name)\n",
        "print(obj2.age)"
      ]
    },
    {
      "cell_type": "markdown",
      "metadata": {
        "id": "712ZyzRRJQJh"
      },
      "source": [
        "### How can you call a constructor explicitly in Python? Give an example."
      ]
    },
    {
      "cell_type": "code",
      "execution_count": null,
      "metadata": {
        "colab": {
          "base_uri": "https://localhost:8080/"
        },
        "id": "_-fgSozcJgxb",
        "outputId": "d78e14f4-54fe-440a-d731-3220c61d300d"
      },
      "outputs": [
        {
          "name": "stdout",
          "output_type": "stream",
          "text": [
            "after called constructor result is : Dileep 20\n",
            "after called constructor result is : Dileep kumar 20\n"
          ]
        }
      ],
      "source": [
        "class person:\n",
        "    def __init__(self,name):\n",
        "        self.name = name\n",
        "        self.age = 20\n",
        "        print(f\"after called constructor result is : {self.name} {self.age}\")\n",
        "\n",
        "ob = person(\"Dileep\")\n",
        "\n",
        "\n",
        "#explicity calling\n",
        "ob2 = person.__init__(ob,\"Dileep kumar\")"
      ]
    },
    {
      "cell_type": "markdown",
      "metadata": {
        "id": "pmsH7ZBZMrj9"
      },
      "source": [
        "### 7. What is the significance of the `self` parameter in Python constructors? Explain with an example."
      ]
    },
    {
      "cell_type": "markdown",
      "metadata": {
        "id": "rqkrQWZiM33t"
      },
      "source": [
        "In Python, the self parameter in constructors (and in other methods within a class) refers to the instance of the class itself. It is a convention, and the name \"self\" is used by convention but could technically be any valid variable name.\n",
        "\n",
        "The self parameter allows you to access and modify attributes of the instance within the class methods, including the constructor (__init__). It distinguishes instance variables from local variables within the methods, making it clear which object's attributes or methods are being referred to."
      ]
    },
    {
      "cell_type": "markdown",
      "metadata": {
        "id": "sl5tNHt5M-Un"
      },
      "source": [
        "### 8. Discuss the concept of default constructors in Python. When are they used?"
      ]
    },
    {
      "cell_type": "markdown",
      "metadata": {
        "id": "zfE_DTOzNHBt"
      },
      "source": [
        "In Python, the term \"default constructor\" is not commonly used in the same way it is in some other programming languages. The concept of a default constructor typically refers to a constructor that is automatically provided by the language when no explicit constructor is defined in a class.\n",
        "\n",
        "In Python, if you don't provide an explicit __init__ method (the constructor) in a class, the language automatically generates a default constructor for you. This default constructor doesn't perform any additional initialization; it's essentially an empty method."
      ]
    },
    {
      "cell_type": "markdown",
      "metadata": {
        "id": "NKdyhC0LNOWl"
      },
      "source": [
        "### 9. Create a Python class called `Rectangle` with a constructor that initializes the `width` and `height` attributes. Provide a method to calculate the area of the rectangle."
      ]
    },
    {
      "cell_type": "code",
      "execution_count": null,
      "metadata": {
        "colab": {
          "base_uri": "https://localhost:8080/"
        },
        "id": "Zwo3Nn3WM3UE",
        "outputId": "49f07fbd-a170-485f-b46b-10b68698535f"
      },
      "outputs": [
        {
          "name": "stdout",
          "output_type": "stream",
          "text": [
            "The area of the rectangle is 12\n"
          ]
        }
      ],
      "source": [
        "class Rectangle:\n",
        "  def __init__(self,width,height):\n",
        "    self.width=width\n",
        "    self.height=height\n",
        "  def area(self):\n",
        "    return self.height*self.width\n",
        "area_rec=Rectangle(4,3)\n",
        "print(f\"The area of the rectangle is {area_rec.area()}\")"
      ]
    },
    {
      "cell_type": "markdown",
      "metadata": {
        "id": "wixKab11O5Cn"
      },
      "source": [
        "### 10. How can you have multiple constructors in a Python class? Explain with an example."
      ]
    },
    {
      "cell_type": "code",
      "execution_count": null,
      "metadata": {
        "colab": {
          "base_uri": "https://localhost:8080/"
        },
        "id": "WqUI2LXdUsH4",
        "outputId": "8fbeb57f-ff50-4dc7-9734-3af131cef772"
      },
      "outputs": [
        {
          "name": "stdout",
          "output_type": "stream",
          "text": [
            "Dileep 0 None\n",
            "Dileep 42 None\n",
            "Dileep 42 Hello\n"
          ]
        }
      ],
      "source": [
        "class MyClass:\n",
        "    def __init__(self, param1, param2=0, param3=None):\n",
        "        self.param1 = param1\n",
        "        self.param2 = param2\n",
        "        self.param3 = param3\n",
        "\n",
        "obj1 = MyClass(\"Dileep\")\n",
        "obj2 = MyClass(\"Dileep\", 42)\n",
        "obj3 = MyClass(\"Dileep\", 42, \"Hello\")\n",
        "\n",
        "print(obj1.param1, obj1.param2, obj1.param3)\n",
        "print(obj2.param1, obj2.param2, obj2.param3)\n",
        "print(obj3.param1, obj3.param2, obj3.param3)\n"
      ]
    },
    {
      "cell_type": "markdown",
      "metadata": {
        "id": "UcSLFhSAVRH5"
      },
      "source": [
        "### 11. What is method overloading, and how is it related to constructors in Python?"
      ]
    },
    {
      "cell_type": "code",
      "execution_count": null,
      "metadata": {
        "colab": {
          "base_uri": "https://localhost:8080/"
        },
        "id": "YWhLVJTnVVk6",
        "outputId": "dcb2759d-fb86-4860-ff55-7061f07f875f"
      },
      "outputs": [
        {
          "name": "stdout",
          "output_type": "stream",
          "text": [
            "One argument: 1\n",
            "Two arguments: 2 3\n",
            "More than two arguments\n"
          ]
        }
      ],
      "source": [
        "class OverloadedMethods:\n",
        "    def example_method(self, *args):\n",
        "        if len(args) == 1:\n",
        "            print(\"One argument:\", args[0])\n",
        "        elif len(args) == 2:\n",
        "            print(\"Two arguments:\", args[0], args[1])\n",
        "        else:\n",
        "            print(\"More than two arguments\")\n",
        "\n",
        "# Creating an object\n",
        "obj = OverloadedMethods()\n",
        "\n",
        "# Calling the method with different numbers of arguments\n",
        "obj.example_method(1)\n",
        "obj.example_method(2, 3)\n",
        "obj.example_method(4, 5, 6)\n"
      ]
    },
    {
      "cell_type": "markdown",
      "metadata": {
        "id": "C_VnGj4OW6Jo"
      },
      "source": [
        "### 12. Explain the use of the super() function in Python constructors. Provide an example."
      ]
    },
    {
      "cell_type": "code",
      "execution_count": null,
      "metadata": {
        "colab": {
          "base_uri": "https://localhost:8080/"
        },
        "id": "GzxCNTVhW763",
        "outputId": "f400b3d3-dffd-4a73-bb67-8a85bf806a0a"
      },
      "outputs": [
        {
          "output_type": "stream",
          "name": "stdout",
          "text": [
            "Dileep\n",
            "20\n"
          ]
        }
      ],
      "source": [
        "class person:\n",
        "  def __init__(self,name):\n",
        "    self.name=name\n",
        "class details(person):\n",
        "  def __init__(self,name,age):\n",
        "    self.age=age\n",
        "    super().__init__(name)\n",
        "    print(self.name)\n",
        "    print(self.age)\n",
        "dileep=details(\"Dileep\",20)\n",
        "\n",
        "\n"
      ]
    },
    {
      "cell_type": "markdown",
      "source": [
        "### 13. Create a class called Book with a constructor that initializes the title, author, and published_year attributes. Provide a method to display book details."
      ],
      "metadata": {
        "id": "RRxTFz1G2QXZ"
      }
    },
    {
      "cell_type": "code",
      "source": [
        "class Book:\n",
        "  def __init__(self,title,author,published_year):\n",
        "    self.title=title\n",
        "    self.author=author\n",
        "    self.pub_year=published_year\n",
        "  def details(self):\n",
        "    print(\"Title of the boo is:\",self.title)\n",
        "    print(\"author of the book is:\",self.author)\n",
        "    print(\"published in the in the year:\",self.pub_year)\n",
        "book=Book(\"world famous lover\",\"shakesphere\",1923)\n",
        "book.details()"
      ],
      "metadata": {
        "colab": {
          "base_uri": "https://localhost:8080/"
        },
        "id": "ZCHV1aJw2VMl",
        "outputId": "e098554c-8dc6-4f09-db8d-e8e13d1e60d4"
      },
      "execution_count": null,
      "outputs": [
        {
          "output_type": "stream",
          "name": "stdout",
          "text": [
            "Title of the boo is: world famous lover\n",
            "author of the book is: shakesphere\n",
            "published in the in the year: 1923\n"
          ]
        }
      ]
    },
    {
      "cell_type": "markdown",
      "source": [
        "### 14. Discuss the differences between constructors and regular methods in Python classes."
      ],
      "metadata": {
        "id": "SjkXwYq83c3a"
      }
    },
    {
      "cell_type": "markdown",
      "source": [
        "Constructors:\n",
        "Purpose:\n",
        "\n",
        "Constructor: A constructor is a special method used for initializing the object. It is called automatically when an object is created from the class.\n",
        "Regular Method: A regular method is any method within a class that is not a constructor. Regular methods perform specific actions or operations on the object and are called explicitly by the user.\n",
        "Name:\n",
        "\n",
        "Constructor: In Python, the constructor method is named __init__. It is executed when a new object is created.\n",
        "Regular Method: Regular methods can have any name according to the developer's choice.\n",
        "\n",
        "Invocation:\n",
        "Constructor: It is automatically called when an object is instantiated. It initializes the object's attributes and sets up the initial state of the object.\n",
        "Regular Method: Regular methods must be called explicitly using the object they belong to. They are invoked when a specific action or operation needs to be performed on the object.\n",
        "\n",
        "Return Value:\n",
        "Constructor: It doesn't return anything explicitly. The __init__ method is responsible for initializing the object, and the created object is automatically returned.\n",
        "Regular Method: Regular methods can return values as per the logic implemented\n",
        "inside them.\n",
        "\n",
        "Usage:\n",
        "Constructor: Used to set up the initial state of the object, typically initializing attributes.\n",
        "Regular Method: Used to perform specific actions on the object, such as modifying attributes, computing values, or executing some functionality.\n",
        "Regular Methods:\n",
        "\n",
        "Declaration:\n",
        "Constructor: Declared using the def __init__(self, ...): syntax.\n",
        "Regular Method: Declared using the def keyword with any name of the developer's choice.\n",
        "\n",
        "Access to Attributes:\n",
        "Constructor: Can access and initialize instance attributes, as it is typically responsible for setting up the object's initial state.\n",
        "Regular Method: Can access and modify instance attributes and perform operations based on the current state of the object.\n",
        "Usage:\n",
        "\n",
        "Constructor: Primarily used for initializing attributes and performing setup actions during object creation.\n",
        "Regular Method: Used for various actions or operations specific to the object, invoked by the user when needed.\n",
        "In summary, constructors are special methods for initializing objects, automatically called upon object creation, while regular methods are user-invoked functions that perform specific actions on objects. Both play distinct roles in defining the behavior of Python classes."
      ],
      "metadata": {
        "id": "0rC1T9Cl3yYq"
      }
    },
    {
      "cell_type": "markdown",
      "source": [
        "### 15. Explain the role of the self parameter in instance variable initialization within a constructor."
      ],
      "metadata": {
        "id": "kAu2bVuN4C29"
      }
    },
    {
      "cell_type": "markdown",
      "source": [
        "\n",
        "In Python, the self parameter in a class constructor (usually named __init__) plays a crucial role in instance variable initialization. The self parameter is a convention, and it refers to the instance of the class itself. When you create an object from a class, the self parameter allows you to refer to the specific instance of the object being created. Let's break down the role of self in the context of instance variable initialization:"
      ],
      "metadata": {
        "id": "nkU2bmbz4HGk"
      }
    },
    {
      "cell_type": "markdown",
      "source": [
        "### 17. Create a Python class called Student with a constructor that takes a list of subjects as a parameter and initializes the subjects attribute."
      ],
      "metadata": {
        "id": "Tu26EBkN4btw"
      }
    },
    {
      "cell_type": "code",
      "source": [
        "class python:\n",
        "    def __init__(self, subjects):\n",
        "\n",
        "        self.subjects = subjects\n",
        "student1 = python([\"python\",\"c lan\",\"java\"])\n",
        "print(\"Student 1 Subjects:\", student1.subjects)\n"
      ],
      "metadata": {
        "colab": {
          "base_uri": "https://localhost:8080/"
        },
        "id": "VHTzLGRY4Gli",
        "outputId": "1c3baada-1a9b-483e-ffdc-665143df415f"
      },
      "execution_count": null,
      "outputs": [
        {
          "output_type": "stream",
          "name": "stdout",
          "text": [
            "Student 1 Subjects: ['python', 'c lan', 'java']\n"
          ]
        }
      ]
    },
    {
      "cell_type": "markdown",
      "source": [
        "### 18. What is the purpose of the __del__ method in Python classes, and how does it relate to constructors?"
      ],
      "metadata": {
        "id": "O87MgVBg5cL5"
      }
    },
    {
      "cell_type": "markdown",
      "source": [
        "The __del__ method in Python classes is a special method that serves as a destructor. It is called when an object is about to be destroyed or deleted, either explicitly using the del statement or when the object goes out of scope and is no longer referenced. The primary purpose of the __del__ method is to perform any necessary cleanup or resource deallocation before the object is removed from memory."
      ],
      "metadata": {
        "id": "rKEMXlXw5s8I"
      }
    },
    {
      "cell_type": "markdown",
      "source": [
        "### 19. Explain the use of constructor chaining in Python. Provide a practical example."
      ],
      "metadata": {
        "id": "dGoXMsVG5zwo"
      }
    },
    {
      "cell_type": "code",
      "source": [
        "class Person:\n",
        "    def __init__(self, name, age):\n",
        "        self.name = name\n",
        "        self.age = age\n",
        "\n",
        "    def display_info(self):\n",
        "        print(f\"Name: {self.name}, Age: {self.age}\")\n",
        "\n",
        "class Student(Person):\n",
        "    def __init__(self, name, age, student_id):\n",
        "        super().__init__(name, age)  # Calling the constructor of the parent class\n",
        "        self.student_id = student_id\n",
        "        print(self.name,self.age,self.student_id)\n",
        "dileep=Student(\"Dileep\",20,4270)"
      ],
      "metadata": {
        "colab": {
          "base_uri": "https://localhost:8080/"
        },
        "id": "QXcQbOFX7QIa",
        "outputId": "2e4bae14-cdb5-4293-d23f-c0e335b312ca"
      },
      "execution_count": null,
      "outputs": [
        {
          "output_type": "stream",
          "name": "stdout",
          "text": [
            "Dileep 20 4270\n"
          ]
        }
      ]
    },
    {
      "cell_type": "markdown",
      "source": [
        "### 20. Create a Python class called Car with a default constructor that initializes the make and model attributes. Provide a method to display car information."
      ],
      "metadata": {
        "id": "Bvyo5nyt7wtX"
      }
    },
    {
      "cell_type": "code",
      "source": [
        "class car:\n",
        "  def __init__(self):\n",
        "    self.make=\"Ford mustang\"\n",
        "    self.model=\"Shelby\"\n",
        "  def display(self):\n",
        "    print(f\"Making of the car: {self.make}\")\n",
        "    print(f\"Model of the car: {self.model}\")\n",
        "Car=car()\n",
        "Car.display()"
      ],
      "metadata": {
        "colab": {
          "base_uri": "https://localhost:8080/"
        },
        "id": "24k31nxT7ywC",
        "outputId": "4834156f-9f1c-4886-d2f6-45c2adae357a"
      },
      "execution_count": null,
      "outputs": [
        {
          "output_type": "stream",
          "name": "stdout",
          "text": [
            "Making of the car: Ford mustang\n",
            "Model of the car: Shelby\n"
          ]
        }
      ]
    },
    {
      "cell_type": "markdown",
      "source": [
        "# Inheritance:"
      ],
      "metadata": {
        "id": "IAzNmmFi9xTy"
      }
    },
    {
      "cell_type": "markdown",
      "source": [
        "### 1.What is inheritance in Python? Explain its significance in object-oriented programming."
      ],
      "metadata": {
        "id": "4jBCppSi9zY0"
      }
    },
    {
      "cell_type": "markdown",
      "source": [
        "Inheritance is a fundamental concept in object-oriented programming (OOP) that allows a class (subclass or derived class) to inherit attributes and behaviors from another class (superclass or base class). This relationship between classes helps in code reuse and promotes a hierarchical structure, making the code more modular and maintainable.\n",
        "\n",
        "In Python, you can"
      ],
      "metadata": {
        "id": "dZmOmhpS_y9e"
      }
    },
    {
      "cell_type": "markdown",
      "source": [
        "2. Differentiate between single inheritance and multiple inheritance in Python. Provide examples for each."
      ],
      "metadata": {
        "id": "OQTLDqpF_47G"
      }
    },
    {
      "cell_type": "code",
      "source": [
        "# single inheritence\n",
        "class Animal:\n",
        "  def __init__(self,name):\n",
        "    self.name=name\n",
        "  def speaks(self):\n",
        "    return \"animal speaks \"\n",
        "class Dog(Animal):\n",
        "  def speak(self):\n",
        "    return f\"{self.name} barks Bow\"\n",
        "animal=Animal(\"Buddy\")\n",
        "dog=Dog(\"Buddy\")\n",
        "dog.speak()"
      ],
      "metadata": {
        "colab": {
          "base_uri": "https://localhost:8080/",
          "height": 36
        },
        "id": "GF9ZWWPD9xBl",
        "outputId": "24e3827a-a2f5-4d6b-ee96-af3c96040302"
      },
      "execution_count": null,
      "outputs": [
        {
          "output_type": "execute_result",
          "data": {
            "text/plain": [
              "'Buddy barks Bow'"
            ],
            "application/vnd.google.colaboratory.intrinsic+json": {
              "type": "string"
            }
          },
          "metadata": {},
          "execution_count": 6
        }
      ]
    },
    {
      "cell_type": "code",
      "source": [
        "#multiple inheritence\n",
        "class Flyable:\n",
        "    def fly(self):\n",
        "      print(\"i can fly\")\n",
        "\n",
        "class Swimmable:\n",
        "  def swim(self):\n",
        "    print(\"i can swim\")\n",
        "\n",
        "class Amphibian(Flyable, Swimmable):\n",
        "    pass\n",
        "Frog=Amphibian()\n",
        "Frog.fly()\n",
        "Frog.swim()"
      ],
      "metadata": {
        "colab": {
          "base_uri": "https://localhost:8080/"
        },
        "id": "EjEPFjlADguj",
        "outputId": "48588f4e-e017-41f6-f080-6a4371e9db28"
      },
      "execution_count": null,
      "outputs": [
        {
          "output_type": "stream",
          "name": "stdout",
          "text": [
            "i can fly\n",
            "i can swim\n"
          ]
        }
      ]
    },
    {
      "cell_type": "markdown",
      "source": [
        "### 3. Create a Python class called `Vehicle` with attributes `color` and `speed`. Then, create a child class called `Car` that inherits from `Vehicle` and adds a `brand` attribute. Provide an example of creating a `Car` object."
      ],
      "metadata": {
        "id": "hlpmXQ8KHroP"
      }
    },
    {
      "cell_type": "code",
      "source": [
        "class Vehicle:\n",
        "  def __init__(self,color,speed):\n",
        "    self.color=color\n",
        "    self.speed=speed\n",
        "class Car(Vehicle):\n",
        "  def __init__(self,color,speed,brand):\n",
        "    super().__init__(color,speed)\n",
        "    self.brand=brand\n",
        "my_car=Car(\"Black\",\"200km/hr\",\"Mercedes\")\n",
        "print(\"Car color is \",my_car.color)\n",
        "print(\"Car speed is\",my_car.speed)\n",
        "print(\"Car brand is\",my_car.speed)"
      ],
      "metadata": {
        "colab": {
          "base_uri": "https://localhost:8080/"
        },
        "id": "cinVTAEBHxrl",
        "outputId": "20a66659-bfe3-4fea-ce9f-d5c227de0cea"
      },
      "execution_count": null,
      "outputs": [
        {
          "output_type": "stream",
          "name": "stdout",
          "text": [
            "Car color is  Black\n",
            "Car speed is 200km/hr\n",
            "Car brand is 200km/hr\n"
          ]
        }
      ]
    },
    {
      "cell_type": "markdown",
      "source": [
        "### 4. Explain the concept of method overriding in inheritance. Provide a practical example."
      ],
      "metadata": {
        "id": "xMl3lcdLPeGH"
      }
    },
    {
      "cell_type": "code",
      "source": [
        "class Animal:\n",
        "  def speaks(self):\n",
        "    print(\"Animals can speak\")\n",
        "class Dog(Animal):\n",
        "  def speaks(self):\n",
        "    print(\"barks Bow\")\n",
        "class cat(Animal):\n",
        "  def speaks(self):\n",
        "    print(\"Meow\")\n",
        "Cat=cat()\n",
        "Cat.speaks()"
      ],
      "metadata": {
        "id": "Gg2RRMDPJAuU",
        "colab": {
          "base_uri": "https://localhost:8080/"
        },
        "outputId": "80189106-08df-4e8f-ec5c-1452a853d128"
      },
      "execution_count": null,
      "outputs": [
        {
          "output_type": "stream",
          "name": "stdout",
          "text": [
            "Meow\n"
          ]
        }
      ]
    },
    {
      "cell_type": "markdown",
      "source": [
        "### 5. How can you access the methods and attributes of a parent class from a child class in Python? Give an example."
      ],
      "metadata": {
        "id": "4L6f7JnORFwj"
      }
    },
    {
      "cell_type": "markdown",
      "source": [
        "In Python, you can access the methods and attributes of a parent class from a child class using either the super() function or by directly referencing the parent class. Here's an example using both approaches:"
      ],
      "metadata": {
        "id": "T0E5zAQjR-Tv"
      }
    },
    {
      "cell_type": "code",
      "source": [
        "class Animal:\n",
        "  def __init__(self,name):\n",
        "    self.name=name\n",
        "class Dog(Animal):\n",
        "  def __init__(self,name,breed):\n",
        "    super().__init__(name)\n",
        "    self.breed=breed\n",
        "dog=Dog(\"pluto\",\"Husky\")\n",
        "print(dog.name)\n",
        "print(dog.breed)\n",
        "\n",
        "\n"
      ],
      "metadata": {
        "colab": {
          "base_uri": "https://localhost:8080/"
        },
        "id": "xznPhBVyRIiT",
        "outputId": "69ebf630-68c6-4789-fb03-f25d0c33b697"
      },
      "execution_count": null,
      "outputs": [
        {
          "output_type": "stream",
          "name": "stdout",
          "text": [
            "pluto\n",
            "Husky\n"
          ]
        }
      ]
    },
    {
      "cell_type": "markdown",
      "source": [
        "### 6. Discuss the use of the `super()` function in Python inheritance. When and why is it used? Provide an example."
      ],
      "metadata": {
        "id": "nM9A3enIZBur"
      }
    },
    {
      "cell_type": "markdown",
      "source": [
        "The super() function in Python is used in the context of inheritance to call methods or access attributes from the parent class (superclass) within a subclass. It plays a crucial role in cooperative multiple inheritance by allowing you to navigate the class hierarchy and invoke methods or constructors from classes higher up in the hierarchy. super() is particularly useful when you want to extend or customize the behavior of a method in the subclass while still utilizing the functionality provided by the superclass."
      ],
      "metadata": {
        "id": "pSIA-rFCZgae"
      }
    },
    {
      "cell_type": "markdown",
      "source": [],
      "metadata": {
        "id": "tTHJKPVSZZ0l"
      }
    },
    {
      "cell_type": "code",
      "source": [
        "class Animal:\n",
        "  def __init__(self,name):\n",
        "    self.name=name\n",
        "class Dog(Animal):\n",
        "  def __init__(self,name,breed):\n",
        "    super().__init__(name)\n",
        "    self.breed=breed\n",
        "dog=Dog(\"pluto\",\"Husky\")\n",
        "print(dog.name)\n",
        "print(dog.breed)\n"
      ],
      "metadata": {
        "colab": {
          "base_uri": "https://localhost:8080/"
        },
        "id": "njsIWKcSZMYF",
        "outputId": "102d105c-b6ff-4b1f-8a55-45c20ea683bd"
      },
      "execution_count": null,
      "outputs": [
        {
          "output_type": "stream",
          "name": "stdout",
          "text": [
            "pluto\n",
            "Husky\n"
          ]
        }
      ]
    },
    {
      "cell_type": "markdown",
      "source": [
        "### 7. Create a Python class called `Animal` with a method `speak()`. Then, create child classes `Dog` and `Cat`"
      ],
      "metadata": {
        "id": "lAXMEar0Zlag"
      }
    },
    {
      "cell_type": "code",
      "source": [
        "class Animal:\n",
        "  def speak(self):\n",
        "    return (\"Animal can speak\")\n",
        "class Dog(Animal):\n",
        "  def speak(self):\n",
        "    return(\"bow!\")\n",
        "class cat(Animal):\n",
        "  def speak(self):\n",
        "    return (\"Meow!\")\n",
        "dog=Dog()\n",
        "Cat=cat()\n",
        "print(dog.speak())\n",
        "print(Cat.speak())"
      ],
      "metadata": {
        "colab": {
          "base_uri": "https://localhost:8080/"
        },
        "id": "Kwtua6x8Zp0e",
        "outputId": "c4eb9fd3-c577-4e7f-e279-0a1b2976a38d"
      },
      "execution_count": null,
      "outputs": [
        {
          "output_type": "stream",
          "name": "stdout",
          "text": [
            "bow!\n",
            "Meow!\n"
          ]
        }
      ]
    },
    {
      "cell_type": "markdown",
      "source": [
        "### 8. Explain the role of the `isinstance()` function in Python and how it relates to inheritance."
      ],
      "metadata": {
        "id": "5zxoEmteazD2"
      }
    },
    {
      "cell_type": "code",
      "source": [
        "class Animal:\n",
        "    pass\n",
        "\n",
        "class Dog(Animal):\n",
        "    pass\n",
        "\n",
        "class Cat(Animal):\n",
        "    pass\n",
        "\n",
        "# Example usage:\n",
        "animal = Animal()\n",
        "dog = Dog()\n",
        "cat = Cat()\n",
        "\n",
        "print(isinstance(animal, Animal))\n",
        "\n",
        "print(isinstance(dog, Animal))\n",
        "print(isinstance(cat, Animal))"
      ],
      "metadata": {
        "colab": {
          "base_uri": "https://localhost:8080/"
        },
        "id": "jxhNwx03a2Ug",
        "outputId": "2ed17dc8-d1b0-46be-e428-644205175e5c"
      },
      "execution_count": null,
      "outputs": [
        {
          "output_type": "stream",
          "name": "stdout",
          "text": [
            "True\n",
            "True\n",
            "True\n"
          ]
        }
      ]
    },
    {
      "cell_type": "markdown",
      "source": [
        "### 9. What is the purpose of the `issubclass()` function in Python? Provide an example."
      ],
      "metadata": {
        "id": "hDxUZKtMc5wl"
      }
    },
    {
      "cell_type": "code",
      "source": [
        "class Animal:\n",
        "    pass\n",
        "\n",
        "class Dog(Animal):\n",
        "    pass\n",
        "\n",
        "class Cat(Animal):\n",
        "    pass\n",
        "\n",
        "# Example usage:\n",
        "animal = Animal()\n",
        "dog = Dog()\n",
        "cat = Cat()\n",
        "\n",
        "print(issubclass(Dog,Animal))\n",
        "print(issubclass(Dog,Cat))"
      ],
      "metadata": {
        "colab": {
          "base_uri": "https://localhost:8080/"
        },
        "id": "KnuBIKFZc7hv",
        "outputId": "25393741-7099-4d3e-eb7b-6e8eb7c538ce"
      },
      "execution_count": null,
      "outputs": [
        {
          "output_type": "stream",
          "name": "stdout",
          "text": [
            "True\n",
            "False\n"
          ]
        }
      ]
    },
    {
      "cell_type": "markdown",
      "source": [
        "### 10. Discuss the concept of constructor inheritance in Python. How are constructors inherited in child classes?"
      ],
      "metadata": {
        "id": "aPVWjBmZdB5d"
      }
    },
    {
      "cell_type": "code",
      "source": [
        "class Animal:\n",
        "    def __init__(self, species):\n",
        "        self.species = species\n",
        "        print(f\"Animal constructor called. Species: {self.species}\")\n",
        "\n",
        "class Dog(Animal):\n",
        "    def __init__(self, species, breed):\n",
        "        super().__init__(species)\n",
        "        self.breed = breed\n",
        "        print(f\"Dog constructor called. Breed: {self.breed}\")\n",
        "\n",
        "dog = Dog(species=\"Canine\", breed=\"Labrador\")"
      ],
      "metadata": {
        "colab": {
          "base_uri": "https://localhost:8080/"
        },
        "id": "TSxv9PeJdGEl",
        "outputId": "0e35e45b-f4b1-4c8f-ecb0-6c1a7147e1d2"
      },
      "execution_count": null,
      "outputs": [
        {
          "output_type": "stream",
          "name": "stdout",
          "text": [
            "Animal constructor called. Species: Canine\n",
            "Dog constructor called. Breed: Labrador\n"
          ]
        }
      ]
    },
    {
      "cell_type": "markdown",
      "source": [
        "### 11. Create a Python class called `Shape` with a method `area()` that calculates the area of a shape. Then, create child classes `Circle` and `Rectangle` that inherit from `Shape` and implement the `area()` method accordingly. Provide an example."
      ],
      "metadata": {
        "id": "y5fu1CuejY1a"
      }
    },
    {
      "cell_type": "code",
      "source": [
        "import math\n",
        "\n",
        "class Shape:\n",
        "    def area(self):\n",
        "        pass\n",
        "\n",
        "class Circle(Shape):\n",
        "    def __init__(self, radius):\n",
        "        self.radius = radius\n",
        "\n",
        "    def area(self):\n",
        "        return math.pi * self.radius**2\n",
        "\n",
        "class Rectangle(Shape):\n",
        "    def __init__(self, width, height):\n",
        "        self.width = width\n",
        "        self.height = height\n",
        "\n",
        "    def area(self):\n",
        "        return self.width * self.height\n",
        "circle=Circle(4)\n",
        "print(circle.area())\n",
        "rectangle=Rectangle(3,4)\n",
        "print(rectangle.area())"
      ],
      "metadata": {
        "colab": {
          "base_uri": "https://localhost:8080/"
        },
        "id": "V48Uu89odJSy",
        "outputId": "4de4668b-b5f3-4c91-db71-985f8245463b"
      },
      "execution_count": null,
      "outputs": [
        {
          "output_type": "stream",
          "name": "stdout",
          "text": [
            "50.26548245743669\n",
            "12\n"
          ]
        }
      ]
    },
    {
      "cell_type": "markdown",
      "source": [
        "### 12. Explain the use of abstract base classes (ABCs) in Python and how they relate to inheritance. Provide an example using the `abc` module."
      ],
      "metadata": {
        "id": "MEU2u7EEkrxr"
      }
    },
    {
      "cell_type": "code",
      "source": [
        "from abc import ABC , abstractmethod\n",
        "class Animal:\n",
        "  @abstractmethod\n",
        "  def speak(self):\n",
        "    print(\"Generic sounds\")\n",
        "class Dog(Animal):\n",
        "  def __init__(self,name):\n",
        "    self.name=name\n",
        "  def speak(self):\n",
        "    print(f\"{self.name} barks like Bow\")\n",
        "dog=Dog(\"Pluto\")\n",
        "dog.speak()\n"
      ],
      "metadata": {
        "colab": {
          "base_uri": "https://localhost:8080/"
        },
        "id": "dPrZqu3GlUE7",
        "outputId": "510cb5e5-d6ff-4550-b8c7-b50e71fed242"
      },
      "execution_count": null,
      "outputs": [
        {
          "output_type": "stream",
          "name": "stdout",
          "text": [
            "Pluto barks like Bow\n"
          ]
        }
      ]
    },
    {
      "cell_type": "markdown",
      "source": [
        "### 13. How can you prevent a child class from modifying certain attributes or methods inherited from a parent class in Python?"
      ],
      "metadata": {
        "id": "2JDxkXrgnfLl"
      }
    },
    {
      "cell_type": "code",
      "source": [
        "class Parent:\n",
        "    def __init__(self):\n",
        "        self.__protected_attribute = 42\n",
        "\n",
        "    def get_protected_attribute(self):\n",
        "        return self.__protected_attribute\n",
        "\n",
        "class Child(Parent):\n",
        "    def modify_protected_attribute(self, new_value):\n",
        "        self.get_protected_attribute = new_value\n",
        "child_instance = Child()\n",
        "print(child_instance.get_protected_attribute())\n",
        "child_instance.modify_protected_attribute(100)\n",
        "print(child_instance.get_protected_attribute)\n",
        "\n"
      ],
      "metadata": {
        "colab": {
          "base_uri": "https://localhost:8080/"
        },
        "id": "Li3tpWwunm7-",
        "outputId": "c480aaa6-3b6b-46dd-96b0-422a88d845f6"
      },
      "execution_count": null,
      "outputs": [
        {
          "output_type": "stream",
          "name": "stdout",
          "text": [
            "42\n",
            "100\n"
          ]
        }
      ]
    },
    {
      "cell_type": "markdown",
      "source": [
        "### 14. Create a Python class called `Employee` with attributes `name` and `salary`. Then, create a child class `Manager` that inherits from `Employee` and adds an attribute `department`. Provide an example."
      ],
      "metadata": {
        "id": "8zK0SNrJqSsA"
      }
    },
    {
      "cell_type": "code",
      "source": [
        "class Employee:\n",
        "  def __init__(self,name,salary):\n",
        "    self.name=name\n",
        "    self.salary=salary\n",
        "class Manager(Employee):\n",
        "  def __init__(self,name ,salary,department):\n",
        "    super().__init__(name,salary)\n",
        "    self.department=department\n",
        "  def details(self):\n",
        "    print(\"Name of the Employee:\",self.name)\n",
        "    print(\"Salary of the Employee:\",self.salary)\n",
        "    print(\"Department of the Employee:\",self.department)\n",
        "manager=Manager(\"Dileep\",100000,\"software\")\n",
        "manager.details()\n",
        "\n"
      ],
      "metadata": {
        "colab": {
          "base_uri": "https://localhost:8080/"
        },
        "id": "WKL0YXe-qSPG",
        "outputId": "b48a2460-815c-4402-d1ab-72b3b21f30aa"
      },
      "execution_count": null,
      "outputs": [
        {
          "output_type": "stream",
          "name": "stdout",
          "text": [
            "Name of the Employee: Dileep\n",
            "Salary of the Employee: 100000\n",
            "Department of the Employee: software\n"
          ]
        }
      ]
    },
    {
      "cell_type": "markdown",
      "source": [
        "### 15. Discuss the concept of method overloading in Python inheritance. How does it differ from method overriding?"
      ],
      "metadata": {
        "id": "fLpq0Kj4uAT3"
      }
    },
    {
      "cell_type": "code",
      "source": [
        "#method overloading\n",
        "class Calculator:\n",
        "    def add(self, a, b=0, c=0):\n",
        "        return a + b + c\n",
        "\n",
        "calc = Calculator()\n",
        "\n",
        "result1 = calc.add(5)\n",
        "result2 = calc.add(5, 10)\n",
        "result3 = calc.add(5, 10, 15)\n",
        "\n",
        "print(\"Result 1:\", result1)\n",
        "print(\"Result 2:\", result2)\n",
        "print(\"Result 3:\", result3)\n"
      ],
      "metadata": {
        "colab": {
          "base_uri": "https://localhost:8080/"
        },
        "id": "_gNw7ea-uF2M",
        "outputId": "493929ea-dbf2-43b1-ab89-c67d88e9e5e2"
      },
      "execution_count": null,
      "outputs": [
        {
          "output_type": "stream",
          "name": "stdout",
          "text": [
            "Result 1: 5\n",
            "Result 2: 15\n",
            "Result 3: 30\n"
          ]
        }
      ]
    },
    {
      "cell_type": "code",
      "source": [
        "#method overriding\n",
        "class Animal:\n",
        "    def speak(self):\n",
        "        print(\"Animal speaks\")\n",
        "\n",
        "class Dog(Animal):\n",
        "    def speak(self):\n",
        "        print(\"Dog barks\")\n",
        "\n",
        "# Example usage:\n",
        "animal = Animal()\n",
        "dog = Dog()\n",
        "\n",
        "animal.speak()  # Output: Animal speaks\n",
        "dog.speak()"
      ],
      "metadata": {
        "colab": {
          "base_uri": "https://localhost:8080/"
        },
        "id": "2jsqXJCruW3V",
        "outputId": "96aaf2f7-5c08-4a67-cf42-3381106f5d8b"
      },
      "execution_count": null,
      "outputs": [
        {
          "output_type": "stream",
          "name": "stdout",
          "text": [
            "Animal speaks\n",
            "Dog barks\n"
          ]
        }
      ]
    },
    {
      "cell_type": "markdown",
      "source": [
        "### 16. Explain the purpose of the `__init__()` method in Python inheritance and how it is utilized in child classes."
      ],
      "metadata": {
        "id": "h-TW_BWvn3wN"
      }
    },
    {
      "cell_type": "code",
      "source": [
        "class Vehicle:\n",
        "  def __init__(self,model):\n",
        "    self.model=model\n",
        "class Car(Vehicle):\n",
        "  def __init__(self,model,wheeler):\n",
        "      super().__init__(model)\n",
        "      self.wheeler=\"4 Wheeler\"\n",
        "car=Car(\"Benz\",\"4 Wheeler\")\n",
        "print(car.model)\n",
        "print(car.wheeler)"
      ],
      "metadata": {
        "colab": {
          "base_uri": "https://localhost:8080/"
        },
        "id": "BugfbcIsAENy",
        "outputId": "ffd95133-90d7-41e1-9322-eecb768c35f5"
      },
      "execution_count": null,
      "outputs": [
        {
          "output_type": "stream",
          "name": "stdout",
          "text": [
            "Benz\n",
            "4 Wheeler\n"
          ]
        }
      ]
    },
    {
      "cell_type": "markdown",
      "source": [
        "### 17. Create a Python class called Bird with a method fly(). Then, create child classes Eagle and Sparrow that inherit from Bird and implement the fly() method differently. Provide an example of using these classes."
      ],
      "metadata": {
        "id": "5b3kRFD5n3sz"
      }
    },
    {
      "cell_type": "code",
      "source": [
        "class Bird:\n",
        "  def fly(self):\n",
        "    print(\"I can fly\")\n",
        "class Eagle(Bird):\n",
        "  def fly(self):\n",
        "    super().fly()\n",
        "    print(\"I can fly higger than sparrow\")\n",
        "class Sparrow(Bird):\n",
        "  def fly(self):\n",
        "    super().fly()\n",
        "    print(\"I'm the smallest bird compare to eagle\")\n",
        "sparrow=Sparrow()\n",
        "sparrow.fly()\n"
      ],
      "metadata": {
        "colab": {
          "base_uri": "https://localhost:8080/"
        },
        "id": "s7QTabpzA2tC",
        "outputId": "0a641b48-3a47-4a06-cfc2-db029401c14d"
      },
      "execution_count": null,
      "outputs": [
        {
          "output_type": "stream",
          "name": "stdout",
          "text": [
            "I can fly\n",
            "I'm the smallest bird compare to eagle\n"
          ]
        }
      ]
    },
    {
      "cell_type": "markdown",
      "source": [
        "### 18. What is the \"diamond problem\" in multiple inheritance, and how does Python address it?"
      ],
      "metadata": {
        "id": "kMxmCEXkDDEs"
      }
    },
    {
      "cell_type": "code",
      "source": [
        "class A:\n",
        "  def method(self):\n",
        "    print(\"method A\")\n",
        "class B(A):\n",
        "  def method(self):\n",
        "    super().method()\n",
        "    print(\"method B\")\n",
        "class C(A):\n",
        "  def method(self):\n",
        "    super().method()\n",
        "    print(\"method c\")\n",
        "class D(B,C):\n",
        "  pass\n",
        "d=D()\n",
        "d.method()\n"
      ],
      "metadata": {
        "colab": {
          "base_uri": "https://localhost:8080/"
        },
        "id": "aDVTBiHlDNru",
        "outputId": "dd197d64-17e8-4af2-d68f-e8af4b38ce2d"
      },
      "execution_count": null,
      "outputs": [
        {
          "output_type": "stream",
          "name": "stdout",
          "text": [
            "method A\n",
            "method c\n",
            "method B\n"
          ]
        }
      ]
    },
    {
      "cell_type": "markdown",
      "source": [
        "### 19. Discuss the concept of \"is-a\" and \"has-a\" relationships in inheritance, and provide examples of each."
      ],
      "metadata": {
        "id": "b5zbwaAHEswh"
      }
    },
    {
      "cell_type": "code",
      "source": [
        "# is-a relationship\n",
        "class Animal:\n",
        "    def speak(self):\n",
        "        print(\"Generic animal sound\")\n",
        "\n",
        "class Dog(Animal):\n",
        "    def bark(self):\n",
        "        print(\"Woof!\")\n",
        "\n",
        "# \"Dog is-a Animal\" is a valid statement.\n",
        "my_dog = Dog()\n",
        "my_dog.speak()\n",
        "my_dog.bark()\n",
        "\n",
        "\n",
        "#Has-a relationship\n",
        "\n",
        "class Engine:\n",
        "    def start(self):\n",
        "        print(\"Engine started\")\n",
        "\n",
        "class Car:\n",
        "    def __init__(self):\n",
        "        self.engine = Engine()\n",
        "\n",
        "    def drive(self):\n",
        "        print(\"Car is moving\")\n",
        "my_car = Car()\n",
        "my_car.engine.start()\n",
        "my_car.drive()\n"
      ],
      "metadata": {
        "colab": {
          "base_uri": "https://localhost:8080/"
        },
        "id": "ahYLtIUiE0Yn",
        "outputId": "c690ccfa-7886-4e74-d93f-0692c67e6a16"
      },
      "execution_count": null,
      "outputs": [
        {
          "output_type": "stream",
          "name": "stdout",
          "text": [
            "Generic animal sound\n",
            "Woof!\n",
            "Engine started\n",
            "Car is moving\n"
          ]
        }
      ]
    },
    {
      "cell_type": "markdown",
      "source": [
        "### 20. Create a Python class hierarchy for a university system. Start with a base class Person and create child classes Student and Professor, each with their own attributes and methods. Provide an example of using these classes in a university context."
      ],
      "metadata": {
        "id": "WXPf8SWkGc7l"
      }
    },
    {
      "cell_type": "code",
      "source": [
        "class person:\n",
        "  def __init__(self,name,age):\n",
        "    self.name=name\n",
        "    self.age=age\n",
        "  def introduction(self):\n",
        "    print(f\"Hii! my name is {self.name} and my age is {self.age} i'm new  for this college\")\n",
        "class student(person):\n",
        "  def __init__(self,name,age,Domain,id):\n",
        "    super().__init__(name,age)\n",
        "    self.domain=Domain\n",
        "    self.id=id\n",
        "  def introduction(self):\n",
        "    print(f\"Hi! my name is {self.name}\")\n",
        "    print(f\"My age is {self.age}\")\n",
        "    print(f\"i'm studing in  {self.domain}\")\n",
        "    print(f\"my id no is {self.id}\")\n",
        "class professor(person):\n",
        "  def __init__(self,name,age,subject):\n",
        "    super().__init__(name,age)\n",
        "    self.subject=subject\n",
        "    print(f\"Hi! my name is {self.name}\")\n",
        "    print(f\"my age is {slef.age}\")\n",
        "    print(f\"i'm telling to {self.subject}\")\n",
        "S1=student(\"Dileep\",20,\"Data Science\",4270)\n",
        "S1.introduction()\n"
      ],
      "metadata": {
        "id": "lvIMNlJ1GiPa",
        "colab": {
          "base_uri": "https://localhost:8080/"
        },
        "outputId": "6ee3a6ce-d36b-4cfa-8c56-67c8598d848b"
      },
      "execution_count": null,
      "outputs": [
        {
          "output_type": "stream",
          "name": "stdout",
          "text": [
            "Hi! my name is Dileep\n",
            "My age is 20\n",
            "i'm studing in  Data Science\n",
            "my id no is 4270\n"
          ]
        }
      ]
    },
    {
      "cell_type": "markdown",
      "source": [
        "# Encapsulation:"
      ],
      "metadata": {
        "id": "ByEu80dvIZNh"
      }
    },
    {
      "cell_type": "markdown",
      "source": [
        "### 1. Explain the concept of encapsulation in Python. What is its role in object-oriented programming?"
      ],
      "metadata": {
        "id": "-oI9u8S0n3qK"
      }
    },
    {
      "cell_type": "markdown",
      "source": [
        "\n",
        "In Python, encapsulation is a fundamental concept in object-oriented programming (OOP) that involves bundling the data (attributes or properties) and methods (functions or procedures) that operate on the data into a single unit, known as a class. The key idea is to restrict direct access to the internal details of an object and provide a well-defined interface through which the outside world can interact with the object."
      ],
      "metadata": {
        "id": "cnXFKJeRK8Bz"
      }
    },
    {
      "cell_type": "code",
      "source": [
        "class Person:\n",
        "  def __init__(self,name,course):\n",
        "    self._name=name\n",
        "    self._course=course\n",
        "  def get_name(self):\n",
        "    return(f\"my name is {self._name}\")\n",
        "  def get_course(self):\n",
        "    return(f\"i enrolled in {self._course}\")\n",
        "D1=Person(\"Dileep\",\"Data Science\")\n",
        "print(D1.get_name())\n",
        "print(D1.get_course())\n"
      ],
      "metadata": {
        "colab": {
          "base_uri": "https://localhost:8080/"
        },
        "id": "68qI6cB5Ii47",
        "outputId": "2b437bff-90b9-47fe-ae68-90599266f497"
      },
      "execution_count": null,
      "outputs": [
        {
          "output_type": "stream",
          "name": "stdout",
          "text": [
            "my name is Dileep\n",
            "i enrolled in Data Science\n"
          ]
        }
      ]
    },
    {
      "cell_type": "markdown",
      "source": [
        "### 2. Describe the key principles of encapsulation, including access control and data hiding."
      ],
      "metadata": {
        "id": "tBbC5DkROpC5"
      }
    },
    {
      "cell_type": "markdown",
      "source": [
        "Encapsulation is a fundamental concept in object-oriented programming (OOP) that involves bundling data (attributes or properties) and methods (functions or procedures) that operate on the data into a single unit, known as a class. The key principles of encapsulation include access control and data hiding:\n",
        "\n",
        "Access Control:\n",
        "\n",
        "Public Members: These are members (attributes or methods) of a class that can be accessed from outside the class. They form the public interface of the class and are accessible by external code.\n",
        "Private Members: These are members that are not intended to be accessed directly from outside the class. They are prefixed with a double underscore (__) in Python, indicating that they are private. Access to private members is restricted to within the class itself.\n",
        "In encapsulation, access control is essential to defining the boundaries of a class and ensuring that certain details are hidden from external code. Public members provide a well-defined interface for interaction, while private members are kept hidden to protect the internal implementation.\n",
        "\n",
        "Data Hiding:\n",
        "\n",
        "Private Attributes: Encapsulation involves hiding the internal details of an object's state by making attributes private. This means that the details of how the data is stored and manipulated are not exposed to external code.\n",
        "Public Methods: External code interacts with the object through public methods, which serve as an interface to manipulate the internal state. These methods are designed to provide controlled access to the encapsulated data.\n",
        "Data hiding is crucial for maintaining the integrity of an object and preventing unintended interference. It allows the class to control how its internal state is modified and ensures that the internal representation can be changed without affecting external code."
      ],
      "metadata": {
        "id": "NJUZzdbnO8Ix"
      }
    },
    {
      "cell_type": "markdown",
      "source": [
        "### 3. How can you achieve encapsulation in Python classes? Provide an example."
      ],
      "metadata": {
        "id": "-s6ETP0xO__N"
      }
    },
    {
      "cell_type": "code",
      "source": [
        "class Data:\n",
        "  def __init__(self,value):\n",
        "    self.__value=value    # private\n",
        "  def __private_method(self):\n",
        "    return \"i'm a private method\"\n",
        "  def get_value(self):\n",
        "    return f\"the data given by the user is {self.__value}\"\n",
        "  def get_private(self):         #recalling the private function\n",
        "    return self.__private_method()\n",
        "A1=Data(23)\n",
        "print(A1.get_value())\n",
        "print(A1.get_private())"
      ],
      "metadata": {
        "id": "rZ_aC9rAOtSw",
        "colab": {
          "base_uri": "https://localhost:8080/"
        },
        "outputId": "9e5c17a9-4999-466c-c578-d4986a87de03"
      },
      "execution_count": null,
      "outputs": [
        {
          "output_type": "stream",
          "name": "stdout",
          "text": [
            "the data given by the user is 23\n",
            "i'm a private method\n"
          ]
        }
      ]
    },
    {
      "cell_type": "markdown",
      "source": [
        "### 4. Discuss the difference between public, private, and protected access modifiers in Python."
      ],
      "metadata": {
        "id": "q9x99W5evyQz"
      }
    },
    {
      "cell_type": "code",
      "source": [
        "# public Method\n",
        "class MyClass:\n",
        "    def __init__(self, value):\n",
        "        self.public_data = value  # public attribute\n",
        "\n",
        "    def public_method(self):\n",
        "        print(\"This is a public method.\")\n",
        "\n",
        "#protect Method\n",
        "class MyClass:\n",
        "    def __init__(self, value):\n",
        "        self._protected_data = value  # protected attribute\n",
        "\n",
        "    def _protected_method(self):\n",
        "        print(\"This is a protected method.\")\n",
        "\n",
        "#private Method\n",
        "class MyClass:\n",
        "    def __init__(self, value):\n",
        "        self.__private_data = value  # private attribute\n",
        "\n",
        "    def __private_method(self):\n",
        "        print(\"This is a private method.\")\n",
        "    def get_private(self):\n",
        "      return self.__private_method()\n",
        "A=MyClass(23)\n",
        "A.get_private()\n",
        "\n"
      ],
      "metadata": {
        "colab": {
          "base_uri": "https://localhost:8080/"
        },
        "id": "aAs1lufXv0HC",
        "outputId": "a94b4e62-43d2-41bd-964a-6fa92b46abf3"
      },
      "execution_count": null,
      "outputs": [
        {
          "output_type": "stream",
          "name": "stdout",
          "text": [
            "This is a private method.\n"
          ]
        }
      ]
    },
    {
      "cell_type": "markdown",
      "source": [
        "### 5. Create a Python class called `Person` with a private attribute `__name`. Provide methods to get and set the name attribute."
      ],
      "metadata": {
        "id": "lYqiKdERzCRc"
      }
    },
    {
      "cell_type": "code",
      "source": [
        "class Person:\n",
        "    def __init__(self, name):\n",
        "        self.__name = name  # Private attribute\n",
        "\n",
        "    def get_name(self):\n",
        "        return self.__name\n",
        "\n",
        "    def set_name(self, new_name):\n",
        "        if new_name:\n",
        "            self.__name = new_name\n",
        "P=Person(\"Dileep\")\n",
        "print(P.get_name())\n",
        "P.set_name(\"prasad\")\n",
        "print(P.get_name())\n"
      ],
      "metadata": {
        "colab": {
          "base_uri": "https://localhost:8080/"
        },
        "id": "bUHOybMaQm3U",
        "outputId": "206fbbe7-43fb-4b5c-fbaa-73479cf4bd58"
      },
      "execution_count": null,
      "outputs": [
        {
          "output_type": "stream",
          "name": "stdout",
          "text": [
            "Dileep\n",
            "prasad\n"
          ]
        }
      ]
    },
    {
      "cell_type": "markdown",
      "source": [
        "### 6. Explain the purpose of getter and setter methods in encapsulation. Provide examples."
      ],
      "metadata": {
        "id": "2FvLr3FhR-ol"
      }
    },
    {
      "cell_type": "code",
      "source": [
        "class Circle:\n",
        "    def __init__(self, radius):\n",
        "        self.__radius = radius\n",
        "\n",
        "    def get_radius(self):\n",
        "        return self.__radius\n",
        "\n",
        "    def set_radius(self, new_radius):\n",
        "        if new_radius > 0:\n",
        "            self.__radius = new_radius\n",
        "        else:\n",
        "            print(\"Invalid radius. Radius must be greater than 0.\")\n",
        "    def calculate_area(self):\n",
        "        return 3.14 * self.__radius**2\n",
        "\n",
        "circle = Circle(5)\n",
        "print(\"Radius:\", circle.get_radius())\n",
        "\n",
        "print(\"Updated Radius:\", circle.get_radius())\n",
        "circle.set_radius(-3)\n"
      ],
      "metadata": {
        "colab": {
          "base_uri": "https://localhost:8080/"
        },
        "id": "t-J6Ukl-SMK7",
        "outputId": "5147eb29-adf7-4779-bfc6-b44d06f6a611"
      },
      "execution_count": null,
      "outputs": [
        {
          "output_type": "stream",
          "name": "stdout",
          "text": [
            "Radius: 5\n",
            "Updated Radius: 5\n",
            "Invalid radius. Radius must be greater than 0.\n"
          ]
        }
      ]
    },
    {
      "cell_type": "markdown",
      "source": [
        "### 7. What is name mangling in Python, and how does it affect encapsulation?"
      ],
      "metadata": {
        "id": "Gmn2lK8Zn26C"
      }
    },
    {
      "cell_type": "code",
      "source": [
        "class MyClass:\n",
        "    def __init__(self):\n",
        "        self.__private_attribute = 42\n",
        "\n",
        "    def get_private_attribute(self):\n",
        "        return self.__private_attribute\n",
        "\n",
        "\n",
        "# Creating an instance of the class\n",
        "obj = MyClass()\n",
        "\n",
        "# Accessing the private attribute using the getter method\n",
        "value = obj.get_private_attribute()\n",
        "print(value)  # Output: 42\n",
        "\n",
        "# Trying to access the private attribute directly will result in an AttributeError\n",
        "# Uncommenting the line below will result in an error\n",
        "# print(obj.__private_attribute)  # This will raise an AttributeError\n"
      ],
      "metadata": {
        "id": "Mxy_Kh-XTRt-",
        "colab": {
          "base_uri": "https://localhost:8080/"
        },
        "outputId": "b2df3536-c57b-4dd8-a6ce-e16849ec6ed9"
      },
      "execution_count": null,
      "outputs": [
        {
          "output_type": "stream",
          "name": "stdout",
          "text": [
            "42\n"
          ]
        }
      ]
    },
    {
      "cell_type": "markdown",
      "source": [
        "### 8. Create a Python class called BankAccount with private attributes for the account balance (__balance) and account number (__account_number). Provide methods for depositing and withdrawing money."
      ],
      "metadata": {
        "id": "4wFUf7O7q4yU"
      }
    },
    {
      "cell_type": "code",
      "source": [
        "class Bank_Account:\n",
        "  def __init__(self,account_number,balance=0):\n",
        "    self.__balance=balance\n",
        "    self.__account=account_number\n",
        "  def deposite(self,acc_num,amount):\n",
        "    if acc_num == self.__account:\n",
        "      self.__balance+=amount\n",
        "      print(\"deposite successfully completed\")\n",
        "      return f\"The balance of your account is {self.__balance}\"\n",
        "    else:\n",
        "      return \"Enter correct account number\"\n",
        "  def withdraw(self,acc_num,amount):\n",
        "    if acc_num == self.__account:\n",
        "      self.__balance = amount\n",
        "      print(\"withdraw succesfullly completed\")\n",
        "      return f\"Remaining balance in your account is {self.__balance}\"\n",
        "    else:\n",
        "      return f\"Enter correct account number\"\n",
        "\n",
        "p1=Bank_Account(123456)\n",
        "print(p1.deposite(123456,500))\n",
        "print(p1.withdraw(123456,100))\n"
      ],
      "metadata": {
        "colab": {
          "base_uri": "https://localhost:8080/"
        },
        "id": "DljddRjUq-c3",
        "outputId": "3028ebf5-a2d6-4d9f-857c-012e0f7cfcb5"
      },
      "execution_count": null,
      "outputs": [
        {
          "output_type": "stream",
          "name": "stdout",
          "text": [
            "deposite successfully completed\n",
            "The balance of your account is 500\n",
            "withdraw succesfullly completed\n",
            "Remaining balance in your account is 100\n"
          ]
        }
      ]
    },
    {
      "cell_type": "markdown",
      "source": [
        "### 9. Discuss the advantages of encapsulation in terms of code maintainability and security."
      ],
      "metadata": {
        "id": "cUy_KmH_uY-l"
      }
    },
    {
      "cell_type": "markdown",
      "source": [
        "Advantages of Encapsulation:\n",
        "\n",
        "Modularity:\n",
        "Encapsulation promotes modularity by organizing code into self-contained units (classes). Each class encapsulates its data and behavior, making it easier to understand and maintain.\n",
        "Changes to one class do not necessarily affect other parts of the program, enhancing code modularity.\n",
        "\n",
        "Code Isolation:\n",
        "Attributes of a class are typically declared as private or protected, restricting direct access from outside the class. This isolation helps prevent unintended interference with the internal state of an object.\n",
        "The internal implementation details of a class are hidden, allowing for changes to be made within the class without affecting the rest of the program.\n",
        "\n",
        "Information Hiding:\n",
        "Encapsulation supports the concept of information hiding, where the internal details of a class are hidden from external entities. Only the essential interface (public methods) is exposed.\n",
        "This reduces complexity for users of the class, as they only need to understand and interact with the public interface, leading to simpler and more maintainable code.\n",
        "\n",
        "Enhanced Code Maintainability:\n",
        "Encapsulation improves code maintainability by localizing changes. Modifications to the internal implementation of a class are limited to that class, reducing the likelihood of unintended consequences elsewhere in the codebase.\n",
        "This makes it easier to identify and fix bugs, add new features, or refactor code without affecting the entire system.\n",
        "\n",
        "Security:\n",
        "Encapsulation contributes to security by restricting direct access to sensitive data and internal implementation details. Private and protected attributes prevent external code from directly manipulating the internal state of an object.\n",
        "Controlled access through public methods allows for validation and ensures that operations on the data follow specified rules, reducing the risk of unintended side effects.\n",
        "\n",
        "Versioning and Compatibility:\n",
        "Encapsulation facilitates versioning and maintaining backward compatibility. Changes made to the internal implementation of a class can be managed within the class, allowing for a smoother transition between different versions of the software.\n",
        "\n",
        "Flexibility and Adaptability:\n",
        "Encapsulation allows for the creation of well-defined interfaces, making it easier to adapt and extend a system. Users of a class can interact with its public interface without being concerned about the internal details, promoting flexibility in the overall design."
      ],
      "metadata": {
        "id": "my1cZXGiusEc"
      }
    },
    {
      "cell_type": "markdown",
      "source": [
        "### 10. How can you access private attributes in Python? Provide an example demonstrating the use of name mangling"
      ],
      "metadata": {
        "id": "NeUlRaq6vVau"
      }
    },
    {
      "cell_type": "code",
      "source": [
        "class class_:\n",
        "    def __init__(self):\n",
        "        self.__name = \"Private\"\n",
        "\n",
        "    def get_name(self):\n",
        "        return self.__name\n",
        "\n",
        "ob = class_()\n",
        "print(ob.get_name())\n",
        "mangled_name = f\"_class___name\"\n",
        "print(f\"using mangling : {getattr(ob,mangled_name)}\")"
      ],
      "metadata": {
        "colab": {
          "base_uri": "https://localhost:8080/"
        },
        "id": "qwjPB7zuucgE",
        "outputId": "4ebf6831-6802-47ab-bc01-fe10f50ef35c"
      },
      "execution_count": null,
      "outputs": [
        {
          "output_type": "stream",
          "name": "stdout",
          "text": [
            "Private\n",
            "using mangling : Private\n"
          ]
        }
      ]
    },
    {
      "cell_type": "markdown",
      "source": [
        "### 11. Create a Python class hierarchy for a school system, including classes for students, teachers, and courses, and implement encapsulation principles to protect sensitive information"
      ],
      "metadata": {
        "id": "XFBPlQ2cwf1I"
      }
    },
    {
      "cell_type": "code",
      "source": [
        "class School:\n",
        "    def __init__(self, name):\n",
        "        self._name = name\n",
        "\n",
        "    def get_school_name(self):\n",
        "        return self._name\n",
        "\n",
        "\n",
        "class Student(School):\n",
        "    def __init__(self, student_name, class_, section):\n",
        "        super().__init__(name=\"Zilla parishuth high school\")\n",
        "        self.__st_name = student_name\n",
        "        self._class_ = class_\n",
        "        self._section = section\n",
        "\n",
        "    def display(self):\n",
        "        return f\"My self {self.__st_name} in section {self._section} of {self._class_} at {self.get_school_name()}\"\n",
        "\n",
        "\n",
        "class Teacher(School):\n",
        "    def __init__(self, teacher_name, subject):\n",
        "        super().__init__(name=\"Zilla parishuth high school\")\n",
        "        self.__teacher_name = teacher_name\n",
        "        self._subject = subject\n",
        "\n",
        "    def display(self):\n",
        "        return f\"I am {self.__teacher_name}, teaching {self._subject} at {self.get_school_name()}\"\n",
        "\n",
        "\n",
        "class Course:\n",
        "    def __init__(self, course_name):\n",
        "        self._course_name = course_name\n",
        "\n",
        "    def get_course_name(self):\n",
        "        return self._course_name\n",
        "\n",
        "\n",
        "st_obj = Student(student_name=\"Dileep\", class_=\"10th\", section=\"A\")\n",
        "t_obj = Teacher(teacher_name=\"Mr. Mohit\", subject=\"Communication\")\n",
        "c_obj = Course(course_name=\"English\")\n",
        "\n",
        "print(st_obj.display())\n",
        "print(t_obj.display())\n",
        "print(f\"Enrolled in course: {c_obj.get_course_name()}\")"
      ],
      "metadata": {
        "colab": {
          "base_uri": "https://localhost:8080/"
        },
        "id": "S88dSqr0xq26",
        "outputId": "4d3ae6b9-b863-4b8d-a2c7-2442f4437dcf"
      },
      "execution_count": null,
      "outputs": [
        {
          "output_type": "stream",
          "name": "stdout",
          "text": [
            "My self Dileep in section A of 10th at Zilla parishuth high school\n",
            "I am Mr. Mohit, teaching Communication at Zilla parishuth high school\n",
            "Enrolled in course: English\n"
          ]
        }
      ]
    },
    {
      "cell_type": "markdown",
      "source": [
        "### 12. Explain the concept of property decorators in Python and how they relate to encapsulation"
      ],
      "metadata": {
        "id": "_t93N6kM0QnI"
      }
    },
    {
      "cell_type": "markdown",
      "source": [
        "\n",
        "In Python, property decorators are a way to implement getter, setter, and deleter methods for class attributes. They provide a convenient way to encapsulate the access and modification of class attributes, allowing you to control how these attributes are read and modified.\n",
        "\n",
        "The property decorator is used to define a getter method, and additional decorators (@<property_name>.setter and @<property_name>.deleter) can be used to define setter"
      ],
      "metadata": {
        "id": "T5UvTxlG0crg"
      }
    },
    {
      "cell_type": "markdown",
      "source": [
        "### 13. What is data hiding, and why is it important in encapsulation? Provide examples."
      ],
      "metadata": {
        "id": "2_4EF0Qj0z22"
      }
    },
    {
      "cell_type": "markdown",
      "source": [
        "Data hiding, also known as information hiding, is a concept in computer science and software engineering that refers to the practice of restricting access to certain details of an object and only exposing what is necessary for the outside world to interact with the object. In the context of object-oriented programming, data hiding is closely associated with encapsulation, which involves bundling the data (attributes) and methods (functions) that operate on the data within a class.\n",
        "\n",
        "Importance of Data Hiding in Encapsulation:\n",
        "Controlled Access:\n",
        "\n",
        "Data hiding allows you to control access to the internal state of an object. By defining attributes as private or protected, you restrict direct access from outside the class, reducing the chances of unintentional interference or modification of the object's internal state.\n",
        "Prevention of Unintended Changes:\n",
        "\n",
        "Hiding the implementation details of a class prevents external code from making unintended changes to the object's state. This is crucial for maintaining the integrity of the object and ensuring that modifications adhere to the specified rules and validations.\n",
        "Security:\n",
        "\n",
        "Data hiding contributes to security by preventing unauthorized access to sensitive data. By encapsulating data within a class and exposing only a controlled interface, you can minimize the risk of data manipulation or exposure.\n",
        "Abstraction:\n",
        "\n",
        "Data hiding facilitates abstraction, where only essential details are exposed, and unnecessary complexities are hidden. This abstraction simplifies the interaction with an object by providing a clear and concise interface, making the code more understandable and maintainable.\n",
        "Enhanced Maintainability:\n",
        "\n",
        "Encapsulation and data hiding lead to enhanced maintainability by localizing changes within a class. If modifications to the internal implementation are required, they can be made within the class without affecting other parts of the program, reducing the likelihood of introducing bugs or unintended side effects."
      ],
      "metadata": {
        "id": "vIszPPMr3Otq"
      }
    },
    {
      "cell_type": "code",
      "source": [
        "class Temperature:\n",
        "    def __init__(self, celsius):\n",
        "        self._celsius = celsius\n",
        "\n",
        "    @property\n",
        "    def celsius(self):\n",
        "        return self._celsius\n",
        "\n",
        "    @celsius.setter\n",
        "    def celsius(self, value):\n",
        "        if value < -273.15:\n",
        "            raise ValueError(\"Temperature cannot be below absolute zero.\")\n",
        "        self._celsius = value\n",
        "temperature_obj = Temperature(celsius=25)\n",
        "print(temperature_obj.celsius)\n",
        "temperature_obj.celsius = 30\n",
        "print(temperature_obj.celsius)\n",
        "\n"
      ],
      "metadata": {
        "colab": {
          "base_uri": "https://localhost:8080/"
        },
        "id": "LCqCYO-D0cH5",
        "outputId": "fcbf40e6-85b8-4fa4-cd34-3a7a9bea7636"
      },
      "execution_count": null,
      "outputs": [
        {
          "output_type": "stream",
          "name": "stdout",
          "text": [
            "25\n",
            "30\n"
          ]
        }
      ]
    },
    {
      "cell_type": "markdown",
      "source": [
        "### 14. Create a Python class called Employee with private attributes for salary (__salary) and employee ID (__employee_id). Provide a method to calculate yearly bonuses."
      ],
      "metadata": {
        "id": "0Fp7ZLm45SRk"
      }
    },
    {
      "cell_type": "code",
      "source": [
        "class Employee:\n",
        "  def __init__(self,salary,employee_id):\n",
        "    self.__salary = salary\n",
        "    self.__employee_id = employee_id\n",
        "  def bonus(self,bonus):\n",
        "    bonus_amount = (bonus / 100) * self.__salary\n",
        "    return f\"The salary of the {self.__employee_id} is {self.__salary}\"\n",
        "Person1=Employee(20000,4270)\n",
        "print(Person1.bonus(10))"
      ],
      "metadata": {
        "colab": {
          "base_uri": "https://localhost:8080/"
        },
        "id": "WxFQCOyw5loz",
        "outputId": "3977cfba-f7f1-49d3-cd22-aa099cc09805"
      },
      "execution_count": null,
      "outputs": [
        {
          "output_type": "stream",
          "name": "stdout",
          "text": [
            "The salary of the 4270 is 20000\n"
          ]
        }
      ]
    },
    {
      "cell_type": "markdown",
      "source": [
        "### 15. Discuss the use of accessors and mutators in encapsulation. How do they help maintain control over attribute access?"
      ],
      "metadata": {
        "id": "SE0dBPyt9E0m"
      }
    },
    {
      "cell_type": "code",
      "source": [
        "class BankAccount:\n",
        "    def __init__(self, account_number, balance):\n",
        "        self.__account_number = account_number\n",
        "        self.__balance = balance\n",
        "\n",
        "    def get_balance(self):\n",
        "        return self.__balance\n",
        "\n",
        "    def deposit(self, amount):\n",
        "        if amount > 0:\n",
        "            self.__balance += amount\n",
        "\n",
        "    def withdraw(self, amount):\n",
        "        if 0 < amount <= self.__balance:\n",
        "            self.__balance -= amount"
      ],
      "metadata": {
        "id": "ELmKjECK9WmE"
      },
      "execution_count": null,
      "outputs": []
    },
    {
      "cell_type": "markdown",
      "source": [
        "### 16. What are the potential drawbacks or disadvantages of using encapsulation in Python?"
      ],
      "metadata": {
        "id": "FfuzT1GN9gQA"
      }
    },
    {
      "cell_type": "markdown",
      "source": [
        "\n",
        "Encapsulation is a fundamental concept in object-oriented programming that involves bundling the data (attributes) and methods (functions) that operate on the data into a single unit known as a class. In Python, encapsulation is achieved through the use of private and protected attributes, indicated by the use of single and double underscores, respectively.\n",
        "\n",
        "While encapsulation provides several benefits, there are potential drawbacks or disadvantages associated with its use:\n",
        "\n",
        "Access Control Overhead: Python's encapsulation relies on conventions rather than strict access control. Private and protected attributes can still be accessed from outside the class, and it is more of a guideline for developers to indicate which attributes should not be accessed directly. This lack of strict enforcement can lead to unintentional access and modification of supposedly private or protected attributes.\n",
        "\n",
        "Flexibility vs. Rigidity: Encapsulation can make the code more rigid, as it restricts direct access to attributes. While this can enhance security and maintainability, it may also limit flexibility, especially when dealing with dynamic or evolving requirements.\n",
        "\n",
        "Increased Code Complexity: Using encapsulation might introduce additional complexity to the code, especially when dealing with getter and setter methods. While these methods can provide a level of control over attribute access, they also contribute to code verbosity.\n",
        "\n",
        "Debugging Challenges: When encapsulation is heavily used, debugging can become more challenging. Accessing and modifying internal state for debugging purposes may require changes to the class or the creation of special methods, which can complicate the debugging process.\n",
        "\n",
        "Performance Overhead: The use of getter and setter methods, which is common in encapsulation, can introduce a slight performance overhead compared to direct attribute access. In performance-sensitive applications, this may be a consideration.\n",
        "\n",
        "Learning Curve: For developers new to object-oriented programming or Python, understanding and adhering to encapsulation principles may pose a learning curve. It requires a good understanding of the language's conventions and best practices."
      ],
      "metadata": {
        "id": "XVIu5pv_95fw"
      }
    },
    {
      "cell_type": "markdown",
      "source": [
        "### 17. Create a Python class for a library system that encapsulates book information, including titles, authors, and availability status."
      ],
      "metadata": {
        "id": "vIpVBpqy-Alk"
      }
    },
    {
      "cell_type": "code",
      "source": [
        "class Book:\n",
        "    def __init__(self, title, author, available=True):\n",
        "        self.__title = title\n",
        "        self.__author = author\n",
        "        self.__available = available\n",
        "    def borrow_book(self):\n",
        "        if self.__available:\n",
        "            print(f\"Book '{self.__title}' by {self.__author} has been borrowed.\")\n",
        "            self.__available = False\n",
        "        else:\n",
        "            print(f\"Sorry, the book '{self.__title}' is currently not available.\")\n",
        "    def return_book(self):\n",
        "        if not self.__available:\n",
        "            print(f\"Book '{self.__title}' by {self.__author} has been returned.\")\n",
        "            self.__available = True\n",
        "        else:\n",
        "            print(f\"The book '{self.__title}' is already available.\")\n",
        "\n",
        "\n",
        "book1 = Book(title=\"The Catcher in the Rye\", author=\"J.D. Salinger\")\n",
        "print(book1.borrow_book())\n",
        "print(book1.return_book())\n"
      ],
      "metadata": {
        "colab": {
          "base_uri": "https://localhost:8080/"
        },
        "id": "41YDLI4v-F6e",
        "outputId": "06d42108-7a16-455a-ceb3-89f1b59022d2"
      },
      "execution_count": null,
      "outputs": [
        {
          "output_type": "stream",
          "name": "stdout",
          "text": [
            "Book 'The Catcher in the Rye' by J.D. Salinger has been borrowed.\n",
            "None\n",
            "Book 'The Catcher in the Rye' by J.D. Salinger has been returned.\n",
            "None\n"
          ]
        }
      ]
    },
    {
      "cell_type": "markdown",
      "source": [
        "### 18. Explain how encapsulation enhances code reusability and modularity in Python programs"
      ],
      "metadata": {
        "id": "WmHWhcun_Qw4"
      }
    },
    {
      "cell_type": "markdown",
      "source": [
        "Abstraction: Encapsulation allows developers to create abstract data types using classes. By encapsulating the implementation details within a class, the rest of the program can interact with the class through a well-defined interface, abstracting away the internal complexities. This abstraction makes it easier to understand and use the code without being concerned about the implementation details.\n",
        "\n",
        "Modularity: Encapsulation encourages the creation of modular code. Each class represents a module with a specific responsibility or functionality. This modular approach makes it easier to manage and maintain the codebase, as changes to one module (class) are less likely to impact other parts of the program.\n",
        "\n",
        "Code Organization: By grouping related data and methods together in a class, encapsulation promotes better organization of code. This organization makes it simpler to locate and understand specific functionalities, leading to improved readability and maintainability.\n",
        "\n",
        "Code Reusability: Encapsulation facilitates code reuse by allowing developers to create classes that can be instantiated and used in different parts of the program or even in different projects. Once a class is defined, it can be reused without duplicating the implementation. This promotes the \"Don't Repeat Yourself\" (DRY) principle and reduces redundancy in the codebase.\n",
        "\n",
        "Encapsulation of Implementation Details: With encapsulation, the internal details of a class are hidden from the outside world. This helps in managing the complexity of the code by preventing direct access to the internal state of objects. Users of a class interact with it through well-defined interfaces, and changes to the internal implementation do not affect the external code that uses the class.\n",
        "\n",
        "Improved Maintainability: Since encapsulation promotes modularity and abstraction, maintaining and updating the code becomes easier. Changes to the internal implementation of a class can be made without affecting the external code that relies on the class's interface. This isolation of changes improves maintainability and reduces the risk of unintended side effects."
      ],
      "metadata": {
        "id": "j11ffJHh_S4l"
      }
    },
    {
      "cell_type": "markdown",
      "source": [
        "### 19. Describe the concept of information hiding in encapsulation. Why is it essential in software development?"
      ],
      "metadata": {
        "id": "qHKFHb-5_nbk"
      }
    },
    {
      "cell_type": "markdown",
      "source": [
        "Abstraction: Information hiding allows developers to create abstractions by exposing only the essential features and behaviors of an object while hiding the implementation details. This abstraction simplifies the understanding and use of a class, making the code more user-friendly and reducing cognitive load.\n",
        "\n",
        "Modularity: By hiding the internal details of a class, encapsulation supports the creation of modular code. Modules (classes) can be treated as independent entities with well-defined interfaces, promoting a clean separation of concerns. This modularity makes it easier to develop, test, and maintain code.\n",
        "\n",
        "Reduced Complexity: Information hiding helps manage the complexity of software systems. Developers can focus on understanding and using the public interface of a class without being burdened by the internal intricacies. This separation of concerns simplifies the development process and reduces the risk of errors.\n",
        "\n",
        "Security and Privacy: Information hiding enhances security by preventing unauthorized access to sensitive data and methods. Private and protected members of a class are not directly accessible from outside the class, limiting potential security vulnerabilities. This is crucial for maintaining the integrity and confidentiality of data.\n",
        "\n",
        "Encapsulation of Changes: Information hiding allows developers to modify the internal implementation of a class without affecting the external code that uses it. This encapsulation of changes ensures that updates to the internal details do not break existing code, promoting maintainability and enabling easier evolution of software systems.\n",
        "\n",
        "Code Maintenance and Refactoring: When information is properly hidden, developers can refactor or improve the internal structure of a class without impacting the external codebase. This flexibility is essential for maintaining and evolving software systems over time.\n",
        "\n",
        "Dependency Management: Information hiding helps manage dependencies between different parts of a program. External code depends on a class's public interface rather than its internal implementation. This reduces coupling between components, making it easier to replace or update individual modules without affecting the entire system.\n"
      ],
      "metadata": {
        "id": "1_zI1E1J_sU2"
      }
    },
    {
      "cell_type": "markdown",
      "source": [
        "### 20. Create a Python class called Customer with private attributes for customer details like name, address, and contact information. Implement encapsulation to ensure data integrity and security"
      ],
      "metadata": {
        "id": "e1gu6G0A_80e"
      }
    },
    {
      "cell_type": "code",
      "source": [
        "class Customer:\n",
        "    def __init__(self,name,address,contact_information):\n",
        "        self.__name = name\n",
        "        self.__address = address\n",
        "        self.__contact_information = contact_information\n",
        "\n",
        "    def get_name(self):\n",
        "        return self.__name\n",
        "\n",
        "    def get_address(self):\n",
        "        return self.__address\n",
        "\n",
        "    def get_contact_info(self):\n",
        "        return self.__contact_information\n",
        "\n",
        "    # Setter methods for updating customer details (optional)\n",
        "    def set_name(self, new_name):\n",
        "        self.__name = new_name\n",
        "\n",
        "    def set_address(self, new_address):\n",
        "        self.__address = new_address\n",
        "\n",
        "    def set_contact_info(self, new_contact_info):\n",
        "        self.__contact_information = new_contact_info\n",
        "\n",
        "# Example usage\n",
        "customer = Customer(name=\"John Doe\", address=\"123 Main St\", contact_information=\"john@example.com\")\n",
        "\n",
        "# Accessing customer information using getters\n",
        "print(f\"Customer Name: {customer.get_name()}\")\n",
        "print(f\"Customer Address: {customer.get_address()}\")\n",
        "print(f\"Customer Contact Info: {customer.get_contact_info()}\")\n",
        "\n",
        "# Updating customer details (optional, depending on use case)\n",
        "customer.set_name(\"Jane Doe\")\n",
        "customer.set_address(\"456 Oak St\")\n",
        "customer.set_contact_info(\"jane@example.com\")\n",
        "\n",
        "# Accessing updated information\n",
        "print(\"\\nAfter Update:\")\n",
        "print(f\"Customer Name: {customer.get_name()}\")\n",
        "print(f\"Customer Address: {customer.get_address()}\")\n",
        "print(f\"Customer Contact Info: {customer.get_contact_info()}\")"
      ],
      "metadata": {
        "colab": {
          "base_uri": "https://localhost:8080/"
        },
        "id": "jGS0qzDNAT2S",
        "outputId": "0f098979-d730-4a70-ee9c-5b9ad9d115e8"
      },
      "execution_count": null,
      "outputs": [
        {
          "output_type": "stream",
          "name": "stdout",
          "text": [
            "Customer Name: John Doe\n",
            "Customer Address: 123 Main St\n",
            "Customer Contact Info: john@example.com\n",
            "\n",
            "After Update:\n",
            "Customer Name: Jane Doe\n",
            "Customer Address: 456 Oak St\n",
            "Customer Contact Info: jane@example.com\n"
          ]
        }
      ]
    },
    {
      "cell_type": "markdown",
      "source": [
        "# Polymorphism:"
      ],
      "metadata": {
        "id": "HBBo3MMhiKwa"
      }
    },
    {
      "cell_type": "markdown",
      "source": [
        "### 1. What is polymorphism in Python? Explain how it is related to object-oriented programming."
      ],
      "metadata": {
        "id": "cbcksjHdiNrP"
      }
    },
    {
      "cell_type": "markdown",
      "source": [
        "\n",
        "Polymorphism in Python is a concept that allows objects of different types to be treated as objects of a common type. It is one of the four fundamental principles of object-oriented programming (OOP), along with encapsulation, inheritance, and abstraction. The word \"polymorphism\" is derived from the Greek words \"poly,\" meaning many, and \"morph,\" meaning forms. In the context of OOP, polymorphism allows a single interface to represent different types of objects"
      ],
      "metadata": {
        "id": "4awjJeB0vS5j"
      }
    },
    {
      "cell_type": "code",
      "source": [
        "class animal:\n",
        "  def speak(self):\n",
        "    pass\n",
        "class dog(animal):\n",
        "  def speak(self):\n",
        "    return \"woof!\"\n",
        "class cat(animal):\n",
        "  def speak(self):\n",
        "    return \"meow!\"\n",
        "Dog=dog()\n",
        "Cat=cat()\n",
        "print(Dog.speak())\n",
        "print(Cat.speak())"
      ],
      "metadata": {
        "id": "_TMhpaqLkJQa",
        "colab": {
          "base_uri": "https://localhost:8080/"
        },
        "outputId": "47b48ec7-4f3c-44b0-c3db-7fb09b4d7e62"
      },
      "execution_count": null,
      "outputs": [
        {
          "output_type": "stream",
          "name": "stdout",
          "text": [
            "woof!\n",
            "meow!\n"
          ]
        }
      ]
    },
    {
      "cell_type": "markdown",
      "source": [
        "### 2. Describe the difference between compile-time polymorphism and runtime polymorphism in Python."
      ],
      "metadata": {
        "id": "yY2FGKe8wQwu"
      }
    },
    {
      "cell_type": "markdown",
      "source": [
        "Compile-time (Static) Polymorphism:\n",
        "\n",
        "Method Overloading: This is a form of compile-time polymorphism where a class can have multiple methods with the same name but different parameters. The appropriate method to call is determined at compile time based on the number and types of arguments."
      ],
      "metadata": {
        "id": "xV-g29AVwc1E"
      }
    },
    {
      "cell_type": "markdown",
      "source": [
        "Method Overriding: This is a form of runtime polymorphism where a subclass provides a specific implementation for a method that is already defined in its superclass. The decision on which method to call is made at runtime based on the actual type of the object."
      ],
      "metadata": {
        "id": "HNsM3Z8Lwd4X"
      }
    },
    {
      "cell_type": "markdown",
      "source": [
        "### 3. Create a Python class hierarchy for shapes (e.g., circle, square, triangle) and demonstrate polymorphism through a common method, such as `calculate_area()`."
      ],
      "metadata": {
        "id": "gp72Y9cZwl2x"
      }
    },
    {
      "cell_type": "code",
      "source": [
        "import math\n",
        "class shapes:\n",
        "  def calculate_area(self):\n",
        "    pass\n",
        "class circle(shapes):\n",
        "  def __init__(self,radius):\n",
        "    self.radius = radius\n",
        "  def calculate_area(self):\n",
        "    return math.pi*self.radius**2\n",
        "class square(shapes):\n",
        "  def __init__(self,side):\n",
        "    self.side=side\n",
        "  def calculate_area(self):\n",
        "     return self.side**2\n",
        "class triangle(shapes):\n",
        "  def __init__(self,base,height):\n",
        "    self.base=base\n",
        "    self.height=height\n",
        "  def calculate_area(self):\n",
        "    return 0.5*self.base*self.height\n",
        "Circle=circle(4)\n",
        "print(f\"The area of a circle is {Circle.calculate_area()}\")\n",
        "Square=square(4)\n",
        "print(f\"The area of a square is {Square.calculate_area()}\")\n",
        "Triangle=triangle(4,10)\n",
        "print(f\"The area of a triangle is {Triangle.calculate_area()}\")\n"
      ],
      "metadata": {
        "colab": {
          "base_uri": "https://localhost:8080/"
        },
        "id": "q64bJZ-Lwb2b",
        "outputId": "bd2311ea-415c-4774-c4d2-c37c0bd27491"
      },
      "execution_count": null,
      "outputs": [
        {
          "output_type": "stream",
          "name": "stdout",
          "text": [
            "The area of a circle is 50.26548245743669\n",
            "The area of a square is 16\n",
            "The area of a triangle is 20.0\n"
          ]
        }
      ]
    },
    {
      "cell_type": "markdown",
      "source": [
        "### 4. Explain the concept of method overriding in polymorphism. Provide an example."
      ],
      "metadata": {
        "id": "mYGNWykd0oNe"
      }
    },
    {
      "cell_type": "code",
      "source": [
        "class Animal:\n",
        "    def make_sound(self):\n",
        "        return \"Generic animal sound\"\n",
        "\n",
        "class Dog(Animal):\n",
        "    def make_sound(self):\n",
        "        return \"Woof! Woof!\"\n",
        "\n",
        "class Cat(Animal):\n",
        "    def make_sound(self):\n",
        "        return \"Meow!\"\n",
        "\n",
        "dog = Dog()\n",
        "cat = Cat()\n",
        "\n",
        "print(dog.make_sound())\n",
        "print(cat.make_sound())"
      ],
      "metadata": {
        "colab": {
          "base_uri": "https://localhost:8080/"
        },
        "id": "Ko8czOwD0sd2",
        "outputId": "ddafa239-20f8-4eb6-b0c9-1785f62b0b8f"
      },
      "execution_count": null,
      "outputs": [
        {
          "output_type": "stream",
          "name": "stdout",
          "text": [
            "Woof! Woof!\n",
            "Meow!\n"
          ]
        }
      ]
    },
    {
      "cell_type": "markdown",
      "source": [
        "### 5. How is polymorphism different from method overloading in Python? Provide examples for both."
      ],
      "metadata": {
        "id": "ioxQE0ho1ECM"
      }
    },
    {
      "cell_type": "code",
      "source": [
        "#ethod overloading\n",
        "class overloading:\n",
        "  def add(self,x,y):\n",
        "    return x+y\n",
        "\n",
        "  def add(self,x,y,z):\n",
        "    return x+y+z\n",
        "\n",
        "obj=overloading()\n",
        "obj.add(2,3,5)\n",
        "\n",
        "\n",
        "#polymorphism\n",
        "class Animal:\n",
        "    def make_sound(self):\n",
        "        return \"Generic animal sound\"\n",
        "\n",
        "    def make_sound(self):\n",
        "        return \"Woof! Woof!\"\n",
        "\n",
        "class Cat(Animal):\n",
        "    def make_sound(self):\n",
        "        return \"Meow!\"\n",
        "def animal_sound(animal):\n",
        "    return animal.make_sound()\n",
        "generic_animal = Animal()\n",
        "dog = Dog()\n",
        "cat = Cat()\n",
        "dog.make_sound()\n",
        "\n"
      ],
      "metadata": {
        "colab": {
          "base_uri": "https://localhost:8080/",
          "height": 36
        },
        "id": "wQK3hGuf1Nu3",
        "outputId": "01a37671-5209-4721-d0da-ebf87a7f0d90"
      },
      "execution_count": null,
      "outputs": [
        {
          "output_type": "execute_result",
          "data": {
            "text/plain": [
              "'Woof! Woof!'"
            ],
            "application/vnd.google.colaboratory.intrinsic+json": {
              "type": "string"
            }
          },
          "metadata": {},
          "execution_count": 24
        }
      ]
    },
    {
      "cell_type": "markdown",
      "source": [
        "### 6. Create a Python class called `Animal` with a method `speak()`. Then, create child classes like `Dog`, `Cat`, and `Bird`, each with their own `speak()` method. Demonstrate polymorphism by calling the `speak()` method on objects of different subclasses."
      ],
      "metadata": {
        "id": "F7uGhcV73goG"
      }
    },
    {
      "cell_type": "code",
      "source": [
        "class Animal:\n",
        "    def speak(self):\n",
        "        return \"Generic animal sound\"\n",
        "\n",
        "class Dog(Animal):\n",
        "    def speak(self):\n",
        "        return \"Woof! Woof!\"\n",
        "\n",
        "class Cat(Animal):\n",
        "    def speak(self):\n",
        "        return \"Meow!\"\n",
        "\n",
        "class Bird(Animal):\n",
        "    def speak(self):\n",
        "        return \"Chirp! Chirp!\"\n",
        "animal=Animal()\n",
        "print(animal.speak())\n",
        "dog=Dog()\n",
        "print(dog.speak())"
      ],
      "metadata": {
        "colab": {
          "base_uri": "https://localhost:8080/"
        },
        "id": "6duzZ59L3x5Z",
        "outputId": "034cd33b-f09c-4d37-c4ac-e4408a666d01"
      },
      "execution_count": null,
      "outputs": [
        {
          "output_type": "stream",
          "name": "stdout",
          "text": [
            "Generic animal sound\n",
            "Woof! Woof!\n"
          ]
        }
      ]
    },
    {
      "cell_type": "markdown",
      "source": [
        "### 7. Discuss the use of abstract methods and classes in achieving polymorphism in Python. Provide an example using the `abc` module."
      ],
      "metadata": {
        "id": "mKgOtB9b4Kjw"
      }
    },
    {
      "cell_type": "code",
      "source": [
        "from abc import ABC, abstractmethod\n",
        "import math\n",
        "\n",
        "class Shape(ABC):  # Inheriting from ABC (Abstract Base Class)\n",
        "    @abstractmethod\n",
        "    def calculate_area(self):\n",
        "        pass\n",
        "\n",
        "class Circle(Shape):\n",
        "    def __init__(self, radius):\n",
        "        self.radius = radius\n",
        "\n",
        "    def calculate_area(self):\n",
        "        return math.pi * self.radius**2\n",
        "\n",
        "class Square(Shape):\n",
        "    def __init__(self, side_length):\n",
        "        self.side_length = side_length\n",
        "\n",
        "    def calculate_area(self):\n",
        "        return self.side_length**2\n",
        "\n",
        "class Triangle(Shape):\n",
        "    def __init__(self, base, height):\n",
        "        self.base = base\n",
        "        self.height = height\n",
        "\n",
        "    def calculate_area(self):\n",
        "        return 0.5 * self.base * self.height\n",
        "\n",
        "circle = Circle(5)\n",
        "square = Square(4)\n",
        "triangle = Triangle(3, 6)\n",
        "\n",
        "area_circle = circle.calculate_area()\n",
        "area_square = square.calculate_area()\n",
        "area_triangle = triangle.calculate_area()\n",
        "\n",
        "print(f\"Area of Circle: {area_circle}\")\n",
        "print(f\"Area of Square: {area_square}\")\n",
        "print(f\"Area of Triangle: {area_triangle}\")"
      ],
      "metadata": {
        "colab": {
          "base_uri": "https://localhost:8080/"
        },
        "id": "jfwICiIv4TR3",
        "outputId": "1166cfa6-3032-404e-fa0e-46d5c0129832"
      },
      "execution_count": null,
      "outputs": [
        {
          "output_type": "stream",
          "name": "stdout",
          "text": [
            "Area of Circle: 78.53981633974483\n",
            "Area of Square: 16\n",
            "Area of Triangle: 9.0\n"
          ]
        }
      ]
    },
    {
      "cell_type": "markdown",
      "source": [
        "### 8. Create a Python class hierarchy for a vehicle system (e.g., car, bicycle, boat) and implement"
      ],
      "metadata": {
        "id": "G1YEkKKW5NGh"
      }
    },
    {
      "cell_type": "code",
      "source": [
        "class Vehicle:\n",
        "    def __init__(self, brand, model, year):\n",
        "        self.brand = brand\n",
        "        self.model = model\n",
        "        self.year = year\n",
        "\n",
        "    def start(self):\n",
        "        print(f\"{self.brand} {self.model} (Year: {self.year}) is starting.\")\n",
        "\n",
        "    def stop(self):\n",
        "        print(f\"{self.brand} {self.model} (Year: {self.year}) has stopped.\")\n",
        "\n",
        "class Car(Vehicle):\n",
        "    def __init__(self, brand, model, year, num_doors):\n",
        "        super().__init__(brand, model, year)\n",
        "        self.num_doors = num_doors\n",
        "\n",
        "    def drive(self):\n",
        "        print(f\"{self.brand} {self.model} (Year: {self.year}) is driving with {self.num_doors} doors.\")\n",
        "\n",
        "class Bicycle(Vehicle):\n",
        "    def __init__(self, brand, model, year, num_gears):\n",
        "        super().__init__(brand, model, year)\n",
        "        self.num_gears = num_gears\n",
        "\n",
        "    def pedal(self):\n",
        "        print(f\"{self.brand} {self.model} (Year: {self.year}) is pedaling with {self.num_gears} gears.\")\n",
        "\n",
        "class Boat(Vehicle):\n",
        "    def __init__(self, brand, model, year, max_speed):\n",
        "        super().__init__(brand, model, year)\n",
        "        self.max_speed = max_speed\n",
        "\n",
        "    def sail(self):\n",
        "        print(f\"{self.brand} {self.model} (Year: {self.year}) is sailing with a maximum speed of {self.max_speed} knots.\")\n",
        "\n",
        "\n",
        "car = Car(\"Toyota\", \"Camry\", 2022, 4)\n",
        "bicycle = Bicycle(\"Trek\", \"Mountain Bike\", 2023, 21)\n",
        "boat = Boat(\"Sea Ray\", \"Sundancer\", 2020, 30)\n",
        "\n",
        "car.start()\n",
        "car.drive()\n",
        "car.stop()\n",
        "\n",
        "bicycle.start()\n",
        "bicycle.pedal()\n",
        "bicycle.stop()\n",
        "\n",
        "boat.start()\n",
        "boat.sail()\n",
        "boat.stop()\n"
      ],
      "metadata": {
        "colab": {
          "base_uri": "https://localhost:8080/"
        },
        "id": "dP1yLYlT5mfC",
        "outputId": "eb5889d6-158e-491d-bd5e-737bbdab9ec1"
      },
      "execution_count": null,
      "outputs": [
        {
          "output_type": "stream",
          "name": "stdout",
          "text": [
            "Toyota Camry (Year: 2022) is starting.\n",
            "Toyota Camry (Year: 2022) is driving with 4 doors.\n",
            "Toyota Camry (Year: 2022) has stopped.\n",
            "Trek Mountain Bike (Year: 2023) is starting.\n",
            "Trek Mountain Bike (Year: 2023) is pedaling with 21 gears.\n",
            "Trek Mountain Bike (Year: 2023) has stopped.\n",
            "Sea Ray Sundancer (Year: 2020) is starting.\n",
            "Sea Ray Sundancer (Year: 2020) is sailing with a maximum speed of 30 knots.\n",
            "Sea Ray Sundancer (Year: 2020) has stopped.\n"
          ]
        }
      ]
    },
    {
      "cell_type": "markdown",
      "source": [
        "### 9. Explain the significance of the isinstance() and issubclass() functions in Python polymorphism."
      ],
      "metadata": {
        "id": "K0179GLc6bFT"
      }
    },
    {
      "cell_type": "code",
      "source": [
        "class animal:\n",
        "  def make_sound(self):\n",
        "    pass\n",
        "class Dog(animal):\n",
        "  def make_sound(self):\n",
        "    return \"woof!\"\n",
        "Animal=animal()\n",
        "dog=Dog()\n",
        "print(isinstance(dog,Dog))\n",
        "print(issubclass(Dog,animal))\n",
        "print(isinstance(dog,int))\n",
        "print(issubclass(animal,Dog))"
      ],
      "metadata": {
        "colab": {
          "base_uri": "https://localhost:8080/"
        },
        "id": "QYHc4erL68eg",
        "outputId": "6cdc41d0-7c03-497b-f351-81c9fcf758d1"
      },
      "execution_count": null,
      "outputs": [
        {
          "output_type": "stream",
          "name": "stdout",
          "text": [
            "True\n",
            "True\n",
            "False\n",
            "False\n"
          ]
        }
      ]
    },
    {
      "cell_type": "markdown",
      "source": [
        "### 10. What is the role of the `@abstractmethod` decorator in achieving polymorphism in Python? Provide an example."
      ],
      "metadata": {
        "id": "9fCpwwg48p0e"
      }
    },
    {
      "cell_type": "code",
      "source": [
        "from abc import ABC, abstractmethod\n",
        "\n",
        "class Animal(ABC):\n",
        "    @abstractmethod\n",
        "    def speak(self):\n",
        "        pass\n",
        "\n",
        "class Dog(Animal):\n",
        "    def speak(self):\n",
        "        return \"Woof! Woof!\"\n",
        "\n",
        "class Cat(Animal):\n",
        "    def speak(self):\n",
        "        return \"Meow!\"\n",
        "\n",
        "class Bird(Animal):\n",
        "    def speak(self):\n",
        "        return \"Chirp! Chirp!\"\n",
        "dog=Dog()\n",
        "dog.speak()"
      ],
      "metadata": {
        "colab": {
          "base_uri": "https://localhost:8080/",
          "height": 36
        },
        "id": "6mBsvW-H9Ds9",
        "outputId": "06a469d5-4938-4a3b-d5b8-df6be007b23d"
      },
      "execution_count": null,
      "outputs": [
        {
          "output_type": "execute_result",
          "data": {
            "text/plain": [
              "'Woof! Woof!'"
            ],
            "application/vnd.google.colaboratory.intrinsic+json": {
              "type": "string"
            }
          },
          "metadata": {},
          "execution_count": 39
        }
      ]
    },
    {
      "cell_type": "markdown",
      "source": [
        "### 11. Create a Python class called `Shape` with a polymorphic method `area()` that calculates the area of different shapes (e.g., circle, rectangle, triangle)"
      ],
      "metadata": {
        "id": "GeYCmxF49c-i"
      }
    },
    {
      "cell_type": "code",
      "source": [
        "class shape:\n",
        "  def area(self):\n",
        "    pass\n",
        "class rectangle(shape):\n",
        "  def __init__(self,length,breath):\n",
        "    self.length=length\n",
        "    self.breath=breath\n",
        "  def area(self):\n",
        "    return self.length*self.breath\n",
        "Rectangle=rectangle(3,4)\n",
        "print(f\"The area of a rectangle is {Rectangle.area()}\")"
      ],
      "metadata": {
        "colab": {
          "base_uri": "https://localhost:8080/"
        },
        "id": "u6mOus2rAr1z",
        "outputId": "9082b7e7-1404-4929-92b1-cadeca312de2"
      },
      "execution_count": null,
      "outputs": [
        {
          "output_type": "stream",
          "name": "stdout",
          "text": [
            "The area of a rectangle is 12\n"
          ]
        }
      ]
    },
    {
      "cell_type": "markdown",
      "source": [
        "### 12. Discuss the benefits of polymorphism in terms of code reusability and flexibility in Python programs."
      ],
      "metadata": {
        "id": "JTpXZMMAB0Qj"
      }
    },
    {
      "cell_type": "markdown",
      "source": [
        "Code Reusability:\n",
        "\n",
        "Interface Uniformity: Polymorphism allows objects of different types to be treated as objects of a common type. This promotes a consistent interface, making it easier to reuse code across various classes that share the same methods.\n",
        "Reduced Redundancy: By defining common interfaces through abstract classes or interfaces, you can reduce redundancy and avoid duplicating code. Implementing specific behavior in each subclass while inheriting shared functionality from a common ancestor enhances code reuse.\n",
        "Flexibility and Extensibility:\n",
        "\n",
        "Adaptability to Change: Polymorphism provides a flexible way to extend and modify code without altering existing functionality. You can introduce new classes with different behaviors or override methods in subclasses to adapt to changing requirements.\n",
        "Dynamic Binding: The ability to choose the appropriate method implementation at runtime allows for dynamic binding. This means that the decision on which method to call is deferred until runtime, providing flexibility in choosing behavior based on the actual type of the object.\n",
        "Ease of Maintenance:\n",
        "\n",
        "Modular Design: Polymorphism encourages modular design, where each class focuses on a specific aspect of functionality. This modular structure makes the codebase more maintainable, as changes or updates can be localized to specific classes without affecting the entire system.\n",
        "Open-Closed Principle: Polymorphism aligns with the open-closed principle, a fundamental principle of object-oriented design. This principle suggests that classes should be open for extension but closed for modification, allowing you to add new functionality without altering existing code."
      ],
      "metadata": {
        "id": "AbuFfgagCf5V"
      }
    },
    {
      "cell_type": "markdown",
      "source": [
        "### 13. Explain the use of the `super()` function in Python polymorphism. How does it help call methods of parent classes?"
      ],
      "metadata": {
        "id": "BxUEEw5CCIa4"
      }
    },
    {
      "cell_type": "code",
      "source": [
        "class Animal(ABC):\n",
        "    def speak(self):\n",
        "        print(\"Gereric sound of animal\")\n",
        "\n",
        "class Dog(Animal):\n",
        "  def speak(self):\n",
        "    super().speak()\n",
        "    print(\"Woof! Woof!\")\n",
        "\n",
        "class Cat(Animal):\n",
        "    def speak(self):\n",
        "      super().speak()\n",
        "      print( \"Meow!\")\n",
        "\n",
        "class Bird(Animal):\n",
        "    def speak(self):\n",
        "      super().speak()\n",
        "      print (\"Chirp! Chirp!\")\n",
        "cat=Cat()\n",
        "cat.speak()"
      ],
      "metadata": {
        "colab": {
          "base_uri": "https://localhost:8080/"
        },
        "id": "p7FJ3UgNCL2-",
        "outputId": "c8852ede-526a-468a-d5fb-e2349fc8b6d5"
      },
      "execution_count": null,
      "outputs": [
        {
          "output_type": "stream",
          "name": "stdout",
          "text": [
            "Gereric sound of animal\n",
            "Meow!\n"
          ]
        }
      ]
    },
    {
      "cell_type": "markdown",
      "source": [
        "### 14. Create a Python class hierarchy for a banking system with various account types (e.g., savings, checking, credit card) and demonstrate polymorphism by implementing a common withdraw() method"
      ],
      "metadata": {
        "id": "z8QsLt6CEKrR"
      }
    },
    {
      "cell_type": "code",
      "source": [
        "class BankAccount:\n",
        "    def __init__(self, account_number, balance):\n",
        "        self.account_number = account_number\n",
        "        self.balance = balance\n",
        "\n",
        "    def withdraw(self, amount):\n",
        "        if amount <= 0:\n",
        "            return \"Invalid withdrawal amount\"\n",
        "        elif amount > self.balance:\n",
        "            return \"Insufficient funds\"\n",
        "        else:\n",
        "            self.balance -= amount\n",
        "            return f\"Withdrawal of ${amount} successful. Remaining balance: ${self.balance}\"\n",
        "\n",
        "class SavingsAccount(BankAccount):\n",
        "    def __init__(self, account_number, balance, interest_rate):\n",
        "        super().__init__(account_number, balance)\n",
        "        self.interest_rate = interest_rate\n",
        "\n",
        "    def withdraw(self, amount):\n",
        "        # Applying a penalty for withdrawals from savings account\n",
        "        penalty = 5\n",
        "        withdrawal_result = super().withdraw(amount + penalty)\n",
        "        return f\"{withdrawal_result} (Penalty applied: ${penalty})\"\n",
        "\n",
        "class CheckingAccount(BankAccount):\n",
        "    def __init__(self, account_number, balance, overdraft_limit):\n",
        "        super().__init__(account_number, balance)\n",
        "        self.overdraft_limit = overdraft_limit\n",
        "\n",
        "    def withdraw(self, amount):\n",
        "        # Allowing overdraft up to the overdraft limit\n",
        "        if amount <= 0:\n",
        "            return \"Invalid withdrawal amount\"\n",
        "        elif amount > (self.balance + self.overdraft_limit):\n",
        "            return \"Withdrawal amount exceeds available balance and overdraft limit\"\n",
        "        else:\n",
        "            self.balance -= amount\n",
        "            return f\"Withdrawal of ${amount} successful. Remaining balance: ${self.balance}\"\n",
        "\n",
        "class CreditCardAccount(BankAccount):\n",
        "    def __init__(self, account_number, credit_limit, balance):\n",
        "        super().__init__(account_number, balance)\n",
        "        self.credit_limit = credit_limit\n",
        "\n",
        "    def withdraw(self, amount):\n",
        "        # Allowing withdrawals up to the credit limit\n",
        "        if amount <= 0:\n",
        "            return \"Invalid withdrawal amount\"\n",
        "        elif amount > (self.credit_limit + self.balance):\n",
        "            return \"Withdrawal amount exceeds available credit limit\"\n",
        "        else:\n",
        "            self.balance -= amount\n",
        "            return f\"Withdrawal of ${amount} successful. Remaining balance: ${self.balance}\"\n",
        "\n",
        "# Example usage:\n",
        "\n",
        "# Create instances of different account types\n",
        "savings_account = SavingsAccount(account_number=\"SA123\", balance=1000, interest_rate=0.02)\n",
        "checking_account = CheckingAccount(account_number=\"CA456\", balance=1500, overdraft_limit=500)\n",
        "credit_card_account = CreditCardAccount(account_number=\"CC789\", credit_limit=2000, balance=-500)\n",
        "\n",
        "# Demonstrate polymorphism by calling the common withdraw() method on different account types\n",
        "print(savings_account.withdraw(200))  # Output: Withdrawal of $205 successful. Remaining balance: $795 (Penalty applied: $5)\n",
        "print(checking_account.withdraw(1800))  # Output: Withdrawal amount exceeds available balance and overdraft limit\n",
        "print(credit_card_account.withdraw(700))"
      ],
      "metadata": {
        "colab": {
          "base_uri": "https://localhost:8080/"
        },
        "id": "v3FlLfssEZLD",
        "outputId": "0af52171-0123-4371-9452-8d355b0c15fc"
      },
      "execution_count": null,
      "outputs": [
        {
          "output_type": "stream",
          "name": "stdout",
          "text": [
            "Withdrawal of $205 successful. Remaining balance: $795 (Penalty applied: $5)\n",
            "Withdrawal of $1800 successful. Remaining balance: $-300\n",
            "Withdrawal of $700 successful. Remaining balance: $-1200\n"
          ]
        }
      ]
    },
    {
      "cell_type": "markdown",
      "source": [
        "### 15. Describe the concept of operator overloading in Python and how it relates to polymorphism. Provide examples using operators like `+` and `*`."
      ],
      "metadata": {
        "id": "hK1RYa6FFDVc"
      }
    },
    {
      "cell_type": "code",
      "source": [
        "class Point:\n",
        "    def __init__(self, x, y):\n",
        "        self.x = x\n",
        "        self.y = y\n",
        "\n",
        "    # Overloading the + operator\n",
        "    def __add__(self, other):\n",
        "        return Point(self.x + other.x, self.y + other.y)\n",
        "\n",
        "    # Overloading the * operator\n",
        "    def __mul__(self, scalar):\n",
        "        return Point(self.x * scalar, self.y * scalar)\n",
        "\n",
        "point1 = Point(1, 2)\n",
        "point2 = Point(3, 4)\n",
        "\n",
        "result_add = point1 + point2\n",
        "result_mul = point1 * 2\n",
        "\n",
        "print(result_add.x, result_add.y)\n",
        "print(result_mul.x, result_mul.y)"
      ],
      "metadata": {
        "colab": {
          "base_uri": "https://localhost:8080/"
        },
        "id": "2wOJ4cPKFIMl",
        "outputId": "b5a4d483-7f77-4c33-d995-784948dc997f"
      },
      "execution_count": null,
      "outputs": [
        {
          "output_type": "stream",
          "name": "stdout",
          "text": [
            "4 6\n",
            "2 4\n"
          ]
        }
      ]
    },
    {
      "cell_type": "markdown",
      "source": [
        "### 16. What is dynamic polymorphism, and how is it achieved in Python?"
      ],
      "metadata": {
        "id": "iYteRR5dGsm5"
      }
    },
    {
      "cell_type": "markdown",
      "source": [
        "Dynamic polymorphism is a powerful concept in object-oriented programming that allows objects of different types to be treated similarly under the same interface. In simpler terms, you can call the same method on different objects, and each object will execute its own specialized version of that method. This makes your code more flexible and adaptable to different situations.\n",
        "\n",
        "Here's how dynamic polymorphism is achieved in Python:\n",
        "\n",
        "Method overriding: This is the core mechanism of dynamic polymorphism. When you inherit a class, you can define a method with the same name as one in the parent class. When you call that method on an object of the child class, the child class's version of the method will be executed, even if the variable holding the object is declared as the parent class type. This is because Python determines the method to call at runtime based on the actual object's type, not the declared type of the variable."
      ],
      "metadata": {
        "id": "f8djpb6IHsks"
      }
    },
    {
      "cell_type": "markdown",
      "source": [
        "### 17. Create a Python class hierarchy for employees in a company (e.g., manager, developer, designer) and implement polymorphism through a common `calculate_salary()` method."
      ],
      "metadata": {
        "id": "lDhqT7gDIBpe"
      }
    },
    {
      "cell_type": "code",
      "source": [
        "class Employee:\n",
        "    def __init__(self, name, role):\n",
        "        self.name = name\n",
        "        self.role = role\n",
        "\n",
        "    def calculate_salary(self):\n",
        "        raise NotImplementedError(\"Subclasses must implement this method\")\n",
        "\n",
        "\n",
        "class Manager(Employee):\n",
        "    def __init__(self, name, salary, bonus):\n",
        "        super().__init__(name, role=\"Manager\")\n",
        "        self.salary = salary\n",
        "        self.bonus = bonus\n",
        "\n",
        "    def calculate_salary(self):\n",
        "        return self.salary + self.bonus\n",
        "\n",
        "\n",
        "class Developer(Employee):\n",
        "    def __init__(self, name, salary, language):\n",
        "        super().__init__(name, role=\"Developer\")\n",
        "        self.salary = salary\n",
        "        self.language = language\n",
        "\n",
        "    def calculate_salary(self):\n",
        "        return self.salary\n",
        "\n",
        "\n",
        "class Designer(Employee):\n",
        "    def __init__(self, name, salary, tool):\n",
        "        super().__init__(name, role=\"Designer\")\n",
        "        self.salary = salary\n",
        "        self.tool = tool\n",
        "\n",
        "    def calculate_salary(self):\n",
        "        return self.salary\n",
        "manager = Manager(name=\"John Doe\", salary=70000, bonus=15000)\n",
        "developer = Developer(name=\"Alice Smith\", salary=60000, language=\"Python\")\n",
        "designer = Designer(name=\"Bob Johnson\", salary=55000, tool=\"Adobe Creative Suite\")\n",
        "\n",
        "employees=[manager,developer,designer]\n",
        "\n",
        "for employee in employees:\n",
        "    print(f\"{employee.name} - Role: {employee.role}, Salary: ${employee.calculate_salary()}\")"
      ],
      "metadata": {
        "colab": {
          "base_uri": "https://localhost:8080/"
        },
        "id": "OiFJTttiIIjk",
        "outputId": "4ad05329-7d2f-402d-e7dd-afe3fa53133f"
      },
      "execution_count": null,
      "outputs": [
        {
          "output_type": "stream",
          "name": "stdout",
          "text": [
            "John Doe - Role: Manager, Salary: $85000\n",
            "Alice Smith - Role: Developer, Salary: $60000\n",
            "Bob Johnson - Role: Designer, Salary: $55000\n"
          ]
        }
      ]
    },
    {
      "cell_type": "markdown",
      "source": [
        "### 18. Discuss the concept of function pointers and how they can be used to achieve polymorphism in Python."
      ],
      "metadata": {
        "id": "xG67FCExJjM4"
      }
    },
    {
      "cell_type": "code",
      "source": [
        "def add(x, y):\n",
        "    return x + y\n",
        "\n",
        "def subtract(x, y):\n",
        "    return x - y\n",
        "\n",
        "def multiply(x, y):\n",
        "    return x * y\n",
        "\n",
        "# A function that performs an operation\n",
        "def operate(x, y, operation):\n",
        "    return operation(x, y)\n",
        "\n",
        "# Example usage\n",
        "result_add = operate(5, 3, add)\n",
        "result_subtract = operate(5, 3, subtract)\n",
        "result_multiply = operate(5, 3, multiply)\n",
        "\n",
        "print(result_add)\n",
        "print(result_subtract)\n",
        "print(result_multiply)\n"
      ],
      "metadata": {
        "colab": {
          "base_uri": "https://localhost:8080/"
        },
        "id": "TTWl_yYaK0FG",
        "outputId": "04549e2e-7413-4fc9-f22f-51860a40dc12"
      },
      "execution_count": null,
      "outputs": [
        {
          "output_type": "stream",
          "name": "stdout",
          "text": [
            "8\n",
            "2\n",
            "15\n"
          ]
        }
      ]
    },
    {
      "cell_type": "markdown",
      "source": [
        "### 19. Explain the role of interfaces and abstract classes in polymorphism, drawing comparisons between them."
      ],
      "metadata": {
        "id": "0cCL8CCxMbQR"
      }
    },
    {
      "cell_type": "code",
      "source": [
        "from abc import ABC, abstractmethod\n",
        "\n",
        "class Shape(ABC):\n",
        "    @abstractmethod\n",
        "    def area(self):\n",
        "        pass\n",
        "\n",
        "class Circle(Shape):\n",
        "    def __init__(self, radius):\n",
        "        self.radius = radius\n",
        "\n",
        "    def area(self):\n",
        "        return 3.14 * self.radius * self.radius\n",
        "\n",
        "class Drawable(ABC):\n",
        "    @abstractmethod\n",
        "    def draw(self):\n",
        "        pass\n",
        "\n",
        "class Circle(Drawable):\n",
        "    def draw(self):\n",
        "        print(\"Drawing a circle\")"
      ],
      "metadata": {
        "id": "JNz7HFUqMddp"
      },
      "execution_count": null,
      "outputs": []
    },
    {
      "cell_type": "markdown",
      "source": [
        "### 20. Create a Python class for a zoo simulation, demonstrating polymorphism with different animal types (e.g., mammals, birds, reptiles) and their behavior (e.g., eating, sleeping, making sounds)."
      ],
      "metadata": {
        "id": "GLUK63e7NQY8"
      }
    },
    {
      "cell_type": "code",
      "source": [
        "from abc import ABC, abstractmethod\n",
        "\n",
        "class Animal(ABC):\n",
        "    def __init__(self, name):\n",
        "        self.name = name\n",
        "\n",
        "    @abstractmethod\n",
        "    def eat(self):\n",
        "        pass\n",
        "\n",
        "    @abstractmethod\n",
        "    def sleep(self):\n",
        "        pass\n",
        "\n",
        "    @abstractmethod\n",
        "    def make_sound(self):\n",
        "        pass\n",
        "\n",
        "class Mammal(Animal):\n",
        "    def eat(self):\n",
        "        print(f\"{self.name} the mammal is eating both plants and meat.\")\n",
        "\n",
        "    def sleep(self):\n",
        "        print(f\"{self.name} the mammal is sleeping during the night.\")\n",
        "\n",
        "    def make_sound(self):\n",
        "        print(f\"{self.name} the mammal produces a variety of sounds.\")\n",
        "\n",
        "class Bird(Animal):\n",
        "    def eat(self):\n",
        "        print(f\"{self.name} the bird is eating seeds and insects.\")\n",
        "\n",
        "    def sleep(self):\n",
        "        print(f\"{self.name} the bird is sleeping on a branch.\")\n",
        "\n",
        "    def make_sound(self):\n",
        "        print(f\"{self.name} the bird chirps and sings.\")\n",
        "\n",
        "class Reptile(Animal):\n",
        "    def eat(self):\n",
        "        print(f\"{self.name} the reptile is eating insects and small animals.\")\n",
        "\n",
        "    def sleep(self):\n",
        "        print(f\"{self.name} the reptile rests under a heat source during the night.\")\n",
        "\n",
        "    def make_sound(self):\n",
        "        print(f\"{self.name} the reptile hisses and makes reptilian sounds.\")\n",
        "\n",
        "# Zoo simulation\n",
        "zoo_animals = [\n",
        "    Mammal(\"Lion\"),\n",
        "    Bird(\"Parrot\"),\n",
        "    Reptile(\"Snake\")\n",
        "]\n",
        "\n",
        "for animal in zoo_animals:\n",
        "    print(f\"\\n{animal.name}:\")\n",
        "    animal.eat()\n",
        "    animal.sleep()\n",
        "    animal.make_sound()"
      ],
      "metadata": {
        "colab": {
          "base_uri": "https://localhost:8080/"
        },
        "id": "Rav4bZ4FNSbq",
        "outputId": "083086bd-4ee2-4ffa-cb7f-586e9f1d639d"
      },
      "execution_count": null,
      "outputs": [
        {
          "output_type": "stream",
          "name": "stdout",
          "text": [
            "\n",
            "Lion:\n",
            "Lion the mammal is eating both plants and meat.\n",
            "Lion the mammal is sleeping during the night.\n",
            "Lion the mammal produces a variety of sounds.\n",
            "\n",
            "Parrot:\n",
            "Parrot the bird is eating seeds and insects.\n",
            "Parrot the bird is sleeping on a branch.\n",
            "Parrot the bird chirps and sings.\n",
            "\n",
            "Snake:\n",
            "Snake the reptile is eating insects and small animals.\n",
            "Snake the reptile rests under a heat source during the night.\n",
            "Snake the reptile hisses and makes reptilian sounds.\n"
          ]
        }
      ]
    },
    {
      "cell_type": "markdown",
      "source": [
        "# Abstraction:"
      ],
      "metadata": {
        "id": "2Fr5WScFP-n_"
      }
    },
    {
      "cell_type": "markdown",
      "source": [
        "### 1. What is abstraction in Python, and how does it relate to object-oriented programming?"
      ],
      "metadata": {
        "id": "75OtTWUj557t"
      }
    },
    {
      "cell_type": "markdown",
      "source": [
        "Abstraction in Python refers to the concept of hiding the complex implementation details of an object and exposing only the essential features or functionalities. It allows programmers to focus on the high-level functionality of an object or a system without getting into the low-level details. Abstraction is one of the key principles of object-oriented programming (OOP), which aims to model real-world entities in software development.\n",
        "\n",
        "In the context of object-oriented programming, abstraction is closely related to the creation of abstract classes and abstract methods. An abstract class is a class that cannot be instantiated on its own and may contain one or more abstract methods. Abstract methods are declared in the abstract class but lack implementation. Subclasses that inherit from an abstract class must provide concrete implementations for the abstract methods."
      ],
      "metadata": {
        "id": "09xP47lv6hVC"
      }
    },
    {
      "cell_type": "markdown",
      "source": [
        "### 2. Describe the benefits of abstraction in terms of code organization and complexity reduction."
      ],
      "metadata": {
        "id": "wUfc4rgf6wnF"
      }
    },
    {
      "cell_type": "markdown",
      "source": [
        "\n",
        "Modularity and Encapsulation:\n",
        "Abstraction allows developers to encapsulate the internal details of a class or module, providing a clear separation between the external interface and the internal implementation. This encapsulation promotes modularity, making it easier to understand and maintain different parts of the code independently.\n",
        "\n",
        "Code Reusability:\n",
        "Abstract classes and interfaces enable the creation of reusable components. By defining common interfaces and abstract classes, you can create a foundation that can be extended by multiple subclasses. This promotes code reusability since you can use existing abstractions to create new classes without duplicating code.\n",
        "\n",
        "Simplification of Complex Systems:\n",
        "Abstraction helps in managing complexity by allowing developers to focus on high-level concepts rather than intricate details. This simplifies the development process, making it easier to design, implement, and maintain complex systems.\n",
        "\n",
        "Ease of Maintenance:\n",
        "When changes are needed in the implementation of a particular abstraction, developers can modify the internal details without affecting the external code that relies on the abstraction. This makes it easier to maintain and update the codebase without causing unintended side effects.\n",
        "\n",
        "Team Collaboration:\n",
        "Abstraction promotes a clear separation of concerns, which facilitates collaboration among team members. Different team members can work on different parts of the codebase without interfering with each other, provided they adhere to the specified interfaces and abstractions.\n",
        "\n",
        "Enhanced Readability and Understandability:\n",
        "Abstraction hides unnecessary details and presents a simplified view of the system, making the code more readable and understandable. Developers can focus on the essential aspects of a module or class without being overwhelmed by intricate implementation details.\n",
        "\n",
        "Adaptability to Changes:\n",
        "As requirements evolve or change, abstracting away specific implementations allows for more straightforward adaptation to new functionalities or modifications. Developers can extend or modify the existing abstractions without affecting the overall structure of the system.\n",
        "\n",
        "Testing and Debugging:\n",
        "Abstraction enables better testing and debugging processes. Since the internal details are encapsulated, it becomes easier to isolate and test individual components. Debugging efforts can be focused on specific modules without dealing with the complexities of the entire system."
      ],
      "metadata": {
        "id": "4nKrVXIi60wp"
      }
    },
    {
      "cell_type": "markdown",
      "source": [
        "### 3. Create a Python class called `Shape` with an abstract method `calculate_area()`. Then, create child classes (e.g., `Circle`, `Rectangle`) that implement the `calculate_area()` method. Provide an example of using these classes."
      ],
      "metadata": {
        "id": "qiRZvJ7X7FZP"
      }
    },
    {
      "cell_type": "code",
      "source": [
        "import math\n",
        "from abc import ABC,  abstractmethod\n",
        "class shape:\n",
        "  @abstractmethod\n",
        "  def calculate_area(self):\n",
        "    pass\n",
        "class Circle(shape):\n",
        "  def __init__(self,radius):\n",
        "    self.radius=radius\n",
        "  def calculate_area(self):\n",
        "    return math.pi*self.radius**2\n",
        "class rectangle(shape):\n",
        "  def __init__(self,length,breath):\n",
        "    self.length = length\n",
        "    self.breath  = breath\n",
        "  def calculate_area(self):\n",
        "     return self.length*self.breath\n",
        "circle = Circle(5)\n",
        "print(f\"Area of a circle is {circle.calculate_area()}\")"
      ],
      "metadata": {
        "colab": {
          "base_uri": "https://localhost:8080/"
        },
        "id": "4IC3d4xm7RDW",
        "outputId": "ff2fbe8b-a147-4b50-9f3c-1184367927e3"
      },
      "execution_count": null,
      "outputs": [
        {
          "output_type": "stream",
          "name": "stdout",
          "text": [
            "Area of a circle is 78.53981633974483\n"
          ]
        }
      ]
    },
    {
      "cell_type": "markdown",
      "source": [
        "### 4. Explain the concept of abstract classes in Python and how they are defined using the `abc` module. Provide an example."
      ],
      "metadata": {
        "id": "LM6uhTum9ddt"
      }
    },
    {
      "cell_type": "code",
      "source": [
        "from abc import ABC, abstractmethod\n",
        "\n",
        "class Shape(ABC):\n",
        "    @abstractmethod\n",
        "    def calculate_area(self):\n",
        "        pass\n",
        "class Circle(Shape):\n",
        "    def __init__(self, radius):\n",
        "        self.radius = radius\n",
        "\n",
        "    def calculate_area(self):\n",
        "        return 3.14 * self.radius * self.radius\n",
        "\n",
        "class Rectangle(Shape):\n",
        "    def __init__(self, length, width):\n",
        "        self.length = length\n",
        "        self.width = width\n",
        "\n",
        "    def calculate_area(self):\n",
        "        return self.length * self.width\n",
        "\n",
        "circle = Circle(5)\n",
        "rectangle = Rectangle(4, 6)\n",
        "print(\"Circle Area:\", circle.calculate_area())\n",
        "print(\"Rectangle Area:\", rectangle.calculate_area())\n"
      ],
      "metadata": {
        "colab": {
          "base_uri": "https://localhost:8080/"
        },
        "id": "zVsFhjqc76hQ",
        "outputId": "ed888648-f1e4-45f8-a430-3173d67ffcea"
      },
      "execution_count": null,
      "outputs": [
        {
          "output_type": "stream",
          "name": "stdout",
          "text": [
            "Circle Area: 78.5\n",
            "Rectangle Area: 24\n"
          ]
        }
      ]
    },
    {
      "cell_type": "markdown",
      "source": [
        "### 5. How do abstract classes differ from regular classes in Python? Discuss their use cases."
      ],
      "metadata": {
        "id": "aZted8RO-iV4"
      }
    },
    {
      "cell_type": "markdown",
      "source": [
        "Instantiation:\n",
        "\n",
        "Regular Classes: Objects of regular classes can be instantiated directly. They provide concrete implementations for all methods, and instances of these classes can be created using the class constructor.\n",
        "Abstract Classes: Objects of abstract classes cannot be instantiated directly. Abstract classes often serve as a blueprint for other classes and are meant to be subclassed. They may contain abstract methods without implementations.\n",
        "Abstract Methods:\n",
        "\n",
        "Regular Classes: Regular classes may or may not have abstract methods. They can provide concrete implementations for all methods, and instantiation is possible even if some methods are left unimplemented.\n",
        "Abstract Classes: Abstract classes often include abstract methods, which are methods declared without implementations. Subclasses inheriting from an abstract class must provide concrete implementations for these abstract methods.\n",
        "Purpose:\n",
        "\n",
        "Regular Classes: Regular classes are used when you want to create objects with specific behaviors and attributes. They can be instantiated directly, and their methods have concrete implementations.\n",
        "Abstract Classes: Abstract classes are used when you want to define a common interface for a group of related classes. They provide a blueprint that enforces certain methods to be implemented in subclasses, ensuring a consistent interface.\n",
        "Inheritance:\n",
        "\n",
        "Regular Classes: Regular classes can be inherited by other classes, and subclassing is optional. Subclasses can choose to override or extend the methods of the parent class.\n",
        "Abstract Classes: Abstract classes are designed to be inherited. Subclasses must inherit from an abstract class and provide concrete implementations for all abstract methods declared in the abstract class.\n",
        "Use Cases:\n",
        "\n",
        "Regular Classes: Regular classes are suitable when you have a complete implementation and want to create objects with specific behaviors. They are commonly used in various scenarios where you don't need to enforce a specific interface on subclasses.\n",
        "Abstract Classes: Abstract classes are useful when you want to define a common interface for a family of related classes. They ensure that certain methods are implemented in all subclasses, providing a level of consistency and contract between classes.\n"
      ],
      "metadata": {
        "id": "Fy5f_8nf-9Kg"
      }
    },
    {
      "cell_type": "markdown",
      "source": [
        "###6. Create a Python class for a bank account and demonstrate abstraction by hiding the account balance and providing methods to deposit and withdraw funds."
      ],
      "metadata": {
        "id": "7vXtx65o_Lbz"
      }
    },
    {
      "cell_type": "code",
      "source": [
        "class BankAccount:\n",
        "    def __init__(self, account_holder, initial_balance=0.0):\n",
        "        self.account_holder = account_holder\n",
        "        self._balance = initial_balance  # The balance is hidden using a single leading underscore\n",
        "\n",
        "    def deposit(self, amount):\n",
        "        if amount > 0:\n",
        "            self._balance += amount\n",
        "            print(f\"Deposited {amount} /-. New balance: {self._balance} /-\")\n",
        "        else:\n",
        "            print(\"Invalid deposit amount. Please enter a positive value.\")\n",
        "\n",
        "    def withdraw(self, amount):\n",
        "        if amount > 0 and amount <= self._balance:\n",
        "            self._balance -= amount\n",
        "            print(f\"Withdrew {amount} /-. New balance: {self._balance} /-\")\n",
        "        else:\n",
        "            print(\"Invalid withdrawal amount or insufficient funds.\")\n",
        "\n",
        "    def get_balance(self):\n",
        "        return self._balance\n",
        "\n",
        "account = BankAccount(account_holder=\"Dileep\", initial_balance=1000)\n",
        "\n",
        "print(f\"{account.account_holder}'s Initial Balance: {account.get_balance()}/-\")\n",
        "\n",
        "account.deposit(500.0)\n",
        "account.withdraw(200.0)\n",
        "account.withdraw(1500.0)\n",
        "\n",
        "print(f\"{account.account_holder}'s Final Balance: {account.get_balance()}/-\")"
      ],
      "metadata": {
        "colab": {
          "base_uri": "https://localhost:8080/"
        },
        "id": "-hPan_FU-d6A",
        "outputId": "99debb9d-31cd-445c-c2de-5a20262ddb3a"
      },
      "execution_count": null,
      "outputs": [
        {
          "output_type": "stream",
          "name": "stdout",
          "text": [
            "Dileep's Initial Balance: 1000/-\n",
            "Deposited 500.0 /-. New balance: 1500.0 /-\n",
            "Withdrew 200.0 /-. New balance: 1300.0 /-\n",
            "Invalid withdrawal amount or insufficient funds.\n",
            "Dileep's Final Balance: 1300.0/-\n"
          ]
        }
      ]
    },
    {
      "cell_type": "markdown",
      "source": [
        "### 7. Discuss the concept of interface classes in Python and their role in achieving abstraction."
      ],
      "metadata": {
        "id": "4m2PwBIoAKW4"
      }
    },
    {
      "cell_type": "markdown",
      "source": [
        "In Python, interface classes are classes that define a set of methods without providing any implementation. They serve as a contract or blueprint that specifies the methods a class implementing the interface must have. Unlike abstract classes, interface classes do not contain any concrete methods or attributes.\n",
        "\n",
        "Interface classes play a crucial role in achieving abstraction by enforcing a common set of methods across multiple classes, promoting a consistent interface without specifying how those methods should be implemented. While Python doesn't have a specific syntax for defining interfaces, they are often emulated using abstract classes or by using comments/documentation to indicate the expected methods."
      ],
      "metadata": {
        "id": "l4b1Uv9BAYxT"
      }
    },
    {
      "cell_type": "markdown",
      "source": [
        "### 8. Create a Python class hierarchy for animals and implement abstraction by defining common methods (e.g., `eat()`, `sleep()`) in an abstract base class."
      ],
      "metadata": {
        "id": "QiBS3QxcAcjw"
      }
    },
    {
      "cell_type": "code",
      "source": [
        "from abc import ABC,abstractmethod\n",
        "class Animal:\n",
        "  @abstractmethod\n",
        "  def eat(self):\n",
        "    pass\n",
        "  @abstractmethod\n",
        "  def sleep(self):\n",
        "    pass\n",
        "class Dog(Animal):\n",
        "  def eat(self):\n",
        "    return\"dog is eating cicken curruy\"\n",
        "  def sleep(self):\n",
        "    return\"dog is sleeping on the bed\"\n",
        "class Bird(Animal):\n",
        "  def eat(self):\n",
        "    return\"Birds are eating insects\"\n",
        "  def sleep(self):\n",
        "    return\"Birds are sleeping on the nest\"\n",
        "dog=Dog()\n",
        "bird=Bird()\n",
        "print(dog.eat())\n",
        "print(bird.sleep())"
      ],
      "metadata": {
        "colab": {
          "base_uri": "https://localhost:8080/"
        },
        "id": "xwmGTsEO_myo",
        "outputId": "88c13284-4188-4064-f637-a80a258f6243"
      },
      "execution_count": null,
      "outputs": [
        {
          "output_type": "stream",
          "name": "stdout",
          "text": [
            "dog is eating cicken curruy\n",
            "Birds are sleeping on the nest\n"
          ]
        }
      ]
    },
    {
      "cell_type": "markdown",
      "source": [
        "### 9. Explain the significance of encapsulation in achieving abstraction. Provide examples."
      ],
      "metadata": {
        "id": "NVi7szB8C4-i"
      }
    },
    {
      "cell_type": "code",
      "source": [
        "class Employee:\n",
        "    def __init__(self, name, salary):\n",
        "        self.name = name\n",
        "        self.salary = salary\n",
        "        self._bonus = 0\n",
        "\n",
        "    def calculate_total_salary(self):\n",
        "        return self.salary + self._bonus\n",
        "\n",
        "    def set_bonus(self, bonus):\n",
        "        if bonus >= 0:\n",
        "            self._bonus = bonus\n",
        "        else:\n",
        "            print(\"Invalid bonus amount.\")\n",
        "employee=Employee(\"Dileep\",10000)\n",
        "employee.calculate_total_salary()\n",
        "employee.set_bonus(1500)\n",
        "employee.calculate_total_salary()"
      ],
      "metadata": {
        "colab": {
          "base_uri": "https://localhost:8080/"
        },
        "id": "UIWqoJVQCdO9",
        "outputId": "947788c3-6a8c-46b3-d317-9c097925292b"
      },
      "execution_count": null,
      "outputs": [
        {
          "output_type": "execute_result",
          "data": {
            "text/plain": [
              "11500"
            ]
          },
          "metadata": {},
          "execution_count": 20
        }
      ]
    },
    {
      "cell_type": "markdown",
      "source": [
        "### 10. What is the purpose of abstract methods, and how do they enforce abstraction in Python classes?"
      ],
      "metadata": {
        "id": "hg5D0SOePDEb"
      }
    },
    {
      "cell_type": "markdown",
      "source": [
        "Common Interface:\n",
        "Abstract methods define a common interface that must be implemented by all subclasses. This interface typically represents a set of operations or functionalities that are expected to be available in every subclass. This allows for a level of standardization and consistency in the usage of different classes.\n",
        "\n",
        "Forcing Implementation in Subclasses:\n",
        "Subclasses that inherit from an abstract class containing abstract methods must provide concrete implementations for those methods. Failure to do so will result in an error, either at the time of instantiation or when trying to use an object of the subclass. This enforces the contract that every subclass adhering to the abstract class must implement the specified methods.\n",
        "\n",
        "Preventing Instantiation of Abstract Classes:\n",
        "Abstract classes themselves cannot be instantiated. They are meant to be used as base classes or interfaces for other classes. Attempting to create an object of an abstract class directly will raise an error. This ensures that only concrete subclasses, which implement the abstract methods, can be instantiated."
      ],
      "metadata": {
        "id": "vBdHBQnqPCpi"
      }
    },
    {
      "cell_type": "markdown",
      "source": [
        "### 11. Create a Python class for a vehicle system and demonstrate abstraction by defining common methods"
      ],
      "metadata": {
        "id": "hW7Y71sRPL3n"
      }
    },
    {
      "cell_type": "code",
      "source": [
        "from abc import ABC , abstractmethod\n",
        "class vehicle:\n",
        "  @abstractmethod\n",
        "  def start(self):\n",
        "    pass\n",
        "  @abstractmethod\n",
        "  def stop(self):\n",
        "    pass\n",
        "class Car(vehicle):\n",
        "  def start(self):\n",
        "    return\"car is starting\"\n",
        "  def stop(self):\n",
        "    return\"car is stopped\"\n",
        "class bike(vehicle):\n",
        "  def start(self):\n",
        "    return\"Bike is starting\"\n",
        "  def stop(self):\n",
        "    return\"bike is stopped\"\n",
        "Honda=bike()\n",
        "print(Honda.start())\n",
        "audi=Car()\n",
        "print(audi.stop())\n"
      ],
      "metadata": {
        "colab": {
          "base_uri": "https://localhost:8080/"
        },
        "id": "lFXV4tT9PSUg",
        "outputId": "1baddfc4-7545-40ab-f138-3b7240ac5bee"
      },
      "execution_count": null,
      "outputs": [
        {
          "output_type": "stream",
          "name": "stdout",
          "text": [
            "Bike is starting\n",
            "car is stopped\n"
          ]
        }
      ]
    },
    {
      "cell_type": "markdown",
      "source": [
        "### 12. Describe the use of abstract properties in Python and how they can be employed in abstract classes."
      ],
      "metadata": {
        "id": "sNfYD5mjQ2Sc"
      }
    },
    {
      "cell_type": "markdown",
      "source": [
        "Abstract properties in Python are properties defined in an abstract class without providing a concrete implementation. Similar to abstract methods, abstract properties serve as a way to enforce a contract on subclasses, requiring them to provide their own implementation for these properties. Abstract properties are declared using the @property decorator along with the @abstractmethod decorator."
      ],
      "metadata": {
        "id": "uS9G2zMBQ_dV"
      }
    },
    {
      "cell_type": "markdown",
      "source": [
        "### 13. Create a Python class hierarchy for employees in a company (e.g., manager, developer, designer) and implement abstraction by defining a common get_salary() method"
      ],
      "metadata": {
        "id": "d6bNOxubS2Bc"
      }
    },
    {
      "cell_type": "code",
      "source": [
        "from abc import ABC, abstractmethod\n",
        "\n",
        "class Employee(ABC):\n",
        "    def __init__(self, name, employee_id):\n",
        "        self.name = name\n",
        "        self.employee_id = employee_id\n",
        "\n",
        "    @abstractmethod\n",
        "    def get_salary(self):\n",
        "        pass\n",
        "\n",
        "class Manager(Employee):\n",
        "    def __init__(self, name, employee_id, salary, bonus_percentage):\n",
        "        super().__init__(name, employee_id)\n",
        "        self.salary = salary\n",
        "        self.bonus_percentage = bonus_percentage\n",
        "\n",
        "    def get_salary(self):\n",
        "        bonus_amount = (self.bonus_percentage / 100) * self.salary\n",
        "        total_salary = self.salary + bonus_amount\n",
        "        return total_salary\n",
        "\n",
        "class Developer(Employee):\n",
        "    def __init__(self, name, employee_id, salary, programming_language):\n",
        "        super().__init__(name, employee_id)\n",
        "        self.salary = salary\n",
        "        self.programming_language = programming_language\n",
        "\n",
        "    def get_salary(self):\n",
        "        return self.salary\n",
        "\n",
        "class Designer(Employee):\n",
        "    def __init__(self, name, employee_id, salary, years_of_experience):\n",
        "        super().__init__(name, employee_id)\n",
        "        self.salary = salary\n",
        "        self.years_of_experience = years_of_experience\n",
        "\n",
        "    def get_salary(self):\n",
        "        experience_bonus = min(self.years_of_experience, 5) * 1000\n",
        "        total_salary = self.salary + experience_bonus\n",
        "        return total_salary\n",
        "\n",
        "# Example usage\n",
        "manager = Manager(name=\"John Doe\", employee_id=\"M001\", salary=80000, bonus_percentage=10)\n",
        "developer = Developer(name=\"Alice Smith\", employee_id=\"D001\", salary=60000, programming_language=\"Python\")\n",
        "designer = Designer(name=\"Bob Johnson\", employee_id=\"DS001\", salary=70000, years_of_experience=3)\n",
        "\n",
        "print(f\"{manager.name}'s Total Salary: ${manager.get_salary()}\")\n",
        "print(f\"{developer.name}'s Salary: ${developer.get_salary()}\")\n",
        "print(f\"{designer.name}'s Total Salary: ${designer.get_salary()}\")"
      ],
      "metadata": {
        "colab": {
          "base_uri": "https://localhost:8080/"
        },
        "id": "igh2gBXJQM4e",
        "outputId": "4552ab6a-1cf7-4907-da13-caf4bc1f8de9"
      },
      "execution_count": null,
      "outputs": [
        {
          "output_type": "stream",
          "name": "stdout",
          "text": [
            "John Doe's Total Salary: $88000.0\n",
            "Alice Smith's Salary: $60000\n",
            "Bob Johnson's Total Salary: $73000\n"
          ]
        }
      ]
    },
    {
      "cell_type": "markdown",
      "source": [
        "### 14. Discuss the differences between abstract classes and concrete classes in Python, including their instiation"
      ],
      "metadata": {
        "id": "iUbWGWhyTSIa"
      }
    },
    {
      "cell_type": "markdown",
      "source": [
        "Definition:\n",
        "\n",
        "Abstract Classes: Abstract classes are classes that cannot be instantiated on their own. They often contain abstract methods (methods without implementation) and may also include concrete methods. Abstract classes provide a blueprint for other classes and are meant to be subclassed.\n",
        "Concrete Classes: Concrete classes, also known as regular classes, are classes that can be instantiated directly. They provide concrete implementations for all methods and may or may not have abstract methods.\n",
        "Instantiation:\n",
        "\n",
        "Abstract Classes: Objects of abstract classes cannot be created directly. They are designed to be subclassed, and their main purpose is to define a common interface and enforce method implementations in subclasses.\n",
        "Concrete Classes: Objects of concrete classes can be instantiated directly using the class constructor. They provide complete implementations for all methods and can be used to create objects with specific behaviors and attributes."
      ],
      "metadata": {
        "id": "pMO3isr0TdmC"
      }
    },
    {
      "cell_type": "markdown",
      "source": [
        "### 15. Explain the concept of abstract data types (ADTs) and their role in achieving abstraction in Python."
      ],
      "metadata": {
        "id": "VZWa02GHTev9"
      }
    },
    {
      "cell_type": "markdown",
      "source": [
        "Abstraction:\n",
        "\n",
        "ADTs allow developers to focus on the logical properties and behaviors of data without getting into the low-level implementation details. They provide a level of abstraction by defining a clear separation between what operations are available and how they are implemented.\n",
        "Encapsulation:\n",
        "\n",
        "ADTs encapsulate the data and operations related to that data within a single unit. The internal details are hidden from the outside world, promoting modularity and code organization. This encapsulation ensures that the internal representation can be changed without affecting the code that uses the ADT.\n",
        "Reusability:\n",
        "\n",
        "By defining a well-defined interface for data and operations, ADTs promote code reusability. Once an ADT is defined, it can be used across different parts of a program or in different programs without modifying the ADT's implementation.\n",
        "Flexibility and Maintainability:\n",
        "\n",
        "ADTs provide a flexible and maintainable way to work with data. The separation of concerns between interface and implementation allows for easier modifications, updates, and improvements to the underlying data structure without affecting the code that uses the ADT."
      ],
      "metadata": {
        "id": "Xnbb5XKTTkaY"
      }
    },
    {
      "cell_type": "markdown",
      "source": [
        "### 16. Create a Python class for a computer system, demonstrating abstraction by defining common methods (e.g., `power_on()`, `shutdown()`) in an abstract base class."
      ],
      "metadata": {
        "id": "eeWqfw_BT3Tk"
      }
    },
    {
      "cell_type": "code",
      "source": [
        "from abc import ABC, abstractmethod\n",
        "\n",
        "class ComputerSystem(ABC):\n",
        "    def __init__(self, brand, model):\n",
        "        self.brand = brand\n",
        "        self.model = model\n",
        "        self.power_status = 'off'\n",
        "\n",
        "    @abstractmethod\n",
        "    def power_on(self):\n",
        "        pass\n",
        "\n",
        "    @abstractmethod\n",
        "    def shutdown(self):\n",
        "        pass\n",
        "\n",
        "class DesktopComputer(ComputerSystem):\n",
        "    def __init__(self, brand, model, monitor_brand):\n",
        "        super().__init__(brand, model)\n",
        "        self.monitor_brand = monitor_brand\n",
        "\n",
        "    def power_on(self):\n",
        "        if self.power_status == 'off':\n",
        "            self.power_status = 'on'\n",
        "            print(f\"{self.brand} {self.model} Desktop Computer is powered on.\")\n",
        "        else:\n",
        "            print(f\"{self.brand} {self.model} Desktop Computer is already powered on.\")\n",
        "\n",
        "    def shutdown(self):\n",
        "        if self.power_status == 'on':\n",
        "            self.power_status = 'off'\n",
        "            print(f\"{self.brand} {self.model} Desktop Computer is shut down.\")\n",
        "        else:\n",
        "            print(f\"{self.brand} {self.model} Desktop Computer is already powered off.\")\n",
        "desktop=DesktopComputer(\"Asus\",\"Tuff\",\"Asus monitor\")\n",
        "print(desktop.power_on())\n",
        "print(desktop.shutdown())\n"
      ],
      "metadata": {
        "colab": {
          "base_uri": "https://localhost:8080/"
        },
        "id": "UL3R97bZTRp5",
        "outputId": "453434c1-84ec-4abc-d41c-587a0cd0a475"
      },
      "execution_count": null,
      "outputs": [
        {
          "output_type": "stream",
          "name": "stdout",
          "text": [
            "Asus Tuff Desktop Computer is powered on.\n",
            "None\n",
            "Asus Tuff Desktop Computer is shut down.\n",
            "None\n"
          ]
        }
      ]
    },
    {
      "cell_type": "markdown",
      "source": [
        "### 17. Discuss the benefits of using abstraction in large-scale software development projects."
      ],
      "metadata": {
        "id": "BVdBibLgbCff"
      }
    },
    {
      "cell_type": "markdown",
      "source": [
        "Complexity Management:\n",
        "\n",
        "Large-scale projects often involve intricate systems with numerous components and interactions. Abstraction allows developers to manage this complexity by breaking down the system into modular, encapsulated units. Each module or component can be designed with a high level of abstraction, simplifying its internal workings and making it easier to understand.\n",
        "Code Organization and Maintainability:\n",
        "\n",
        "Abstraction promotes a clean and organized code structure. By using abstract classes, interfaces, and encapsulation, developers can structure the codebase in a way that reflects the system's architecture. This organization enhances maintainability, making it easier for teams to understand, update, and extend the code.\n",
        "Reusability and Extensibility:\n",
        "\n",
        "Abstraction encourages the creation of reusable components. Abstract classes and interfaces define common functionalities and contracts, enabling these components to be reused in different parts of the system. This reduces redundancy and accelerates development by leveraging existing abstractions.\n",
        "Flexibility and Adaptability:\n",
        "\n",
        "Abstraction provides a flexible foundation that can be adapted to changing requirements. When the internal details of a component are hidden, modifications or updates can be made without affecting the rest of the system. This flexibility is crucial in large-scale projects where requirements may evolve over time.\n",
        "Collaboration and Team Productivity:\n",
        "\n",
        "Abstraction facilitates collaboration among development teams. Different teams or team members can work on distinct components, focusing on their respective abstractions without needing an in-depth understanding of the entire system. This modular approach enhances team productivity and accelerates development.\n",
        "Testing and Debugging:\n",
        "\n",
        "Abstraction simplifies the testing and debugging process. Modules with well-defined interfaces and abstractions can be tested independently, allowing for more efficient and targeted testing. Debugging efforts can be concentrated on specific components without the need to understand the entire codebase."
      ],
      "metadata": {
        "id": "LL5DTT8Cbe7o"
      }
    },
    {
      "cell_type": "markdown",
      "source": [
        "### 18. Explain how abstraction enhances code reusability and modularity in Python programs."
      ],
      "metadata": {
        "id": "hYr1mNtabhrC"
      }
    },
    {
      "cell_type": "markdown",
      "source": [
        "Encapsulation and Information Hiding:\n",
        "\n",
        "Abstraction allows developers to encapsulate the internal details of a component within a well-defined interface. By hiding the implementation details, the component exposes only what is necessary for its use, reducing the complexity seen by external parts of the program. This encapsulation promotes information hiding and prevents unnecessary dependencies on the internal workings of the component.\n",
        "Defined Interfaces:\n",
        "\n",
        "Abstract classes and interfaces in Python define a set of methods or properties that represent the public interface of a component. These interfaces serve as contracts, specifying what functionality is available without revealing the implementation details. This clear definition of interfaces allows for the creation of standardized components with well-defined behaviors.\n",
        "Reusability through Inheritance:\n",
        "\n",
        "Abstraction supports the concept of inheritance, where a class can inherit the properties and methods of another class. Abstract classes can define common functionalities and attributes, and concrete classes can inherit from them. This inheritance mechanism promotes code reuse, as subclasses inherit the behavior of the abstract class, and developers can extend or override specific methods as needed."
      ],
      "metadata": {
        "id": "S_vL_qUNb6cw"
      }
    },
    {
      "cell_type": "markdown",
      "source": [],
      "metadata": {
        "id": "gevEiSOTbyPp"
      }
    },
    {
      "cell_type": "markdown",
      "source": [
        "### 19. Create a Python class for a library system, implementing abstraction by defining common methods (e.g., add_book(), borrow_book()) in an abstract base class."
      ],
      "metadata": {
        "id": "b_BuEXzocOSS"
      }
    },
    {
      "cell_type": "code",
      "source": [
        "from abc import ABC, abstractmethod\n",
        "\n",
        "class LibrarySystem(ABC):\n",
        "    def __init__(self, name):\n",
        "        self.name = name\n",
        "        self.books = []\n",
        "\n",
        "    @abstractmethod\n",
        "    def add_book(self, book):\n",
        "        pass\n",
        "\n",
        "    @abstractmethod\n",
        "    def borrow_book(self, book_title, user_id):\n",
        "        pass\n",
        "\n",
        "class BasicLibrary(LibrarySystem):\n",
        "    def add_book(self, book):\n",
        "        self.books.append(book)\n",
        "        print(f\"Book '{book.title}' added to the library.\")\n",
        "\n",
        "    def borrow_book(self, book_title, user_id):\n",
        "        for book in self.books:\n",
        "            if book.title == book_title and not book.is_borrowed:\n",
        "                book.is_borrowed = True\n",
        "                book.borrower_id = user_id\n",
        "                print(f\"Book '{book.title}' borrowed by User ID {user_id}.\")\n",
        "                return True\n",
        "        print(f\"Book '{book_title}' is not available for borrowing.\")\n",
        "        return False\n",
        "\n",
        "class Book:\n",
        "    def __init__(self, title, author):\n",
        "        self.title = title\n",
        "        self.author = author\n",
        "        self.is_borrowed = False\n",
        "        self.borrower_id = None\n",
        "\n",
        "# Example usage\n",
        "basic_library = BasicLibrary(name=\"Community Library\")\n",
        "\n",
        "book1 = Book(title=\"Introduction to Python\", author=\"John Smith\")\n",
        "book2 = Book(title=\"Data Structures and Algorithms\", author=\"Jane Doe\")\n",
        "\n",
        "basic_library.add_book(book1)\n",
        "basic_library.add_book(book2)\n",
        "\n",
        "basic_library.borrow_book(book1.title, user_id=101)\n",
        "basic_library.borrow_book(book2.title, user_id=102)\n",
        "basic_library.borrow_book(book1.title, user_id=103)"
      ],
      "metadata": {
        "colab": {
          "base_uri": "https://localhost:8080/"
        },
        "id": "0cxSB_-wTMCA",
        "outputId": "2876acb3-5ae0-4745-ecf7-187eb7b7e6f5"
      },
      "execution_count": null,
      "outputs": [
        {
          "output_type": "stream",
          "name": "stdout",
          "text": [
            "Book 'Introduction to Python' added to the library.\n",
            "Book 'Data Structures and Algorithms' added to the library.\n",
            "Book 'Introduction to Python' borrowed by User ID 101.\n",
            "Book 'Data Structures and Algorithms' borrowed by User ID 102.\n",
            "Book 'Introduction to Python' is not available for borrowing.\n"
          ]
        },
        {
          "output_type": "execute_result",
          "data": {
            "text/plain": [
              "False"
            ]
          },
          "metadata": {},
          "execution_count": 33
        }
      ]
    },
    {
      "cell_type": "markdown",
      "source": [
        "### 20. Describe the concept of method abstraction in Python and how it relates to polymorphism"
      ],
      "metadata": {
        "id": "bfpZFOyheWYL"
      }
    },
    {
      "cell_type": "markdown",
      "source": [
        "Abstract Methods and Interfaces:\n",
        "\n",
        "Method abstraction is often achieved through abstract methods and interfaces. Abstract methods are declared in an abstract class or an interface without providing an implementation. Subclasses inheriting from the abstract class or implementing the interface must provide concrete implementations for these abstract methods.\n",
        "\n",
        "\n",
        "Polymorphism is the ability of objects of different types to be treated as objects of a common type. Method abstraction plays a crucial role in polymorphism by defining a common interface (such as abstract methods) that multiple classes can implement. Code that interacts with objects through this common interface can work with various implementations, leading to a more flexible and extensible codebase."
      ],
      "metadata": {
        "id": "JWxg3ZTbenfN"
      }
    },
    {
      "cell_type": "markdown",
      "source": [
        "# Composition:"
      ],
      "metadata": {
        "id": "TttoyouLfFFR"
      }
    },
    {
      "cell_type": "markdown",
      "source": [
        "### 1. Explain the concept of composition in Python and how it is used to build complex objects from simpler ones."
      ],
      "metadata": {
        "id": "g8iXxHJzfJF9"
      }
    },
    {
      "cell_type": "code",
      "source": [
        "class camera:\n",
        "  def photo_capture(self):\n",
        "    print(\"photo is captured\")\n",
        "class phone:\n",
        "  def __init__(self):\n",
        "    self.camera=camera()\n",
        "  def take_picture(self):\n",
        "    self.camera.photo_capture()\n",
        "Cam=phone()\n",
        "Cam.take_picture()\n",
        "\n",
        "\n"
      ],
      "metadata": {
        "colab": {
          "base_uri": "https://localhost:8080/"
        },
        "id": "1zWuDU-jemjO",
        "outputId": "7fd88bd9-fb44-4578-b25b-641514930e44"
      },
      "execution_count": null,
      "outputs": [
        {
          "output_type": "stream",
          "name": "stdout",
          "text": [
            "photo is captured\n"
          ]
        }
      ]
    },
    {
      "cell_type": "markdown",
      "source": [
        "### 2. Describe the difference between composition and inheritance in object-oriented programming."
      ],
      "metadata": {
        "id": "u9_hRJJtlvGT"
      }
    },
    {
      "cell_type": "markdown",
      "source": [
        "Relationship Type:\n",
        "\n",
        "Composition: In composition, the relationship between classes is typically one of containment or association. An object contains or is associated with instances of other classes as components or parts.\n",
        "Inheritance: Inheritance involves an \"is-a\" relationship, where a subclass inherits the properties and behaviors of a superclass. The subclass is considered a specialized version of the superclass.\n",
        "Code Reuse:\n",
        "\n",
        "Composition: Composition promotes code reuse by creating relationships between classes through instances of other classes. Components can be reused in different contexts and combined to build more complex objects.\n",
        "Inheritance: Inheritance also supports code reuse by allowing a subclass to inherit properties and methods from a superclass. However, it can lead to issues such as the diamond problem and a more rigid class hierarchy.\n",
        "Flexibility and Modifiability:\n",
        "\n",
        "Composition: Composition offers greater flexibility and modifiability. The composed class can be easily modified or extended by adding, removing, or replacing components. Changes to one class have less impact on others.\n",
        "Inheritance: Inheritance provides less flexibility because changes to the superclass can affect all its subclasses. Modifying the superclass may require modifications in multiple subclasses, potentially introducing unintended consequences.\n"
      ],
      "metadata": {
        "id": "mzNiSuV5ltoE"
      }
    },
    {
      "cell_type": "markdown",
      "source": [
        "### 3. Create a Python class called `Author` with attributes for name and birthdate. Then, create a `Book` class that contains an instance of `Author` as a composition. Provide an example of creating a `Book` object."
      ],
      "metadata": {
        "id": "zXlFlTXsmEEy"
      }
    },
    {
      "cell_type": "code",
      "source": [
        "class Author:\n",
        "  def __init__(self,name,birthday):\n",
        "    self.name=name\n",
        "    self.birthday=birthday\n",
        "  def info(self):\n",
        "    print(f\"Hello! my name is {self.name} and my bithday is on {self.birthday}\")\n",
        "class Book:\n",
        "  def __init__(self,title,author_name,author_birthday):\n",
        "    self.title=title\n",
        "    self.author=Author(name=author_name,birthday=author_birthday)\n",
        "  def __str__(self):\n",
        "    return(f\"title={self.title}\\n Author={self.author}\")\n",
        "book1=Book(\"Animal\",\"sandeepvanga\",\"Dec-08-1999\")\n",
        "print(book1)"
      ],
      "metadata": {
        "colab": {
          "base_uri": "https://localhost:8080/"
        },
        "id": "1lKsV1vDmBir",
        "outputId": "f1df0ead-5f38-4f00-99da-1a4d1dec6c34"
      },
      "execution_count": null,
      "outputs": [
        {
          "output_type": "stream",
          "name": "stdout",
          "text": [
            "title=Animal\n",
            " Author=<__main__.Author object at 0x7f7d62c3d8d0>\n"
          ]
        }
      ]
    },
    {
      "cell_type": "markdown",
      "source": [
        "### 4. Discuss the benefits of using composition over inheritance in Python, especially in terms of code flexibility and reusability."
      ],
      "metadata": {
        "id": "QGvw77KqORnb"
      }
    },
    {
      "cell_type": "markdown",
      "source": [
        "Flexibility and Decoupling:\n",
        "\n",
        "Composition allows you to build more flexible and loosely coupled systems. Objects are composed of other objects, and changes to one part of the system are less likely to affect other parts. This decoupling makes it easier to modify or extend the functionality of individual components without affecting the entire hierarchy.\n",
        "Avoiding the Diamond Problem:\n",
        "\n",
        "The diamond problem is a common issue in languages that support multiple inheritance, where a class inherits from two classes that have a common ancestor. This can lead to ambiguity and complexity in the code. Composition avoids this problem entirely, as it does not involve creating complex class hierarchies.\n",
        "Encapsulation and Information Hiding:\n",
        "\n",
        "Composition encourages encapsulation, as objects are treated as black boxes with well-defined interfaces. This promotes information hiding, making it easier to understand and modify individual components without affecting the overall system. Inheritance, on the other hand, exposes the internal details of the parent class to its subclasses.\n",
        "Easier Testing and Maintenance:\n",
        "\n",
        "Code built using composition tends to be more modular and easier to test. Components can be tested independently, promoting better unit testing practices. Additionally, maintenance becomes simpler as changes to one component are less likely to impact other parts of the system."
      ],
      "metadata": {
        "id": "dwVlA-ChO_Aw"
      }
    },
    {
      "cell_type": "markdown",
      "source": [
        "### 5. How can you implement composition in Python classes? Provide examples of using composition to create complex objects."
      ],
      "metadata": {
        "id": "sPZ30ucdPA4O"
      }
    },
    {
      "cell_type": "code",
      "source": [
        "class Engine:\n",
        "    def start(self):\n",
        "        return \"Engine started\"\n",
        "\n",
        "    def stop(self):\n",
        "        return \"Engine stopped\"\n",
        "\n",
        "class Car:\n",
        "    def __init__(self):\n",
        "        self.engine = Engine()\n",
        "\n",
        "    def start(self):\n",
        "        return f\"Car started - {self.engine.start()}\"\n",
        "\n",
        "    def stop(self):\n",
        "        return f\"Car stopped - {self.engine.stop()}\"\n",
        "\n",
        "my_car = Car()\n",
        "\n",
        "print(my_car.start())\n",
        "print(my_car.stop())\n"
      ],
      "metadata": {
        "colab": {
          "base_uri": "https://localhost:8080/"
        },
        "id": "A8yY4AoZQpal",
        "outputId": "12e57117-55de-4796-adad-58666b635f6d"
      },
      "execution_count": 5,
      "outputs": [
        {
          "output_type": "stream",
          "name": "stdout",
          "text": [
            "Car started - Engine started\n",
            "Car stopped - Engine stopped\n"
          ]
        }
      ]
    },
    {
      "cell_type": "markdown",
      "source": [
        "### 6. Create a Python class hierarchy for a music player system, using composition to represent playlists and songs."
      ],
      "metadata": {
        "id": "AGu-HvjgRaC6"
      }
    },
    {
      "cell_type": "code",
      "source": [
        "class Song:\n",
        "    def __init__(self, title, artist, duration):\n",
        "        self.title = title\n",
        "        self.artist = artist\n",
        "        self.duration = duration\n",
        "\n",
        "    def play(self):\n",
        "        print(f\"Playing: {self.title} by {self.artist}\")\n",
        "\n",
        "\n",
        "class Playlist:\n",
        "    def __init__(self, name):\n",
        "        self.name = name\n",
        "        self.songs = []\n",
        "\n",
        "    def add_song(self, song):\n",
        "        self.songs.append(song)\n",
        "\n",
        "    def play_all(self):\n",
        "        print(f\"Playing playlist: {self.name}\")\n",
        "        for song in self.songs:\n",
        "            song.play()\n",
        "\n",
        "\n",
        "class MusicPlayer:\n",
        "    def __init__(self):\n",
        "        self.playlists = []\n",
        "\n",
        "    def add_playlist(self, playlist):\n",
        "        self.playlists.append(playlist)\n",
        "\n",
        "    def play_playlist(self, playlist_name):\n",
        "        for playlist in self.playlists:\n",
        "            if playlist.name == playlist_name:\n",
        "                playlist.play_all()\n",
        "                return\n",
        "        print(f\"Playlist '{playlist_name}' not found.\")\n",
        "\n",
        "song1 = Song(\"Song 1\", \"Artist 1\", 3.5)\n",
        "song2 = Song(\"Song 2\", \"Artist 2\", 4.2)\n",
        "song3 = Song(\"Song 3\", \"Artist 3\", 2.8)\n",
        "\n",
        "playlist1 = Playlist(\"Playlist 1\")\n",
        "playlist1.add_song(song1)\n",
        "playlist1.add_song(song2)\n",
        "\n",
        "playlist2 = Playlist(\"Playlist 2\")\n",
        "playlist2.add_song(song2)\n",
        "playlist2.add_song(song3)\n",
        "\n",
        "music_player = MusicPlayer()\n",
        "music_player.add_playlist(playlist1)\n",
        "music_player.add_playlist(playlist2)\n",
        "\n",
        "print(music_player.play_playlist(\"Playlist 1\"))\n"
      ],
      "metadata": {
        "colab": {
          "base_uri": "https://localhost:8080/"
        },
        "id": "UrnKYTulRSQX",
        "outputId": "670ba621-3755-47af-bdeb-698900e00aef"
      },
      "execution_count": 3,
      "outputs": [
        {
          "output_type": "stream",
          "name": "stdout",
          "text": [
            "Playing playlist: Playlist 1\n",
            "Playing: Song 1 by Artist 1\n",
            "Playing: Song 2 by Artist 2\n",
            "None\n"
          ]
        }
      ]
    },
    {
      "cell_type": "markdown",
      "source": [
        "### 7. Explain the concept of \"has-a\" relationships in composition and how it helps design software systems."
      ],
      "metadata": {
        "id": "j_56GpwvkcOz"
      }
    },
    {
      "cell_type": "markdown",
      "source": [
        "Modularity and Encapsulation:\n",
        "\n",
        "\"Has-a\" relationships promote modularity by breaking down complex systems into smaller, more manageable components. Each component (or class) encapsulates its own functionality, making the code easier to understand, maintain, and extend.\n",
        "Code Reusability:\n",
        "\n",
        "By using composition, you can reuse existing classes and components in different contexts. This promotes code reusability as individual classes can be designed to be generic and versatile, making them suitable for inclusion in various scenarios.\n",
        "Flexibility and Adaptability:\n",
        "\n",
        "Software systems designed with \"has-a\" relationships are more flexible and adaptable to change. If requirements evolve or new features are added, it is often easier to modify or replace individual components without affecting the entire system. This flexibility is crucial for systems that need to evolve over time."
      ],
      "metadata": {
        "id": "y9UX4jVBkpoA"
      }
    },
    {
      "cell_type": "markdown",
      "source": [
        "### 8. Create a Python class for a computer system, using composition to represent components like CPU, RAM,and storage device"
      ],
      "metadata": {
        "id": "a7S6UTaRkq7o"
      }
    },
    {
      "cell_type": "code",
      "source": [
        "class CPU:\n",
        "    def __init__(self,brand,speed):\n",
        "        self.brand = brand\n",
        "        self.speed = speed\n",
        "\n",
        "    def __str__(self):\n",
        "        return f\"This CPU brand is {self.brand} with the speed of {self.speed}\"\n",
        "\n",
        "class RAM:\n",
        "    def __init__(self,storage_capacity):\n",
        "        self.storage_capacity = storage_capacity\n",
        "\n",
        "    def __str__(self):\n",
        "        return f\"The storage capacity is : {self.storage_capacity}\"\n",
        "\n",
        "class Storage:\n",
        "    def __init__(self,capacity,storage_type):\n",
        "        self.capacity = capacity\n",
        "        self.storage_type = storage_type\n",
        "\n",
        "    def __str__(self):\n",
        "        return f\"{self.capacity} GB {self.storage_type} storage\"\n",
        "\n",
        "class ComputerSystem :\n",
        "    def __init__(self,cpu,ram,storage):\n",
        "        self.cpu = cpu\n",
        "        self.ram = ram\n",
        "        self.storage = storage\n",
        "\n",
        "    def display_info(self):\n",
        "        print(\"Comuter System Information: \")\n",
        "        print(f\"CPU: {self.cpu}\")\n",
        "        print(f\"RAM: {self.ram}\")\n",
        "        print(f\"Storage: {self.storage}\")\n",
        "\n",
        "my_cpu = CPU(\"Ryzen\",3)\n",
        "my_ram = RAM(16)\n",
        "my_storage = Storage(512,\"SSD\")\n",
        "\n",
        "computer = ComputerSystem(my_cpu,my_ram,my_storage)\n",
        "\n",
        "computer.display_info()"
      ],
      "metadata": {
        "colab": {
          "base_uri": "https://localhost:8080/"
        },
        "id": "L7bTwFy_i0Gm",
        "outputId": "2a51d999-d233-44d6-ab04-1eff1ce31920"
      },
      "execution_count": 4,
      "outputs": [
        {
          "output_type": "stream",
          "name": "stdout",
          "text": [
            "Comuter System Information: \n",
            "CPU: This CPU brand is Ryzen with the speed of 3\n",
            "RAM: The storage capacity is : 16\n",
            "Storage: 512 GB SSD storage\n"
          ]
        }
      ]
    },
    {
      "cell_type": "markdown",
      "source": [
        "### 9. Describe the concept of \"delegation\" in composition and how it simplifies the design of complex system."
      ],
      "metadata": {
        "id": "FfZomg3tm7PX"
      }
    },
    {
      "cell_type": "markdown",
      "source": [
        "Task Distribution:\n",
        "\n",
        "Delegation involves breaking down a complex task into smaller, more manageable subtasks and assigning each subtask to a separate object. Each object is responsible for performing its designated task, and the overall task is accomplished through the collaboration of these objects.\n",
        "Code Reusability:\n",
        "\n",
        "Delegation promotes code reuse by allowing objects to encapsulate specific functionalities. These objects can then be reused in different contexts or scenarios. As a result, the codebase becomes more modular, and individual objects can be tailored to specific needs without affecting the overall system.\n",
        "Loose Coupling:\n",
        "\n",
        "Delegation often leads to loose coupling between objects. Objects communicate through well-defined interfaces, and changes in one object's implementation are less likely to affect other objects. This loose coupling enhances the system's maintainability and reduces the risk of unintended side effects when modifications are made.\n",
        "Dynamic Behavior:\n",
        "\n",
        "Delegation allows for dynamic behavior where an object can change the delegate it relies on at runtime. This flexibility enables the system to adapt to different scenarios or conditions without requiring extensive modifications to the code. It is particularly useful in scenarios where the behavior of an object needs to be altered dynamically.\n",
        "Simplified Inheritance:\n",
        "\n",
        "Instead of relying on deep class hierarchies, delegation simplifies the design by emphasizing the collaboration of objects rather than the inheritance of behavior. This approach makes the codebase more understandable and reduces the complexities associated with managing and extending deep inheritance hierarchies.\n",
        "Clearer Responsibilities:\n",
        "\n",
        "Delegation encourages a clear assignment of responsibilities. Each object is designed to handle a specific task or set of tasks, leading to a more understandable and maintainable system. It aligns well with the Single Responsibility Principle, one of the SOLID principles of object-oriented design.\n",
        "Promotion of Composition:\n",
        "\n",
        "Delegation often goes hand in hand with composition. Objects are composed of other objects, and each object contributes to the overall functionality of the system. This approach favors the creation of flexible and modular systems by emphasizing how objects collaborate and work together."
      ],
      "metadata": {
        "id": "SEpeCzsenXq8"
      }
    },
    {
      "cell_type": "markdown",
      "source": [
        "### 10. Create a Python class for a car, using composition to represent components like the engine, wheels, and transmission"
      ],
      "metadata": {
        "id": "eYfPyQZ4nYv8"
      }
    },
    {
      "cell_type": "code",
      "source": [
        "class wheels:\n",
        "  def __init__(self,brand,size):\n",
        "    self.brand = brand\n",
        "    self.size= size\n",
        "  def __str__ (self):\n",
        "    return f\"Brand of a wheels is '{self.brand}' and sizze of a wheels is {self.size}\"\n",
        "class engine:\n",
        "  def __init__(self,model):\n",
        "    self.model=model\n",
        "  def __str__ (self):\n",
        "    return f\"The model of a Engine is {self.model}\"\n",
        "class Transmission:\n",
        "  def __init__(self,transmission_type):\n",
        "    self.trans=transmission_type\n",
        "  def __str__(self):\n",
        "    return f\"The transimission of a car is {self.trans}\"\n",
        "class Car:\n",
        "  def __init__(self,car_wheel,car_engine,car_trans):\n",
        "    self.wheel=car_wheel\n",
        "    self.engine=car_engine\n",
        "    self.trans=car_trans\n",
        "  def Car_represtation(self):\n",
        "    print(f\"{self.wheel}\")\n",
        "    print(f\"{self.engine}\")\n",
        "    print(f\"{self.trans}\")\n",
        "Wheels=wheels(\"MRF\",18)\n",
        "Engine=engine(\"Nissan Turbo\")\n",
        "Transmission(\"Automatic\")\n",
        "car=Car(Wheels,Engine,Transmission)\n",
        "car.Car_represtation()"
      ],
      "metadata": {
        "colab": {
          "base_uri": "https://localhost:8080/"
        },
        "id": "QmbtQQIumIPE",
        "outputId": "0ed8fc2e-af2e-4add-fcd5-4b6a1bd5021b"
      },
      "execution_count": 11,
      "outputs": [
        {
          "output_type": "stream",
          "name": "stdout",
          "text": [
            "Brand of a wheels is 'MRF' and sizze of a wheels is 18\n",
            "The model of a Engine is Nissan Turbo\n",
            "<class '__main__.Transmission'>\n"
          ]
        }
      ]
    },
    {
      "cell_type": "markdown",
      "source": [
        "### 11. How can you encapsulate and hide the details of composed objects in Python classes to maintain abstraction?"
      ],
      "metadata": {
        "id": "RfZRVtBnvwqZ"
      }
    },
    {
      "cell_type": "markdown",
      "source": [
        "Private Attributes:\n",
        "\n",
        "Use private attributes by prefixing them with a double underscore (__). This convention makes the attributes name-mangled and harder to access directly from outside the class. It provides a level of encapsulation by preventing direct access to these attributes.\n",
        "\n",
        "Property Decorators:\n",
        "\n",
        "Use property decorators to create getter and setter methods for private attributes. This allows controlled access to the attributes and enables additional logic to be applied during access or modification.\n",
        "\n",
        "Encapsulation of Behavior:\n",
        "\n",
        "Encapsulate the behavior of composed objects by providing well-defined methods that abstract the underlying details. Clients interacting with the class should use these methods rather than manipulating the internal state directly.\n",
        "\n",
        "\n"
      ],
      "metadata": {
        "id": "05yVjLLpwc93"
      }
    },
    {
      "cell_type": "markdown",
      "source": [
        "### 12. Create a Python class for a university course, using composition to represent students, instructors, and course materials"
      ],
      "metadata": {
        "id": "6PqIQ8erwozO"
      }
    },
    {
      "cell_type": "code",
      "source": [
        "class student:\n",
        "  def __init__(self,name,roll_no):\n",
        "    self.name=name\n",
        "    self.rollno=roll_no\n",
        "  def __str__(self):\n",
        "    return f\"My name is {self.name}, and my roo no is {self.rollno}\"\n",
        "class instructors:\n",
        "  def __init__(self,name,domain):\n",
        "    self.name=name\n",
        "    self.domain=domain\n",
        "  def __str__(self):\n",
        "    return f\"Hi! my name is {self.name}, and i'm teaching to {self.domain} domain\"\n",
        "class course_material:\n",
        "  def __init__(self,course,material_name):\n",
        "    self.course=course\n",
        "    self.material=material_name\n",
        "  def __str__(self):\n",
        "    return f\"course name is {self.course}, material of the course name is {self.material} \"\n",
        "class university:\n",
        "  def __init__(self,Student,Instructor,Course_material):\n",
        "    self.student=Student\n",
        "    self.instructor=Instructor\n",
        "    self.course_material=Course_material\n",
        "  def university_course (self):\n",
        "    print(\"Detils about the university course:\")\n",
        "    print(self.student)\n",
        "    print(self.instructor)\n",
        "    print(self.course_material)\n",
        "Std1=student(\"Dileep\",270)\n",
        "Ins1=instructors(\"Krishnaik\",\"Data Science\")\n",
        "course=course_material(\"Data science full stack pro\",\"FULL STACK DATA SCIENCE\")\n",
        "univer=university(Std1,Ins1,course)\n",
        "univer.university_course()"
      ],
      "metadata": {
        "colab": {
          "base_uri": "https://localhost:8080/"
        },
        "id": "XkV65SR6ukrq",
        "outputId": "a7b4e233-5e1d-460d-ab93-1224f98ca9c7"
      },
      "execution_count": 15,
      "outputs": [
        {
          "output_type": "stream",
          "name": "stdout",
          "text": [
            "Detils about the university course:\n",
            "My name is Dileep, and my roo no is 270\n",
            "Hi! my name is Krishnaik, and i'm teaching to Data Science domain\n",
            "course name is Data science full stack pro, material of the course name is FULL STACK DATA SCIENCE \n"
          ]
        }
      ]
    },
    {
      "cell_type": "markdown",
      "source": [
        "### 13. Discuss the challenges and drawbacks of composition, such as increased complexity and potential for tight coupling between objects."
      ],
      "metadata": {
        "id": "Elq9VYLV0Zi_"
      }
    },
    {
      "cell_type": "markdown",
      "source": [
        "Increased Complexity:\n",
        "\n",
        "As a system grows, the composition of multiple objects may lead to increased complexity. Managing relationships between various components, especially in large-scale systems, can become challenging. Understanding how different objects collaborate and ensuring proper communication between them may require additional effort.\n",
        "Boilerplate Code:\n",
        "\n",
        "Composition can sometimes result in the creation of a significant amount of boilerplate code, especially when dealing with accessor methods, delegation, and other related patterns. This additional code may impact readability and maintainability.\n",
        "Potential for Tight Coupling:\n",
        "\n",
        "While composition aims to reduce coupling, improper design or implementation can lead to tight coupling between objects. If an object directly accesses the internal details of another object, changes to one object may have unintended consequences on other objects, defeating the purpose of loose coupling.\n",
        "Initialization Order Dependencies:\n",
        "\n",
        "Objects within a composition-based system may have dependencies on each other during initialization. Managing the order in which objects are created and initialized becomes crucial. Circular dependencies or improper initialization orders can result in runtime errors and make the system more error-prone."
      ],
      "metadata": {
        "id": "zkf3nRFB0ZV_"
      }
    },
    {
      "cell_type": "markdown",
      "source": [
        "### 14. Create a Python class hierarchy for a restaurant system, using composition to represent menus, dishes, and ingredients."
      ],
      "metadata": {
        "id": "4b2eG8KK0wWE"
      }
    },
    {
      "cell_type": "code",
      "source": [
        "class Ingredient:\n",
        "    def __init__(self, name, quantity, unit):\n",
        "        self.name = name\n",
        "        self.quantity = quantity\n",
        "        self.unit = unit\n",
        "\n",
        "    def __str__(self):\n",
        "        return f\"{self.quantity} {self.unit} of {self.name}\"\n",
        "\n",
        "\n",
        "class Dish:\n",
        "    def __init__(self, name, description, price, ingredients):\n",
        "        self.name = name\n",
        "        self.description = description\n",
        "        self.price = price\n",
        "        self.ingredients = ingredients\n",
        "\n",
        "    def __str__(self):\n",
        "        return f\"{self.name} - {self.description} (${self.price:.2f})\"\n",
        "\n",
        "\n",
        "class Menu:\n",
        "    def __init__(self, name, dishes):\n",
        "        self.name = name\n",
        "        self.dishes = dishes\n",
        "\n",
        "    def __str__(self):\n",
        "        return f\"{self.name} Menu\\n\" + \"\\n\".join(str(dish) for dish in self.dishes)\n",
        "\n",
        "\n",
        "class Restaurant:\n",
        "    def __init__(self, name, menus):\n",
        "        self.name = name\n",
        "        self.menus = menus\n",
        "\n",
        "    def display_menu(self):\n",
        "        print(f\"Welcome to {self.name}!\")\n",
        "        for menu in self.menus:\n",
        "            print(menu)\n",
        "\n",
        "\n",
        "if __name__ == \"__main__\":\n",
        "\n",
        "    tomato = Ingredient(name=\"Tomato\", quantity=2, unit=\"pieces\")\n",
        "    lettuce = Ingredient(name=\"Lettuce\", quantity=1, unit=\"head\")\n",
        "    chicken = Ingredient(name=\"Chicken\", quantity=200, unit=\"grams\")\n",
        "    cheese = Ingredient(name=\"Cheese\", quantity=50, unit=\"grams\")\n",
        "\n",
        "\n",
        "    salad = Dish(name=\"Chicken Salad\", description=\"Fresh salad with grilled chicken\", price=10.99, ingredients=[tomato, lettuce, chicken])\n",
        "    sandwich = Dish(name=\"Chicken Sandwich\", description=\"Grilled chicken sandwich with cheese\", price=8.99, ingredients=[chicken, cheese])\n",
        "\n",
        "    lunch_menu = Menu(name=\"Lunch\", dishes=[salad, sandwich])\n",
        "    dinner_menu = Menu(name=\"Dinner\", dishes=[salad])\n",
        "\n",
        "\n",
        "    my_restaurant = Restaurant(name=\"Food Haven\", menus=[lunch_menu, dinner_menu])\n",
        "\n",
        "    my_restaurant.display_menu()"
      ],
      "metadata": {
        "colab": {
          "base_uri": "https://localhost:8080/"
        },
        "id": "APj3G1vYyGzq",
        "outputId": "4c8a3515-a4c8-4e17-f7fa-6a5e225dd7fd"
      },
      "execution_count": 16,
      "outputs": [
        {
          "output_type": "stream",
          "name": "stdout",
          "text": [
            "Welcome to Food Haven!\n",
            "Lunch Menu\n",
            "Chicken Salad - Fresh salad with grilled chicken ($10.99)\n",
            "Chicken Sandwich - Grilled chicken sandwich with cheese ($8.99)\n",
            "Dinner Menu\n",
            "Chicken Salad - Fresh salad with grilled chicken ($10.99)\n"
          ]
        }
      ]
    },
    {
      "cell_type": "markdown",
      "source": [
        "### 15. Explain how composition enhances code maintainability and modularity in Python programs."
      ],
      "metadata": {
        "id": "5Xd4XbtQ1hBT"
      }
    },
    {
      "cell_type": "markdown",
      "source": [
        "Encapsulation:\n",
        "\n",
        "Composition encourages encapsulation by allowing objects to hide their internal details. Each component is responsible for its own functionality and exposes a well-defined interface to the outside world. This encapsulation reduces the impact of changes within a component on other parts of the system, making it easier to maintain.\n",
        "Modularity:\n",
        "\n",
        "Composition supports a modular design, where the system is divided into smaller, independently replaceable components. These components, often represented by classes, can be developed, tested, and maintained separately. This modularity simplifies the codebase, making it more understandable and allowing developers to focus on individual components without the need to comprehend the entire system at once.\n",
        "Code Reusability:\n",
        "\n",
        "With composition, individual components can be reused in different contexts. By creating small, reusable classes, developers can leverage existing components to build new functionalities. This not only reduces redundancy but also promotes a more efficient use of code, leading to a more maintainable codebase.\n",
        "Flexibility and Adaptability:\n",
        "\n",
        "Composition provides flexibility in modifying or extending a system without affecting its overall structure. New components can be added, existing components can be replaced, and the interactions between components can be adjusted. This adaptability is crucial for systems that need to evolve over time to meet changing requirements.\n",
        "Reduced Coupling:\n",
        "\n",
        "Composition helps reduce coupling between components. Each component interacts with others through well-defined interfaces, and changes to one component are less likely to affect others. This loose coupling makes the system more maintainable, as modifications to one part are less likely to have ripple effects throughout the entire codebase.\n",
        "Clear Responsibilities:\n",
        "\n",
        "Composition promotes a clear assignment of responsibilities to individual components. Each class or module has a specific purpose, making it easier to understand the code's structure and design. This clarity facilitates maintenance tasks such as bug fixing, adding new features, or making improvements.\n",
        "Testing:\n",
        "\n",
        "Composition supports modular testing, allowing for the independent testing of components. Unit tests can be written for individual classes, ensuring that each component behaves as expected. This granularity in testing simplifies the identification and resolution of issues, contributing to the overall maintainability of the system.\n",
        "Ease of Debugging:\n",
        "\n",
        "When issues arise, the modular nature of composition makes debugging more straightforward. Developers can focus on the specific component or module where the problem occurs, rather than having to navigate through a monolithic codebase. This targeted debugging process speeds up issue resolution and maintenance."
      ],
      "metadata": {
        "id": "P3_swsKs1vaS"
      }
    },
    {
      "cell_type": "markdown",
      "source": [
        "### 16. Create a Python class for a computer game character, using composition to represent attributes like weapons, armor, and inventory."
      ],
      "metadata": {
        "id": "LTE0CyZK1-DB"
      }
    },
    {
      "cell_type": "code",
      "source": [
        "class Weapon:\n",
        "    def __init__(self, name, damage):\n",
        "        self.name = name\n",
        "        self.damage = damage\n",
        "\n",
        "    def __str__(self):\n",
        "        return f\"Weapon: {self.name}, Damage: {self.damage}\"\n",
        "\n",
        "class Armor:\n",
        "    def __init__(self, name, defense):\n",
        "        self.name = name\n",
        "        self.defense = defense\n",
        "\n",
        "    def __str__(self):\n",
        "        return f\"Armor: {self.name}, Defense: {self.defense}\"\n",
        "\n",
        "class InventoryItem:\n",
        "    def __init__(self, name, quantity):\n",
        "        self.name = name\n",
        "        self.quantity = quantity\n",
        "\n",
        "    def __str__(self):\n",
        "        return f\"{self.quantity}x {self.name}\"\n",
        "\n",
        "class GameCharacter:\n",
        "    def __init__(self, name, health, weapon=None, armor=None, inventory=None):\n",
        "        self.name = name\n",
        "        self.health = health\n",
        "        self.weapon = weapon\n",
        "        self.armor = armor\n",
        "        self.inventory = inventory if inventory is not None else []\n",
        "\n",
        "    def equip_weapon(self, weapon):\n",
        "        self.weapon = weapon\n",
        "\n",
        "    def equip_armor(self, armor):\n",
        "        self.armor = armor\n",
        "\n",
        "    def add_to_inventory(self, item):\n",
        "        self.inventory.append(item)\n",
        "\n",
        "    def display_character_info(self):\n",
        "        print(f\"Character: {self.name}\")\n",
        "        print(f\"Health: {self.health}\")\n",
        "        if self.weapon:\n",
        "            print(\"Equipped Weapon:\", self.weapon)\n",
        "        if self.armor:\n",
        "            print(\"Equipped Armor:\", self.armor)\n",
        "        if self.inventory:\n",
        "            print(\"Inventory:\")\n",
        "            for item in self.inventory:\n",
        "                print(f\"- {item}\")\n",
        "\n",
        "# Example Usage:\n",
        "if __name__ == \"__main__\":\n",
        "    # Create Weapons\n",
        "    sword = Weapon(name=\"Sword\", damage=10)\n",
        "    bow = Weapon(name=\"Bow\", damage=8)\n",
        "\n",
        "    # Create Armor\n",
        "    leather_armor = Armor(name=\"Leather Armor\", defense=5)\n",
        "    steel_armor = Armor(name=\"Steel Armor\", defense=10)\n",
        "\n",
        "    # Create Inventory Items\n",
        "    health_potion = InventoryItem(name=\"Health Potion\", quantity=3)\n",
        "    mana_potion = InventoryItem(name=\"Mana Potion\", quantity=2)\n",
        "\n",
        "    # Create Game Character\n",
        "    player_character = GameCharacter(name=\"Hero\", health=100, weapon=sword, armor=leather_armor, inventory=[health_potion, mana_potion])\n",
        "\n",
        "    # Display Character Information\n",
        "    player_character.display_character_info()"
      ],
      "metadata": {
        "colab": {
          "base_uri": "https://localhost:8080/"
        },
        "id": "7Dsx4JnA1Jr5",
        "outputId": "e6c2eee4-ec4c-4b21-9c10-7b2395d39997"
      },
      "execution_count": 17,
      "outputs": [
        {
          "output_type": "stream",
          "name": "stdout",
          "text": [
            "Character: Hero\n",
            "Health: 100\n",
            "Equipped Weapon: Weapon: Sword, Damage: 10\n",
            "Equipped Armor: Armor: Leather Armor, Defense: 5\n",
            "Inventory:\n",
            "- 3x Health Potion\n",
            "- 2x Mana Potion\n"
          ]
        }
      ]
    },
    {
      "cell_type": "markdown",
      "source": [
        "### 17. Describe the concept of \"aggregation\" in composition and how it differs from simple composition."
      ],
      "metadata": {
        "id": "mLr8PsEC3YOf"
      }
    },
    {
      "cell_type": "markdown",
      "source": [
        "Independent Lifecycles:\n",
        "\n",
        "In aggregation, the component object can exist independently of the container object. This means that the component can be created, modified, and destroyed without direct dependence on the container.\n",
        "Multiplicity:\n",
        "\n",
        "Aggregation can involve one-to-one, one-to-many, or many-to-many relationships between the container and the component. For example, a university class (container) can aggregate students (components), and each class can have multiple students.\n",
        "Loose Coupling:\n",
        "\n",
        "Aggregation promotes loose coupling between the container and the component. Changes to one do not necessarily require changes in the other. This loose coupling enhances flexibility and makes the system more maintainable.\n",
        "Bi-directional Association:\n",
        "\n",
        "Unlike simple composition, aggregation often involves a bi-directional association, meaning that both the container and the component have references to each other. This allows for easier navigation between the two objects."
      ],
      "metadata": {
        "id": "1WlfpsKk3YDN"
      }
    },
    {
      "cell_type": "markdown",
      "source": [
        "### 18. Create a Python class for a house, using composition to represent rooms, furniture, and appliance"
      ],
      "metadata": {
        "id": "t9IraA5J3d6b"
      }
    },
    {
      "cell_type": "code",
      "source": [
        "class Furniture:\n",
        "    def __init__(self, name, style):\n",
        "        self.name = name\n",
        "        self.style = style\n",
        "\n",
        "    def __str__(self):\n",
        "        return f\"{self.name} ({self.style} style)\"\n",
        "\n",
        "class Appliance:\n",
        "    def __init__(self, name, brand):\n",
        "        self.name = name\n",
        "        self.brand = brand\n",
        "\n",
        "    def __str__(self):\n",
        "        return f\"{self.brand} {self.name}\"\n",
        "\n",
        "class Room:\n",
        "    def __init__(self, name, area, furniture=None, appliances=None):\n",
        "        self.name = name\n",
        "        self.area = area\n",
        "        self.furniture = furniture if furniture is not None else []\n",
        "        self.appliances = appliances if appliances is not None else []\n",
        "\n",
        "    def add_furniture(self, furniture):\n",
        "        self.furniture.append(furniture)\n",
        "\n",
        "    def add_appliance(self, appliance):\n",
        "        self.appliances.append(appliance)\n",
        "\n",
        "    def __str__(self):\n",
        "        return f\"{self.name} (Area: {self.area} sq. ft)\"\n",
        "\n",
        "class House:\n",
        "    def __init__(self, name, rooms=None):\n",
        "        self.name = name\n",
        "        self.rooms = rooms if rooms is not None else []\n",
        "\n",
        "    def add_room(self, room):\n",
        "        self.rooms.append(room)\n",
        "\n",
        "    def __str__(self):\n",
        "        house_info = [f\"House: {self.name}\"]\n",
        "        for room in self.rooms:\n",
        "            room_info = [str(room)]\n",
        "            if room.furniture:\n",
        "                room_info.append(\"Furniture:\")\n",
        "                for piece in room.furniture:\n",
        "                    room_info.append(f\"- {piece}\")\n",
        "            if room.appliances:\n",
        "                room_info.append(\"Appliances:\")\n",
        "                for appliance in room.appliances:\n",
        "                    room_info.append(f\"- {appliance}\")\n",
        "            house_info.append(\"  \".join(room_info))\n",
        "        return \"\\n\".join(house_info)\n",
        "\n",
        "# Example Usage:\n",
        "if __name__ == \"__main__\":\n",
        "    # Create Furniture\n",
        "    sofa = Furniture(name=\"Sofa\", style=\"Modern\")\n",
        "    dining_table = Furniture(name=\"Dining Table\", style=\"Classic\")\n",
        "\n",
        "    # Create Appliances\n",
        "    refrigerator = Appliance(name=\"Refrigerator\", brand=\"Samsung\")\n",
        "    oven = Appliance(name=\"Oven\", brand=\"KitchenAid\")\n",
        "\n",
        "    # Create Rooms\n",
        "    living_room = Room(name=\"Living Room\", area=300, furniture=[sofa])\n",
        "    kitchen = Room(name=\"Kitchen\", area=200, furniture=[dining_table], appliances=[refrigerator, oven])\n",
        "\n",
        "    # Create House\n",
        "    my_house = House(name=\"My Dream House\", rooms=[living_room, kitchen])\n",
        "\n",
        "    # Display House Information\n",
        "    print(my_house)"
      ],
      "metadata": {
        "colab": {
          "base_uri": "https://localhost:8080/"
        },
        "id": "_s5tV5MP2s-a",
        "outputId": "9c4f7da8-ab60-4749-8711-805a8c2f8e67"
      },
      "execution_count": 18,
      "outputs": [
        {
          "output_type": "stream",
          "name": "stdout",
          "text": [
            "House: My Dream House\n",
            "Living Room (Area: 300 sq. ft)  Furniture:  - Sofa (Modern style)\n",
            "Kitchen (Area: 200 sq. ft)  Furniture:  - Dining Table (Classic style)  Appliances:  - Samsung Refrigerator  - KitchenAid Oven\n"
          ]
        }
      ]
    },
    {
      "cell_type": "markdown",
      "source": [
        "### 19. How can you achieve flexibility in composed objects by allowing them to be replaced or modified dynamically at runtime?"
      ],
      "metadata": {
        "id": "vj4qz0P037l3"
      }
    },
    {
      "cell_type": "markdown",
      "source": [
        "Interfaces and Polymorphism:\n",
        "Define interfaces or abstract classes that specify the expected behavior of composed objects. Use polymorphism to allow different objects to implement the same interface. This way, objects can be replaced dynamically at runtime with others that adhere to the same interface.\n",
        "\n",
        "Dependency Injection:\n",
        "Inject dependencies into the composed objects rather than hardcoding them. This allows you to dynamically replace or modify dependencies during runtime. Dependency injection frameworks or manual dependency injection techniques can be employed for this purpose.\n",
        "\n",
        "Strategy Pattern:\n",
        "Implement the strategy pattern to encapsulate algorithms or behaviors in separate strategy classes. Composed objects can have a reference to a strategy, and the strategy can be dynamically switched during runtime."
      ],
      "metadata": {
        "id": "51UmTT664LsE"
      }
    },
    {
      "cell_type": "markdown",
      "source": [
        "### 20. Create a Python class for a social media application, using composition to represent users, posts, and comments."
      ],
      "metadata": {
        "id": "I3ErPqT-4Zh6"
      }
    },
    {
      "cell_type": "code",
      "source": [
        "class User:\n",
        "    def __init__(self, user_id, user_name):\n",
        "        self.user_id = user_id\n",
        "        self.user_name = user_name\n",
        "\n",
        "    def __str__(self):\n",
        "        return f\"User ID: {self.user_id}, User Name: {self.user_name}\"\n",
        "\n",
        "class Post:\n",
        "    def __init__(self, content):\n",
        "        self.content = content\n",
        "\n",
        "    def __str__(self):\n",
        "        return f\"Post Content: {self.content}\"\n",
        "\n",
        "class Comment:\n",
        "    def __init__(self, text):\n",
        "        self.text = text\n",
        "\n",
        "    def __str__(self):\n",
        "        return f\"Comment: {self.text}\"\n",
        "\n",
        "class Application:\n",
        "    def __init__(self, user, post, comment):\n",
        "        self.user = user\n",
        "        self.post = post\n",
        "        self.comment = comment\n",
        "\n",
        "    def display_info(self):\n",
        "        print(\"User Info:\")\n",
        "        print(self.user)\n",
        "        print(\"\\nPost:\")\n",
        "        print(self.post)\n",
        "        print(\"\\nComment:\")\n",
        "        print(self.comment)\n",
        "\n",
        "Dileep = User(user_id=123, user_name=\"Dileep\")\n",
        "\n",
        "\n",
        "post1 = Post(content=\"Caption no need.\")\n",
        "post2 = Post(content=\"Friends are needed in life.\")\n",
        "\n",
        "comment = Comment(text=\"Nice bro\")\n",
        "\n",
        "app = Application(user=Dileep, post=post1, comment=comment)\n",
        "\n",
        "app.display_info()"
      ],
      "metadata": {
        "colab": {
          "base_uri": "https://localhost:8080/"
        },
        "id": "TzO-yN1B3zW_",
        "outputId": "23a116fb-9902-426c-c40f-b5c5105af1d4"
      },
      "execution_count": 20,
      "outputs": [
        {
          "output_type": "stream",
          "name": "stdout",
          "text": [
            "User Info:\n",
            "User ID: 123, User Name: Dileep\n",
            "\n",
            "Post:\n",
            "Post Content: Caption no need.\n",
            "\n",
            "Comment:\n",
            "Comment: Nice bro\n"
          ]
        }
      ]
    },
    {
      "cell_type": "code",
      "source": [],
      "metadata": {
        "id": "mbqizCB34hEZ"
      },
      "execution_count": null,
      "outputs": []
    }
  ],
  "metadata": {
    "colab": {
      "provenance": [],
      "authorship_tag": "ABX9TyMIIIpaSRcpC3pbcgYg2wS9",
      "include_colab_link": true
    },
    "kernelspec": {
      "display_name": "Python 3",
      "name": "python3"
    },
    "language_info": {
      "name": "python"
    }
  },
  "nbformat": 4,
  "nbformat_minor": 0
}