{
  "nbformat": 4,
  "nbformat_minor": 0,
  "metadata": {
    "colab": {
      "provenance": [],
      "authorship_tag": "ABX9TyMtLG4oCg6DumIVwtUkS4+2",
      "include_colab_link": true
    },
    "kernelspec": {
      "name": "python3",
      "display_name": "Python 3"
    },
    "language_info": {
      "name": "python"
    }
  },
  "cells": [
    {
      "cell_type": "markdown",
      "metadata": {
        "id": "view-in-github",
        "colab_type": "text"
      },
      "source": [
        "<a href=\"https://colab.research.google.com/github/Dil8eep/PWSKILLS_DATA_SCIENCE-_PRO_FULLSTACK/blob/main/TimeComplexity_Recursion_assignment.ipynb\" target=\"_parent\"><img src=\"https://colab.research.google.com/assets/colab-badge.svg\" alt=\"Open In Colab\"/></a>"
      ]
    },
    {
      "cell_type": "markdown",
      "source": [
        "# Find time complexity of below code blocks :*italicized text*"
      ],
      "metadata": {
        "id": "xzDB0cEh2z-9"
      }
    },
    {
      "cell_type": "markdown",
      "source": [
        "Problem 1 :\n",
        "\n",
        "def quicksort(arr):\n",
        "\n",
        "if len(arr) <= 1:\n",
        "\n",
        "return arr\n",
        "\n",
        "pivot = arr[len(arr) // 2]\n",
        "\n",
        "left = [x for x in arr if x < pivot]\n",
        "\n",
        "middle = [x for x in arr if x == pivot]\n",
        "\n",
        "right = [x for x in arr if x > pivot]\n",
        "\n",
        "return quicksort(left) + middle + quicksort(right)"
      ],
      "metadata": {
        "id": "IuwA8zsK284-"
      }
    },
    {
      "cell_type": "markdown",
      "source": [
        "*Ans:-Time Complexity of the above code is 0(n^2) in worst case and in average case 0(logn)*"
      ],
      "metadata": {
        "id": "iuoISTcv3Gre"
      }
    },
    {
      "cell_type": "markdown",
      "source": [
        "Problem 2 :\n",
        "\n",
        "def nested_loop_example(matrix):\n",
        "\n",
        "rows, cols = len(matrix), len(matrix[0])\n",
        "\n",
        "total = 0\n",
        "\n",
        "\n",
        "for i in range(rows):\n",
        "\n",
        "for j in range(cols):\n",
        "\n",
        "total += matrix[i][j]\n",
        "\n",
        "return total"
      ],
      "metadata": {
        "id": "V2aXNAEq3gUq"
      }
    },
    {
      "cell_type": "markdown",
      "source": [
        "*Ans:-The time complexity of the above code is 0(n^2)*"
      ],
      "metadata": {
        "id": "ycjrSsl34IM5"
      }
    },
    {
      "cell_type": "markdown",
      "source": [
        "Problem 3 :\n",
        "\n",
        "def example_function(arr):\n",
        "\n",
        "result = 0\n",
        "\n",
        "for element in arr:\n",
        "\n",
        "result += element\n",
        "\n",
        "return result"
      ],
      "metadata": {
        "id": "fJxaNKOY4RV7"
      }
    },
    {
      "cell_type": "markdown",
      "source": [
        "*Ans:-The time complexity of the above code is 0(n)*"
      ],
      "metadata": {
        "id": "sFGS5op74Xr5"
      }
    },
    {
      "cell_type": "markdown",
      "source": [
        "Problem 4 :\n",
        "\n",
        "def longest_increasing_subsequence(nums):\n",
        "\n",
        "n = len(nums)\n",
        "\n",
        "lis = [1] * n\n",
        "\n",
        "for i in range(1, n):\n",
        "\n",
        "for j in range(0, i):\n",
        "\n",
        "if nums[i] > nums[j] and lis[i] < lis[j] + 1:\n",
        "\n",
        "lis[i] = lis[j] + 1\n",
        "\n",
        "return max(lis)"
      ],
      "metadata": {
        "id": "ZVFo9w7b4gbp"
      }
    },
    {
      "cell_type": "markdown",
      "source": [
        "*Ans:-The time complexity of the above code is 0(n^2)*"
      ],
      "metadata": {
        "id": "psgBr4V74yju"
      }
    },
    {
      "cell_type": "markdown",
      "source": [
        "Problem 5 :\n",
        "\n",
        "def mysterious_function(arr):\n",
        "\n",
        "n = len(arr)\n",
        "\n",
        "result = 0\n",
        "\n",
        "for i in range(n):\n",
        "\n",
        "for j in range(i, n):\n",
        "\n",
        "result += arr[i] * arr[j]"
      ],
      "metadata": {
        "id": "6rF8QHMD5ASr"
      }
    },
    {
      "cell_type": "markdown",
      "source": [
        "*Ans:-The time complexity of the above code is 0(n^2)*"
      ],
      "metadata": {
        "id": "jZM_Cbqe5FpD"
      }
    },
    {
      "cell_type": "markdown",
      "source": [
        "# Solve the following problems on recursion"
      ],
      "metadata": {
        "id": "rrkpOW_U5O5H"
      }
    },
    {
      "cell_type": "markdown",
      "source": [
        "Problem 6 : Sum of Digits\n",
        "Write a recursive function to calculate the sum of digits of a given positive integer.\n",
        "\n",
        "sum_of_digits(123) -> 6"
      ],
      "metadata": {
        "id": "g2_8kgBb5chU"
      }
    },
    {
      "cell_type": "code",
      "source": [
        "def sum_num(n):\n",
        "  if n==0:\n",
        "    return 0\n",
        "  else:\n",
        "    return n%10+sum_num(n//10)\n",
        "sum_num(123)"
      ],
      "metadata": {
        "colab": {
          "base_uri": "https://localhost:8080/"
        },
        "id": "JKn17ba85g8U",
        "outputId": "268dc3cf-bfd0-4f71-9b7b-2907abb0f7cb"
      },
      "execution_count": 4,
      "outputs": [
        {
          "output_type": "execute_result",
          "data": {
            "text/plain": [
              "6"
            ]
          },
          "metadata": {},
          "execution_count": 4
        }
      ]
    },
    {
      "cell_type": "markdown",
      "source": [
        "Problem 7: Fibonacci Series\n",
        "Write a recursive function to generate the first n numbers of the Fibonacci series.\n",
        "\n",
        "fibonacci_series(6) -> [0, 1, 1, 2, 3, 5]"
      ],
      "metadata": {
        "id": "vjbv0c4a6TSn"
      }
    },
    {
      "cell_type": "code",
      "source": [
        "def fibonacci_series(num, lst=None):\n",
        "    if lst is None:\n",
        "        lst = [0, 1]\n",
        "    if num <= 0:\n",
        "        return []\n",
        "    elif num == 1:\n",
        "        return [0]\n",
        "    elif num == 2:\n",
        "        return lst\n",
        "    lst.append(lst[-1] + lst[-2])\n",
        "    return fibonacci_series(num - 1, lst)\n",
        "\n",
        "fibonacci_series(6)"
      ],
      "metadata": {
        "colab": {
          "base_uri": "https://localhost:8080/"
        },
        "id": "4rg4TGqY6XIs",
        "outputId": "bdc7c754-a857-4814-80e4-11b7e82e9f5a"
      },
      "execution_count": 6,
      "outputs": [
        {
          "output_type": "execute_result",
          "data": {
            "text/plain": [
              "[0, 1, 1, 2, 3, 5]"
            ]
          },
          "metadata": {},
          "execution_count": 6
        }
      ]
    },
    {
      "cell_type": "markdown",
      "source": [
        "Problem 8 : Subset Sum\n",
        "Given a set of positive integers and a target sum, write a recursive function to determine if there exists a subset\n",
        "of the integers that adds up to the target sum.\n",
        "\n",
        "subset_sum([3, 34, 4, 12, 5, 2], 9) -> True"
      ],
      "metadata": {
        "id": "hrObcyrf7GpC"
      }
    },
    {
      "cell_type": "code",
      "source": [
        "def subset_sum(lst,target,n):\n",
        "    if n==0:\n",
        "        return False\n",
        "    if target==0:\n",
        "        return True\n",
        "\n",
        "    # If last element is greater than\n",
        "    # sum, then ignore it\n",
        "    if lst[n-1]>target:\n",
        "        return subset_sum(lst,target,n-1)\n",
        "\n",
        "    return subset_sum(lst, target, n-1) or subset_sum(lst,target-lst[n-1],n-1)\n",
        "\n",
        "lst = [3, 34, 4, 12, 5, 2]\n",
        "target = 9\n",
        "subset_sum(lst,target ,len(lst))"
      ],
      "metadata": {
        "colab": {
          "base_uri": "https://localhost:8080/"
        },
        "id": "iciMYOoT7KjZ",
        "outputId": "ed8dadb2-c7ec-46ac-a1d1-013f37e2ac04"
      },
      "execution_count": 7,
      "outputs": [
        {
          "output_type": "execute_result",
          "data": {
            "text/plain": [
              "True"
            ]
          },
          "metadata": {},
          "execution_count": 7
        }
      ]
    },
    {
      "cell_type": "markdown",
      "source": [
        "Problem 9: Word Break\n",
        "Given a non-empty string and a dictionary of words, write a recursive function to determine if the string can be\n",
        "segmented into a space-separated sequence of dictionary words.\n",
        "\n",
        "word_break( leetcode , [ leet , code ]) -> True"
      ],
      "metadata": {
        "id": "75qDOo1x8WLP"
      }
    },
    {
      "cell_type": "code",
      "source": [
        "def word_break(string , lst):\n",
        "    if len(string) == 0:\n",
        "        return True\n",
        "\n",
        "    else:\n",
        "        length = len(string)\n",
        "        for i in range(1,length+1):\n",
        "            if string[:i] in lst and word_break(string[i:],lst):\n",
        "                return True\n",
        "\n",
        "    return False\n",
        "word_break( \"leetcode\" , [ \"leet\" , \"code\" ])"
      ],
      "metadata": {
        "colab": {
          "base_uri": "https://localhost:8080/"
        },
        "id": "b9NOAXX88ZtS",
        "outputId": "1e3f0510-4595-4f0c-e418-c55dd2498775"
      },
      "execution_count": 10,
      "outputs": [
        {
          "output_type": "execute_result",
          "data": {
            "text/plain": [
              "True"
            ]
          },
          "metadata": {},
          "execution_count": 10
        }
      ]
    },
    {
      "cell_type": "markdown",
      "source": [
        "Implement a recursive function to solve the N Queens problem, where you have to place N queens on an N×N\n",
        "chessboard in such a way that no two queens threaten each other.\n",
        "n_queens(4)\n",
        "\n",
        "\n",
        "[\n",
        "[\".Q..\",\n",
        "\"...Q\",\n",
        "\"Q...\",\n",
        "\"..Q.\"],\n",
        "[\"..Q.\",\n",
        "\"Q...\",\n",
        "\"...Q\",\n",
        "\".Q..\"]\n",
        "]"
      ],
      "metadata": {
        "id": "3Yu7Yuy187yT"
      }
    },
    {
      "cell_type": "code",
      "source": [
        "global N\n",
        "N = 4\n",
        "\n",
        "\n",
        "def printSolution(board):\n",
        "    for i in range(N):\n",
        "        for j in range(N):\n",
        "            if board[i][j] == 1:\n",
        "                print(\"Q\",end=\" \")\n",
        "            else:\n",
        "                print(\".\",end=\" \")\n",
        "        print()\n",
        "\n",
        "\n",
        "def isSafe(board, row, col):\n",
        "\n",
        "    # Check this row on left side\n",
        "    for i in range(col):\n",
        "        if board[row][i] == 1:\n",
        "            return False\n",
        "\n",
        "    # Check upper diagonal on left side\n",
        "    for i, j in zip(range(row, -1, -1),\n",
        "                    range(col, -1, -1)):\n",
        "        if board[i][j] == 1:\n",
        "            return False\n",
        "\n",
        "    # Check lower diagonal on left side\n",
        "    for i, j in zip(range(row, N, 1),\n",
        "                    range(col, -1, -1)):\n",
        "        if board[i][j] == 1:\n",
        "            return False\n",
        "\n",
        "    return True\n",
        "\n",
        "\n",
        "def solveNQUtil(board, col):\n",
        "\n",
        "    # Base case: If all queens are placed\n",
        "    # then return true\n",
        "    if col >= N:\n",
        "        return True\n",
        "\n",
        "    # Consider this column and try placing\n",
        "    # this queen in all rows one by one\n",
        "    for i in range(N):\n",
        "\n",
        "        if isSafe(board, i, col):\n",
        "\n",
        "            # Place this queen in board[i][col]\n",
        "            board[i][col] = 1\n",
        "\n",
        "            # Recur to place rest of the queens\n",
        "            if solveNQUtil(board, col + 1) :\n",
        "                return True\n",
        "\n",
        "            # If placing queen in board[i][col\n",
        "            # doesn't lead to a solution, then\n",
        "            # queen from board[i][col]\n",
        "            board[i][col] = 0\n",
        "\n",
        "    # If the queen can not be placed in any row in\n",
        "    # this column col then return false\n",
        "    return False\n",
        "\n",
        "\n",
        "# This function solves the N Queen problem using\n",
        "# Backtracking. It mainly uses solveNQUtil() to\n",
        "# solve the problem. It returns false if queens\n",
        "# cannot be placed, otherwise return true and\n",
        "# placement of queens in the form of 1s.\n",
        "# note that there may be more than one\n",
        "# solutions, this function prints one of the\n",
        "# feasible solutions.\n",
        "def solveNQ():\n",
        "    board = [[0, 0, 0, 0],\n",
        "             [0, 0, 0, 0],\n",
        "             [0, 0, 0, 0],\n",
        "             [0, 0, 0, 0]]\n",
        "\n",
        "    if not solveNQUtil(board, 0) :\n",
        "        print(\"Solution does not exist\")\n",
        "        return\n",
        "\n",
        "    printSolution(board)\n",
        "\n",
        "\n",
        "\n",
        "solveNQ()"
      ],
      "metadata": {
        "colab": {
          "base_uri": "https://localhost:8080/"
        },
        "id": "E2fhrWsO9J6M",
        "outputId": "1f76df3d-4968-4df3-f736-bfc411297c73"
      },
      "execution_count": 11,
      "outputs": [
        {
          "output_type": "stream",
          "name": "stdout",
          "text": [
            ". . Q . \n",
            "Q . . . \n",
            ". . . Q \n",
            ". Q . . \n"
          ]
        }
      ]
    },
    {
      "cell_type": "markdown",
      "source": [],
      "metadata": {
        "id": "mkH-eAwc9BJq"
      }
    }
  ]
}