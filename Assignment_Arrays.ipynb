{
  "nbformat": 4,
  "nbformat_minor": 0,
  "metadata": {
    "colab": {
      "provenance": [],
      "authorship_tag": "ABX9TyNzyZqoFZgdvwQRDIze04Lo",
      "include_colab_link": true
    },
    "kernelspec": {
      "name": "python3",
      "display_name": "Python 3"
    },
    "language_info": {
      "name": "python"
    }
  },
  "cells": [
    {
      "cell_type": "markdown",
      "metadata": {
        "id": "view-in-github",
        "colab_type": "text"
      },
      "source": [
        "<a href=\"https://colab.research.google.com/github/Dil8eep/PWSKILLS_DATA_SCIENCE-_PRO_FULLSTACK/blob/main/Assignment_Arrays.ipynb\" target=\"_parent\"><img src=\"https://colab.research.google.com/assets/colab-badge.svg\" alt=\"Open In Colab\"/></a>"
      ]
    },
    {
      "cell_type": "markdown",
      "source": [
        "### 1. Given an array, check if it contains any duplicates or not.\n",
        "###arr = [1, 2, 4, 2, 5, 9]\n",
        "###Output = True"
      ],
      "metadata": {
        "id": "UA9JOyVeVtw9"
      }
    },
    {
      "cell_type": "code",
      "execution_count": 3,
      "metadata": {
        "colab": {
          "base_uri": "https://localhost:8080/"
        },
        "id": "L-Tu673rU6Ea",
        "outputId": "f9d72c11-9c0b-474b-cb08-cc216f728317"
      },
      "outputs": [
        {
          "output_type": "execute_result",
          "data": {
            "text/plain": [
              "True"
            ]
          },
          "metadata": {},
          "execution_count": 3
        }
      ],
      "source": [
        "def check(arr):\n",
        "  arr2=[]\n",
        "  for i in arr:\n",
        "    if i not in arr:\n",
        "      arr2.append(i)\n",
        "    else:\n",
        "      return True\n",
        "  return False\n",
        "arr=[1,2,4,2,5,9]\n",
        "check(arr)"
      ]
    },
    {
      "cell_type": "markdown",
      "source": [
        "### 2. Given an array and an integer k, rotate the array to the right by k steps.\n",
        "###arr = [1, 2, 3, 4, 5, 6, 7] k = 3\n",
        "###Output = [5, 6, 7, 1, 2, 3, 4]"
      ],
      "metadata": {
        "id": "MSEQc5eeY7eR"
      }
    },
    {
      "cell_type": "code",
      "source": [
        "def rotate(arr,k):\n",
        "  for i in range(k):\n",
        "    if arr[i]==k:\n",
        "      arr=arr[k+1:]+arr[:k+1]\n",
        "  return arr\n",
        "arr=[1,2,3,4,5,6,7]\n",
        "k=3\n",
        "print(rotate(arr,k))"
      ],
      "metadata": {
        "colab": {
          "base_uri": "https://localhost:8080/"
        },
        "id": "omybg2fMXb8_",
        "outputId": "9df217ea-186f-4811-b774-5d4e1150b3de"
      },
      "execution_count": 10,
      "outputs": [
        {
          "output_type": "stream",
          "name": "stdout",
          "text": [
            "[5, 6, 7, 1, 2, 3, 4]\n"
          ]
        }
      ]
    },
    {
      "cell_type": "markdown",
      "source": [
        "### 3. Reverse the given array in-place, means without using any extra data structure.\n",
        "###arr = [2, 4, 5, 7, 9, 12]\n",
        "###Output = [12, 9, 7, 5, 4, 2]"
      ],
      "metadata": {
        "id": "M7kRouRcbvbL"
      }
    },
    {
      "cell_type": "code",
      "source": [
        "def reverse(arr):\n",
        "  n=len(arr)\n",
        "  start=0\n",
        "  end=len(arr)-1\n",
        "  while start < end:\n",
        "        arr[start], arr[end] = arr[end], arr[start]\n",
        "        start += 1\n",
        "        end -=1\n",
        "arr = [2, 4, 5, 7, 9, 12]\n",
        "reverse(arr)\n",
        "print(arr)\n",
        ""
      ],
      "metadata": {
        "colab": {
          "base_uri": "https://localhost:8080/"
        },
        "id": "L6DUcxU9aWst",
        "outputId": "e328108a-4972-4957-da4d-1a26c7bb8fe9"
      },
      "execution_count": 18,
      "outputs": [
        {
          "output_type": "stream",
          "name": "stdout",
          "text": [
            "[12, 9, 7, 5, 4, 2]\n"
          ]
        }
      ]
    },
    {
      "cell_type": "markdown",
      "source": [
        "### 4. Given an array of integers, find the maximum element in an array\n",
        "###arr = [10, 5, 20, 8, 15]\n",
        "###Output = 20"
      ],
      "metadata": {
        "id": "c1LoTkykeiFk"
      }
    },
    {
      "cell_type": "code",
      "source": [
        "def maximum_num(arr):\n",
        "  maximum=0\n",
        "  for i in arr:\n",
        "    if maximum<i:\n",
        "      maximum=i\n",
        "  return maximum\n",
        "arr=[10,5,20,8,15]\n",
        "maximum_num(arr)\n"
      ],
      "metadata": {
        "colab": {
          "base_uri": "https://localhost:8080/"
        },
        "id": "ImE9w8A4eoGR",
        "outputId": "2d727c11-661c-4563-8b18-409db6a1e871"
      },
      "execution_count": 24,
      "outputs": [
        {
          "output_type": "execute_result",
          "data": {
            "text/plain": [
              "20"
            ]
          },
          "metadata": {},
          "execution_count": 24
        }
      ]
    },
    {
      "cell_type": "markdown",
      "source": [
        "### 5. Given a sorted array, remove the duplicate element without using any extra data structure.\n",
        "###arr = [1, 1, 2, 2, 2, 3, 3, 4, 4, 4, 5, 5]\n",
        "###Output = [1, 2, 3, 4, 5]"
      ],
      "metadata": {
        "id": "r3C5bwXFfvrf"
      }
    },
    {
      "cell_type": "code",
      "source": [
        "def remove_duplicate(arr):\n",
        "    s = 1\n",
        "    while s < len(arr):\n",
        "        if arr[s] == arr[s - 1]:\n",
        "            arr.pop(s)\n",
        "        else:\n",
        "            s += 1\n",
        "    return arr\n",
        "arr = [1, 1, 2, 2, 2, 3, 3, 4, 4, 4, 5, 5]\n",
        "print(f\"Output = {remove_duplicate(arr)}\")"
      ],
      "metadata": {
        "colab": {
          "base_uri": "https://localhost:8080/"
        },
        "id": "jtXJ92yAgaDQ",
        "outputId": "8b7ec550-5891-49e8-fc57-6410032e4745"
      },
      "execution_count": 36,
      "outputs": [
        {
          "output_type": "stream",
          "name": "stdout",
          "text": [
            "Output = [1, 2, 3, 4, 5]\n"
          ]
        }
      ]
    },
    {
      "cell_type": "code",
      "source": [],
      "metadata": {
        "id": "lOYOXBc8hnd7"
      },
      "execution_count": null,
      "outputs": []
    }
  ]
}