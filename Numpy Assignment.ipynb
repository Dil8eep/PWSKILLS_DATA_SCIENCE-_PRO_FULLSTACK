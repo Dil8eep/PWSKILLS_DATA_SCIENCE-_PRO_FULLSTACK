{
 "cells": [
  {
   "cell_type": "markdown",
   "id": "657d5bf4",
   "metadata": {},
   "source": [
    "1. What is a Python library? Why do we use Python libraries?\n",
    "Ans:-A Python library is a collection of pre-written and reusable Python code that provides various functionalities to perform specific tasks. These libraries contain modules, functions, classes, and constants that enable developers to easily integrate certain features into their Python programs without having to write the code from scratch.\n",
    "\n",
    "There are several reasons why we use Python libraries:\n",
    "\n",
    "Efficiency: Python libraries save time and effort by providing pre-written code for common tasks. Instead of reinventing the wheel, developers can leverage existing libraries to quickly implement functionalities.\n",
    "\n",
    "Functionality: Libraries extend the capabilities of Python by offering a wide range of functionalities for different purposes such as data manipulation, numerical computation, web development, machine learning, and more.\n",
    "\n",
    "Reliability: Popular Python libraries are usually well-tested by a large community of developers, making them reliable and robust for various applications.\n",
    "\n",
    "Consistency: Python libraries adhere to standard conventions and best practices, promoting code consistency and readability across different projects.\n",
    "\n",
    "Community Support: Many Python libraries have active communities of developers who contribute to their improvement, provide support, and share knowledge through forums, documentation, and tutorials.\n",
    "\n",
    "Interoperability: Python libraries can often work together seamlessly, allowing developers to combine functionalities from multiple libraries to solve complex problems efficiently."
   ]
  },
  {
   "cell_type": "markdown",
   "id": "25718c71",
   "metadata": {},
   "source": [
    "2. What is the difference between Numpy array and List?\n",
    "Ans:-NumPy arrays and Python lists are both data structures used to store collections of elements. However, they have several differences in terms of functionality, performance, and usage:\n",
    "\n",
    "Performance: NumPy arrays are more efficient in terms of memory usage and computational speed compared to Python lists. NumPy arrays are implemented in C and optimized for performance, whereas Python lists are implemented in Python itself, which can lead to slower execution for certain operations.\n",
    "\n",
    "Homogeneity: NumPy arrays are homogeneous, meaning all elements in the array must have the same data type. This allows for more efficient storage and computation, as NumPy can leverage fixed-size data types and optimized algorithms. On the other hand, Python lists can contain elements of different data types.\n",
    "\n",
    "Vectorized operations: NumPy arrays support vectorized operations, which means that operations are applied element-wise without the need for explicit looping. This makes NumPy arrays particularly useful for numerical computations and mathematical operations. In contrast, Python lists require explicit looping for such operations, which can be less efficient.\n",
    "\n",
    "Size: NumPy arrays are fixed in size, meaning the size of the array cannot be changed once it is created. In contrast, Python lists are dynamic and can grow or shrink in size as elements are added or removed.\n",
    "\n",
    "Ease of use: Python lists are generally easier to work with for simple data structures and basic operations due to their flexibility and familiarity. NumPy arrays, while more powerful for numerical computing, may require some additional learning curve to fully utilize their capabilities."
   ]
  },
  {
   "cell_type": "markdown",
   "id": "1ba06c0b",
   "metadata": {},
   "source": [
    "3. Find the shape, size and dimension of the following array?\n",
    "[[1, 2, 3, 4]\n",
    "[5, 6, 7, 8],\n",
    "[9, 10, 11, 12]]"
   ]
  },
  {
   "cell_type": "code",
   "execution_count": 14,
   "id": "a6e5e663",
   "metadata": {},
   "outputs": [
    {
     "data": {
      "text/plain": [
       "array([[ 1,  2,  3,  4],\n",
       "       [ 5,  6,  7,  8],\n",
       "       [ 9, 10, 11, 12]])"
      ]
     },
     "execution_count": 14,
     "metadata": {},
     "output_type": "execute_result"
    }
   ],
   "source": [
    "import numpy as np\n",
    "arr1=np.array([[1,2,3,4],[5,6,7,8],[9,10,11,12]])\n",
    "arr1"
   ]
  },
  {
   "cell_type": "code",
   "execution_count": 21,
   "id": "e6b1821f",
   "metadata": {},
   "outputs": [
    {
     "name": "stdout",
     "output_type": "stream",
     "text": [
      "shape of the array is: (3, 4)\n"
     ]
    }
   ],
   "source": [
    "# for finding shape\n",
    "print(\"shape of the array is:\",arr1.shape)"
   ]
  },
  {
   "cell_type": "code",
   "execution_count": 22,
   "id": "72710b9c",
   "metadata": {},
   "outputs": [
    {
     "name": "stdout",
     "output_type": "stream",
     "text": [
      "size of the array is: 12\n"
     ]
    }
   ],
   "source": [
    "# for finding size\n",
    "print(\"size of the array is:\",arr1.size)"
   ]
  },
  {
   "cell_type": "code",
   "execution_count": 23,
   "id": "bd67765d",
   "metadata": {},
   "outputs": [
    {
     "name": "stdout",
     "output_type": "stream",
     "text": [
      "dimention if the array is: 2\n"
     ]
    }
   ],
   "source": [
    "# for dimention\n",
    "print(\"dimention if the array is:\",arr1.ndim)"
   ]
  },
  {
   "cell_type": "markdown",
   "id": "25ed30e0",
   "metadata": {},
   "source": [
    "4. Write python code to access the first row of the following array?\n",
    "[[1, 2, 3, 4]\n",
    "[5, 6, 7, 8],\n",
    "[9, 10, 11, 12]]"
   ]
  },
  {
   "cell_type": "code",
   "execution_count": 16,
   "id": "db5437b5",
   "metadata": {},
   "outputs": [
    {
     "data": {
      "text/plain": [
       "array([[ 1,  2,  3,  4],\n",
       "       [ 5,  6,  7,  8],\n",
       "       [ 9, 10, 11, 12]])"
      ]
     },
     "execution_count": 16,
     "metadata": {},
     "output_type": "execute_result"
    }
   ],
   "source": [
    "arr2=np.array([[1,2,3,4],[5,6,7,8],[9,10,11,12]])\n",
    "arr2"
   ]
  },
  {
   "cell_type": "code",
   "execution_count": 17,
   "id": "81b32ca4",
   "metadata": {
    "scrolled": true
   },
   "outputs": [
    {
     "data": {
      "text/plain": [
       "array([1, 2, 3, 4])"
      ]
     },
     "execution_count": 17,
     "metadata": {},
     "output_type": "execute_result"
    }
   ],
   "source": [
    "# accessinf the first row of the array\n",
    "arr2[0]"
   ]
  },
  {
   "cell_type": "markdown",
   "id": "aeb2591f",
   "metadata": {},
   "source": [
    "5. How ^o you access the element at the thir^ row an^ fourth column from the given numpy array?\n",
    "[[1, 2, 3, 4]\n",
    "[5, 6, 7, 8],\n",
    "[9, 10, 11, 12]]"
   ]
  },
  {
   "cell_type": "code",
   "execution_count": 27,
   "id": "61b7bbd9",
   "metadata": {},
   "outputs": [
    {
     "data": {
      "text/plain": [
       "12"
      ]
     },
     "execution_count": 27,
     "metadata": {},
     "output_type": "execute_result"
    }
   ],
   "source": [
    "arr=np.array([[1,2,3,4],[5,6,7,8],[9,10,11,12]])\n",
    "# you access the element at the third row and fourth column\n",
    "arr[2][3]"
   ]
  },
  {
   "cell_type": "markdown",
   "id": "bf8fc58e",
   "metadata": {},
   "source": [
    "6. Write code to extract all odd-indexed elements from the given numpy array?\n",
    "[[1, 2, 3, 4]\n",
    "[5, 6, 7, 8],\n",
    "[9, 10, 11, 12]]"
   ]
  },
  {
   "cell_type": "code",
   "execution_count": 30,
   "id": "d56ee4ed",
   "metadata": {},
   "outputs": [
    {
     "data": {
      "text/plain": [
       "array([[ 2,  4],\n",
       "       [ 6,  8],\n",
       "       [10, 12]])"
      ]
     },
     "execution_count": 30,
     "metadata": {},
     "output_type": "execute_result"
    }
   ],
   "source": [
    "arr=np.array([[1,2,3,4],[5,6,7,8],[9,10,11,12]])\n",
    "arr[:,1::2]      "
   ]
  },
  {
   "cell_type": "markdown",
   "id": "1f3d12f8",
   "metadata": {},
   "source": [
    "7. How can you generate a random 3x3 matrix with values between 0 and 1?"
   ]
  },
  {
   "cell_type": "code",
   "execution_count": 37,
   "id": "522a0f6d",
   "metadata": {},
   "outputs": [
    {
     "data": {
      "text/plain": [
       "array([[0.06568892, 0.52876347, 0.0602326 ],\n",
       "       [0.32666918, 0.93086993, 0.57363193],\n",
       "       [0.59382349, 0.17419358, 0.3713533 ]])"
      ]
     },
     "execution_count": 37,
     "metadata": {},
     "output_type": "execute_result"
    }
   ],
   "source": [
    "arr=np.random.rand(3,3)\n",
    "arr"
   ]
  },
  {
   "cell_type": "markdown",
   "id": "51933dab",
   "metadata": {},
   "source": [
    "8. Describe the difference between np.random.rand and np.random.randn?"
   ]
  },
  {
   "cell_type": "markdown",
   "id": "f075245d",
   "metadata": {},
   "source": [
    "np.random.rand:- is for generate the random numbers from uniform distrubution over interval ([0,1])\n",
    "np.random.randn:- is for generate the rabdom nummbers from normal distrubution (mean=0,standard devition=1)"
   ]
  },
  {
   "cell_type": "markdown",
   "id": "1d951563",
   "metadata": {},
   "source": [
    "9. Write co^e to increase the ^imension of the following array?\n",
    "[[1, 2, 3, 4]\n",
    "[5, 6, 7, 8],\n",
    "[9, 10, 11, 12]]"
   ]
  },
  {
   "cell_type": "code",
   "execution_count": 51,
   "id": "3508955b",
   "metadata": {},
   "outputs": [
    {
     "name": "stdout",
     "output_type": "stream",
     "text": [
      "before expantion dimention : 2\n",
      "after expantion dimention: 3\n"
     ]
    }
   ],
   "source": [
    "print(\"before expantion dimention :\",arr.ndim)\n",
    "arr2=np.expand_dims(arr,axis=0)\n",
    "print(\"after expantion dimention:\",arr2.ndim)"
   ]
  },
  {
   "cell_type": "markdown",
   "id": "c5f722a5",
   "metadata": {},
   "source": [
    "10. How to transpose the following array in NumPy?\n",
    "[[1, 2, 3, 4]\n",
    "[5, 6, 7, 8],\n",
    "[9, 10, 11, 12]]"
   ]
  },
  {
   "cell_type": "code",
   "execution_count": 57,
   "id": "cfce1055",
   "metadata": {},
   "outputs": [
    {
     "data": {
      "text/plain": [
       "array([[ 1,  5,  9],\n",
       "       [ 2,  6, 10],\n",
       "       [ 3,  7, 11],\n",
       "       [ 4,  8, 12]])"
      ]
     },
     "execution_count": 57,
     "metadata": {},
     "output_type": "execute_result"
    }
   ],
   "source": [
    "arr=np.array([[1,2,3,4],[5,6,7,8],[9,10,11,12]])\n",
    "# transpose of an array is \n",
    "arr.T"
   ]
  },
  {
   "cell_type": "raw",
   "id": "8acfcb83",
   "metadata": {},
   "source": [
    "11. Consi^er the following matrix:\n",
    "Matrix A2 [[1, 2, 3, 4] ,[5, 6, 7, 8],[9, 10, 11, 12]]\n",
    "Matrix B2 [[1, 2, 3, 4] [5, 6, 7, 8],[9, 10, 11, 12]]\n",
    "Perform the following operation using Python:\n",
    "1.Index wise multiplication\n",
    "2.Matrix multiplication\n",
    "3.Add both the matrics\n",
    "4.Subtract the matrix B from A\n",
    "5.Divide Matrix bt A"
   ]
  },
  {
   "cell_type": "code",
   "execution_count": 72,
   "id": "da941d48",
   "metadata": {},
   "outputs": [
    {
     "name": "stdout",
     "output_type": "stream",
     "text": [
      "[[ 1  2  3  4]\n",
      " [ 5  6  7  8]\n",
      " [ 9 10 11 12]]\n",
      "[[ 1  2  3  4]\n",
      " [ 5  6  7  8]\n",
      " [ 9 10 11 12]]\n"
     ]
    }
   ],
   "source": [
    "Matrix_A=np.array([[1, 2, 3, 4] ,[5, 6, 7, 8],[9, 10, 11, 12]])\n",
    "Matrix_B=np.array([[1, 2, 3, 4], [5, 6, 7, 8],[9, 10, 11, 12]])\n",
    "print(Matrix_A)\n",
    "print(Matrix_B)"
   ]
  },
  {
   "cell_type": "code",
   "execution_count": 62,
   "id": "88b41cc7",
   "metadata": {},
   "outputs": [
    {
     "data": {
      "text/plain": [
       "array([[  1,   4,   9,  16],\n",
       "       [ 25,  36,  49,  64],\n",
       "       [ 81, 100, 121, 144]])"
      ]
     },
     "execution_count": 62,
     "metadata": {},
     "output_type": "execute_result"
    }
   ],
   "source": [
    "# index wise multipliication\n",
    "Matrix_A*Matrix_B"
   ]
  },
  {
   "cell_type": "code",
   "execution_count": null,
   "id": "2df5bb70",
   "metadata": {},
   "outputs": [],
   "source": [
    "# Matrix multliplication\n",
    "Matrix_A@Matrix_B"
   ]
  },
  {
   "cell_type": "code",
   "execution_count": 74,
   "id": "2df5dc7e",
   "metadata": {},
   "outputs": [
    {
     "data": {
      "text/plain": [
       "array([[ 2,  4,  6,  8],\n",
       "       [10, 12, 14, 16],\n",
       "       [18, 20, 22, 24]])"
      ]
     },
     "execution_count": 74,
     "metadata": {},
     "output_type": "execute_result"
    }
   ],
   "source": [
    "# Add both the matrix\n",
    "Matrix_A+Matrix_B"
   ]
  },
  {
   "cell_type": "code",
   "execution_count": 76,
   "id": "a5cf2068",
   "metadata": {},
   "outputs": [
    {
     "data": {
      "text/plain": [
       "array([[0, 0, 0, 0],\n",
       "       [0, 0, 0, 0],\n",
       "       [0, 0, 0, 0]])"
      ]
     },
     "execution_count": 76,
     "metadata": {},
     "output_type": "execute_result"
    }
   ],
   "source": [
    "# Subtrct matrix B from A\n",
    "Matrix_A-Matrix_B"
   ]
  },
  {
   "cell_type": "code",
   "execution_count": 77,
   "id": "eda522c4",
   "metadata": {},
   "outputs": [
    {
     "data": {
      "text/plain": [
       "array([[1., 1., 1., 1.],\n",
       "       [1., 1., 1., 1.],\n",
       "       [1., 1., 1., 1.]])"
      ]
     },
     "execution_count": 77,
     "metadata": {},
     "output_type": "execute_result"
    }
   ],
   "source": [
    "# Divide the matrix B from A\n",
    "Matrix_A/Matrix_B"
   ]
  },
  {
   "cell_type": "raw",
   "id": "060a819b",
   "metadata": {},
   "source": [
    "12. Which function in Numpy can be used to swap the byte order of an array?"
   ]
  },
  {
   "cell_type": "code",
   "execution_count": 88,
   "id": "c0c78b36",
   "metadata": {},
   "outputs": [
    {
     "name": "stdout",
     "output_type": "stream",
     "text": [
      "original array: [1 2 3 4]\n",
      "Array with the swapped byte order: [16777216 33554432 50331648 67108864]\n"
     ]
    }
   ],
   "source": [
    "import numpy as np\n",
    "arr=np.array([1,2,3,4],dtype=np.int32)\n",
    "# swap byte order\n",
    "arr_swapped=arr.byteswap()\n",
    "print(\"original array:\",arr)\n",
    "print(\"Array with the swapped byte order:\",arr_swapped)"
   ]
  },
  {
   "cell_type": "code",
   "execution_count": null,
   "id": "f5d14d03",
   "metadata": {},
   "outputs": [],
   "source": [
    "13. What is the significance of the np.linalg.inv function?"
   ]
  },
  {
   "cell_type": "code",
   "execution_count": 92,
   "id": "cfc70188",
   "metadata": {},
   "outputs": [
    {
     "name": "stdout",
     "output_type": "stream",
     "text": [
      "[1. 2.]\n"
     ]
    }
   ],
   "source": [
    "# The np.linalg.inv function in Numpy is used to compute the multliplication inverse of a matrix.\n",
    "# In order words,it calculate the unverse of a sqaure matrix\n",
    "# The significane of this function lies in various mathematics and computational application\n",
    "# particularly in solving sytem of linear equation and linear algebra operation\n",
    "\n",
    "import numpy as np\n",
    "A=np.array([[2,3],[1,-2]])\n",
    "B=np.array([8,-3])\n",
    "\n",
    "# solve for variable x\n",
    "x=np.linalg.inv(A).dot(B)\n",
    "print(x)"
   ]
  },
  {
   "cell_type": "raw",
   "id": "6ddd2d37",
   "metadata": {},
   "source": [
    "14. What does the np.reshape function ^o, an^ how is it used?"
   ]
  },
  {
   "cell_type": "code",
   "execution_count": 103,
   "id": "9610797d",
   "metadata": {},
   "outputs": [
    {
     "data": {
      "text/plain": [
       "array([[ 1,  2,  3],\n",
       "       [ 4,  5,  6],\n",
       "       [ 7,  8,  9],\n",
       "       [10, 11, 12]])"
      ]
     },
     "execution_count": 103,
     "metadata": {},
     "output_type": "execute_result"
    }
   ],
   "source": [
    "# Reshape can use to change the shape of the data without any change of a data,it allows you to rearrange the elements of a new shape,provide the total number of elements remain same.\n",
    "arr=np.array([[1,2,3,4],[5,6,7,8],[9,10,11,12]])\n",
    "arr.reshape(4,3)"
   ]
  },
  {
   "cell_type": "raw",
   "id": "01ae20a7",
   "metadata": {},
   "source": [
    "15. What is broadcasting in Numpy?"
   ]
  },
  {
   "cell_type": "code",
   "execution_count": 107,
   "id": "97da7470",
   "metadata": {},
   "outputs": [
    {
     "name": "stdout",
     "output_type": "stream",
     "text": [
      "Before broadcasting\n",
      "[[0. 0. 0.]\n",
      " [0. 0. 0.]\n",
      " [0. 0. 0.]]\n",
      "After broadcasting\n",
      "[[3. 3. 3.]\n",
      " [3. 3. 3.]\n",
      " [3. 3. 3.]]\n"
     ]
    }
   ],
   "source": [
    "# Broadcasting is nothig but a when we are doing operations with an array then is appling to the ll thr elements in array is know as broadcasting\n",
    "Z=np.zeros((3,3))\n",
    "print(\"Before broadcasting\")\n",
    "print(Z)\n",
    "A=Z+3\n",
    "print(\"After broadcasting\")\n",
    "print(A)"
   ]
  }
 ],
 "metadata": {
  "kernelspec": {
   "display_name": "Python 3 (ipykernel)",
   "language": "python",
   "name": "python3"
  },
  "language_info": {
   "codemirror_mode": {
    "name": "ipython",
    "version": 3
   },
   "file_extension": ".py",
   "mimetype": "text/x-python",
   "name": "python",
   "nbconvert_exporter": "python",
   "pygments_lexer": "ipython3",
   "version": "3.11.3"
  }
 },
 "nbformat": 4,
 "nbformat_minor": 5
}
